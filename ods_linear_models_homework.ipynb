{
  "nbformat": 4,
  "nbformat_minor": 0,
  "metadata": {
    "colab": {
      "provenance": []
    },
    "kernelspec": {
      "name": "python3",
      "display_name": "Python 3"
    },
    "language_info": {
      "name": "python"
    }
  },
  "cells": [
    {
      "cell_type": "markdown",
      "source": [
        "# **<font color='crimson'>Open ML Course: Линейные модели 2023</font>**\n",
        "\n",
        "\n",
        "---\n",
        "\n",
        "\n",
        "# **<font color='crimson'>Домашнее задание</font>**\n",
        "\n",
        "\n",
        "---\n",
        "\n",
        "**Выполнил**: Юмаев Егор\n",
        "\n",
        "---"
      ],
      "metadata": {
        "id": "7fIuW-mSem7a"
      }
    },
    {
      "cell_type": "code",
      "source": [
        "# импортируем необходимые библиотеки\n",
        "\n",
        "# основные библиотеки\n",
        "import pandas as pd\n",
        "import numpy as np\n",
        "import random\n",
        "import matplotlib.pyplot as plt\n",
        "import seaborn as sns\n",
        "import statsmodels.api as sm\n",
        "from functools import reduce\n",
        "\n",
        "# создание датасета\n",
        "from sklearn.datasets import make_regression\n",
        "\n",
        "# подготовка к машинному обучению\n",
        "from sklearn.preprocessing import (\n",
        "    normalize,\n",
        "    StandardScaler)\n",
        "from sklearn.impute import SimpleImputer\n",
        "from sklearn.model_selection import train_test_split\n",
        "\n",
        "# модели машинного обучения\n",
        "from sklearn.linear_model import (\n",
        "    LinearRegression,\n",
        "    Ridge,\n",
        "    Lasso)\n",
        "\n",
        "# метрики машинного обучения\n",
        "from sklearn.metrics import (\n",
        "    r2_score,\n",
        "    mean_squared_error)"
      ],
      "metadata": {
        "id": "pL_hRV8cSZek"
      },
      "execution_count": 1,
      "outputs": []
    },
    {
      "cell_type": "markdown",
      "source": [
        "# <font color='green'>**Вопрос 1**<font>\n",
        "\n",
        "---\n",
        "\n"
      ],
      "metadata": {
        "id": "oMpI7vr5wY1p"
      }
    },
    {
      "cell_type": "markdown",
      "source": [
        "**Создайте данные используя make_regression(n_samples=100, n_features=20, noise=10, random_state=42)\n",
        "Что можно сказать о полученных данных?**"
      ],
      "metadata": {
        "id": "FUdmW4AwwQZU"
      }
    },
    {
      "cell_type": "markdown",
      "source": [
        "* Среднее признаков по модулю меньше единицы и стандартное отклонение около единицы (отличается не более, чем на 20%)\n",
        "* Есть корреляции больше .5 между разными признаками\n",
        "* Для вычисления значений признаков требуется регуляризованная регрессия\n",
        "* Для лучшего предсказания признаки нужно отнормировать"
      ],
      "metadata": {
        "id": "uJwZ_7eBwtDp"
      }
    },
    {
      "cell_type": "code",
      "source": [
        "# создадим данные\n",
        "features, target = make_regression(\n",
        "    n_samples=100,\n",
        "    n_features=20,\n",
        "    noise=10,\n",
        "    random_state=42)"
      ],
      "metadata": {
        "id": "JAnF6w1KP2iZ"
      },
      "execution_count": 2,
      "outputs": []
    },
    {
      "cell_type": "code",
      "source": [
        "# выведем размер array-массивов\n",
        "features.size, target.size"
      ],
      "metadata": {
        "id": "O8dFtquHVROg",
        "colab": {
          "base_uri": "https://localhost:8080/"
        },
        "outputId": "baf05346-0094-470a-beb6-a53251585eb3"
      },
      "execution_count": 3,
      "outputs": [
        {
          "output_type": "execute_result",
          "data": {
            "text/plain": [
              "(2000, 100)"
            ]
          },
          "metadata": {},
          "execution_count": 3
        }
      ]
    },
    {
      "cell_type": "code",
      "source": [
        "# получим сводную информацию о датасете\n",
        "pd.DataFrame(features).describe().T"
      ],
      "metadata": {
        "colab": {
          "base_uri": "https://localhost:8080/",
          "height": 676
        },
        "id": "eGEYfPD0woh2",
        "outputId": "b5deffdb-e3e4-438d-a505-7620688be446"
      },
      "execution_count": 4,
      "outputs": [
        {
          "output_type": "execute_result",
          "data": {
            "text/plain": [
              "    count      mean       std       min       25%       50%       75%  \\\n",
              "0   100.0  0.066483  1.029991 -2.896255 -0.534866 -0.028445  0.757704   \n",
              "1   100.0 -0.090669  0.977525 -1.975467 -0.857052 -0.076344  0.531959   \n",
              "2   100.0  0.148793  0.933608 -2.499406 -0.356271  0.178798  0.721849   \n",
              "3   100.0 -0.009252  0.895542 -2.172670 -0.640109 -0.016458  0.564199   \n",
              "4   100.0  0.066883  0.927696 -2.423879 -0.496090  0.131194  0.493497   \n",
              "5   100.0  0.138678  0.923655 -1.703382 -0.552580  0.145691  0.839220   \n",
              "6   100.0 -0.020263  0.978568 -1.748532 -0.766607 -0.020941  0.622830   \n",
              "7   100.0  0.135566  0.946059 -1.760809 -0.655722  0.147305  0.759989   \n",
              "8   100.0  0.048246  0.904497 -2.471645 -0.585946 -0.012252  0.654505   \n",
              "9   100.0  0.021527  1.078934 -3.241267 -0.650129  0.044188  0.691722   \n",
              "10  100.0 -0.067366  0.849485 -2.703232 -0.555773 -0.010110  0.466162   \n",
              "11  100.0  0.116212  1.024664 -2.198806 -0.659615  0.214404  0.819755   \n",
              "12  100.0  0.181512  1.045479 -2.619745 -0.531525  0.046091  0.997346   \n",
              "13  100.0 -0.021257  1.053048 -2.591042 -0.676945 -0.094711  0.648388   \n",
              "14  100.0  0.140830  0.921654 -2.872262 -0.435979  0.174999  0.751524   \n",
              "15  100.0  0.164645  1.088579 -2.152891 -0.608664  0.024079  0.860472   \n",
              "16  100.0 -0.083936  1.063061 -2.696887 -0.945732 -0.004435  0.623706   \n",
              "17  100.0  0.011392  1.186164 -2.940389 -0.684015  0.091795  0.821707   \n",
              "18  100.0 -0.013781  1.007022 -2.151815 -0.775432 -0.022596  0.584392   \n",
              "19  100.0 -0.032560  0.885011 -2.650970 -0.554979  0.040263  0.591680   \n",
              "\n",
              "         max  \n",
              "0   2.290943  \n",
              "1   2.439752  \n",
              "2   2.526932  \n",
              "3   2.122156  \n",
              "4   3.137749  \n",
              "5   3.078881  \n",
              "6   2.270693  \n",
              "7   2.455300  \n",
              "8   2.133033  \n",
              "9   2.560085  \n",
              "10  1.848956  \n",
              "11  2.601683  \n",
              "12  2.644343  \n",
              "13  3.193108  \n",
              "14  2.720169  \n",
              "15  3.852731  \n",
              "16  2.170943  \n",
              "17  2.558199  \n",
              "18  2.403416  \n",
              "19  1.765454  "
            ],
            "text/html": [
              "\n",
              "  <div id=\"df-3204b726-6a5e-4fb2-be6b-e97cf88fe6ca\" class=\"colab-df-container\">\n",
              "    <div>\n",
              "<style scoped>\n",
              "    .dataframe tbody tr th:only-of-type {\n",
              "        vertical-align: middle;\n",
              "    }\n",
              "\n",
              "    .dataframe tbody tr th {\n",
              "        vertical-align: top;\n",
              "    }\n",
              "\n",
              "    .dataframe thead th {\n",
              "        text-align: right;\n",
              "    }\n",
              "</style>\n",
              "<table border=\"1\" class=\"dataframe\">\n",
              "  <thead>\n",
              "    <tr style=\"text-align: right;\">\n",
              "      <th></th>\n",
              "      <th>count</th>\n",
              "      <th>mean</th>\n",
              "      <th>std</th>\n",
              "      <th>min</th>\n",
              "      <th>25%</th>\n",
              "      <th>50%</th>\n",
              "      <th>75%</th>\n",
              "      <th>max</th>\n",
              "    </tr>\n",
              "  </thead>\n",
              "  <tbody>\n",
              "    <tr>\n",
              "      <th>0</th>\n",
              "      <td>100.0</td>\n",
              "      <td>0.066483</td>\n",
              "      <td>1.029991</td>\n",
              "      <td>-2.896255</td>\n",
              "      <td>-0.534866</td>\n",
              "      <td>-0.028445</td>\n",
              "      <td>0.757704</td>\n",
              "      <td>2.290943</td>\n",
              "    </tr>\n",
              "    <tr>\n",
              "      <th>1</th>\n",
              "      <td>100.0</td>\n",
              "      <td>-0.090669</td>\n",
              "      <td>0.977525</td>\n",
              "      <td>-1.975467</td>\n",
              "      <td>-0.857052</td>\n",
              "      <td>-0.076344</td>\n",
              "      <td>0.531959</td>\n",
              "      <td>2.439752</td>\n",
              "    </tr>\n",
              "    <tr>\n",
              "      <th>2</th>\n",
              "      <td>100.0</td>\n",
              "      <td>0.148793</td>\n",
              "      <td>0.933608</td>\n",
              "      <td>-2.499406</td>\n",
              "      <td>-0.356271</td>\n",
              "      <td>0.178798</td>\n",
              "      <td>0.721849</td>\n",
              "      <td>2.526932</td>\n",
              "    </tr>\n",
              "    <tr>\n",
              "      <th>3</th>\n",
              "      <td>100.0</td>\n",
              "      <td>-0.009252</td>\n",
              "      <td>0.895542</td>\n",
              "      <td>-2.172670</td>\n",
              "      <td>-0.640109</td>\n",
              "      <td>-0.016458</td>\n",
              "      <td>0.564199</td>\n",
              "      <td>2.122156</td>\n",
              "    </tr>\n",
              "    <tr>\n",
              "      <th>4</th>\n",
              "      <td>100.0</td>\n",
              "      <td>0.066883</td>\n",
              "      <td>0.927696</td>\n",
              "      <td>-2.423879</td>\n",
              "      <td>-0.496090</td>\n",
              "      <td>0.131194</td>\n",
              "      <td>0.493497</td>\n",
              "      <td>3.137749</td>\n",
              "    </tr>\n",
              "    <tr>\n",
              "      <th>5</th>\n",
              "      <td>100.0</td>\n",
              "      <td>0.138678</td>\n",
              "      <td>0.923655</td>\n",
              "      <td>-1.703382</td>\n",
              "      <td>-0.552580</td>\n",
              "      <td>0.145691</td>\n",
              "      <td>0.839220</td>\n",
              "      <td>3.078881</td>\n",
              "    </tr>\n",
              "    <tr>\n",
              "      <th>6</th>\n",
              "      <td>100.0</td>\n",
              "      <td>-0.020263</td>\n",
              "      <td>0.978568</td>\n",
              "      <td>-1.748532</td>\n",
              "      <td>-0.766607</td>\n",
              "      <td>-0.020941</td>\n",
              "      <td>0.622830</td>\n",
              "      <td>2.270693</td>\n",
              "    </tr>\n",
              "    <tr>\n",
              "      <th>7</th>\n",
              "      <td>100.0</td>\n",
              "      <td>0.135566</td>\n",
              "      <td>0.946059</td>\n",
              "      <td>-1.760809</td>\n",
              "      <td>-0.655722</td>\n",
              "      <td>0.147305</td>\n",
              "      <td>0.759989</td>\n",
              "      <td>2.455300</td>\n",
              "    </tr>\n",
              "    <tr>\n",
              "      <th>8</th>\n",
              "      <td>100.0</td>\n",
              "      <td>0.048246</td>\n",
              "      <td>0.904497</td>\n",
              "      <td>-2.471645</td>\n",
              "      <td>-0.585946</td>\n",
              "      <td>-0.012252</td>\n",
              "      <td>0.654505</td>\n",
              "      <td>2.133033</td>\n",
              "    </tr>\n",
              "    <tr>\n",
              "      <th>9</th>\n",
              "      <td>100.0</td>\n",
              "      <td>0.021527</td>\n",
              "      <td>1.078934</td>\n",
              "      <td>-3.241267</td>\n",
              "      <td>-0.650129</td>\n",
              "      <td>0.044188</td>\n",
              "      <td>0.691722</td>\n",
              "      <td>2.560085</td>\n",
              "    </tr>\n",
              "    <tr>\n",
              "      <th>10</th>\n",
              "      <td>100.0</td>\n",
              "      <td>-0.067366</td>\n",
              "      <td>0.849485</td>\n",
              "      <td>-2.703232</td>\n",
              "      <td>-0.555773</td>\n",
              "      <td>-0.010110</td>\n",
              "      <td>0.466162</td>\n",
              "      <td>1.848956</td>\n",
              "    </tr>\n",
              "    <tr>\n",
              "      <th>11</th>\n",
              "      <td>100.0</td>\n",
              "      <td>0.116212</td>\n",
              "      <td>1.024664</td>\n",
              "      <td>-2.198806</td>\n",
              "      <td>-0.659615</td>\n",
              "      <td>0.214404</td>\n",
              "      <td>0.819755</td>\n",
              "      <td>2.601683</td>\n",
              "    </tr>\n",
              "    <tr>\n",
              "      <th>12</th>\n",
              "      <td>100.0</td>\n",
              "      <td>0.181512</td>\n",
              "      <td>1.045479</td>\n",
              "      <td>-2.619745</td>\n",
              "      <td>-0.531525</td>\n",
              "      <td>0.046091</td>\n",
              "      <td>0.997346</td>\n",
              "      <td>2.644343</td>\n",
              "    </tr>\n",
              "    <tr>\n",
              "      <th>13</th>\n",
              "      <td>100.0</td>\n",
              "      <td>-0.021257</td>\n",
              "      <td>1.053048</td>\n",
              "      <td>-2.591042</td>\n",
              "      <td>-0.676945</td>\n",
              "      <td>-0.094711</td>\n",
              "      <td>0.648388</td>\n",
              "      <td>3.193108</td>\n",
              "    </tr>\n",
              "    <tr>\n",
              "      <th>14</th>\n",
              "      <td>100.0</td>\n",
              "      <td>0.140830</td>\n",
              "      <td>0.921654</td>\n",
              "      <td>-2.872262</td>\n",
              "      <td>-0.435979</td>\n",
              "      <td>0.174999</td>\n",
              "      <td>0.751524</td>\n",
              "      <td>2.720169</td>\n",
              "    </tr>\n",
              "    <tr>\n",
              "      <th>15</th>\n",
              "      <td>100.0</td>\n",
              "      <td>0.164645</td>\n",
              "      <td>1.088579</td>\n",
              "      <td>-2.152891</td>\n",
              "      <td>-0.608664</td>\n",
              "      <td>0.024079</td>\n",
              "      <td>0.860472</td>\n",
              "      <td>3.852731</td>\n",
              "    </tr>\n",
              "    <tr>\n",
              "      <th>16</th>\n",
              "      <td>100.0</td>\n",
              "      <td>-0.083936</td>\n",
              "      <td>1.063061</td>\n",
              "      <td>-2.696887</td>\n",
              "      <td>-0.945732</td>\n",
              "      <td>-0.004435</td>\n",
              "      <td>0.623706</td>\n",
              "      <td>2.170943</td>\n",
              "    </tr>\n",
              "    <tr>\n",
              "      <th>17</th>\n",
              "      <td>100.0</td>\n",
              "      <td>0.011392</td>\n",
              "      <td>1.186164</td>\n",
              "      <td>-2.940389</td>\n",
              "      <td>-0.684015</td>\n",
              "      <td>0.091795</td>\n",
              "      <td>0.821707</td>\n",
              "      <td>2.558199</td>\n",
              "    </tr>\n",
              "    <tr>\n",
              "      <th>18</th>\n",
              "      <td>100.0</td>\n",
              "      <td>-0.013781</td>\n",
              "      <td>1.007022</td>\n",
              "      <td>-2.151815</td>\n",
              "      <td>-0.775432</td>\n",
              "      <td>-0.022596</td>\n",
              "      <td>0.584392</td>\n",
              "      <td>2.403416</td>\n",
              "    </tr>\n",
              "    <tr>\n",
              "      <th>19</th>\n",
              "      <td>100.0</td>\n",
              "      <td>-0.032560</td>\n",
              "      <td>0.885011</td>\n",
              "      <td>-2.650970</td>\n",
              "      <td>-0.554979</td>\n",
              "      <td>0.040263</td>\n",
              "      <td>0.591680</td>\n",
              "      <td>1.765454</td>\n",
              "    </tr>\n",
              "  </tbody>\n",
              "</table>\n",
              "</div>\n",
              "    <div class=\"colab-df-buttons\">\n",
              "\n",
              "  <div class=\"colab-df-container\">\n",
              "    <button class=\"colab-df-convert\" onclick=\"convertToInteractive('df-3204b726-6a5e-4fb2-be6b-e97cf88fe6ca')\"\n",
              "            title=\"Convert this dataframe to an interactive table.\"\n",
              "            style=\"display:none;\">\n",
              "\n",
              "  <svg xmlns=\"http://www.w3.org/2000/svg\" height=\"24px\" viewBox=\"0 -960 960 960\">\n",
              "    <path d=\"M120-120v-720h720v720H120Zm60-500h600v-160H180v160Zm220 220h160v-160H400v160Zm0 220h160v-160H400v160ZM180-400h160v-160H180v160Zm440 0h160v-160H620v160ZM180-180h160v-160H180v160Zm440 0h160v-160H620v160Z\"/>\n",
              "  </svg>\n",
              "    </button>\n",
              "\n",
              "  <style>\n",
              "    .colab-df-container {\n",
              "      display:flex;\n",
              "      gap: 12px;\n",
              "    }\n",
              "\n",
              "    .colab-df-convert {\n",
              "      background-color: #E8F0FE;\n",
              "      border: none;\n",
              "      border-radius: 50%;\n",
              "      cursor: pointer;\n",
              "      display: none;\n",
              "      fill: #1967D2;\n",
              "      height: 32px;\n",
              "      padding: 0 0 0 0;\n",
              "      width: 32px;\n",
              "    }\n",
              "\n",
              "    .colab-df-convert:hover {\n",
              "      background-color: #E2EBFA;\n",
              "      box-shadow: 0px 1px 2px rgba(60, 64, 67, 0.3), 0px 1px 3px 1px rgba(60, 64, 67, 0.15);\n",
              "      fill: #174EA6;\n",
              "    }\n",
              "\n",
              "    .colab-df-buttons div {\n",
              "      margin-bottom: 4px;\n",
              "    }\n",
              "\n",
              "    [theme=dark] .colab-df-convert {\n",
              "      background-color: #3B4455;\n",
              "      fill: #D2E3FC;\n",
              "    }\n",
              "\n",
              "    [theme=dark] .colab-df-convert:hover {\n",
              "      background-color: #434B5C;\n",
              "      box-shadow: 0px 1px 3px 1px rgba(0, 0, 0, 0.15);\n",
              "      filter: drop-shadow(0px 1px 2px rgba(0, 0, 0, 0.3));\n",
              "      fill: #FFFFFF;\n",
              "    }\n",
              "  </style>\n",
              "\n",
              "    <script>\n",
              "      const buttonEl =\n",
              "        document.querySelector('#df-3204b726-6a5e-4fb2-be6b-e97cf88fe6ca button.colab-df-convert');\n",
              "      buttonEl.style.display =\n",
              "        google.colab.kernel.accessAllowed ? 'block' : 'none';\n",
              "\n",
              "      async function convertToInteractive(key) {\n",
              "        const element = document.querySelector('#df-3204b726-6a5e-4fb2-be6b-e97cf88fe6ca');\n",
              "        const dataTable =\n",
              "          await google.colab.kernel.invokeFunction('convertToInteractive',\n",
              "                                                    [key], {});\n",
              "        if (!dataTable) return;\n",
              "\n",
              "        const docLinkHtml = 'Like what you see? Visit the ' +\n",
              "          '<a target=\"_blank\" href=https://colab.research.google.com/notebooks/data_table.ipynb>data table notebook</a>'\n",
              "          + ' to learn more about interactive tables.';\n",
              "        element.innerHTML = '';\n",
              "        dataTable['output_type'] = 'display_data';\n",
              "        await google.colab.output.renderOutput(dataTable, element);\n",
              "        const docLink = document.createElement('div');\n",
              "        docLink.innerHTML = docLinkHtml;\n",
              "        element.appendChild(docLink);\n",
              "      }\n",
              "    </script>\n",
              "  </div>\n",
              "\n",
              "\n",
              "<div id=\"df-57fd1e3d-61bd-44fc-ba97-9cf78dbd9734\">\n",
              "  <button class=\"colab-df-quickchart\" onclick=\"quickchart('df-57fd1e3d-61bd-44fc-ba97-9cf78dbd9734')\"\n",
              "            title=\"Suggest charts\"\n",
              "            style=\"display:none;\">\n",
              "\n",
              "<svg xmlns=\"http://www.w3.org/2000/svg\" height=\"24px\"viewBox=\"0 0 24 24\"\n",
              "     width=\"24px\">\n",
              "    <g>\n",
              "        <path d=\"M19 3H5c-1.1 0-2 .9-2 2v14c0 1.1.9 2 2 2h14c1.1 0 2-.9 2-2V5c0-1.1-.9-2-2-2zM9 17H7v-7h2v7zm4 0h-2V7h2v10zm4 0h-2v-4h2v4z\"/>\n",
              "    </g>\n",
              "</svg>\n",
              "  </button>\n",
              "\n",
              "<style>\n",
              "  .colab-df-quickchart {\n",
              "      --bg-color: #E8F0FE;\n",
              "      --fill-color: #1967D2;\n",
              "      --hover-bg-color: #E2EBFA;\n",
              "      --hover-fill-color: #174EA6;\n",
              "      --disabled-fill-color: #AAA;\n",
              "      --disabled-bg-color: #DDD;\n",
              "  }\n",
              "\n",
              "  [theme=dark] .colab-df-quickchart {\n",
              "      --bg-color: #3B4455;\n",
              "      --fill-color: #D2E3FC;\n",
              "      --hover-bg-color: #434B5C;\n",
              "      --hover-fill-color: #FFFFFF;\n",
              "      --disabled-bg-color: #3B4455;\n",
              "      --disabled-fill-color: #666;\n",
              "  }\n",
              "\n",
              "  .colab-df-quickchart {\n",
              "    background-color: var(--bg-color);\n",
              "    border: none;\n",
              "    border-radius: 50%;\n",
              "    cursor: pointer;\n",
              "    display: none;\n",
              "    fill: var(--fill-color);\n",
              "    height: 32px;\n",
              "    padding: 0;\n",
              "    width: 32px;\n",
              "  }\n",
              "\n",
              "  .colab-df-quickchart:hover {\n",
              "    background-color: var(--hover-bg-color);\n",
              "    box-shadow: 0 1px 2px rgba(60, 64, 67, 0.3), 0 1px 3px 1px rgba(60, 64, 67, 0.15);\n",
              "    fill: var(--button-hover-fill-color);\n",
              "  }\n",
              "\n",
              "  .colab-df-quickchart-complete:disabled,\n",
              "  .colab-df-quickchart-complete:disabled:hover {\n",
              "    background-color: var(--disabled-bg-color);\n",
              "    fill: var(--disabled-fill-color);\n",
              "    box-shadow: none;\n",
              "  }\n",
              "\n",
              "  .colab-df-spinner {\n",
              "    border: 2px solid var(--fill-color);\n",
              "    border-color: transparent;\n",
              "    border-bottom-color: var(--fill-color);\n",
              "    animation:\n",
              "      spin 1s steps(1) infinite;\n",
              "  }\n",
              "\n",
              "  @keyframes spin {\n",
              "    0% {\n",
              "      border-color: transparent;\n",
              "      border-bottom-color: var(--fill-color);\n",
              "      border-left-color: var(--fill-color);\n",
              "    }\n",
              "    20% {\n",
              "      border-color: transparent;\n",
              "      border-left-color: var(--fill-color);\n",
              "      border-top-color: var(--fill-color);\n",
              "    }\n",
              "    30% {\n",
              "      border-color: transparent;\n",
              "      border-left-color: var(--fill-color);\n",
              "      border-top-color: var(--fill-color);\n",
              "      border-right-color: var(--fill-color);\n",
              "    }\n",
              "    40% {\n",
              "      border-color: transparent;\n",
              "      border-right-color: var(--fill-color);\n",
              "      border-top-color: var(--fill-color);\n",
              "    }\n",
              "    60% {\n",
              "      border-color: transparent;\n",
              "      border-right-color: var(--fill-color);\n",
              "    }\n",
              "    80% {\n",
              "      border-color: transparent;\n",
              "      border-right-color: var(--fill-color);\n",
              "      border-bottom-color: var(--fill-color);\n",
              "    }\n",
              "    90% {\n",
              "      border-color: transparent;\n",
              "      border-bottom-color: var(--fill-color);\n",
              "    }\n",
              "  }\n",
              "</style>\n",
              "\n",
              "  <script>\n",
              "    async function quickchart(key) {\n",
              "      const quickchartButtonEl =\n",
              "        document.querySelector('#' + key + ' button');\n",
              "      quickchartButtonEl.disabled = true;  // To prevent multiple clicks.\n",
              "      quickchartButtonEl.classList.add('colab-df-spinner');\n",
              "      try {\n",
              "        const charts = await google.colab.kernel.invokeFunction(\n",
              "            'suggestCharts', [key], {});\n",
              "      } catch (error) {\n",
              "        console.error('Error during call to suggestCharts:', error);\n",
              "      }\n",
              "      quickchartButtonEl.classList.remove('colab-df-spinner');\n",
              "      quickchartButtonEl.classList.add('colab-df-quickchart-complete');\n",
              "    }\n",
              "    (() => {\n",
              "      let quickchartButtonEl =\n",
              "        document.querySelector('#df-57fd1e3d-61bd-44fc-ba97-9cf78dbd9734 button');\n",
              "      quickchartButtonEl.style.display =\n",
              "        google.colab.kernel.accessAllowed ? 'block' : 'none';\n",
              "    })();\n",
              "  </script>\n",
              "</div>\n",
              "    </div>\n",
              "  </div>\n"
            ]
          },
          "metadata": {},
          "execution_count": 4
        }
      ]
    },
    {
      "cell_type": "code",
      "source": [
        "# проверим корреляцию между признаками\n",
        "pd.DataFrame(features).corr().style.background_gradient(cmap = 'coolwarm')"
      ],
      "metadata": {
        "id": "Qwpp6FFsVRR9",
        "colab": {
          "base_uri": "https://localhost:8080/",
          "height": 696
        },
        "outputId": "0d77e1b3-565f-4257-a55c-229886cf98e2"
      },
      "execution_count": 5,
      "outputs": [
        {
          "output_type": "execute_result",
          "data": {
            "text/plain": [
              "<pandas.io.formats.style.Styler at 0x7f20da6234f0>"
            ],
            "text/html": [
              "<style type=\"text/css\">\n",
              "#T_1e47f_row0_col0, #T_1e47f_row1_col1, #T_1e47f_row2_col2, #T_1e47f_row3_col3, #T_1e47f_row4_col4, #T_1e47f_row5_col5, #T_1e47f_row6_col6, #T_1e47f_row7_col7, #T_1e47f_row8_col8, #T_1e47f_row9_col9, #T_1e47f_row10_col10, #T_1e47f_row11_col11, #T_1e47f_row12_col12, #T_1e47f_row13_col13, #T_1e47f_row14_col14, #T_1e47f_row15_col15, #T_1e47f_row16_col16, #T_1e47f_row17_col17, #T_1e47f_row18_col18, #T_1e47f_row19_col19 {\n",
              "  background-color: #b40426;\n",
              "  color: #f1f1f1;\n",
              "}\n",
              "#T_1e47f_row0_col1, #T_1e47f_row6_col4, #T_1e47f_row7_col9, #T_1e47f_row11_col13, #T_1e47f_row12_col15, #T_1e47f_row18_col16, #T_1e47f_row19_col1 {\n",
              "  background-color: #5b7ae5;\n",
              "  color: #f1f1f1;\n",
              "}\n",
              "#T_1e47f_row0_col2, #T_1e47f_row8_col2 {\n",
              "  background-color: #4b64d5;\n",
              "  color: #f1f1f1;\n",
              "}\n",
              "#T_1e47f_row0_col3, #T_1e47f_row3_col6, #T_1e47f_row4_col8, #T_1e47f_row16_col13 {\n",
              "  background-color: #86a9fc;\n",
              "  color: #f1f1f1;\n",
              "}\n",
              "#T_1e47f_row0_col4, #T_1e47f_row1_col13, #T_1e47f_row2_col10, #T_1e47f_row10_col0, #T_1e47f_row11_col19, #T_1e47f_row17_col10 {\n",
              "  background-color: #82a6fb;\n",
              "  color: #f1f1f1;\n",
              "}\n",
              "#T_1e47f_row0_col5, #T_1e47f_row0_col6, #T_1e47f_row0_col9, #T_1e47f_row0_col13, #T_1e47f_row0_col15, #T_1e47f_row2_col8, #T_1e47f_row2_col11, #T_1e47f_row3_col4, #T_1e47f_row4_col3, #T_1e47f_row4_col9, #T_1e47f_row5_col0, #T_1e47f_row7_col17, #T_1e47f_row7_col18, #T_1e47f_row10_col14, #T_1e47f_row10_col19, #T_1e47f_row11_col2, #T_1e47f_row12_col16, #T_1e47f_row14_col1, #T_1e47f_row16_col8, #T_1e47f_row16_col9, #T_1e47f_row16_col12, #T_1e47f_row17_col6, #T_1e47f_row18_col7, #T_1e47f_row19_col10 {\n",
              "  background-color: #3b4cc0;\n",
              "  color: #f1f1f1;\n",
              "}\n",
              "#T_1e47f_row0_col7, #T_1e47f_row6_col3, #T_1e47f_row14_col12 {\n",
              "  background-color: #9dbdff;\n",
              "  color: #000000;\n",
              "}\n",
              "#T_1e47f_row0_col8, #T_1e47f_row1_col0, #T_1e47f_row5_col2, #T_1e47f_row6_col13, #T_1e47f_row6_col15, #T_1e47f_row9_col4, #T_1e47f_row10_col4, #T_1e47f_row12_col6, #T_1e47f_row18_col10, #T_1e47f_row19_col7, #T_1e47f_row19_col13 {\n",
              "  background-color: #6a8bef;\n",
              "  color: #f1f1f1;\n",
              "}\n",
              "#T_1e47f_row0_col10, #T_1e47f_row1_col7, #T_1e47f_row5_col13, #T_1e47f_row5_col18, #T_1e47f_row18_col14 {\n",
              "  background-color: #8fb1fe;\n",
              "  color: #000000;\n",
              "}\n",
              "#T_1e47f_row0_col11, #T_1e47f_row1_col3, #T_1e47f_row2_col1, #T_1e47f_row13_col18, #T_1e47f_row17_col18, #T_1e47f_row19_col16 {\n",
              "  background-color: #7ea1fa;\n",
              "  color: #f1f1f1;\n",
              "}\n",
              "#T_1e47f_row0_col12, #T_1e47f_row1_col8, #T_1e47f_row7_col19, #T_1e47f_row8_col6, #T_1e47f_row12_col0, #T_1e47f_row14_col17, #T_1e47f_row18_col13 {\n",
              "  background-color: #5d7ce6;\n",
              "  color: #f1f1f1;\n",
              "}\n",
              "#T_1e47f_row0_col14, #T_1e47f_row2_col5, #T_1e47f_row5_col16, #T_1e47f_row6_col1, #T_1e47f_row9_col19, #T_1e47f_row14_col3, #T_1e47f_row15_col13, #T_1e47f_row16_col5 {\n",
              "  background-color: #6384eb;\n",
              "  color: #f1f1f1;\n",
              "}\n",
              "#T_1e47f_row0_col16, #T_1e47f_row4_col6, #T_1e47f_row16_col0 {\n",
              "  background-color: #4257c9;\n",
              "  color: #f1f1f1;\n",
              "}\n",
              "#T_1e47f_row0_col17, #T_1e47f_row4_col2, #T_1e47f_row4_col19, #T_1e47f_row7_col1, #T_1e47f_row10_col5, #T_1e47f_row13_col11, #T_1e47f_row16_col1, #T_1e47f_row16_col11, #T_1e47f_row19_col2, #T_1e47f_row19_col14 {\n",
              "  background-color: #6788ee;\n",
              "  color: #f1f1f1;\n",
              "}\n",
              "#T_1e47f_row0_col18 {\n",
              "  background-color: #a7c5fe;\n",
              "  color: #000000;\n",
              "}\n",
              "#T_1e47f_row0_col19, #T_1e47f_row2_col17, #T_1e47f_row7_col11, #T_1e47f_row9_col7, #T_1e47f_row9_col15 {\n",
              "  background-color: #8db0fe;\n",
              "  color: #000000;\n",
              "}\n",
              "#T_1e47f_row1_col2, #T_1e47f_row4_col14, #T_1e47f_row7_col10, #T_1e47f_row9_col8, #T_1e47f_row12_col18, #T_1e47f_row18_col0 {\n",
              "  background-color: #90b2fe;\n",
              "  color: #000000;\n",
              "}\n",
              "#T_1e47f_row1_col4, #T_1e47f_row4_col0, #T_1e47f_row4_col17, #T_1e47f_row5_col3, #T_1e47f_row6_col12, #T_1e47f_row13_col3, #T_1e47f_row17_col4 {\n",
              "  background-color: #6b8df0;\n",
              "  color: #f1f1f1;\n",
              "}\n",
              "#T_1e47f_row1_col5, #T_1e47f_row4_col13, #T_1e47f_row7_col4, #T_1e47f_row8_col5, #T_1e47f_row15_col7 {\n",
              "  background-color: #6c8ff1;\n",
              "  color: #f1f1f1;\n",
              "}\n",
              "#T_1e47f_row1_col6, #T_1e47f_row2_col19, #T_1e47f_row4_col7, #T_1e47f_row5_col6, #T_1e47f_row10_col11, #T_1e47f_row15_col12, #T_1e47f_row17_col11 {\n",
              "  background-color: #6f92f3;\n",
              "  color: #f1f1f1;\n",
              "}\n",
              "#T_1e47f_row1_col9, #T_1e47f_row2_col6, #T_1e47f_row2_col14, #T_1e47f_row3_col1, #T_1e47f_row6_col16, #T_1e47f_row7_col5, #T_1e47f_row8_col1, #T_1e47f_row8_col13, #T_1e47f_row19_col15 {\n",
              "  background-color: #5a78e4;\n",
              "  color: #f1f1f1;\n",
              "}\n",
              "#T_1e47f_row1_col10, #T_1e47f_row6_col5, #T_1e47f_row15_col10, #T_1e47f_row18_col9, #T_1e47f_row19_col4 {\n",
              "  background-color: #7295f4;\n",
              "  color: #f1f1f1;\n",
              "}\n",
              "#T_1e47f_row1_col11, #T_1e47f_row8_col10, #T_1e47f_row11_col9, #T_1e47f_row12_col3, #T_1e47f_row13_col10, #T_1e47f_row18_col2, #T_1e47f_row18_col15 {\n",
              "  background-color: #6687ed;\n",
              "  color: #f1f1f1;\n",
              "}\n",
              "#T_1e47f_row1_col12, #T_1e47f_row9_col12, #T_1e47f_row13_col2, #T_1e47f_row13_col8, #T_1e47f_row13_col12, #T_1e47f_row13_col15, #T_1e47f_row18_col3 {\n",
              "  background-color: #5572df;\n",
              "  color: #f1f1f1;\n",
              "}\n",
              "#T_1e47f_row1_col14, #T_1e47f_row4_col1, #T_1e47f_row7_col12, #T_1e47f_row8_col15, #T_1e47f_row12_col1, #T_1e47f_row12_col11 {\n",
              "  background-color: #465ecf;\n",
              "  color: #f1f1f1;\n",
              "}\n",
              "#T_1e47f_row1_col15, #T_1e47f_row3_col14, #T_1e47f_row14_col10, #T_1e47f_row14_col16, #T_1e47f_row18_col1 {\n",
              "  background-color: #4a63d3;\n",
              "  color: #f1f1f1;\n",
              "}\n",
              "#T_1e47f_row1_col16, #T_1e47f_row2_col7, #T_1e47f_row4_col12, #T_1e47f_row4_col15, #T_1e47f_row5_col10, #T_1e47f_row13_col7, #T_1e47f_row18_col4, #T_1e47f_row18_col5 {\n",
              "  background-color: #7597f6;\n",
              "  color: #f1f1f1;\n",
              "}\n",
              "#T_1e47f_row1_col17, #T_1e47f_row6_col2, #T_1e47f_row6_col10, #T_1e47f_row9_col10, #T_1e47f_row11_col16, #T_1e47f_row12_col7, #T_1e47f_row16_col10, #T_1e47f_row17_col5 {\n",
              "  background-color: #6282ea;\n",
              "  color: #f1f1f1;\n",
              "}\n",
              "#T_1e47f_row1_col18, #T_1e47f_row5_col9, #T_1e47f_row15_col5, #T_1e47f_row17_col15 {\n",
              "  background-color: #7396f5;\n",
              "  color: #f1f1f1;\n",
              "}\n",
              "#T_1e47f_row1_col19, #T_1e47f_row5_col7, #T_1e47f_row8_col0, #T_1e47f_row11_col14, #T_1e47f_row16_col4, #T_1e47f_row18_col6 {\n",
              "  background-color: #7699f6;\n",
              "  color: #f1f1f1;\n",
              "}\n",
              "#T_1e47f_row2_col0, #T_1e47f_row8_col16 {\n",
              "  background-color: #455cce;\n",
              "  color: #f1f1f1;\n",
              "}\n",
              "#T_1e47f_row2_col3, #T_1e47f_row5_col19, #T_1e47f_row9_col17, #T_1e47f_row18_col11 {\n",
              "  background-color: #a3c2fe;\n",
              "  color: #000000;\n",
              "}\n",
              "#T_1e47f_row2_col4, #T_1e47f_row4_col18, #T_1e47f_row5_col17, #T_1e47f_row11_col0, #T_1e47f_row17_col9 {\n",
              "  background-color: #799cf8;\n",
              "  color: #f1f1f1;\n",
              "}\n",
              "#T_1e47f_row2_col9, #T_1e47f_row12_col10, #T_1e47f_row13_col6 {\n",
              "  background-color: #6e90f2;\n",
              "  color: #f1f1f1;\n",
              "}\n",
              "#T_1e47f_row2_col12, #T_1e47f_row9_col18, #T_1e47f_row11_col7, #T_1e47f_row16_col3 {\n",
              "  background-color: #a1c0ff;\n",
              "  color: #000000;\n",
              "}\n",
              "#T_1e47f_row2_col13, #T_1e47f_row16_col14 {\n",
              "  background-color: #4961d2;\n",
              "  color: #f1f1f1;\n",
              "}\n",
              "#T_1e47f_row2_col15 {\n",
              "  background-color: #3e51c5;\n",
              "  color: #f1f1f1;\n",
              "}\n",
              "#T_1e47f_row2_col16, #T_1e47f_row7_col0, #T_1e47f_row8_col7, #T_1e47f_row8_col9, #T_1e47f_row11_col8, #T_1e47f_row18_col19 {\n",
              "  background-color: #85a8fc;\n",
              "  color: #f1f1f1;\n",
              "}\n",
              "#T_1e47f_row2_col18, #T_1e47f_row6_col7, #T_1e47f_row8_col3, #T_1e47f_row8_col17, #T_1e47f_row13_col1, #T_1e47f_row14_col5, #T_1e47f_row15_col19, #T_1e47f_row18_col17, #T_1e47f_row19_col11 {\n",
              "  background-color: #7b9ff9;\n",
              "  color: #f1f1f1;\n",
              "}\n",
              "#T_1e47f_row3_col0 {\n",
              "  background-color: #7093f3;\n",
              "  color: #f1f1f1;\n",
              "}\n",
              "#T_1e47f_row3_col2, #T_1e47f_row8_col11, #T_1e47f_row13_col5 {\n",
              "  background-color: #94b6ff;\n",
              "  color: #000000;\n",
              "}\n",
              "#T_1e47f_row3_col5, #T_1e47f_row6_col8, #T_1e47f_row6_col17, #T_1e47f_row7_col13, #T_1e47f_row10_col16, #T_1e47f_row14_col8 {\n",
              "  background-color: #5470de;\n",
              "  color: #f1f1f1;\n",
              "}\n",
              "#T_1e47f_row3_col7, #T_1e47f_row9_col11, #T_1e47f_row19_col3 {\n",
              "  background-color: #84a7fc;\n",
              "  color: #f1f1f1;\n",
              "}\n",
              "#T_1e47f_row3_col8, #T_1e47f_row3_col18, #T_1e47f_row15_col2, #T_1e47f_row15_col16, #T_1e47f_row16_col6, #T_1e47f_row16_col17, #T_1e47f_row17_col8 {\n",
              "  background-color: #5977e3;\n",
              "  color: #f1f1f1;\n",
              "}\n",
              "#T_1e47f_row3_col9, #T_1e47f_row5_col1, #T_1e47f_row5_col15, #T_1e47f_row8_col14 {\n",
              "  background-color: #5e7de7;\n",
              "  color: #f1f1f1;\n",
              "}\n",
              "#T_1e47f_row3_col10 {\n",
              "  background-color: #b3cdfb;\n",
              "  color: #000000;\n",
              "}\n",
              "#T_1e47f_row3_col11, #T_1e47f_row3_col17, #T_1e47f_row3_col19, #T_1e47f_row5_col14, #T_1e47f_row6_col14, #T_1e47f_row10_col2, #T_1e47f_row14_col6, #T_1e47f_row15_col11, #T_1e47f_row17_col3 {\n",
              "  background-color: #7a9df8;\n",
              "  color: #f1f1f1;\n",
              "}\n",
              "#T_1e47f_row3_col12, #T_1e47f_row12_col13, #T_1e47f_row15_col0, #T_1e47f_row15_col8 {\n",
              "  background-color: #4f69d9;\n",
              "  color: #f1f1f1;\n",
              "}\n",
              "#T_1e47f_row3_col13, #T_1e47f_row13_col9 {\n",
              "  background-color: #4e68d8;\n",
              "  color: #f1f1f1;\n",
              "}\n",
              "#T_1e47f_row3_col15, #T_1e47f_row4_col10, #T_1e47f_row5_col8, #T_1e47f_row7_col8, #T_1e47f_row9_col13, #T_1e47f_row10_col12, #T_1e47f_row11_col6, #T_1e47f_row11_col15, #T_1e47f_row14_col2 {\n",
              "  background-color: #6180e9;\n",
              "  color: #f1f1f1;\n",
              "}\n",
              "#T_1e47f_row3_col16, #T_1e47f_row9_col3, #T_1e47f_row10_col17, #T_1e47f_row11_col5, #T_1e47f_row12_col4, #T_1e47f_row13_col16, #T_1e47f_row16_col19 {\n",
              "  background-color: #8caffe;\n",
              "  color: #000000;\n",
              "}\n",
              "#T_1e47f_row4_col5, #T_1e47f_row13_col4, #T_1e47f_row15_col14, #T_1e47f_row17_col19, #T_1e47f_row19_col6 {\n",
              "  background-color: #89acfd;\n",
              "  color: #000000;\n",
              "}\n",
              "#T_1e47f_row4_col11, #T_1e47f_row11_col12, #T_1e47f_row13_col0, #T_1e47f_row17_col13, #T_1e47f_row17_col16 {\n",
              "  background-color: #4055c8;\n",
              "  color: #f1f1f1;\n",
              "}\n",
              "#T_1e47f_row4_col16, #T_1e47f_row7_col2, #T_1e47f_row7_col6, #T_1e47f_row13_col17, #T_1e47f_row19_col8 {\n",
              "  background-color: #5f7fe8;\n",
              "  color: #f1f1f1;\n",
              "}\n",
              "#T_1e47f_row5_col4, #T_1e47f_row15_col4 {\n",
              "  background-color: #9ebeff;\n",
              "  color: #000000;\n",
              "}\n",
              "#T_1e47f_row5_col11, #T_1e47f_row6_col18, #T_1e47f_row19_col17, #T_1e47f_row19_col18 {\n",
              "  background-color: #92b4fe;\n",
              "  color: #000000;\n",
              "}\n",
              "#T_1e47f_row5_col12, #T_1e47f_row12_col5, #T_1e47f_row14_col7, #T_1e47f_row15_col18 {\n",
              "  background-color: #93b5fe;\n",
              "  color: #000000;\n",
              "}\n",
              "#T_1e47f_row6_col0, #T_1e47f_row7_col15, #T_1e47f_row12_col9, #T_1e47f_row17_col7, #T_1e47f_row19_col9 {\n",
              "  background-color: #3d50c3;\n",
              "  color: #f1f1f1;\n",
              "}\n",
              "#T_1e47f_row6_col9, #T_1e47f_row9_col0, #T_1e47f_row9_col16, #T_1e47f_row11_col4 {\n",
              "  background-color: #536edd;\n",
              "  color: #f1f1f1;\n",
              "}\n",
              "#T_1e47f_row6_col11, #T_1e47f_row9_col6 {\n",
              "  background-color: #688aef;\n",
              "  color: #f1f1f1;\n",
              "}\n",
              "#T_1e47f_row6_col19, #T_1e47f_row12_col19, #T_1e47f_row17_col12 {\n",
              "  background-color: #97b8ff;\n",
              "  color: #000000;\n",
              "}\n",
              "#T_1e47f_row7_col3, #T_1e47f_row11_col17, #T_1e47f_row18_col8 {\n",
              "  background-color: #80a3fa;\n",
              "  color: #f1f1f1;\n",
              "}\n",
              "#T_1e47f_row7_col14, #T_1e47f_row8_col19, #T_1e47f_row10_col18, #T_1e47f_row11_col10, #T_1e47f_row12_col8, #T_1e47f_row14_col15, #T_1e47f_row14_col19, #T_1e47f_row16_col18, #T_1e47f_row18_col12 {\n",
              "  background-color: #779af7;\n",
              "  color: #f1f1f1;\n",
              "}\n",
              "#T_1e47f_row7_col16, #T_1e47f_row9_col2, #T_1e47f_row9_col5, #T_1e47f_row11_col3, #T_1e47f_row15_col3, #T_1e47f_row15_col9, #T_1e47f_row16_col2, #T_1e47f_row19_col12 {\n",
              "  background-color: #8badfd;\n",
              "  color: #000000;\n",
              "}\n",
              "#T_1e47f_row8_col4, #T_1e47f_row14_col4 {\n",
              "  background-color: #a5c3fe;\n",
              "  color: #000000;\n",
              "}\n",
              "#T_1e47f_row8_col12, #T_1e47f_row14_col9, #T_1e47f_row19_col0 {\n",
              "  background-color: #81a4fb;\n",
              "  color: #f1f1f1;\n",
              "}\n",
              "#T_1e47f_row8_col18, #T_1e47f_row16_col7 {\n",
              "  background-color: #a2c1ff;\n",
              "  color: #000000;\n",
              "}\n",
              "#T_1e47f_row9_col1, #T_1e47f_row14_col0 {\n",
              "  background-color: #6485ec;\n",
              "  color: #f1f1f1;\n",
              "}\n",
              "#T_1e47f_row9_col14, #T_1e47f_row14_col13 {\n",
              "  background-color: #96b7ff;\n",
              "  color: #000000;\n",
              "}\n",
              "#T_1e47f_row10_col1 {\n",
              "  background-color: #5673e0;\n",
              "  color: #f1f1f1;\n",
              "}\n",
              "#T_1e47f_row10_col3 {\n",
              "  background-color: #bad0f8;\n",
              "  color: #000000;\n",
              "}\n",
              "#T_1e47f_row10_col6, #T_1e47f_row10_col13, #T_1e47f_row11_col1 {\n",
              "  background-color: #516ddb;\n",
              "  color: #f1f1f1;\n",
              "}\n",
              "#T_1e47f_row10_col7, #T_1e47f_row12_col14, #T_1e47f_row15_col17 {\n",
              "  background-color: #9bbcff;\n",
              "  color: #000000;\n",
              "}\n",
              "#T_1e47f_row10_col8 {\n",
              "  background-color: #4c66d6;\n",
              "  color: #f1f1f1;\n",
              "}\n",
              "#T_1e47f_row10_col9, #T_1e47f_row17_col1 {\n",
              "  background-color: #3c4ec2;\n",
              "  color: #f1f1f1;\n",
              "}\n",
              "#T_1e47f_row10_col15, #T_1e47f_row15_col1, #T_1e47f_row17_col0 {\n",
              "  background-color: #506bda;\n",
              "  color: #f1f1f1;\n",
              "}\n",
              "#T_1e47f_row11_col18 {\n",
              "  background-color: #b5cdfa;\n",
              "  color: #000000;\n",
              "}\n",
              "#T_1e47f_row12_col2, #T_1e47f_row14_col18 {\n",
              "  background-color: #a6c4fe;\n",
              "  color: #000000;\n",
              "}\n",
              "#T_1e47f_row12_col17 {\n",
              "  background-color: #abc8fd;\n",
              "  color: #000000;\n",
              "}\n",
              "#T_1e47f_row13_col14 {\n",
              "  background-color: #9abbff;\n",
              "  color: #000000;\n",
              "}\n",
              "#T_1e47f_row13_col19, #T_1e47f_row14_col11, #T_1e47f_row15_col6, #T_1e47f_row17_col2 {\n",
              "  background-color: #7da0f9;\n",
              "  color: #f1f1f1;\n",
              "}\n",
              "#T_1e47f_row16_col15, #T_1e47f_row17_col14 {\n",
              "  background-color: #445acc;\n",
              "  color: #f1f1f1;\n",
              "}\n",
              "#T_1e47f_row19_col5 {\n",
              "  background-color: #98b9ff;\n",
              "  color: #000000;\n",
              "}\n",
              "</style>\n",
              "<table id=\"T_1e47f\" class=\"dataframe\">\n",
              "  <thead>\n",
              "    <tr>\n",
              "      <th class=\"blank level0\" >&nbsp;</th>\n",
              "      <th id=\"T_1e47f_level0_col0\" class=\"col_heading level0 col0\" >0</th>\n",
              "      <th id=\"T_1e47f_level0_col1\" class=\"col_heading level0 col1\" >1</th>\n",
              "      <th id=\"T_1e47f_level0_col2\" class=\"col_heading level0 col2\" >2</th>\n",
              "      <th id=\"T_1e47f_level0_col3\" class=\"col_heading level0 col3\" >3</th>\n",
              "      <th id=\"T_1e47f_level0_col4\" class=\"col_heading level0 col4\" >4</th>\n",
              "      <th id=\"T_1e47f_level0_col5\" class=\"col_heading level0 col5\" >5</th>\n",
              "      <th id=\"T_1e47f_level0_col6\" class=\"col_heading level0 col6\" >6</th>\n",
              "      <th id=\"T_1e47f_level0_col7\" class=\"col_heading level0 col7\" >7</th>\n",
              "      <th id=\"T_1e47f_level0_col8\" class=\"col_heading level0 col8\" >8</th>\n",
              "      <th id=\"T_1e47f_level0_col9\" class=\"col_heading level0 col9\" >9</th>\n",
              "      <th id=\"T_1e47f_level0_col10\" class=\"col_heading level0 col10\" >10</th>\n",
              "      <th id=\"T_1e47f_level0_col11\" class=\"col_heading level0 col11\" >11</th>\n",
              "      <th id=\"T_1e47f_level0_col12\" class=\"col_heading level0 col12\" >12</th>\n",
              "      <th id=\"T_1e47f_level0_col13\" class=\"col_heading level0 col13\" >13</th>\n",
              "      <th id=\"T_1e47f_level0_col14\" class=\"col_heading level0 col14\" >14</th>\n",
              "      <th id=\"T_1e47f_level0_col15\" class=\"col_heading level0 col15\" >15</th>\n",
              "      <th id=\"T_1e47f_level0_col16\" class=\"col_heading level0 col16\" >16</th>\n",
              "      <th id=\"T_1e47f_level0_col17\" class=\"col_heading level0 col17\" >17</th>\n",
              "      <th id=\"T_1e47f_level0_col18\" class=\"col_heading level0 col18\" >18</th>\n",
              "      <th id=\"T_1e47f_level0_col19\" class=\"col_heading level0 col19\" >19</th>\n",
              "    </tr>\n",
              "  </thead>\n",
              "  <tbody>\n",
              "    <tr>\n",
              "      <th id=\"T_1e47f_level0_row0\" class=\"row_heading level0 row0\" >0</th>\n",
              "      <td id=\"T_1e47f_row0_col0\" class=\"data row0 col0\" >1.000000</td>\n",
              "      <td id=\"T_1e47f_row0_col1\" class=\"data row0 col1\" >0.004548</td>\n",
              "      <td id=\"T_1e47f_row0_col2\" class=\"data row0 col2\" >-0.129191</td>\n",
              "      <td id=\"T_1e47f_row0_col3\" class=\"data row0 col3\" >0.026306</td>\n",
              "      <td id=\"T_1e47f_row0_col4\" class=\"data row0 col4\" >0.009072</td>\n",
              "      <td id=\"T_1e47f_row0_col5\" class=\"data row0 col5\" >-0.172230</td>\n",
              "      <td id=\"T_1e47f_row0_col6\" class=\"data row0 col6\" >-0.159638</td>\n",
              "      <td id=\"T_1e47f_row0_col7\" class=\"data row0 col7\" >0.094057</td>\n",
              "      <td id=\"T_1e47f_row0_col8\" class=\"data row0 col8\" >0.043956</td>\n",
              "      <td id=\"T_1e47f_row0_col9\" class=\"data row0 col9\" >-0.076455</td>\n",
              "      <td id=\"T_1e47f_row0_col10\" class=\"data row0 col10\" >0.084357</td>\n",
              "      <td id=\"T_1e47f_row0_col11\" class=\"data row0 col11\" >0.054632</td>\n",
              "      <td id=\"T_1e47f_row0_col12\" class=\"data row0 col12\" >-0.039641</td>\n",
              "      <td id=\"T_1e47f_row0_col13\" class=\"data row0 col13\" >-0.146794</td>\n",
              "      <td id=\"T_1e47f_row0_col14\" class=\"data row0 col14\" >-0.012493</td>\n",
              "      <td id=\"T_1e47f_row0_col15\" class=\"data row0 col15\" >-0.092397</td>\n",
              "      <td id=\"T_1e47f_row0_col16\" class=\"data row0 col16\" >-0.143799</td>\n",
              "      <td id=\"T_1e47f_row0_col17\" class=\"data row0 col17\" >-0.088933</td>\n",
              "      <td id=\"T_1e47f_row0_col18\" class=\"data row0 col18\" >0.134237</td>\n",
              "      <td id=\"T_1e47f_row0_col19\" class=\"data row0 col19\" >0.082084</td>\n",
              "    </tr>\n",
              "    <tr>\n",
              "      <th id=\"T_1e47f_level0_row1\" class=\"row_heading level0 row1\" >1</th>\n",
              "      <td id=\"T_1e47f_row1_col0\" class=\"data row1 col0\" >0.004548</td>\n",
              "      <td id=\"T_1e47f_row1_col1\" class=\"data row1 col1\" >1.000000</td>\n",
              "      <td id=\"T_1e47f_row1_col2\" class=\"data row1 col2\" >0.114379</td>\n",
              "      <td id=\"T_1e47f_row1_col3\" class=\"data row1 col3\" >-0.003237</td>\n",
              "      <td id=\"T_1e47f_row1_col4\" class=\"data row1 col4\" >-0.071620</td>\n",
              "      <td id=\"T_1e47f_row1_col5\" class=\"data row1 col5\" >0.012699</td>\n",
              "      <td id=\"T_1e47f_row1_col6\" class=\"data row1 col6\" >0.028320</td>\n",
              "      <td id=\"T_1e47f_row1_col7\" class=\"data row1 col7\" >0.041997</td>\n",
              "      <td id=\"T_1e47f_row1_col8\" class=\"data row1 col8\" >-0.002852</td>\n",
              "      <td id=\"T_1e47f_row1_col9\" class=\"data row1 col9\" >0.032839</td>\n",
              "      <td id=\"T_1e47f_row1_col10\" class=\"data row1 col10\" >-0.013414</td>\n",
              "      <td id=\"T_1e47f_row1_col11\" class=\"data row1 col11\" >-0.030318</td>\n",
              "      <td id=\"T_1e47f_row1_col12\" class=\"data row1 col12\" >-0.070530</td>\n",
              "      <td id=\"T_1e47f_row1_col13\" class=\"data row1 col13\" >0.107978</td>\n",
              "      <td id=\"T_1e47f_row1_col14\" class=\"data row1 col14\" >-0.117359</td>\n",
              "      <td id=\"T_1e47f_row1_col15\" class=\"data row1 col15\" >-0.035240</td>\n",
              "      <td id=\"T_1e47f_row1_col16\" class=\"data row1 col16\" >0.040759</td>\n",
              "      <td id=\"T_1e47f_row1_col17\" class=\"data row1 col17\" >-0.112353</td>\n",
              "      <td id=\"T_1e47f_row1_col18\" class=\"data row1 col18\" >-0.058980</td>\n",
              "      <td id=\"T_1e47f_row1_col19\" class=\"data row1 col19\" >0.001684</td>\n",
              "    </tr>\n",
              "    <tr>\n",
              "      <th id=\"T_1e47f_level0_row2\" class=\"row_heading level0 row2\" >2</th>\n",
              "      <td id=\"T_1e47f_row2_col0\" class=\"data row2 col0\" >-0.129191</td>\n",
              "      <td id=\"T_1e47f_row2_col1\" class=\"data row2 col1\" >0.114379</td>\n",
              "      <td id=\"T_1e47f_row2_col2\" class=\"data row2 col2\" >1.000000</td>\n",
              "      <td id=\"T_1e47f_row2_col3\" class=\"data row2 col3\" >0.128799</td>\n",
              "      <td id=\"T_1e47f_row2_col4\" class=\"data row2 col4\" >-0.025503</td>\n",
              "      <td id=\"T_1e47f_row2_col5\" class=\"data row2 col5\" >-0.017215</td>\n",
              "      <td id=\"T_1e47f_row2_col6\" class=\"data row2 col6\" >-0.043973</td>\n",
              "      <td id=\"T_1e47f_row2_col7\" class=\"data row2 col7\" >-0.050788</td>\n",
              "      <td id=\"T_1e47f_row2_col8\" class=\"data row2 col8\" >-0.127256</td>\n",
              "      <td id=\"T_1e47f_row2_col9\" class=\"data row2 col9\" >0.094992</td>\n",
              "      <td id=\"T_1e47f_row2_col10\" class=\"data row2 col10\" >0.042806</td>\n",
              "      <td id=\"T_1e47f_row2_col11\" class=\"data row2 col11\" >-0.194916</td>\n",
              "      <td id=\"T_1e47f_row2_col12\" class=\"data row2 col12\" >0.188536</td>\n",
              "      <td id=\"T_1e47f_row2_col13\" class=\"data row2 col13\" >-0.089567</td>\n",
              "      <td id=\"T_1e47f_row2_col14\" class=\"data row2 col14\" >-0.046992</td>\n",
              "      <td id=\"T_1e47f_row2_col15\" class=\"data row2 col15\" >-0.076500</td>\n",
              "      <td id=\"T_1e47f_row2_col16\" class=\"data row2 col16\" >0.098150</td>\n",
              "      <td id=\"T_1e47f_row2_col17\" class=\"data row2 col17\" >0.049944</td>\n",
              "      <td id=\"T_1e47f_row2_col18\" class=\"data row2 col18\" >-0.027335</td>\n",
              "      <td id=\"T_1e47f_row2_col19\" class=\"data row2 col19\" >-0.026813</td>\n",
              "    </tr>\n",
              "    <tr>\n",
              "      <th id=\"T_1e47f_level0_row3\" class=\"row_heading level0 row3\" >3</th>\n",
              "      <td id=\"T_1e47f_row3_col0\" class=\"data row3 col0\" >0.026306</td>\n",
              "      <td id=\"T_1e47f_row3_col1\" class=\"data row3 col1\" >-0.003237</td>\n",
              "      <td id=\"T_1e47f_row3_col2\" class=\"data row3 col2\" >0.128799</td>\n",
              "      <td id=\"T_1e47f_row3_col3\" class=\"data row3 col3\" >1.000000</td>\n",
              "      <td id=\"T_1e47f_row3_col4\" class=\"data row3 col4\" >-0.269712</td>\n",
              "      <td id=\"T_1e47f_row3_col5\" class=\"data row3 col5\" >-0.075557</td>\n",
              "      <td id=\"T_1e47f_row3_col6\" class=\"data row3 col6\" >0.104791</td>\n",
              "      <td id=\"T_1e47f_row3_col7\" class=\"data row3 col7\" >0.002972</td>\n",
              "      <td id=\"T_1e47f_row3_col8\" class=\"data row3 col8\" >-0.013555</td>\n",
              "      <td id=\"T_1e47f_row3_col9\" class=\"data row3 col9\" >0.046317</td>\n",
              "      <td id=\"T_1e47f_row3_col10\" class=\"data row3 col10\" >0.213739</td>\n",
              "      <td id=\"T_1e47f_row3_col11\" class=\"data row3 col11\" >0.041039</td>\n",
              "      <td id=\"T_1e47f_row3_col12\" class=\"data row3 col12\" >-0.093565</td>\n",
              "      <td id=\"T_1e47f_row3_col13\" class=\"data row3 col13\" >-0.073253</td>\n",
              "      <td id=\"T_1e47f_row3_col14\" class=\"data row3 col14\" >-0.101853</td>\n",
              "      <td id=\"T_1e47f_row3_col15\" class=\"data row3 col15\" >0.042289</td>\n",
              "      <td id=\"T_1e47f_row3_col16\" class=\"data row3 col16\" >0.120003</td>\n",
              "      <td id=\"T_1e47f_row3_col17\" class=\"data row3 col17\" >-0.021204</td>\n",
              "      <td id=\"T_1e47f_row3_col18\" class=\"data row3 col18\" >-0.159526</td>\n",
              "      <td id=\"T_1e47f_row3_col19\" class=\"data row3 col19\" >0.015016</td>\n",
              "    </tr>\n",
              "    <tr>\n",
              "      <th id=\"T_1e47f_level0_row4\" class=\"row_heading level0 row4\" >4</th>\n",
              "      <td id=\"T_1e47f_row4_col0\" class=\"data row4 col0\" >0.009072</td>\n",
              "      <td id=\"T_1e47f_row4_col1\" class=\"data row4 col1\" >-0.071620</td>\n",
              "      <td id=\"T_1e47f_row4_col2\" class=\"data row4 col2\" >-0.025503</td>\n",
              "      <td id=\"T_1e47f_row4_col3\" class=\"data row4 col3\" >-0.269712</td>\n",
              "      <td id=\"T_1e47f_row4_col4\" class=\"data row4 col4\" >1.000000</td>\n",
              "      <td id=\"T_1e47f_row4_col5\" class=\"data row4 col5\" >0.108145</td>\n",
              "      <td id=\"T_1e47f_row4_col6\" class=\"data row4 col6\" >-0.132818</td>\n",
              "      <td id=\"T_1e47f_row4_col7\" class=\"data row4 col7\" >-0.070478</td>\n",
              "      <td id=\"T_1e47f_row4_col8\" class=\"data row4 col8\" >0.134867</td>\n",
              "      <td id=\"T_1e47f_row4_col9\" class=\"data row4 col9\" >-0.077725</td>\n",
              "      <td id=\"T_1e47f_row4_col10\" class=\"data row4 col10\" >-0.076422</td>\n",
              "      <td id=\"T_1e47f_row4_col11\" class=\"data row4 col11\" >-0.168468</td>\n",
              "      <td id=\"T_1e47f_row4_col12\" class=\"data row4 col12\" >0.043386</td>\n",
              "      <td id=\"T_1e47f_row4_col13\" class=\"data row4 col13\" >0.033541</td>\n",
              "      <td id=\"T_1e47f_row4_col14\" class=\"data row4 col14\" >0.135511</td>\n",
              "      <td id=\"T_1e47f_row4_col15\" class=\"data row4 col15\" >0.107892</td>\n",
              "      <td id=\"T_1e47f_row4_col16\" class=\"data row4 col16\" >-0.034121</td>\n",
              "      <td id=\"T_1e47f_row4_col17\" class=\"data row4 col17\" >-0.074995</td>\n",
              "      <td id=\"T_1e47f_row4_col18\" class=\"data row4 col18\" >-0.037652</td>\n",
              "      <td id=\"T_1e47f_row4_col19\" class=\"data row4 col19\" >-0.051054</td>\n",
              "    </tr>\n",
              "    <tr>\n",
              "      <th id=\"T_1e47f_level0_row5\" class=\"row_heading level0 row5\" >5</th>\n",
              "      <td id=\"T_1e47f_row5_col0\" class=\"data row5 col0\" >-0.172230</td>\n",
              "      <td id=\"T_1e47f_row5_col1\" class=\"data row5 col1\" >0.012699</td>\n",
              "      <td id=\"T_1e47f_row5_col2\" class=\"data row5 col2\" >-0.017215</td>\n",
              "      <td id=\"T_1e47f_row5_col3\" class=\"data row5 col3\" >-0.075557</td>\n",
              "      <td id=\"T_1e47f_row5_col4\" class=\"data row5 col4\" >0.108145</td>\n",
              "      <td id=\"T_1e47f_row5_col5\" class=\"data row5 col5\" >1.000000</td>\n",
              "      <td id=\"T_1e47f_row5_col6\" class=\"data row5 col6\" >0.029484</td>\n",
              "      <td id=\"T_1e47f_row5_col7\" class=\"data row5 col7\" >-0.049503</td>\n",
              "      <td id=\"T_1e47f_row5_col8\" class=\"data row5 col8\" >0.011433</td>\n",
              "      <td id=\"T_1e47f_row5_col9\" class=\"data row5 col9\" >0.112203</td>\n",
              "      <td id=\"T_1e47f_row5_col10\" class=\"data row5 col10\" >-0.006337</td>\n",
              "      <td id=\"T_1e47f_row5_col11\" class=\"data row5 col11\" >0.118695</td>\n",
              "      <td id=\"T_1e47f_row5_col12\" class=\"data row5 col12\" >0.142316</td>\n",
              "      <td id=\"T_1e47f_row5_col13\" class=\"data row5 col13\" >0.148123</td>\n",
              "      <td id=\"T_1e47f_row5_col14\" class=\"data row5 col14\" >0.062823</td>\n",
              "      <td id=\"T_1e47f_row5_col15\" class=\"data row5 col15\" >0.034785</td>\n",
              "      <td id=\"T_1e47f_row5_col16\" class=\"data row5 col16\" >-0.017446</td>\n",
              "      <td id=\"T_1e47f_row5_col17\" class=\"data row5 col17\" >-0.025080</td>\n",
              "      <td id=\"T_1e47f_row5_col18\" class=\"data row5 col18\" >0.042316</td>\n",
              "      <td id=\"T_1e47f_row5_col19\" class=\"data row5 col19\" >0.158593</td>\n",
              "    </tr>\n",
              "    <tr>\n",
              "      <th id=\"T_1e47f_level0_row6\" class=\"row_heading level0 row6\" >6</th>\n",
              "      <td id=\"T_1e47f_row6_col0\" class=\"data row6 col0\" >-0.159638</td>\n",
              "      <td id=\"T_1e47f_row6_col1\" class=\"data row6 col1\" >0.028320</td>\n",
              "      <td id=\"T_1e47f_row6_col2\" class=\"data row6 col2\" >-0.043973</td>\n",
              "      <td id=\"T_1e47f_row6_col3\" class=\"data row6 col3\" >0.104791</td>\n",
              "      <td id=\"T_1e47f_row6_col4\" class=\"data row6 col4\" >-0.132818</td>\n",
              "      <td id=\"T_1e47f_row6_col5\" class=\"data row6 col5\" >0.029484</td>\n",
              "      <td id=\"T_1e47f_row6_col6\" class=\"data row6 col6\" >1.000000</td>\n",
              "      <td id=\"T_1e47f_row6_col7\" class=\"data row6 col7\" >-0.024925</td>\n",
              "      <td id=\"T_1e47f_row6_col8\" class=\"data row6 col8\" >-0.033633</td>\n",
              "      <td id=\"T_1e47f_row6_col9\" class=\"data row6 col9\" >0.008165</td>\n",
              "      <td id=\"T_1e47f_row6_col10\" class=\"data row6 col10\" >-0.074601</td>\n",
              "      <td id=\"T_1e47f_row6_col11\" class=\"data row6 col11\" >-0.021824</td>\n",
              "      <td id=\"T_1e47f_row6_col12\" class=\"data row6 col12\" >0.011373</td>\n",
              "      <td id=\"T_1e47f_row6_col13\" class=\"data row6 col13\" >0.025203</td>\n",
              "      <td id=\"T_1e47f_row6_col14\" class=\"data row6 col14\" >0.064736</td>\n",
              "      <td id=\"T_1e47f_row6_col15\" class=\"data row6 col15\" >0.073364</td>\n",
              "      <td id=\"T_1e47f_row6_col16\" class=\"data row6 col16\" >-0.049053</td>\n",
              "      <td id=\"T_1e47f_row6_col17\" class=\"data row6 col17\" >-0.163623</td>\n",
              "      <td id=\"T_1e47f_row6_col18\" class=\"data row6 col18\" >0.053028</td>\n",
              "      <td id=\"T_1e47f_row6_col19\" class=\"data row6 col19\" >0.116623</td>\n",
              "    </tr>\n",
              "    <tr>\n",
              "      <th id=\"T_1e47f_level0_row7\" class=\"row_heading level0 row7\" >7</th>\n",
              "      <td id=\"T_1e47f_row7_col0\" class=\"data row7 col0\" >0.094057</td>\n",
              "      <td id=\"T_1e47f_row7_col1\" class=\"data row7 col1\" >0.041997</td>\n",
              "      <td id=\"T_1e47f_row7_col2\" class=\"data row7 col2\" >-0.050788</td>\n",
              "      <td id=\"T_1e47f_row7_col3\" class=\"data row7 col3\" >0.002972</td>\n",
              "      <td id=\"T_1e47f_row7_col4\" class=\"data row7 col4\" >-0.070478</td>\n",
              "      <td id=\"T_1e47f_row7_col5\" class=\"data row7 col5\" >-0.049503</td>\n",
              "      <td id=\"T_1e47f_row7_col6\" class=\"data row7 col6\" >-0.024925</td>\n",
              "      <td id=\"T_1e47f_row7_col7\" class=\"data row7 col7\" >1.000000</td>\n",
              "      <td id=\"T_1e47f_row7_col8\" class=\"data row7 col8\" >0.009200</td>\n",
              "      <td id=\"T_1e47f_row7_col9\" class=\"data row7 col9\" >0.036454</td>\n",
              "      <td id=\"T_1e47f_row7_col10\" class=\"data row7 col10\" >0.088660</td>\n",
              "      <td id=\"T_1e47f_row7_col11\" class=\"data row7 col11\" >0.107441</td>\n",
              "      <td id=\"T_1e47f_row7_col12\" class=\"data row7 col12\" >-0.122975</td>\n",
              "      <td id=\"T_1e47f_row7_col13\" class=\"data row7 col13\" >-0.051254</td>\n",
              "      <td id=\"T_1e47f_row7_col14\" class=\"data row7 col14\" >0.057023</td>\n",
              "      <td id=\"T_1e47f_row7_col15\" class=\"data row7 col15\" >-0.082422</td>\n",
              "      <td id=\"T_1e47f_row7_col16\" class=\"data row7 col16\" >0.115605</td>\n",
              "      <td id=\"T_1e47f_row7_col17\" class=\"data row7 col17\" >-0.271533</td>\n",
              "      <td id=\"T_1e47f_row7_col18\" class=\"data row7 col18\" >-0.285803</td>\n",
              "      <td id=\"T_1e47f_row7_col19\" class=\"data row7 col19\" >-0.092217</td>\n",
              "    </tr>\n",
              "    <tr>\n",
              "      <th id=\"T_1e47f_level0_row8\" class=\"row_heading level0 row8\" >8</th>\n",
              "      <td id=\"T_1e47f_row8_col0\" class=\"data row8 col0\" >0.043956</td>\n",
              "      <td id=\"T_1e47f_row8_col1\" class=\"data row8 col1\" >-0.002852</td>\n",
              "      <td id=\"T_1e47f_row8_col2\" class=\"data row8 col2\" >-0.127256</td>\n",
              "      <td id=\"T_1e47f_row8_col3\" class=\"data row8 col3\" >-0.013555</td>\n",
              "      <td id=\"T_1e47f_row8_col4\" class=\"data row8 col4\" >0.134867</td>\n",
              "      <td id=\"T_1e47f_row8_col5\" class=\"data row8 col5\" >0.011433</td>\n",
              "      <td id=\"T_1e47f_row8_col6\" class=\"data row8 col6\" >-0.033633</td>\n",
              "      <td id=\"T_1e47f_row8_col7\" class=\"data row8 col7\" >0.009200</td>\n",
              "      <td id=\"T_1e47f_row8_col8\" class=\"data row8 col8\" >1.000000</td>\n",
              "      <td id=\"T_1e47f_row8_col9\" class=\"data row8 col9\" >0.167277</td>\n",
              "      <td id=\"T_1e47f_row8_col10\" class=\"data row8 col10\" >-0.058522</td>\n",
              "      <td id=\"T_1e47f_row8_col11\" class=\"data row8 col11\" >0.128626</td>\n",
              "      <td id=\"T_1e47f_row8_col12\" class=\"data row8 col12\" >0.084063</td>\n",
              "      <td id=\"T_1e47f_row8_col13\" class=\"data row8 col13\" >-0.029720</td>\n",
              "      <td id=\"T_1e47f_row8_col14\" class=\"data row8 col14\" >-0.031667</td>\n",
              "      <td id=\"T_1e47f_row8_col15\" class=\"data row8 col15\" >-0.048260</td>\n",
              "      <td id=\"T_1e47f_row8_col16\" class=\"data row8 col16\" >-0.127329</td>\n",
              "      <td id=\"T_1e47f_row8_col17\" class=\"data row8 col17\" >-0.013608</td>\n",
              "      <td id=\"T_1e47f_row8_col18\" class=\"data row8 col18\" >0.111726</td>\n",
              "      <td id=\"T_1e47f_row8_col19\" class=\"data row8 col19\" >0.005402</td>\n",
              "    </tr>\n",
              "    <tr>\n",
              "      <th id=\"T_1e47f_level0_row9\" class=\"row_heading level0 row9\" >9</th>\n",
              "      <td id=\"T_1e47f_row9_col0\" class=\"data row9 col0\" >-0.076455</td>\n",
              "      <td id=\"T_1e47f_row9_col1\" class=\"data row9 col1\" >0.032839</td>\n",
              "      <td id=\"T_1e47f_row9_col2\" class=\"data row9 col2\" >0.094992</td>\n",
              "      <td id=\"T_1e47f_row9_col3\" class=\"data row9 col3\" >0.046317</td>\n",
              "      <td id=\"T_1e47f_row9_col4\" class=\"data row9 col4\" >-0.077725</td>\n",
              "      <td id=\"T_1e47f_row9_col5\" class=\"data row9 col5\" >0.112203</td>\n",
              "      <td id=\"T_1e47f_row9_col6\" class=\"data row9 col6\" >0.008165</td>\n",
              "      <td id=\"T_1e47f_row9_col7\" class=\"data row9 col7\" >0.036454</td>\n",
              "      <td id=\"T_1e47f_row9_col8\" class=\"data row9 col8\" >0.167277</td>\n",
              "      <td id=\"T_1e47f_row9_col9\" class=\"data row9 col9\" >1.000000</td>\n",
              "      <td id=\"T_1e47f_row9_col10\" class=\"data row9 col10\" >-0.071686</td>\n",
              "      <td id=\"T_1e47f_row9_col11\" class=\"data row9 col11\" >0.073538</td>\n",
              "      <td id=\"T_1e47f_row9_col12\" class=\"data row9 col12\" >-0.067419</td>\n",
              "      <td id=\"T_1e47f_row9_col13\" class=\"data row9 col13\" >-0.007428</td>\n",
              "      <td id=\"T_1e47f_row9_col14\" class=\"data row9 col14\" >0.154910</td>\n",
              "      <td id=\"T_1e47f_row9_col15\" class=\"data row9 col15\" >0.183953</td>\n",
              "      <td id=\"T_1e47f_row9_col16\" class=\"data row9 col16\" >-0.077702</td>\n",
              "      <td id=\"T_1e47f_row9_col17\" class=\"data row9 col17\" >0.129965</td>\n",
              "      <td id=\"T_1e47f_row9_col18\" class=\"data row9 col18\" >0.109297</td>\n",
              "      <td id=\"T_1e47f_row9_col19\" class=\"data row9 col19\" >-0.069252</td>\n",
              "    </tr>\n",
              "    <tr>\n",
              "      <th id=\"T_1e47f_level0_row10\" class=\"row_heading level0 row10\" >10</th>\n",
              "      <td id=\"T_1e47f_row10_col0\" class=\"data row10 col0\" >0.084357</td>\n",
              "      <td id=\"T_1e47f_row10_col1\" class=\"data row10 col1\" >-0.013414</td>\n",
              "      <td id=\"T_1e47f_row10_col2\" class=\"data row10 col2\" >0.042806</td>\n",
              "      <td id=\"T_1e47f_row10_col3\" class=\"data row10 col3\" >0.213739</td>\n",
              "      <td id=\"T_1e47f_row10_col4\" class=\"data row10 col4\" >-0.076422</td>\n",
              "      <td id=\"T_1e47f_row10_col5\" class=\"data row10 col5\" >-0.006337</td>\n",
              "      <td id=\"T_1e47f_row10_col6\" class=\"data row10 col6\" >-0.074601</td>\n",
              "      <td id=\"T_1e47f_row10_col7\" class=\"data row10 col7\" >0.088660</td>\n",
              "      <td id=\"T_1e47f_row10_col8\" class=\"data row10 col8\" >-0.058522</td>\n",
              "      <td id=\"T_1e47f_row10_col9\" class=\"data row10 col9\" >-0.071686</td>\n",
              "      <td id=\"T_1e47f_row10_col10\" class=\"data row10 col10\" >1.000000</td>\n",
              "      <td id=\"T_1e47f_row10_col11\" class=\"data row10 col11\" >0.003966</td>\n",
              "      <td id=\"T_1e47f_row10_col12\" class=\"data row10 col12\" >-0.028078</td>\n",
              "      <td id=\"T_1e47f_row10_col13\" class=\"data row10 col13\" >-0.058442</td>\n",
              "      <td id=\"T_1e47f_row10_col14\" class=\"data row10 col14\" >-0.165359</td>\n",
              "      <td id=\"T_1e47f_row10_col15\" class=\"data row10 col15\" >-0.014784</td>\n",
              "      <td id=\"T_1e47f_row10_col16\" class=\"data row10 col16\" >-0.072562</td>\n",
              "      <td id=\"T_1e47f_row10_col17\" class=\"data row10 col17\" >0.042172</td>\n",
              "      <td id=\"T_1e47f_row10_col18\" class=\"data row10 col18\" >-0.042557</td>\n",
              "      <td id=\"T_1e47f_row10_col19\" class=\"data row10 col19\" >-0.228384</td>\n",
              "    </tr>\n",
              "    <tr>\n",
              "      <th id=\"T_1e47f_level0_row11\" class=\"row_heading level0 row11\" >11</th>\n",
              "      <td id=\"T_1e47f_row11_col0\" class=\"data row11 col0\" >0.054632</td>\n",
              "      <td id=\"T_1e47f_row11_col1\" class=\"data row11 col1\" >-0.030318</td>\n",
              "      <td id=\"T_1e47f_row11_col2\" class=\"data row11 col2\" >-0.194916</td>\n",
              "      <td id=\"T_1e47f_row11_col3\" class=\"data row11 col3\" >0.041039</td>\n",
              "      <td id=\"T_1e47f_row11_col4\" class=\"data row11 col4\" >-0.168468</td>\n",
              "      <td id=\"T_1e47f_row11_col5\" class=\"data row11 col5\" >0.118695</td>\n",
              "      <td id=\"T_1e47f_row11_col6\" class=\"data row11 col6\" >-0.021824</td>\n",
              "      <td id=\"T_1e47f_row11_col7\" class=\"data row11 col7\" >0.107441</td>\n",
              "      <td id=\"T_1e47f_row11_col8\" class=\"data row11 col8\" >0.128626</td>\n",
              "      <td id=\"T_1e47f_row11_col9\" class=\"data row11 col9\" >0.073538</td>\n",
              "      <td id=\"T_1e47f_row11_col10\" class=\"data row11 col10\" >0.003966</td>\n",
              "      <td id=\"T_1e47f_row11_col11\" class=\"data row11 col11\" >1.000000</td>\n",
              "      <td id=\"T_1e47f_row11_col12\" class=\"data row11 col12\" >-0.144428</td>\n",
              "      <td id=\"T_1e47f_row11_col13\" class=\"data row11 col13\" >-0.023368</td>\n",
              "      <td id=\"T_1e47f_row11_col14\" class=\"data row11 col14\" >0.051117</td>\n",
              "      <td id=\"T_1e47f_row11_col15\" class=\"data row11 col15\" >0.040677</td>\n",
              "      <td id=\"T_1e47f_row11_col16\" class=\"data row11 col16\" >-0.024341</td>\n",
              "      <td id=\"T_1e47f_row11_col17\" class=\"data row11 col17\" >0.001608</td>\n",
              "      <td id=\"T_1e47f_row11_col18\" class=\"data row11 col18\" >0.182345</td>\n",
              "      <td id=\"T_1e47f_row11_col19\" class=\"data row11 col19\" >0.043839</td>\n",
              "    </tr>\n",
              "    <tr>\n",
              "      <th id=\"T_1e47f_level0_row12\" class=\"row_heading level0 row12\" >12</th>\n",
              "      <td id=\"T_1e47f_row12_col0\" class=\"data row12 col0\" >-0.039641</td>\n",
              "      <td id=\"T_1e47f_row12_col1\" class=\"data row12 col1\" >-0.070530</td>\n",
              "      <td id=\"T_1e47f_row12_col2\" class=\"data row12 col2\" >0.188536</td>\n",
              "      <td id=\"T_1e47f_row12_col3\" class=\"data row12 col3\" >-0.093565</td>\n",
              "      <td id=\"T_1e47f_row12_col4\" class=\"data row12 col4\" >0.043386</td>\n",
              "      <td id=\"T_1e47f_row12_col5\" class=\"data row12 col5\" >0.142316</td>\n",
              "      <td id=\"T_1e47f_row12_col6\" class=\"data row12 col6\" >0.011373</td>\n",
              "      <td id=\"T_1e47f_row12_col7\" class=\"data row12 col7\" >-0.122975</td>\n",
              "      <td id=\"T_1e47f_row12_col8\" class=\"data row12 col8\" >0.084063</td>\n",
              "      <td id=\"T_1e47f_row12_col9\" class=\"data row12 col9\" >-0.067419</td>\n",
              "      <td id=\"T_1e47f_row12_col10\" class=\"data row12 col10\" >-0.028078</td>\n",
              "      <td id=\"T_1e47f_row12_col11\" class=\"data row12 col11\" >-0.144428</td>\n",
              "      <td id=\"T_1e47f_row12_col12\" class=\"data row12 col12\" >1.000000</td>\n",
              "      <td id=\"T_1e47f_row12_col13\" class=\"data row12 col13\" >-0.066726</td>\n",
              "      <td id=\"T_1e47f_row12_col14\" class=\"data row12 col14\" >0.174145</td>\n",
              "      <td id=\"T_1e47f_row12_col15\" class=\"data row12 col15\" >0.024779</td>\n",
              "      <td id=\"T_1e47f_row12_col16\" class=\"data row12 col16\" >-0.171422</td>\n",
              "      <td id=\"T_1e47f_row12_col17\" class=\"data row12 col17\" >0.156399</td>\n",
              "      <td id=\"T_1e47f_row12_col18\" class=\"data row12 col18\" >0.050355</td>\n",
              "      <td id=\"T_1e47f_row12_col19\" class=\"data row12 col19\" >0.113035</td>\n",
              "    </tr>\n",
              "    <tr>\n",
              "      <th id=\"T_1e47f_level0_row13\" class=\"row_heading level0 row13\" >13</th>\n",
              "      <td id=\"T_1e47f_row13_col0\" class=\"data row13 col0\" >-0.146794</td>\n",
              "      <td id=\"T_1e47f_row13_col1\" class=\"data row13 col1\" >0.107978</td>\n",
              "      <td id=\"T_1e47f_row13_col2\" class=\"data row13 col2\" >-0.089567</td>\n",
              "      <td id=\"T_1e47f_row13_col3\" class=\"data row13 col3\" >-0.073253</td>\n",
              "      <td id=\"T_1e47f_row13_col4\" class=\"data row13 col4\" >0.033541</td>\n",
              "      <td id=\"T_1e47f_row13_col5\" class=\"data row13 col5\" >0.148123</td>\n",
              "      <td id=\"T_1e47f_row13_col6\" class=\"data row13 col6\" >0.025203</td>\n",
              "      <td id=\"T_1e47f_row13_col7\" class=\"data row13 col7\" >-0.051254</td>\n",
              "      <td id=\"T_1e47f_row13_col8\" class=\"data row13 col8\" >-0.029720</td>\n",
              "      <td id=\"T_1e47f_row13_col9\" class=\"data row13 col9\" >-0.007428</td>\n",
              "      <td id=\"T_1e47f_row13_col10\" class=\"data row13 col10\" >-0.058442</td>\n",
              "      <td id=\"T_1e47f_row13_col11\" class=\"data row13 col11\" >-0.023368</td>\n",
              "      <td id=\"T_1e47f_row13_col12\" class=\"data row13 col12\" >-0.066726</td>\n",
              "      <td id=\"T_1e47f_row13_col13\" class=\"data row13 col13\" >1.000000</td>\n",
              "      <td id=\"T_1e47f_row13_col14\" class=\"data row13 col14\" >0.170635</td>\n",
              "      <td id=\"T_1e47f_row13_col15\" class=\"data row13 col15\" >0.002184</td>\n",
              "      <td id=\"T_1e47f_row13_col16\" class=\"data row13 col16\" >0.119435</td>\n",
              "      <td id=\"T_1e47f_row13_col17\" class=\"data row13 col17\" >-0.121819</td>\n",
              "      <td id=\"T_1e47f_row13_col18\" class=\"data row13 col18\" >-0.019511</td>\n",
              "      <td id=\"T_1e47f_row13_col19\" class=\"data row13 col19\" >0.024759</td>\n",
              "    </tr>\n",
              "    <tr>\n",
              "      <th id=\"T_1e47f_level0_row14\" class=\"row_heading level0 row14\" >14</th>\n",
              "      <td id=\"T_1e47f_row14_col0\" class=\"data row14 col0\" >-0.012493</td>\n",
              "      <td id=\"T_1e47f_row14_col1\" class=\"data row14 col1\" >-0.117359</td>\n",
              "      <td id=\"T_1e47f_row14_col2\" class=\"data row14 col2\" >-0.046992</td>\n",
              "      <td id=\"T_1e47f_row14_col3\" class=\"data row14 col3\" >-0.101853</td>\n",
              "      <td id=\"T_1e47f_row14_col4\" class=\"data row14 col4\" >0.135511</td>\n",
              "      <td id=\"T_1e47f_row14_col5\" class=\"data row14 col5\" >0.062823</td>\n",
              "      <td id=\"T_1e47f_row14_col6\" class=\"data row14 col6\" >0.064736</td>\n",
              "      <td id=\"T_1e47f_row14_col7\" class=\"data row14 col7\" >0.057023</td>\n",
              "      <td id=\"T_1e47f_row14_col8\" class=\"data row14 col8\" >-0.031667</td>\n",
              "      <td id=\"T_1e47f_row14_col9\" class=\"data row14 col9\" >0.154910</td>\n",
              "      <td id=\"T_1e47f_row14_col10\" class=\"data row14 col10\" >-0.165359</td>\n",
              "      <td id=\"T_1e47f_row14_col11\" class=\"data row14 col11\" >0.051117</td>\n",
              "      <td id=\"T_1e47f_row14_col12\" class=\"data row14 col12\" >0.174145</td>\n",
              "      <td id=\"T_1e47f_row14_col13\" class=\"data row14 col13\" >0.170635</td>\n",
              "      <td id=\"T_1e47f_row14_col14\" class=\"data row14 col14\" >1.000000</td>\n",
              "      <td id=\"T_1e47f_row14_col15\" class=\"data row14 col15\" >0.113057</td>\n",
              "      <td id=\"T_1e47f_row14_col16\" class=\"data row14 col16\" >-0.109578</td>\n",
              "      <td id=\"T_1e47f_row14_col17\" class=\"data row14 col17\" >-0.128252</td>\n",
              "      <td id=\"T_1e47f_row14_col18\" class=\"data row14 col18\" >0.130668</td>\n",
              "      <td id=\"T_1e47f_row14_col19\" class=\"data row14 col19\" >0.002496</td>\n",
              "    </tr>\n",
              "    <tr>\n",
              "      <th id=\"T_1e47f_level0_row15\" class=\"row_heading level0 row15\" >15</th>\n",
              "      <td id=\"T_1e47f_row15_col0\" class=\"data row15 col0\" >-0.092397</td>\n",
              "      <td id=\"T_1e47f_row15_col1\" class=\"data row15 col1\" >-0.035240</td>\n",
              "      <td id=\"T_1e47f_row15_col2\" class=\"data row15 col2\" >-0.076500</td>\n",
              "      <td id=\"T_1e47f_row15_col3\" class=\"data row15 col3\" >0.042289</td>\n",
              "      <td id=\"T_1e47f_row15_col4\" class=\"data row15 col4\" >0.107892</td>\n",
              "      <td id=\"T_1e47f_row15_col5\" class=\"data row15 col5\" >0.034785</td>\n",
              "      <td id=\"T_1e47f_row15_col6\" class=\"data row15 col6\" >0.073364</td>\n",
              "      <td id=\"T_1e47f_row15_col7\" class=\"data row15 col7\" >-0.082422</td>\n",
              "      <td id=\"T_1e47f_row15_col8\" class=\"data row15 col8\" >-0.048260</td>\n",
              "      <td id=\"T_1e47f_row15_col9\" class=\"data row15 col9\" >0.183953</td>\n",
              "      <td id=\"T_1e47f_row15_col10\" class=\"data row15 col10\" >-0.014784</td>\n",
              "      <td id=\"T_1e47f_row15_col11\" class=\"data row15 col11\" >0.040677</td>\n",
              "      <td id=\"T_1e47f_row15_col12\" class=\"data row15 col12\" >0.024779</td>\n",
              "      <td id=\"T_1e47f_row15_col13\" class=\"data row15 col13\" >0.002184</td>\n",
              "      <td id=\"T_1e47f_row15_col14\" class=\"data row15 col14\" >0.113057</td>\n",
              "      <td id=\"T_1e47f_row15_col15\" class=\"data row15 col15\" >1.000000</td>\n",
              "      <td id=\"T_1e47f_row15_col16\" class=\"data row15 col16\" >-0.055660</td>\n",
              "      <td id=\"T_1e47f_row15_col17\" class=\"data row15 col17\" >0.100980</td>\n",
              "      <td id=\"T_1e47f_row15_col18\" class=\"data row15 col18\" >0.057217</td>\n",
              "      <td id=\"T_1e47f_row15_col19\" class=\"data row15 col19\" >0.020924</td>\n",
              "    </tr>\n",
              "    <tr>\n",
              "      <th id=\"T_1e47f_level0_row16\" class=\"row_heading level0 row16\" >16</th>\n",
              "      <td id=\"T_1e47f_row16_col0\" class=\"data row16 col0\" >-0.143799</td>\n",
              "      <td id=\"T_1e47f_row16_col1\" class=\"data row16 col1\" >0.040759</td>\n",
              "      <td id=\"T_1e47f_row16_col2\" class=\"data row16 col2\" >0.098150</td>\n",
              "      <td id=\"T_1e47f_row16_col3\" class=\"data row16 col3\" >0.120003</td>\n",
              "      <td id=\"T_1e47f_row16_col4\" class=\"data row16 col4\" >-0.034121</td>\n",
              "      <td id=\"T_1e47f_row16_col5\" class=\"data row16 col5\" >-0.017446</td>\n",
              "      <td id=\"T_1e47f_row16_col6\" class=\"data row16 col6\" >-0.049053</td>\n",
              "      <td id=\"T_1e47f_row16_col7\" class=\"data row16 col7\" >0.115605</td>\n",
              "      <td id=\"T_1e47f_row16_col8\" class=\"data row16 col8\" >-0.127329</td>\n",
              "      <td id=\"T_1e47f_row16_col9\" class=\"data row16 col9\" >-0.077702</td>\n",
              "      <td id=\"T_1e47f_row16_col10\" class=\"data row16 col10\" >-0.072562</td>\n",
              "      <td id=\"T_1e47f_row16_col11\" class=\"data row16 col11\" >-0.024341</td>\n",
              "      <td id=\"T_1e47f_row16_col12\" class=\"data row16 col12\" >-0.171422</td>\n",
              "      <td id=\"T_1e47f_row16_col13\" class=\"data row16 col13\" >0.119435</td>\n",
              "      <td id=\"T_1e47f_row16_col14\" class=\"data row16 col14\" >-0.109578</td>\n",
              "      <td id=\"T_1e47f_row16_col15\" class=\"data row16 col15\" >-0.055660</td>\n",
              "      <td id=\"T_1e47f_row16_col16\" class=\"data row16 col16\" >1.000000</td>\n",
              "      <td id=\"T_1e47f_row16_col17\" class=\"data row16 col17\" >-0.146900</td>\n",
              "      <td id=\"T_1e47f_row16_col18\" class=\"data row16 col18\" >-0.044562</td>\n",
              "      <td id=\"T_1e47f_row16_col19\" class=\"data row16 col19\" >0.074912</td>\n",
              "    </tr>\n",
              "    <tr>\n",
              "      <th id=\"T_1e47f_level0_row17\" class=\"row_heading level0 row17\" >17</th>\n",
              "      <td id=\"T_1e47f_row17_col0\" class=\"data row17 col0\" >-0.088933</td>\n",
              "      <td id=\"T_1e47f_row17_col1\" class=\"data row17 col1\" >-0.112353</td>\n",
              "      <td id=\"T_1e47f_row17_col2\" class=\"data row17 col2\" >0.049944</td>\n",
              "      <td id=\"T_1e47f_row17_col3\" class=\"data row17 col3\" >-0.021204</td>\n",
              "      <td id=\"T_1e47f_row17_col4\" class=\"data row17 col4\" >-0.074995</td>\n",
              "      <td id=\"T_1e47f_row17_col5\" class=\"data row17 col5\" >-0.025080</td>\n",
              "      <td id=\"T_1e47f_row17_col6\" class=\"data row17 col6\" >-0.163623</td>\n",
              "      <td id=\"T_1e47f_row17_col7\" class=\"data row17 col7\" >-0.271533</td>\n",
              "      <td id=\"T_1e47f_row17_col8\" class=\"data row17 col8\" >-0.013608</td>\n",
              "      <td id=\"T_1e47f_row17_col9\" class=\"data row17 col9\" >0.129965</td>\n",
              "      <td id=\"T_1e47f_row17_col10\" class=\"data row17 col10\" >0.042172</td>\n",
              "      <td id=\"T_1e47f_row17_col11\" class=\"data row17 col11\" >0.001608</td>\n",
              "      <td id=\"T_1e47f_row17_col12\" class=\"data row17 col12\" >0.156399</td>\n",
              "      <td id=\"T_1e47f_row17_col13\" class=\"data row17 col13\" >-0.121819</td>\n",
              "      <td id=\"T_1e47f_row17_col14\" class=\"data row17 col14\" >-0.128252</td>\n",
              "      <td id=\"T_1e47f_row17_col15\" class=\"data row17 col15\" >0.100980</td>\n",
              "      <td id=\"T_1e47f_row17_col16\" class=\"data row17 col16\" >-0.146900</td>\n",
              "      <td id=\"T_1e47f_row17_col17\" class=\"data row17 col17\" >1.000000</td>\n",
              "      <td id=\"T_1e47f_row17_col18\" class=\"data row17 col18\" >-0.016236</td>\n",
              "      <td id=\"T_1e47f_row17_col19\" class=\"data row17 col19\" >0.065643</td>\n",
              "    </tr>\n",
              "    <tr>\n",
              "      <th id=\"T_1e47f_level0_row18\" class=\"row_heading level0 row18\" >18</th>\n",
              "      <td id=\"T_1e47f_row18_col0\" class=\"data row18 col0\" >0.134237</td>\n",
              "      <td id=\"T_1e47f_row18_col1\" class=\"data row18 col1\" >-0.058980</td>\n",
              "      <td id=\"T_1e47f_row18_col2\" class=\"data row18 col2\" >-0.027335</td>\n",
              "      <td id=\"T_1e47f_row18_col3\" class=\"data row18 col3\" >-0.159526</td>\n",
              "      <td id=\"T_1e47f_row18_col4\" class=\"data row18 col4\" >-0.037652</td>\n",
              "      <td id=\"T_1e47f_row18_col5\" class=\"data row18 col5\" >0.042316</td>\n",
              "      <td id=\"T_1e47f_row18_col6\" class=\"data row18 col6\" >0.053028</td>\n",
              "      <td id=\"T_1e47f_row18_col7\" class=\"data row18 col7\" >-0.285803</td>\n",
              "      <td id=\"T_1e47f_row18_col8\" class=\"data row18 col8\" >0.111726</td>\n",
              "      <td id=\"T_1e47f_row18_col9\" class=\"data row18 col9\" >0.109297</td>\n",
              "      <td id=\"T_1e47f_row18_col10\" class=\"data row18 col10\" >-0.042557</td>\n",
              "      <td id=\"T_1e47f_row18_col11\" class=\"data row18 col11\" >0.182345</td>\n",
              "      <td id=\"T_1e47f_row18_col12\" class=\"data row18 col12\" >0.050355</td>\n",
              "      <td id=\"T_1e47f_row18_col13\" class=\"data row18 col13\" >-0.019511</td>\n",
              "      <td id=\"T_1e47f_row18_col14\" class=\"data row18 col14\" >0.130668</td>\n",
              "      <td id=\"T_1e47f_row18_col15\" class=\"data row18 col15\" >0.057217</td>\n",
              "      <td id=\"T_1e47f_row18_col16\" class=\"data row18 col16\" >-0.044562</td>\n",
              "      <td id=\"T_1e47f_row18_col17\" class=\"data row18 col17\" >-0.016236</td>\n",
              "      <td id=\"T_1e47f_row18_col18\" class=\"data row18 col18\" >1.000000</td>\n",
              "      <td id=\"T_1e47f_row18_col19\" class=\"data row18 col19\" >0.052406</td>\n",
              "    </tr>\n",
              "    <tr>\n",
              "      <th id=\"T_1e47f_level0_row19\" class=\"row_heading level0 row19\" >19</th>\n",
              "      <td id=\"T_1e47f_row19_col0\" class=\"data row19 col0\" >0.082084</td>\n",
              "      <td id=\"T_1e47f_row19_col1\" class=\"data row19 col1\" >0.001684</td>\n",
              "      <td id=\"T_1e47f_row19_col2\" class=\"data row19 col2\" >-0.026813</td>\n",
              "      <td id=\"T_1e47f_row19_col3\" class=\"data row19 col3\" >0.015016</td>\n",
              "      <td id=\"T_1e47f_row19_col4\" class=\"data row19 col4\" >-0.051054</td>\n",
              "      <td id=\"T_1e47f_row19_col5\" class=\"data row19 col5\" >0.158593</td>\n",
              "      <td id=\"T_1e47f_row19_col6\" class=\"data row19 col6\" >0.116623</td>\n",
              "      <td id=\"T_1e47f_row19_col7\" class=\"data row19 col7\" >-0.092217</td>\n",
              "      <td id=\"T_1e47f_row19_col8\" class=\"data row19 col8\" >0.005402</td>\n",
              "      <td id=\"T_1e47f_row19_col9\" class=\"data row19 col9\" >-0.069252</td>\n",
              "      <td id=\"T_1e47f_row19_col10\" class=\"data row19 col10\" >-0.228384</td>\n",
              "      <td id=\"T_1e47f_row19_col11\" class=\"data row19 col11\" >0.043839</td>\n",
              "      <td id=\"T_1e47f_row19_col12\" class=\"data row19 col12\" >0.113035</td>\n",
              "      <td id=\"T_1e47f_row19_col13\" class=\"data row19 col13\" >0.024759</td>\n",
              "      <td id=\"T_1e47f_row19_col14\" class=\"data row19 col14\" >0.002496</td>\n",
              "      <td id=\"T_1e47f_row19_col15\" class=\"data row19 col15\" >0.020924</td>\n",
              "      <td id=\"T_1e47f_row19_col16\" class=\"data row19 col16\" >0.074912</td>\n",
              "      <td id=\"T_1e47f_row19_col17\" class=\"data row19 col17\" >0.065643</td>\n",
              "      <td id=\"T_1e47f_row19_col18\" class=\"data row19 col18\" >0.052406</td>\n",
              "      <td id=\"T_1e47f_row19_col19\" class=\"data row19 col19\" >1.000000</td>\n",
              "    </tr>\n",
              "  </tbody>\n",
              "</table>\n"
            ]
          },
          "metadata": {},
          "execution_count": 5
        }
      ]
    },
    {
      "cell_type": "markdown",
      "source": [
        "**Регуляризация** в статистике, машинном обучении, теории обратных задач — метод добавления некоторых дополнительных ограничений к условию с целью решить некорректно поставленную задачу или предотвратить переобучение. Эта информация часто имеет вид штрафа за сложность модели"
      ],
      "metadata": {
        "id": "3D6wP4Nu7Gxh"
      }
    },
    {
      "cell_type": "markdown",
      "source": [
        "**Нормализация** — это преобразование данных к неким безразмерным единицам. Иногда — в рамках заданного диапазона, например, [0..1] или [-1..1]. Иногда — с какими-то заданным свойством, как, например, стандартным отклонением равным 1.\n",
        "\n",
        "Ключевая **цель нормализации** — приведение различных данных в самых разных единицах измерения и диапазонах значений к единому виду, который позволит сравнивать их между собой или использовать для расчёта схожести объектов. На практике это необходимо, например, для кластеризации и в некоторых алгоритмах машинного обучения.\n",
        "\n",
        "**Минимакс** (MinMax). Цель — преобразовать исходный набор в диапазон [0..1].\n",
        "\n",
        "**Стандартизация**. Цель — преобразовать исходный набор в новый со средним значением равным 0 и стандартным отклонением равным 1. Алгоритм стандартизации оптимален именно для нормального распределения, т.к. при определении смещения должен быть выявлен \"типичный\" предстаивтель выборки. Для стандартизации это среднее, которое совпадает с медианой (лучше всего характеризующей типичного представителя совокупности) только рпи нормальном распределении.\n",
        "\n",
        "Степень возможного влияния признаков определяется величиной их диапазонов после масштабирования. Если оба признака распределены в одинаковых интервалах, например, [-1..1], то и влиять они могут одинаково. Если же изначально один из признаков лежит в диапазоне [-1..1], а второй — в [-1..100], то очевидно, что изменения второго могут оказывать существенно большее влияние. А значит он будет в привилегированном положении по сравнению с первым.\n",
        "\n",
        "* Умная нормализация данных // Хабр. - URL: https://habr.com/ru/articles/527334/"
      ],
      "metadata": {
        "id": "Yqz7BfR67boy"
      }
    },
    {
      "cell_type": "markdown",
      "source": [
        "# <font color='green'>**Вопрос 2**<font>\n",
        "\n",
        "---"
      ],
      "metadata": {
        "id": "j6n2Pfh3_fDe"
      }
    },
    {
      "cell_type": "markdown",
      "source": [
        "**Используя sklearn.linear_model постройте LinearRegression, Ridge(random_state=1), Lasso на дефолтных параметрах и ненормированных признаках. Для оценки регрессии используем R2 из функции score модели.**\n",
        "\n",
        "Задания:\n",
        "* По score (R2) Ridge лучше всего для ненормированных признаков\n",
        "* По score (R2) LinearRegression лучше всего для ненормированных признаков\n",
        "* По score (R2) Lasso лучше всего для ненормированных признаков\n",
        "* По score (R2) Ridge лучше всего для нормированных признаков\n",
        "* По score (R2) LinearRegression лучше всего для нормированных признаков\n",
        "* По score (R2) Lasso лучше всего для нормированных признаков\n",
        "* Из всех построенных регрессий в вопросе (нормированных и ненормированных признаков), Ridge на нормированных признаках лучше всего"
      ],
      "metadata": {
        "id": "TIO9QqXz_o5c"
      }
    },
    {
      "cell_type": "code",
      "source": [
        "# объявляем модели для обучения на ненормированных признаках\n",
        "\n",
        "# объявляем модель LinearRegression\n",
        "model_lr = LinearRegression()\n",
        "\n",
        "# объявляем модель Ridge\n",
        "model_ridge = Ridge(random_state = 1)\n",
        "\n",
        "# объявляем модель Lasso\n",
        "model_lasso = Lasso(random_state = 1)"
      ],
      "metadata": {
        "id": "UVTBcgSYVRVS"
      },
      "execution_count": 6,
      "outputs": []
    },
    {
      "cell_type": "code",
      "source": [
        "# обучаем модели на ненормированных признаках\n",
        "model_lr.fit(features, target)\n",
        "model_ridge.fit(features, target)\n",
        "model_lasso.fit(features, target)"
      ],
      "metadata": {
        "id": "M_pzSICGVRYZ",
        "colab": {
          "base_uri": "https://localhost:8080/",
          "height": 74
        },
        "outputId": "a659a08b-18a2-4708-cac6-d4b8b9043c28"
      },
      "execution_count": 7,
      "outputs": [
        {
          "output_type": "execute_result",
          "data": {
            "text/plain": [
              "Lasso(random_state=1)"
            ],
            "text/html": [
              "<style>#sk-container-id-1 {color: black;background-color: white;}#sk-container-id-1 pre{padding: 0;}#sk-container-id-1 div.sk-toggleable {background-color: white;}#sk-container-id-1 label.sk-toggleable__label {cursor: pointer;display: block;width: 100%;margin-bottom: 0;padding: 0.3em;box-sizing: border-box;text-align: center;}#sk-container-id-1 label.sk-toggleable__label-arrow:before {content: \"▸\";float: left;margin-right: 0.25em;color: #696969;}#sk-container-id-1 label.sk-toggleable__label-arrow:hover:before {color: black;}#sk-container-id-1 div.sk-estimator:hover label.sk-toggleable__label-arrow:before {color: black;}#sk-container-id-1 div.sk-toggleable__content {max-height: 0;max-width: 0;overflow: hidden;text-align: left;background-color: #f0f8ff;}#sk-container-id-1 div.sk-toggleable__content pre {margin: 0.2em;color: black;border-radius: 0.25em;background-color: #f0f8ff;}#sk-container-id-1 input.sk-toggleable__control:checked~div.sk-toggleable__content {max-height: 200px;max-width: 100%;overflow: auto;}#sk-container-id-1 input.sk-toggleable__control:checked~label.sk-toggleable__label-arrow:before {content: \"▾\";}#sk-container-id-1 div.sk-estimator input.sk-toggleable__control:checked~label.sk-toggleable__label {background-color: #d4ebff;}#sk-container-id-1 div.sk-label input.sk-toggleable__control:checked~label.sk-toggleable__label {background-color: #d4ebff;}#sk-container-id-1 input.sk-hidden--visually {border: 0;clip: rect(1px 1px 1px 1px);clip: rect(1px, 1px, 1px, 1px);height: 1px;margin: -1px;overflow: hidden;padding: 0;position: absolute;width: 1px;}#sk-container-id-1 div.sk-estimator {font-family: monospace;background-color: #f0f8ff;border: 1px dotted black;border-radius: 0.25em;box-sizing: border-box;margin-bottom: 0.5em;}#sk-container-id-1 div.sk-estimator:hover {background-color: #d4ebff;}#sk-container-id-1 div.sk-parallel-item::after {content: \"\";width: 100%;border-bottom: 1px solid gray;flex-grow: 1;}#sk-container-id-1 div.sk-label:hover label.sk-toggleable__label {background-color: #d4ebff;}#sk-container-id-1 div.sk-serial::before {content: \"\";position: absolute;border-left: 1px solid gray;box-sizing: border-box;top: 0;bottom: 0;left: 50%;z-index: 0;}#sk-container-id-1 div.sk-serial {display: flex;flex-direction: column;align-items: center;background-color: white;padding-right: 0.2em;padding-left: 0.2em;position: relative;}#sk-container-id-1 div.sk-item {position: relative;z-index: 1;}#sk-container-id-1 div.sk-parallel {display: flex;align-items: stretch;justify-content: center;background-color: white;position: relative;}#sk-container-id-1 div.sk-item::before, #sk-container-id-1 div.sk-parallel-item::before {content: \"\";position: absolute;border-left: 1px solid gray;box-sizing: border-box;top: 0;bottom: 0;left: 50%;z-index: -1;}#sk-container-id-1 div.sk-parallel-item {display: flex;flex-direction: column;z-index: 1;position: relative;background-color: white;}#sk-container-id-1 div.sk-parallel-item:first-child::after {align-self: flex-end;width: 50%;}#sk-container-id-1 div.sk-parallel-item:last-child::after {align-self: flex-start;width: 50%;}#sk-container-id-1 div.sk-parallel-item:only-child::after {width: 0;}#sk-container-id-1 div.sk-dashed-wrapped {border: 1px dashed gray;margin: 0 0.4em 0.5em 0.4em;box-sizing: border-box;padding-bottom: 0.4em;background-color: white;}#sk-container-id-1 div.sk-label label {font-family: monospace;font-weight: bold;display: inline-block;line-height: 1.2em;}#sk-container-id-1 div.sk-label-container {text-align: center;}#sk-container-id-1 div.sk-container {/* jupyter's `normalize.less` sets `[hidden] { display: none; }` but bootstrap.min.css set `[hidden] { display: none !important; }` so we also need the `!important` here to be able to override the default hidden behavior on the sphinx rendered scikit-learn.org. See: https://github.com/scikit-learn/scikit-learn/issues/21755 */display: inline-block !important;position: relative;}#sk-container-id-1 div.sk-text-repr-fallback {display: none;}</style><div id=\"sk-container-id-1\" class=\"sk-top-container\"><div class=\"sk-text-repr-fallback\"><pre>Lasso(random_state=1)</pre><b>In a Jupyter environment, please rerun this cell to show the HTML representation or trust the notebook. <br />On GitHub, the HTML representation is unable to render, please try loading this page with nbviewer.org.</b></div><div class=\"sk-container\" hidden><div class=\"sk-item\"><div class=\"sk-estimator sk-toggleable\"><input class=\"sk-toggleable__control sk-hidden--visually\" id=\"sk-estimator-id-1\" type=\"checkbox\" checked><label for=\"sk-estimator-id-1\" class=\"sk-toggleable__label sk-toggleable__label-arrow\">Lasso</label><div class=\"sk-toggleable__content\"><pre>Lasso(random_state=1)</pre></div></div></div></div></div>"
            ]
          },
          "metadata": {},
          "execution_count": 7
        }
      ]
    },
    {
      "cell_type": "code",
      "source": [
        "# получим значение метрики R2 на ненормированных признаках\n",
        "print(f'R2 модели LinearRegression: {model_lr.score(features, target)}')\n",
        "print('------------------------------')\n",
        "print(f'R2 модели Ridge: {model_ridge.score(features, target)}')\n",
        "print('------------------------------')\n",
        "print(f'R2 модели Lasso: {model_lasso.score(features, target)}')"
      ],
      "metadata": {
        "id": "WrdEe29lVRb3",
        "colab": {
          "base_uri": "https://localhost:8080/"
        },
        "outputId": "b2bf12fa-ac9f-4777-add6-04a5cd1da7b1"
      },
      "execution_count": 8,
      "outputs": [
        {
          "output_type": "stream",
          "name": "stdout",
          "text": [
            "R2 модели LinearRegression: 0.9972636382184018\n",
            "------------------------------\n",
            "R2 модели Ridge: 0.9971302898112738\n",
            "------------------------------\n",
            "R2 модели Lasso: 0.996645213197125\n"
          ]
        }
      ]
    },
    {
      "cell_type": "code",
      "source": [
        "model_lr.score(features, target) > model_ridge.score(features, target)"
      ],
      "metadata": {
        "colab": {
          "base_uri": "https://localhost:8080/"
        },
        "id": "ZKwhPoLx20Tz",
        "outputId": "f3c951c7-d493-47e9-be49-15e03131344e"
      },
      "execution_count": 9,
      "outputs": [
        {
          "output_type": "execute_result",
          "data": {
            "text/plain": [
              "True"
            ]
          },
          "metadata": {},
          "execution_count": 9
        }
      ]
    },
    {
      "cell_type": "markdown",
      "source": [
        "Лучший результат на ненормированных признаках показала модель LinearRegression."
      ],
      "metadata": {
        "id": "Iep094YRK6T8"
      }
    },
    {
      "cell_type": "code",
      "source": [
        "# нормируем обучающие признаки\n",
        "features_normalized = normalize(features)"
      ],
      "metadata": {
        "id": "1pVXbgeqVRrP"
      },
      "execution_count": 10,
      "outputs": []
    },
    {
      "cell_type": "code",
      "source": [
        "# объявляем модели для обучения на нормированных признаках\n",
        "\n",
        "# объявляем модель LinearRegression\n",
        "model_lr_norm = LinearRegression()\n",
        "\n",
        "# объявляем модель Ridge\n",
        "model_ridge_norm = Ridge(random_state = 1)\n",
        "\n",
        "# объявляем модель Lasso\n",
        "model_lasso_norm = Lasso(random_state = 1)"
      ],
      "metadata": {
        "id": "QrLy0bK4NHGe"
      },
      "execution_count": 11,
      "outputs": []
    },
    {
      "cell_type": "code",
      "source": [
        "# обучаем модели на нормированных признаках\n",
        "model_lr_norm.fit(features_normalized, target)\n",
        "model_ridge_norm.fit(features_normalized, target)\n",
        "model_lasso_norm.fit(features_normalized, target)"
      ],
      "metadata": {
        "id": "4RiqSRtpVRxI",
        "colab": {
          "base_uri": "https://localhost:8080/",
          "height": 74
        },
        "outputId": "816563b0-3d02-4d72-b142-d8bda6b76990"
      },
      "execution_count": 12,
      "outputs": [
        {
          "output_type": "execute_result",
          "data": {
            "text/plain": [
              "Lasso(random_state=1)"
            ],
            "text/html": [
              "<style>#sk-container-id-2 {color: black;background-color: white;}#sk-container-id-2 pre{padding: 0;}#sk-container-id-2 div.sk-toggleable {background-color: white;}#sk-container-id-2 label.sk-toggleable__label {cursor: pointer;display: block;width: 100%;margin-bottom: 0;padding: 0.3em;box-sizing: border-box;text-align: center;}#sk-container-id-2 label.sk-toggleable__label-arrow:before {content: \"▸\";float: left;margin-right: 0.25em;color: #696969;}#sk-container-id-2 label.sk-toggleable__label-arrow:hover:before {color: black;}#sk-container-id-2 div.sk-estimator:hover label.sk-toggleable__label-arrow:before {color: black;}#sk-container-id-2 div.sk-toggleable__content {max-height: 0;max-width: 0;overflow: hidden;text-align: left;background-color: #f0f8ff;}#sk-container-id-2 div.sk-toggleable__content pre {margin: 0.2em;color: black;border-radius: 0.25em;background-color: #f0f8ff;}#sk-container-id-2 input.sk-toggleable__control:checked~div.sk-toggleable__content {max-height: 200px;max-width: 100%;overflow: auto;}#sk-container-id-2 input.sk-toggleable__control:checked~label.sk-toggleable__label-arrow:before {content: \"▾\";}#sk-container-id-2 div.sk-estimator input.sk-toggleable__control:checked~label.sk-toggleable__label {background-color: #d4ebff;}#sk-container-id-2 div.sk-label input.sk-toggleable__control:checked~label.sk-toggleable__label {background-color: #d4ebff;}#sk-container-id-2 input.sk-hidden--visually {border: 0;clip: rect(1px 1px 1px 1px);clip: rect(1px, 1px, 1px, 1px);height: 1px;margin: -1px;overflow: hidden;padding: 0;position: absolute;width: 1px;}#sk-container-id-2 div.sk-estimator {font-family: monospace;background-color: #f0f8ff;border: 1px dotted black;border-radius: 0.25em;box-sizing: border-box;margin-bottom: 0.5em;}#sk-container-id-2 div.sk-estimator:hover {background-color: #d4ebff;}#sk-container-id-2 div.sk-parallel-item::after {content: \"\";width: 100%;border-bottom: 1px solid gray;flex-grow: 1;}#sk-container-id-2 div.sk-label:hover label.sk-toggleable__label {background-color: #d4ebff;}#sk-container-id-2 div.sk-serial::before {content: \"\";position: absolute;border-left: 1px solid gray;box-sizing: border-box;top: 0;bottom: 0;left: 50%;z-index: 0;}#sk-container-id-2 div.sk-serial {display: flex;flex-direction: column;align-items: center;background-color: white;padding-right: 0.2em;padding-left: 0.2em;position: relative;}#sk-container-id-2 div.sk-item {position: relative;z-index: 1;}#sk-container-id-2 div.sk-parallel {display: flex;align-items: stretch;justify-content: center;background-color: white;position: relative;}#sk-container-id-2 div.sk-item::before, #sk-container-id-2 div.sk-parallel-item::before {content: \"\";position: absolute;border-left: 1px solid gray;box-sizing: border-box;top: 0;bottom: 0;left: 50%;z-index: -1;}#sk-container-id-2 div.sk-parallel-item {display: flex;flex-direction: column;z-index: 1;position: relative;background-color: white;}#sk-container-id-2 div.sk-parallel-item:first-child::after {align-self: flex-end;width: 50%;}#sk-container-id-2 div.sk-parallel-item:last-child::after {align-self: flex-start;width: 50%;}#sk-container-id-2 div.sk-parallel-item:only-child::after {width: 0;}#sk-container-id-2 div.sk-dashed-wrapped {border: 1px dashed gray;margin: 0 0.4em 0.5em 0.4em;box-sizing: border-box;padding-bottom: 0.4em;background-color: white;}#sk-container-id-2 div.sk-label label {font-family: monospace;font-weight: bold;display: inline-block;line-height: 1.2em;}#sk-container-id-2 div.sk-label-container {text-align: center;}#sk-container-id-2 div.sk-container {/* jupyter's `normalize.less` sets `[hidden] { display: none; }` but bootstrap.min.css set `[hidden] { display: none !important; }` so we also need the `!important` here to be able to override the default hidden behavior on the sphinx rendered scikit-learn.org. See: https://github.com/scikit-learn/scikit-learn/issues/21755 */display: inline-block !important;position: relative;}#sk-container-id-2 div.sk-text-repr-fallback {display: none;}</style><div id=\"sk-container-id-2\" class=\"sk-top-container\"><div class=\"sk-text-repr-fallback\"><pre>Lasso(random_state=1)</pre><b>In a Jupyter environment, please rerun this cell to show the HTML representation or trust the notebook. <br />On GitHub, the HTML representation is unable to render, please try loading this page with nbviewer.org.</b></div><div class=\"sk-container\" hidden><div class=\"sk-item\"><div class=\"sk-estimator sk-toggleable\"><input class=\"sk-toggleable__control sk-hidden--visually\" id=\"sk-estimator-id-2\" type=\"checkbox\" checked><label for=\"sk-estimator-id-2\" class=\"sk-toggleable__label sk-toggleable__label-arrow\">Lasso</label><div class=\"sk-toggleable__content\"><pre>Lasso(random_state=1)</pre></div></div></div></div></div>"
            ]
          },
          "metadata": {},
          "execution_count": 12
        }
      ]
    },
    {
      "cell_type": "code",
      "source": [
        "# получим значение метрики R2 на нормированных признаках\n",
        "print(f'R2 модели LinearRegression: {model_lr_norm.score(features_normalized, target)}')\n",
        "print('------------------------------')\n",
        "print(f'R2 модели Ridge: {model_ridge_norm.score(features_normalized, target)}')\n",
        "print('------------------------------')\n",
        "print(f'R2 модели Lasso: {model_lasso_norm.score(features_normalized, target)}')"
      ],
      "metadata": {
        "colab": {
          "base_uri": "https://localhost:8080/"
        },
        "id": "SIysyBgIIMQT",
        "outputId": "5ef5bfbd-9d57-43ac-846c-229be8fa0ef5"
      },
      "execution_count": 13,
      "outputs": [
        {
          "output_type": "stream",
          "name": "stdout",
          "text": [
            "R2 модели LinearRegression: 0.9813044126540343\n",
            "------------------------------\n",
            "R2 модели Ridge: 0.9508169510432064\n",
            "------------------------------\n",
            "R2 модели Lasso: 0.9720824360321715\n"
          ]
        }
      ]
    },
    {
      "cell_type": "markdown",
      "source": [
        "Лучший результат на нормированных признаках показала модель LinearRegression."
      ],
      "metadata": {
        "id": "vUQ5VCiYLDcV"
      }
    },
    {
      "cell_type": "markdown",
      "source": [
        "Лучший результат модель Ridge показала на ненормированных признаках."
      ],
      "metadata": {
        "id": "yrbhsnbzLdgb"
      }
    },
    {
      "cell_type": "markdown",
      "source": [
        "# <font color='green'>**Вопрос 3**<font>\n",
        "\n",
        "---"
      ],
      "metadata": {
        "id": "67Y12fMvLyXj"
      }
    },
    {
      "cell_type": "markdown",
      "source": [
        "**Из вопроса 2 используйте LinearRegression, Ridge, Lasso, построенные на признаках без нормирования. Для ответов на вопросы сравните полученные коэффициенты.**\n",
        "\n",
        "**Для LinearRegression посчитайте значимость признаков, используя statsmodels. Достаньте истинные значения признаков из make_regression.**\n",
        "\n",
        "**Для вопросов 5 и 6 формула расчета:\n",
        "d = abs(round(reg.coef_[i],3) - round(coefs[i],3))/round(coefs[i],3)\n",
        "if d == np.inf: d=1\n",
        "if d == np.nan: d=0\n",
        "coefs - истинные коэффициенты.**"
      ],
      "metadata": {
        "id": "Z5Kx9L5OL7uI"
      }
    },
    {
      "cell_type": "markdown",
      "source": [
        "* Значение коэффициента у константы лучше всего оценила LinearRegression (без проверки значимости)\n",
        "* Lasso правильно занулила все нулевые признаки\n",
        "* Модуль statsmodels для LinearRegression неправильно определил значимость некоторых коэффициентов\n",
        "* У Ridge и Lasso коэффициенты всегда меньше, чем у LinearRegression\n",
        "* LinearRegression точнее всего определила коэффициенты, если посчитать сумму долей абсолютных отклонений от истинного значения\n",
        "* LinearRegression точнее всего определила коэффициенты, если посчитать сумму долей абсолютных отклонений от истинного значения и занулить те коэффициенты, которые незначимо отличаются от нуля по p-value"
      ],
      "metadata": {
        "id": "4mDNlyAwMSF0"
      }
    },
    {
      "cell_type": "code",
      "source": [
        "# вычислим значения коэффициентов у константы\n",
        "print(f'Коэф-т у константы модели LR {model_lr.intercept_}')\n",
        "print('----------------------')\n",
        "print(f'Коэф-т у константы модели Ridge {model_ridge.intercept_}')\n",
        "print('----------------------')\n",
        "print(f'Коэф-т у константы модели Lasso {model_lasso.intercept_}')"
      ],
      "metadata": {
        "colab": {
          "base_uri": "https://localhost:8080/"
        },
        "id": "g6z9TTh3XKLR",
        "outputId": "daa2cd38-86a4-4a35-8382-af3d2ef4fc85"
      },
      "execution_count": 14,
      "outputs": [
        {
          "output_type": "stream",
          "name": "stdout",
          "text": [
            "Коэф-т у константы модели LR -0.25433951244354347\n",
            "----------------------\n",
            "Коэф-т у константы модели Ridge -0.0457812381567706\n",
            "----------------------\n",
            "Коэф-т у константы модели Lasso 0.12226678004353886\n"
          ]
        }
      ]
    },
    {
      "cell_type": "code",
      "source": [
        "# получим коэффициенты базовой линейной модели\n",
        "coefs = make_regression(\n",
        "    n_samples=100,\n",
        "    n_features=20,\n",
        "    noise=10,\n",
        "    random_state=42,\n",
        "    coef = True)[2]"
      ],
      "metadata": {
        "id": "1AaDhGhuIMTc"
      },
      "execution_count": 15,
      "outputs": []
    },
    {
      "cell_type": "code",
      "source": [
        "# выведем значения коэффициентов базовой линейной модели\n",
        "coefs"
      ],
      "metadata": {
        "id": "v5JEvka7IMWx",
        "colab": {
          "base_uri": "https://localhost:8080/"
        },
        "outputId": "0ce3d418-b49a-4b86-a053-d304bf6359ab"
      },
      "execution_count": 16,
      "outputs": [
        {
          "output_type": "execute_result",
          "data": {
            "text/plain": [
              "array([ 6.60098441, 94.7688026 , 40.71064891,  0.        ,  0.        ,\n",
              "        0.        , 11.09980988, 95.51152073, 80.823521  , 34.8820534 ,\n",
              "        0.        ,  0.        ,  0.        ,  0.        ,  0.        ,\n",
              "       29.9565678 ,  7.23164753,  0.        ,  0.        , 52.25765993])"
            ]
          },
          "metadata": {},
          "execution_count": 16
        }
      ]
    },
    {
      "cell_type": "code",
      "source": [
        "# выведем значения коэффициентов для LinearRegression\n",
        "model_lr.coef_"
      ],
      "metadata": {
        "id": "Y5hd0EgwIMaA",
        "colab": {
          "base_uri": "https://localhost:8080/"
        },
        "outputId": "8f7cf7cd-2ca5-486c-d452-36fd7b1f9a15"
      },
      "execution_count": 17,
      "outputs": [
        {
          "output_type": "execute_result",
          "data": {
            "text/plain": [
              "array([ 5.81934467, 93.61694029, 40.45112528, -0.13695439,  0.93294567,\n",
              "       -1.55281734, 12.99925102, 95.57667958, 81.02048367, 35.27571684,\n",
              "        1.6242894 ,  1.09659676,  0.97612578,  1.02690177, -0.61154004,\n",
              "       27.9660991 ,  7.65180357,  0.96870548, -0.19339141, 54.46237526])"
            ]
          },
          "metadata": {},
          "execution_count": 17
        }
      ]
    },
    {
      "cell_type": "code",
      "source": [
        "# выведем значения коэффициентов для Ridge\n",
        "model_ridge.coef_"
      ],
      "metadata": {
        "id": "_Q1UweXhIMdW",
        "colab": {
          "base_uri": "https://localhost:8080/"
        },
        "outputId": "ae035b7d-97e7-4053-87be-b73d677de350"
      },
      "execution_count": 18,
      "outputs": [
        {
          "output_type": "execute_result",
          "data": {
            "text/plain": [
              "array([ 5.88277303e+00,  9.26837873e+01,  3.98415545e+01, -7.36178649e-02,\n",
              "        8.72596433e-01, -1.46407408e+00,  1.28568840e+01,  9.42066898e+01,\n",
              "        7.99033974e+01,  3.53437090e+01,  1.43110271e+00,  1.31491936e+00,\n",
              "        1.15307227e+00,  9.63459589e-01, -7.19481502e-01,  2.75892137e+01,\n",
              "        7.67212276e+00,  6.09044575e-01, -5.07233815e-01,  5.36091006e+01])"
            ]
          },
          "metadata": {},
          "execution_count": 18
        }
      ]
    },
    {
      "cell_type": "code",
      "source": [
        "# выведем значения коэффициентов для Lasso\n",
        "model_lasso.coef_"
      ],
      "metadata": {
        "id": "zN6vn32FIMgF",
        "colab": {
          "base_uri": "https://localhost:8080/"
        },
        "outputId": "2f9f69d5-0bfe-4721-ceb7-1c9c695bd46e"
      },
      "execution_count": 19,
      "outputs": [
        {
          "output_type": "execute_result",
          "data": {
            "text/plain": [
              "array([ 4.45553073, 92.73383452, 39.04394872,  0.        ,  0.        ,\n",
              "       -0.        , 11.26501557, 94.29503235, 79.77056253, 34.39796907,\n",
              "        0.        ,  0.        ,  0.        ,  0.        , -0.        ,\n",
              "       27.08070308,  6.33479322,  0.        , -0.        , 53.05950475])"
            ]
          },
          "metadata": {},
          "execution_count": 19
        }
      ]
    },
    {
      "cell_type": "code",
      "source": [
        "# сохраним значения коэффициентов в датафреймы\n",
        "coefs_base = pd.DataFrame(\n",
        "    data = coefs,\n",
        "    columns = ['coefs_base'])\n",
        "\n",
        "coefs_lr = pd.DataFrame(\n",
        "    data = model_lr.coef_,\n",
        "    columns = ['coefs_lr'])\n",
        "\n",
        "coefs_ridge = pd.DataFrame(\n",
        "    data = model_ridge.coef_,\n",
        "    columns = ['coefs_ridge'])\n",
        "\n",
        "coefs_lasso = pd.DataFrame(\n",
        "    data = model_lasso.coef_,\n",
        "    columns = ['coefs_lasso'])"
      ],
      "metadata": {
        "id": "4iWrxRcMIMjO"
      },
      "execution_count": 20,
      "outputs": []
    },
    {
      "cell_type": "markdown",
      "source": [
        "Объединим датафреймы с коэффициентами."
      ],
      "metadata": {
        "id": "VZ8s3OsjP1gC"
      }
    },
    {
      "cell_type": "code",
      "source": [
        "# создадим список датафреймов\n",
        "data_frames = [coefs_base, coefs_lr, coefs_ridge, coefs_lasso]"
      ],
      "metadata": {
        "id": "S1Wm9x2eWklo"
      },
      "execution_count": 21,
      "outputs": []
    },
    {
      "cell_type": "code",
      "source": [
        "# создаем объединенный датасет с коэффициентами\n",
        "df_merged = reduce(lambda  left, right:\n",
        "                    pd.merge(left, right,\n",
        "                    left_index = True, right_index = True,\n",
        "                    how='outer'), data_frames)"
      ],
      "metadata": {
        "id": "DY9APf8dWkoj"
      },
      "execution_count": 22,
      "outputs": []
    },
    {
      "cell_type": "code",
      "source": [
        "# выведем объединенный датасет\n",
        "df_merged"
      ],
      "metadata": {
        "id": "ubUTSb9sWkrY",
        "colab": {
          "base_uri": "https://localhost:8080/",
          "height": 676
        },
        "outputId": "ffb7f6da-9f66-45bf-8bed-cf2f98f2e1b9"
      },
      "execution_count": 23,
      "outputs": [
        {
          "output_type": "execute_result",
          "data": {
            "text/plain": [
              "    coefs_base   coefs_lr  coefs_ridge  coefs_lasso\n",
              "0     6.600984   5.819345     5.882773     4.455531\n",
              "1    94.768803  93.616940    92.683787    92.733835\n",
              "2    40.710649  40.451125    39.841555    39.043949\n",
              "3     0.000000  -0.136954    -0.073618     0.000000\n",
              "4     0.000000   0.932946     0.872596     0.000000\n",
              "5     0.000000  -1.552817    -1.464074    -0.000000\n",
              "6    11.099810  12.999251    12.856884    11.265016\n",
              "7    95.511521  95.576680    94.206690    94.295032\n",
              "8    80.823521  81.020484    79.903397    79.770563\n",
              "9    34.882053  35.275717    35.343709    34.397969\n",
              "10    0.000000   1.624289     1.431103     0.000000\n",
              "11    0.000000   1.096597     1.314919     0.000000\n",
              "12    0.000000   0.976126     1.153072     0.000000\n",
              "13    0.000000   1.026902     0.963460     0.000000\n",
              "14    0.000000  -0.611540    -0.719482    -0.000000\n",
              "15   29.956568  27.966099    27.589214    27.080703\n",
              "16    7.231648   7.651804     7.672123     6.334793\n",
              "17    0.000000   0.968705     0.609045     0.000000\n",
              "18    0.000000  -0.193391    -0.507234    -0.000000\n",
              "19   52.257660  54.462375    53.609101    53.059505"
            ],
            "text/html": [
              "\n",
              "  <div id=\"df-e0167847-5dae-422e-99b4-8a5200a78ff3\" class=\"colab-df-container\">\n",
              "    <div>\n",
              "<style scoped>\n",
              "    .dataframe tbody tr th:only-of-type {\n",
              "        vertical-align: middle;\n",
              "    }\n",
              "\n",
              "    .dataframe tbody tr th {\n",
              "        vertical-align: top;\n",
              "    }\n",
              "\n",
              "    .dataframe thead th {\n",
              "        text-align: right;\n",
              "    }\n",
              "</style>\n",
              "<table border=\"1\" class=\"dataframe\">\n",
              "  <thead>\n",
              "    <tr style=\"text-align: right;\">\n",
              "      <th></th>\n",
              "      <th>coefs_base</th>\n",
              "      <th>coefs_lr</th>\n",
              "      <th>coefs_ridge</th>\n",
              "      <th>coefs_lasso</th>\n",
              "    </tr>\n",
              "  </thead>\n",
              "  <tbody>\n",
              "    <tr>\n",
              "      <th>0</th>\n",
              "      <td>6.600984</td>\n",
              "      <td>5.819345</td>\n",
              "      <td>5.882773</td>\n",
              "      <td>4.455531</td>\n",
              "    </tr>\n",
              "    <tr>\n",
              "      <th>1</th>\n",
              "      <td>94.768803</td>\n",
              "      <td>93.616940</td>\n",
              "      <td>92.683787</td>\n",
              "      <td>92.733835</td>\n",
              "    </tr>\n",
              "    <tr>\n",
              "      <th>2</th>\n",
              "      <td>40.710649</td>\n",
              "      <td>40.451125</td>\n",
              "      <td>39.841555</td>\n",
              "      <td>39.043949</td>\n",
              "    </tr>\n",
              "    <tr>\n",
              "      <th>3</th>\n",
              "      <td>0.000000</td>\n",
              "      <td>-0.136954</td>\n",
              "      <td>-0.073618</td>\n",
              "      <td>0.000000</td>\n",
              "    </tr>\n",
              "    <tr>\n",
              "      <th>4</th>\n",
              "      <td>0.000000</td>\n",
              "      <td>0.932946</td>\n",
              "      <td>0.872596</td>\n",
              "      <td>0.000000</td>\n",
              "    </tr>\n",
              "    <tr>\n",
              "      <th>5</th>\n",
              "      <td>0.000000</td>\n",
              "      <td>-1.552817</td>\n",
              "      <td>-1.464074</td>\n",
              "      <td>-0.000000</td>\n",
              "    </tr>\n",
              "    <tr>\n",
              "      <th>6</th>\n",
              "      <td>11.099810</td>\n",
              "      <td>12.999251</td>\n",
              "      <td>12.856884</td>\n",
              "      <td>11.265016</td>\n",
              "    </tr>\n",
              "    <tr>\n",
              "      <th>7</th>\n",
              "      <td>95.511521</td>\n",
              "      <td>95.576680</td>\n",
              "      <td>94.206690</td>\n",
              "      <td>94.295032</td>\n",
              "    </tr>\n",
              "    <tr>\n",
              "      <th>8</th>\n",
              "      <td>80.823521</td>\n",
              "      <td>81.020484</td>\n",
              "      <td>79.903397</td>\n",
              "      <td>79.770563</td>\n",
              "    </tr>\n",
              "    <tr>\n",
              "      <th>9</th>\n",
              "      <td>34.882053</td>\n",
              "      <td>35.275717</td>\n",
              "      <td>35.343709</td>\n",
              "      <td>34.397969</td>\n",
              "    </tr>\n",
              "    <tr>\n",
              "      <th>10</th>\n",
              "      <td>0.000000</td>\n",
              "      <td>1.624289</td>\n",
              "      <td>1.431103</td>\n",
              "      <td>0.000000</td>\n",
              "    </tr>\n",
              "    <tr>\n",
              "      <th>11</th>\n",
              "      <td>0.000000</td>\n",
              "      <td>1.096597</td>\n",
              "      <td>1.314919</td>\n",
              "      <td>0.000000</td>\n",
              "    </tr>\n",
              "    <tr>\n",
              "      <th>12</th>\n",
              "      <td>0.000000</td>\n",
              "      <td>0.976126</td>\n",
              "      <td>1.153072</td>\n",
              "      <td>0.000000</td>\n",
              "    </tr>\n",
              "    <tr>\n",
              "      <th>13</th>\n",
              "      <td>0.000000</td>\n",
              "      <td>1.026902</td>\n",
              "      <td>0.963460</td>\n",
              "      <td>0.000000</td>\n",
              "    </tr>\n",
              "    <tr>\n",
              "      <th>14</th>\n",
              "      <td>0.000000</td>\n",
              "      <td>-0.611540</td>\n",
              "      <td>-0.719482</td>\n",
              "      <td>-0.000000</td>\n",
              "    </tr>\n",
              "    <tr>\n",
              "      <th>15</th>\n",
              "      <td>29.956568</td>\n",
              "      <td>27.966099</td>\n",
              "      <td>27.589214</td>\n",
              "      <td>27.080703</td>\n",
              "    </tr>\n",
              "    <tr>\n",
              "      <th>16</th>\n",
              "      <td>7.231648</td>\n",
              "      <td>7.651804</td>\n",
              "      <td>7.672123</td>\n",
              "      <td>6.334793</td>\n",
              "    </tr>\n",
              "    <tr>\n",
              "      <th>17</th>\n",
              "      <td>0.000000</td>\n",
              "      <td>0.968705</td>\n",
              "      <td>0.609045</td>\n",
              "      <td>0.000000</td>\n",
              "    </tr>\n",
              "    <tr>\n",
              "      <th>18</th>\n",
              "      <td>0.000000</td>\n",
              "      <td>-0.193391</td>\n",
              "      <td>-0.507234</td>\n",
              "      <td>-0.000000</td>\n",
              "    </tr>\n",
              "    <tr>\n",
              "      <th>19</th>\n",
              "      <td>52.257660</td>\n",
              "      <td>54.462375</td>\n",
              "      <td>53.609101</td>\n",
              "      <td>53.059505</td>\n",
              "    </tr>\n",
              "  </tbody>\n",
              "</table>\n",
              "</div>\n",
              "    <div class=\"colab-df-buttons\">\n",
              "\n",
              "  <div class=\"colab-df-container\">\n",
              "    <button class=\"colab-df-convert\" onclick=\"convertToInteractive('df-e0167847-5dae-422e-99b4-8a5200a78ff3')\"\n",
              "            title=\"Convert this dataframe to an interactive table.\"\n",
              "            style=\"display:none;\">\n",
              "\n",
              "  <svg xmlns=\"http://www.w3.org/2000/svg\" height=\"24px\" viewBox=\"0 -960 960 960\">\n",
              "    <path d=\"M120-120v-720h720v720H120Zm60-500h600v-160H180v160Zm220 220h160v-160H400v160Zm0 220h160v-160H400v160ZM180-400h160v-160H180v160Zm440 0h160v-160H620v160ZM180-180h160v-160H180v160Zm440 0h160v-160H620v160Z\"/>\n",
              "  </svg>\n",
              "    </button>\n",
              "\n",
              "  <style>\n",
              "    .colab-df-container {\n",
              "      display:flex;\n",
              "      gap: 12px;\n",
              "    }\n",
              "\n",
              "    .colab-df-convert {\n",
              "      background-color: #E8F0FE;\n",
              "      border: none;\n",
              "      border-radius: 50%;\n",
              "      cursor: pointer;\n",
              "      display: none;\n",
              "      fill: #1967D2;\n",
              "      height: 32px;\n",
              "      padding: 0 0 0 0;\n",
              "      width: 32px;\n",
              "    }\n",
              "\n",
              "    .colab-df-convert:hover {\n",
              "      background-color: #E2EBFA;\n",
              "      box-shadow: 0px 1px 2px rgba(60, 64, 67, 0.3), 0px 1px 3px 1px rgba(60, 64, 67, 0.15);\n",
              "      fill: #174EA6;\n",
              "    }\n",
              "\n",
              "    .colab-df-buttons div {\n",
              "      margin-bottom: 4px;\n",
              "    }\n",
              "\n",
              "    [theme=dark] .colab-df-convert {\n",
              "      background-color: #3B4455;\n",
              "      fill: #D2E3FC;\n",
              "    }\n",
              "\n",
              "    [theme=dark] .colab-df-convert:hover {\n",
              "      background-color: #434B5C;\n",
              "      box-shadow: 0px 1px 3px 1px rgba(0, 0, 0, 0.15);\n",
              "      filter: drop-shadow(0px 1px 2px rgba(0, 0, 0, 0.3));\n",
              "      fill: #FFFFFF;\n",
              "    }\n",
              "  </style>\n",
              "\n",
              "    <script>\n",
              "      const buttonEl =\n",
              "        document.querySelector('#df-e0167847-5dae-422e-99b4-8a5200a78ff3 button.colab-df-convert');\n",
              "      buttonEl.style.display =\n",
              "        google.colab.kernel.accessAllowed ? 'block' : 'none';\n",
              "\n",
              "      async function convertToInteractive(key) {\n",
              "        const element = document.querySelector('#df-e0167847-5dae-422e-99b4-8a5200a78ff3');\n",
              "        const dataTable =\n",
              "          await google.colab.kernel.invokeFunction('convertToInteractive',\n",
              "                                                    [key], {});\n",
              "        if (!dataTable) return;\n",
              "\n",
              "        const docLinkHtml = 'Like what you see? Visit the ' +\n",
              "          '<a target=\"_blank\" href=https://colab.research.google.com/notebooks/data_table.ipynb>data table notebook</a>'\n",
              "          + ' to learn more about interactive tables.';\n",
              "        element.innerHTML = '';\n",
              "        dataTable['output_type'] = 'display_data';\n",
              "        await google.colab.output.renderOutput(dataTable, element);\n",
              "        const docLink = document.createElement('div');\n",
              "        docLink.innerHTML = docLinkHtml;\n",
              "        element.appendChild(docLink);\n",
              "      }\n",
              "    </script>\n",
              "  </div>\n",
              "\n",
              "\n",
              "<div id=\"df-cf172d9c-e542-41c9-a34d-792f1dde87a3\">\n",
              "  <button class=\"colab-df-quickchart\" onclick=\"quickchart('df-cf172d9c-e542-41c9-a34d-792f1dde87a3')\"\n",
              "            title=\"Suggest charts\"\n",
              "            style=\"display:none;\">\n",
              "\n",
              "<svg xmlns=\"http://www.w3.org/2000/svg\" height=\"24px\"viewBox=\"0 0 24 24\"\n",
              "     width=\"24px\">\n",
              "    <g>\n",
              "        <path d=\"M19 3H5c-1.1 0-2 .9-2 2v14c0 1.1.9 2 2 2h14c1.1 0 2-.9 2-2V5c0-1.1-.9-2-2-2zM9 17H7v-7h2v7zm4 0h-2V7h2v10zm4 0h-2v-4h2v4z\"/>\n",
              "    </g>\n",
              "</svg>\n",
              "  </button>\n",
              "\n",
              "<style>\n",
              "  .colab-df-quickchart {\n",
              "      --bg-color: #E8F0FE;\n",
              "      --fill-color: #1967D2;\n",
              "      --hover-bg-color: #E2EBFA;\n",
              "      --hover-fill-color: #174EA6;\n",
              "      --disabled-fill-color: #AAA;\n",
              "      --disabled-bg-color: #DDD;\n",
              "  }\n",
              "\n",
              "  [theme=dark] .colab-df-quickchart {\n",
              "      --bg-color: #3B4455;\n",
              "      --fill-color: #D2E3FC;\n",
              "      --hover-bg-color: #434B5C;\n",
              "      --hover-fill-color: #FFFFFF;\n",
              "      --disabled-bg-color: #3B4455;\n",
              "      --disabled-fill-color: #666;\n",
              "  }\n",
              "\n",
              "  .colab-df-quickchart {\n",
              "    background-color: var(--bg-color);\n",
              "    border: none;\n",
              "    border-radius: 50%;\n",
              "    cursor: pointer;\n",
              "    display: none;\n",
              "    fill: var(--fill-color);\n",
              "    height: 32px;\n",
              "    padding: 0;\n",
              "    width: 32px;\n",
              "  }\n",
              "\n",
              "  .colab-df-quickchart:hover {\n",
              "    background-color: var(--hover-bg-color);\n",
              "    box-shadow: 0 1px 2px rgba(60, 64, 67, 0.3), 0 1px 3px 1px rgba(60, 64, 67, 0.15);\n",
              "    fill: var(--button-hover-fill-color);\n",
              "  }\n",
              "\n",
              "  .colab-df-quickchart-complete:disabled,\n",
              "  .colab-df-quickchart-complete:disabled:hover {\n",
              "    background-color: var(--disabled-bg-color);\n",
              "    fill: var(--disabled-fill-color);\n",
              "    box-shadow: none;\n",
              "  }\n",
              "\n",
              "  .colab-df-spinner {\n",
              "    border: 2px solid var(--fill-color);\n",
              "    border-color: transparent;\n",
              "    border-bottom-color: var(--fill-color);\n",
              "    animation:\n",
              "      spin 1s steps(1) infinite;\n",
              "  }\n",
              "\n",
              "  @keyframes spin {\n",
              "    0% {\n",
              "      border-color: transparent;\n",
              "      border-bottom-color: var(--fill-color);\n",
              "      border-left-color: var(--fill-color);\n",
              "    }\n",
              "    20% {\n",
              "      border-color: transparent;\n",
              "      border-left-color: var(--fill-color);\n",
              "      border-top-color: var(--fill-color);\n",
              "    }\n",
              "    30% {\n",
              "      border-color: transparent;\n",
              "      border-left-color: var(--fill-color);\n",
              "      border-top-color: var(--fill-color);\n",
              "      border-right-color: var(--fill-color);\n",
              "    }\n",
              "    40% {\n",
              "      border-color: transparent;\n",
              "      border-right-color: var(--fill-color);\n",
              "      border-top-color: var(--fill-color);\n",
              "    }\n",
              "    60% {\n",
              "      border-color: transparent;\n",
              "      border-right-color: var(--fill-color);\n",
              "    }\n",
              "    80% {\n",
              "      border-color: transparent;\n",
              "      border-right-color: var(--fill-color);\n",
              "      border-bottom-color: var(--fill-color);\n",
              "    }\n",
              "    90% {\n",
              "      border-color: transparent;\n",
              "      border-bottom-color: var(--fill-color);\n",
              "    }\n",
              "  }\n",
              "</style>\n",
              "\n",
              "  <script>\n",
              "    async function quickchart(key) {\n",
              "      const quickchartButtonEl =\n",
              "        document.querySelector('#' + key + ' button');\n",
              "      quickchartButtonEl.disabled = true;  // To prevent multiple clicks.\n",
              "      quickchartButtonEl.classList.add('colab-df-spinner');\n",
              "      try {\n",
              "        const charts = await google.colab.kernel.invokeFunction(\n",
              "            'suggestCharts', [key], {});\n",
              "      } catch (error) {\n",
              "        console.error('Error during call to suggestCharts:', error);\n",
              "      }\n",
              "      quickchartButtonEl.classList.remove('colab-df-spinner');\n",
              "      quickchartButtonEl.classList.add('colab-df-quickchart-complete');\n",
              "    }\n",
              "    (() => {\n",
              "      let quickchartButtonEl =\n",
              "        document.querySelector('#df-cf172d9c-e542-41c9-a34d-792f1dde87a3 button');\n",
              "      quickchartButtonEl.style.display =\n",
              "        google.colab.kernel.accessAllowed ? 'block' : 'none';\n",
              "    })();\n",
              "  </script>\n",
              "</div>\n",
              "    </div>\n",
              "  </div>\n"
            ]
          },
          "metadata": {},
          "execution_count": 23
        }
      ]
    },
    {
      "cell_type": "markdown",
      "source": [
        "Мы видим, что модель Lasso правильно занулила все нулевые признаки."
      ],
      "metadata": {
        "id": "4ZRmxki9bl5f"
      }
    },
    {
      "cell_type": "markdown",
      "source": [
        "С помощью модуля statmodels определим значимость коэффициентов для LinearRegression.\n",
        "\n",
        " * How to extract the regression coefficient from statsmodels.api? // StackOverFlow. - URL: https://stackoverflow.com/questions/47388258/how-to-extract-the-regression-coefficient-from-statsmodels-api"
      ],
      "metadata": {
        "id": "16YYYk_miPr-"
      }
    },
    {
      "cell_type": "code",
      "source": [
        "# обучим модель Ordinary least squares (OLS)\n",
        "result = sm.OLS(target, features).fit()"
      ],
      "metadata": {
        "id": "xmHEGIIFh3bE"
      },
      "execution_count": 24,
      "outputs": []
    },
    {
      "cell_type": "code",
      "source": [
        "# выведем значения коэффициентов, полученные с помощью OLS\n",
        "result.params"
      ],
      "metadata": {
        "colab": {
          "base_uri": "https://localhost:8080/"
        },
        "id": "GrztSsm-h3ea",
        "outputId": "3a28f126-1275-4633-c66c-17638496a33b"
      },
      "execution_count": 25,
      "outputs": [
        {
          "output_type": "execute_result",
          "data": {
            "text/plain": [
              "array([ 5.79059391, 93.63798252, 40.39490972, -0.14116688,  0.92719125,\n",
              "       -1.59218353, 12.99667162, 95.53496152, 81.00518218, 35.295251  ,\n",
              "        1.65815464,  1.07022692,  0.95456996,  1.022598  , -0.63048125,\n",
              "       27.93044331,  7.66280878,  0.95907341, -0.18712546, 54.48878533])"
            ]
          },
          "metadata": {},
          "execution_count": 25
        }
      ]
    },
    {
      "cell_type": "markdown",
      "source": [
        "К датасету df_merged добавим столбец со значениями коэффициентов, полученными с помощью модуля statsmodels."
      ],
      "metadata": {
        "id": "ciw7wd9p0NbG"
      }
    },
    {
      "cell_type": "code",
      "source": [
        "# значения коэффициентов важности признаков, полученных с помощью OLS,\n",
        "# сохраним в датафрейм\n",
        "coefs_ols = pd.DataFrame(\n",
        "    data = result.params,\n",
        "    columns = ['coefs_ols'])"
      ],
      "metadata": {
        "id": "goEr-CHGh3hm"
      },
      "execution_count": 26,
      "outputs": []
    },
    {
      "cell_type": "code",
      "source": [
        "# объединим df_merged и coefs_ols\n",
        "df_merged = pd.merge(\n",
        "    left = df_merged,\n",
        "    right = coefs_ols,\n",
        "    left_index = True,\n",
        "    right_index = True,\n",
        "    how='outer')"
      ],
      "metadata": {
        "id": "idUBAhsSjEqZ"
      },
      "execution_count": 27,
      "outputs": []
    },
    {
      "cell_type": "code",
      "source": [
        "df_merged.head()"
      ],
      "metadata": {
        "id": "BuWiGDfAjEtr",
        "colab": {
          "base_uri": "https://localhost:8080/",
          "height": 206
        },
        "outputId": "9cafef1c-c4fb-45de-c762-1e94976056fc"
      },
      "execution_count": 28,
      "outputs": [
        {
          "output_type": "execute_result",
          "data": {
            "text/plain": [
              "   coefs_base   coefs_lr  coefs_ridge  coefs_lasso  coefs_ols\n",
              "0    6.600984   5.819345     5.882773     4.455531   5.790594\n",
              "1   94.768803  93.616940    92.683787    92.733835  93.637983\n",
              "2   40.710649  40.451125    39.841555    39.043949  40.394910\n",
              "3    0.000000  -0.136954    -0.073618     0.000000  -0.141167\n",
              "4    0.000000   0.932946     0.872596     0.000000   0.927191"
            ],
            "text/html": [
              "\n",
              "  <div id=\"df-e34df2af-e8cb-413e-a31d-92ff35d2af50\" class=\"colab-df-container\">\n",
              "    <div>\n",
              "<style scoped>\n",
              "    .dataframe tbody tr th:only-of-type {\n",
              "        vertical-align: middle;\n",
              "    }\n",
              "\n",
              "    .dataframe tbody tr th {\n",
              "        vertical-align: top;\n",
              "    }\n",
              "\n",
              "    .dataframe thead th {\n",
              "        text-align: right;\n",
              "    }\n",
              "</style>\n",
              "<table border=\"1\" class=\"dataframe\">\n",
              "  <thead>\n",
              "    <tr style=\"text-align: right;\">\n",
              "      <th></th>\n",
              "      <th>coefs_base</th>\n",
              "      <th>coefs_lr</th>\n",
              "      <th>coefs_ridge</th>\n",
              "      <th>coefs_lasso</th>\n",
              "      <th>coefs_ols</th>\n",
              "    </tr>\n",
              "  </thead>\n",
              "  <tbody>\n",
              "    <tr>\n",
              "      <th>0</th>\n",
              "      <td>6.600984</td>\n",
              "      <td>5.819345</td>\n",
              "      <td>5.882773</td>\n",
              "      <td>4.455531</td>\n",
              "      <td>5.790594</td>\n",
              "    </tr>\n",
              "    <tr>\n",
              "      <th>1</th>\n",
              "      <td>94.768803</td>\n",
              "      <td>93.616940</td>\n",
              "      <td>92.683787</td>\n",
              "      <td>92.733835</td>\n",
              "      <td>93.637983</td>\n",
              "    </tr>\n",
              "    <tr>\n",
              "      <th>2</th>\n",
              "      <td>40.710649</td>\n",
              "      <td>40.451125</td>\n",
              "      <td>39.841555</td>\n",
              "      <td>39.043949</td>\n",
              "      <td>40.394910</td>\n",
              "    </tr>\n",
              "    <tr>\n",
              "      <th>3</th>\n",
              "      <td>0.000000</td>\n",
              "      <td>-0.136954</td>\n",
              "      <td>-0.073618</td>\n",
              "      <td>0.000000</td>\n",
              "      <td>-0.141167</td>\n",
              "    </tr>\n",
              "    <tr>\n",
              "      <th>4</th>\n",
              "      <td>0.000000</td>\n",
              "      <td>0.932946</td>\n",
              "      <td>0.872596</td>\n",
              "      <td>0.000000</td>\n",
              "      <td>0.927191</td>\n",
              "    </tr>\n",
              "  </tbody>\n",
              "</table>\n",
              "</div>\n",
              "    <div class=\"colab-df-buttons\">\n",
              "\n",
              "  <div class=\"colab-df-container\">\n",
              "    <button class=\"colab-df-convert\" onclick=\"convertToInteractive('df-e34df2af-e8cb-413e-a31d-92ff35d2af50')\"\n",
              "            title=\"Convert this dataframe to an interactive table.\"\n",
              "            style=\"display:none;\">\n",
              "\n",
              "  <svg xmlns=\"http://www.w3.org/2000/svg\" height=\"24px\" viewBox=\"0 -960 960 960\">\n",
              "    <path d=\"M120-120v-720h720v720H120Zm60-500h600v-160H180v160Zm220 220h160v-160H400v160Zm0 220h160v-160H400v160ZM180-400h160v-160H180v160Zm440 0h160v-160H620v160ZM180-180h160v-160H180v160Zm440 0h160v-160H620v160Z\"/>\n",
              "  </svg>\n",
              "    </button>\n",
              "\n",
              "  <style>\n",
              "    .colab-df-container {\n",
              "      display:flex;\n",
              "      gap: 12px;\n",
              "    }\n",
              "\n",
              "    .colab-df-convert {\n",
              "      background-color: #E8F0FE;\n",
              "      border: none;\n",
              "      border-radius: 50%;\n",
              "      cursor: pointer;\n",
              "      display: none;\n",
              "      fill: #1967D2;\n",
              "      height: 32px;\n",
              "      padding: 0 0 0 0;\n",
              "      width: 32px;\n",
              "    }\n",
              "\n",
              "    .colab-df-convert:hover {\n",
              "      background-color: #E2EBFA;\n",
              "      box-shadow: 0px 1px 2px rgba(60, 64, 67, 0.3), 0px 1px 3px 1px rgba(60, 64, 67, 0.15);\n",
              "      fill: #174EA6;\n",
              "    }\n",
              "\n",
              "    .colab-df-buttons div {\n",
              "      margin-bottom: 4px;\n",
              "    }\n",
              "\n",
              "    [theme=dark] .colab-df-convert {\n",
              "      background-color: #3B4455;\n",
              "      fill: #D2E3FC;\n",
              "    }\n",
              "\n",
              "    [theme=dark] .colab-df-convert:hover {\n",
              "      background-color: #434B5C;\n",
              "      box-shadow: 0px 1px 3px 1px rgba(0, 0, 0, 0.15);\n",
              "      filter: drop-shadow(0px 1px 2px rgba(0, 0, 0, 0.3));\n",
              "      fill: #FFFFFF;\n",
              "    }\n",
              "  </style>\n",
              "\n",
              "    <script>\n",
              "      const buttonEl =\n",
              "        document.querySelector('#df-e34df2af-e8cb-413e-a31d-92ff35d2af50 button.colab-df-convert');\n",
              "      buttonEl.style.display =\n",
              "        google.colab.kernel.accessAllowed ? 'block' : 'none';\n",
              "\n",
              "      async function convertToInteractive(key) {\n",
              "        const element = document.querySelector('#df-e34df2af-e8cb-413e-a31d-92ff35d2af50');\n",
              "        const dataTable =\n",
              "          await google.colab.kernel.invokeFunction('convertToInteractive',\n",
              "                                                    [key], {});\n",
              "        if (!dataTable) return;\n",
              "\n",
              "        const docLinkHtml = 'Like what you see? Visit the ' +\n",
              "          '<a target=\"_blank\" href=https://colab.research.google.com/notebooks/data_table.ipynb>data table notebook</a>'\n",
              "          + ' to learn more about interactive tables.';\n",
              "        element.innerHTML = '';\n",
              "        dataTable['output_type'] = 'display_data';\n",
              "        await google.colab.output.renderOutput(dataTable, element);\n",
              "        const docLink = document.createElement('div');\n",
              "        docLink.innerHTML = docLinkHtml;\n",
              "        element.appendChild(docLink);\n",
              "      }\n",
              "    </script>\n",
              "  </div>\n",
              "\n",
              "\n",
              "<div id=\"df-fc3e6a23-0d3f-4164-8412-91bcca0b211a\">\n",
              "  <button class=\"colab-df-quickchart\" onclick=\"quickchart('df-fc3e6a23-0d3f-4164-8412-91bcca0b211a')\"\n",
              "            title=\"Suggest charts\"\n",
              "            style=\"display:none;\">\n",
              "\n",
              "<svg xmlns=\"http://www.w3.org/2000/svg\" height=\"24px\"viewBox=\"0 0 24 24\"\n",
              "     width=\"24px\">\n",
              "    <g>\n",
              "        <path d=\"M19 3H5c-1.1 0-2 .9-2 2v14c0 1.1.9 2 2 2h14c1.1 0 2-.9 2-2V5c0-1.1-.9-2-2-2zM9 17H7v-7h2v7zm4 0h-2V7h2v10zm4 0h-2v-4h2v4z\"/>\n",
              "    </g>\n",
              "</svg>\n",
              "  </button>\n",
              "\n",
              "<style>\n",
              "  .colab-df-quickchart {\n",
              "      --bg-color: #E8F0FE;\n",
              "      --fill-color: #1967D2;\n",
              "      --hover-bg-color: #E2EBFA;\n",
              "      --hover-fill-color: #174EA6;\n",
              "      --disabled-fill-color: #AAA;\n",
              "      --disabled-bg-color: #DDD;\n",
              "  }\n",
              "\n",
              "  [theme=dark] .colab-df-quickchart {\n",
              "      --bg-color: #3B4455;\n",
              "      --fill-color: #D2E3FC;\n",
              "      --hover-bg-color: #434B5C;\n",
              "      --hover-fill-color: #FFFFFF;\n",
              "      --disabled-bg-color: #3B4455;\n",
              "      --disabled-fill-color: #666;\n",
              "  }\n",
              "\n",
              "  .colab-df-quickchart {\n",
              "    background-color: var(--bg-color);\n",
              "    border: none;\n",
              "    border-radius: 50%;\n",
              "    cursor: pointer;\n",
              "    display: none;\n",
              "    fill: var(--fill-color);\n",
              "    height: 32px;\n",
              "    padding: 0;\n",
              "    width: 32px;\n",
              "  }\n",
              "\n",
              "  .colab-df-quickchart:hover {\n",
              "    background-color: var(--hover-bg-color);\n",
              "    box-shadow: 0 1px 2px rgba(60, 64, 67, 0.3), 0 1px 3px 1px rgba(60, 64, 67, 0.15);\n",
              "    fill: var(--button-hover-fill-color);\n",
              "  }\n",
              "\n",
              "  .colab-df-quickchart-complete:disabled,\n",
              "  .colab-df-quickchart-complete:disabled:hover {\n",
              "    background-color: var(--disabled-bg-color);\n",
              "    fill: var(--disabled-fill-color);\n",
              "    box-shadow: none;\n",
              "  }\n",
              "\n",
              "  .colab-df-spinner {\n",
              "    border: 2px solid var(--fill-color);\n",
              "    border-color: transparent;\n",
              "    border-bottom-color: var(--fill-color);\n",
              "    animation:\n",
              "      spin 1s steps(1) infinite;\n",
              "  }\n",
              "\n",
              "  @keyframes spin {\n",
              "    0% {\n",
              "      border-color: transparent;\n",
              "      border-bottom-color: var(--fill-color);\n",
              "      border-left-color: var(--fill-color);\n",
              "    }\n",
              "    20% {\n",
              "      border-color: transparent;\n",
              "      border-left-color: var(--fill-color);\n",
              "      border-top-color: var(--fill-color);\n",
              "    }\n",
              "    30% {\n",
              "      border-color: transparent;\n",
              "      border-left-color: var(--fill-color);\n",
              "      border-top-color: var(--fill-color);\n",
              "      border-right-color: var(--fill-color);\n",
              "    }\n",
              "    40% {\n",
              "      border-color: transparent;\n",
              "      border-right-color: var(--fill-color);\n",
              "      border-top-color: var(--fill-color);\n",
              "    }\n",
              "    60% {\n",
              "      border-color: transparent;\n",
              "      border-right-color: var(--fill-color);\n",
              "    }\n",
              "    80% {\n",
              "      border-color: transparent;\n",
              "      border-right-color: var(--fill-color);\n",
              "      border-bottom-color: var(--fill-color);\n",
              "    }\n",
              "    90% {\n",
              "      border-color: transparent;\n",
              "      border-bottom-color: var(--fill-color);\n",
              "    }\n",
              "  }\n",
              "</style>\n",
              "\n",
              "  <script>\n",
              "    async function quickchart(key) {\n",
              "      const quickchartButtonEl =\n",
              "        document.querySelector('#' + key + ' button');\n",
              "      quickchartButtonEl.disabled = true;  // To prevent multiple clicks.\n",
              "      quickchartButtonEl.classList.add('colab-df-spinner');\n",
              "      try {\n",
              "        const charts = await google.colab.kernel.invokeFunction(\n",
              "            'suggestCharts', [key], {});\n",
              "      } catch (error) {\n",
              "        console.error('Error during call to suggestCharts:', error);\n",
              "      }\n",
              "      quickchartButtonEl.classList.remove('colab-df-spinner');\n",
              "      quickchartButtonEl.classList.add('colab-df-quickchart-complete');\n",
              "    }\n",
              "    (() => {\n",
              "      let quickchartButtonEl =\n",
              "        document.querySelector('#df-fc3e6a23-0d3f-4164-8412-91bcca0b211a button');\n",
              "      quickchartButtonEl.style.display =\n",
              "        google.colab.kernel.accessAllowed ? 'block' : 'none';\n",
              "    })();\n",
              "  </script>\n",
              "</div>\n",
              "    </div>\n",
              "  </div>\n"
            ]
          },
          "metadata": {},
          "execution_count": 28
        }
      ]
    },
    {
      "cell_type": "markdown",
      "source": [
        "Для проверки утверждения, что модуль statsmodels для LinearRegression неправильно определил значимость некоторых коэффициентов, построим график, на котором изобразим коэффициенты значимости признаков базовой линейной модели и вычисленные с помощью модуля statsmodels."
      ],
      "metadata": {
        "id": "kLMHNDIs11Qe"
      }
    },
    {
      "cell_type": "code",
      "source": [
        "# строим диаграмму распределений значений коэффициентов\n",
        "# базовой линейной модели\n",
        "# и вычисленные с помощью statsmodels\n",
        "df_merged[['coefs_base', 'coefs_ols']].plot()\n",
        "plt.title('Коэффициенты важности признаков для LinearRegression \\n (базовые, statsmodels (OLS))', fontsize = 12)\n",
        "plt.xlabel('Номер признака', fontsize = 12)\n",
        "plt.ylabel('Величина коэффициента', fontsize = 12)\n",
        "plt.legend(fontsize = 12)\n",
        "plt.show()"
      ],
      "metadata": {
        "id": "tzv4TUtDjEw0",
        "colab": {
          "base_uri": "https://localhost:8080/",
          "height": 497
        },
        "outputId": "deeb475e-c510-42d4-f5f5-b639f66e08c9"
      },
      "execution_count": 29,
      "outputs": [
        {
          "output_type": "display_data",
          "data": {
            "text/plain": [
              "<Figure size 640x480 with 1 Axes>"
            ],
            "image/png": "[encoded data removed]"
          },
          "metadata": {}
        }
      ]
    },
    {
      "cell_type": "markdown",
      "source": [
        "По графику мы видим, что модуль statsmodels для LinearRegression в целом правильно (с минимальными отклонениями) определил значимость всех коэффициентов."
      ],
      "metadata": {
        "id": "I4SGRj_s3EEJ"
      }
    },
    {
      "cell_type": "markdown",
      "source": [
        "Для проверки утвреждения, что у Ridge и Lasso коэффициенты всегда меньше, чем у LinearRegression, построим график."
      ],
      "metadata": {
        "id": "-jXAxT0gbyOD"
      }
    },
    {
      "cell_type": "code",
      "source": [
        "# строим диаграмму распределения значений коэффициентов\n",
        "# трех обученных моделей\n",
        "df_merged[[\n",
        "    'coefs_lr', 'coefs_ridge', 'coefs_lasso'\n",
        "]].plot()\n",
        "plt.title('Коэффициенты важности признаков \\n для LinearRegression, Ridge, Lasso', fontsize = 12)\n",
        "plt.xlabel('Номер признака', fontsize = 12)\n",
        "plt.ylabel('Величина коэффициента', fontsize = 12)\n",
        "plt.legend(fontsize = 12)\n",
        "plt.show()"
      ],
      "metadata": {
        "id": "d_2PXIecWkzR",
        "colab": {
          "base_uri": "https://localhost:8080/",
          "height": 497
        },
        "outputId": "97ca4530-1092-4358-da4d-17bdad4b0fe6"
      },
      "execution_count": 30,
      "outputs": [
        {
          "output_type": "display_data",
          "data": {
            "text/plain": [
              "<Figure size 640x480 with 1 Axes>"
            ],
            "image/png": "[encoded data removed]"
          },
          "metadata": {}
        }
      ]
    },
    {
      "cell_type": "markdown",
      "source": [
        "Значения коэффициентов близки настолько, что графики, отражающие величины коэффициентов каждой из обученных моделей практический сливаются. Анализ числовых значений коэффициентов из датасета df_merged опровергает утверждение о том, что у Ridge и Lasso коэффициенты всегда меньше, чем у Linear Regression."
      ],
      "metadata": {
        "id": "WBaWRRifdqsT"
      }
    },
    {
      "cell_type": "markdown",
      "source": [
        "# <font color='green'>**Вопрос 4**<font>\n",
        "\n",
        "---"
      ],
      "metadata": {
        "id": "6TAG_3K3GAoY"
      }
    },
    {
      "cell_type": "markdown",
      "source": [
        "**Давайте теперь разберем, как правильно нормировать Х. Изменим немного данные:\n",
        "X['x5'] = X['x5'] + 5\n",
        "X['x10'] = X['x10'] + 10\n",
        "X['x15'] = X['x15'] + 15\n",
        "(Порядковый номер столбца Х с 0)**\n",
        "\n",
        "**Разобьем выборку на train - где мы будем обучать регрессию и test - где мы будем проверять качество регрессии:\n",
        "X_train, X_test, y_train, y_test = train_test_split(X, y, test_size=0.33, random_state=42)**\n",
        "\n",
        "**В качестве реализации регрессии возьмем Ridge(random_state=1). Метрика качества R2.**"
      ],
      "metadata": {
        "id": "LDT-k97uGFRQ"
      }
    },
    {
      "cell_type": "markdown",
      "source": [
        "* Нормирование X_train и X_test с помощью StandardScaler, который обучен на X_train, дает лучше результат, по сравнению с отсутствием нормировки, причем значительно (во 2-м знаке)\n",
        "* Нормирование X_train и X_test с помощью StandardScaler, который обучен на X_train для X_train, и на X_test для X_test, дает хуже результат, чем StandardScaler, который обучен только на X_train, причем значительно (во 2-м знаке)\n",
        "* Нормирование X_train и X_test с помощью StandardScaler, который обучен на всем X, дает самые лучшие результаты, сравнивая все варианты обучения StandardScaler"
      ],
      "metadata": {
        "id": "V81efNPmH6Fn"
      }
    },
    {
      "cell_type": "code",
      "source": [
        "# выведем первые пять строк общей статистической сводки\n",
        "# по ненормированному датасету с признаками\n",
        "pd.DataFrame(features).describe().T.head()"
      ],
      "metadata": {
        "colab": {
          "base_uri": "https://localhost:8080/",
          "height": 206
        },
        "id": "AQfysESUFrsk",
        "outputId": "06d429c1-fdc5-4433-9e7c-5ef09cda3223"
      },
      "execution_count": 31,
      "outputs": [
        {
          "output_type": "execute_result",
          "data": {
            "text/plain": [
              "   count      mean       std       min       25%       50%       75%       max\n",
              "0  100.0  0.066483  1.029991 -2.896255 -0.534866 -0.028445  0.757704  2.290943\n",
              "1  100.0 -0.090669  0.977525 -1.975467 -0.857052 -0.076344  0.531959  2.439752\n",
              "2  100.0  0.148793  0.933608 -2.499406 -0.356271  0.178798  0.721849  2.526932\n",
              "3  100.0 -0.009252  0.895542 -2.172670 -0.640109 -0.016458  0.564199  2.122156\n",
              "4  100.0  0.066883  0.927696 -2.423879 -0.496090  0.131194  0.493497  3.137749"
            ],
            "text/html": [
              "\n",
              "  <div id=\"df-0fd7aed1-4e3c-49f4-954f-dbcc274edd0a\" class=\"colab-df-container\">\n",
              "    <div>\n",
              "<style scoped>\n",
              "    .dataframe tbody tr th:only-of-type {\n",
              "        vertical-align: middle;\n",
              "    }\n",
              "\n",
              "    .dataframe tbody tr th {\n",
              "        vertical-align: top;\n",
              "    }\n",
              "\n",
              "    .dataframe thead th {\n",
              "        text-align: right;\n",
              "    }\n",
              "</style>\n",
              "<table border=\"1\" class=\"dataframe\">\n",
              "  <thead>\n",
              "    <tr style=\"text-align: right;\">\n",
              "      <th></th>\n",
              "      <th>count</th>\n",
              "      <th>mean</th>\n",
              "      <th>std</th>\n",
              "      <th>min</th>\n",
              "      <th>25%</th>\n",
              "      <th>50%</th>\n",
              "      <th>75%</th>\n",
              "      <th>max</th>\n",
              "    </tr>\n",
              "  </thead>\n",
              "  <tbody>\n",
              "    <tr>\n",
              "      <th>0</th>\n",
              "      <td>100.0</td>\n",
              "      <td>0.066483</td>\n",
              "      <td>1.029991</td>\n",
              "      <td>-2.896255</td>\n",
              "      <td>-0.534866</td>\n",
              "      <td>-0.028445</td>\n",
              "      <td>0.757704</td>\n",
              "      <td>2.290943</td>\n",
              "    </tr>\n",
              "    <tr>\n",
              "      <th>1</th>\n",
              "      <td>100.0</td>\n",
              "      <td>-0.090669</td>\n",
              "      <td>0.977525</td>\n",
              "      <td>-1.975467</td>\n",
              "      <td>-0.857052</td>\n",
              "      <td>-0.076344</td>\n",
              "      <td>0.531959</td>\n",
              "      <td>2.439752</td>\n",
              "    </tr>\n",
              "    <tr>\n",
              "      <th>2</th>\n",
              "      <td>100.0</td>\n",
              "      <td>0.148793</td>\n",
              "      <td>0.933608</td>\n",
              "      <td>-2.499406</td>\n",
              "      <td>-0.356271</td>\n",
              "      <td>0.178798</td>\n",
              "      <td>0.721849</td>\n",
              "      <td>2.526932</td>\n",
              "    </tr>\n",
              "    <tr>\n",
              "      <th>3</th>\n",
              "      <td>100.0</td>\n",
              "      <td>-0.009252</td>\n",
              "      <td>0.895542</td>\n",
              "      <td>-2.172670</td>\n",
              "      <td>-0.640109</td>\n",
              "      <td>-0.016458</td>\n",
              "      <td>0.564199</td>\n",
              "      <td>2.122156</td>\n",
              "    </tr>\n",
              "    <tr>\n",
              "      <th>4</th>\n",
              "      <td>100.0</td>\n",
              "      <td>0.066883</td>\n",
              "      <td>0.927696</td>\n",
              "      <td>-2.423879</td>\n",
              "      <td>-0.496090</td>\n",
              "      <td>0.131194</td>\n",
              "      <td>0.493497</td>\n",
              "      <td>3.137749</td>\n",
              "    </tr>\n",
              "  </tbody>\n",
              "</table>\n",
              "</div>\n",
              "    <div class=\"colab-df-buttons\">\n",
              "\n",
              "  <div class=\"colab-df-container\">\n",
              "    <button class=\"colab-df-convert\" onclick=\"convertToInteractive('df-0fd7aed1-4e3c-49f4-954f-dbcc274edd0a')\"\n",
              "            title=\"Convert this dataframe to an interactive table.\"\n",
              "            style=\"display:none;\">\n",
              "\n",
              "  <svg xmlns=\"http://www.w3.org/2000/svg\" height=\"24px\" viewBox=\"0 -960 960 960\">\n",
              "    <path d=\"M120-120v-720h720v720H120Zm60-500h600v-160H180v160Zm220 220h160v-160H400v160Zm0 220h160v-160H400v160ZM180-400h160v-160H180v160Zm440 0h160v-160H620v160ZM180-180h160v-160H180v160Zm440 0h160v-160H620v160Z\"/>\n",
              "  </svg>\n",
              "    </button>\n",
              "\n",
              "  <style>\n",
              "    .colab-df-container {\n",
              "      display:flex;\n",
              "      gap: 12px;\n",
              "    }\n",
              "\n",
              "    .colab-df-convert {\n",
              "      background-color: #E8F0FE;\n",
              "      border: none;\n",
              "      border-radius: 50%;\n",
              "      cursor: pointer;\n",
              "      display: none;\n",
              "      fill: #1967D2;\n",
              "      height: 32px;\n",
              "      padding: 0 0 0 0;\n",
              "      width: 32px;\n",
              "    }\n",
              "\n",
              "    .colab-df-convert:hover {\n",
              "      background-color: #E2EBFA;\n",
              "      box-shadow: 0px 1px 2px rgba(60, 64, 67, 0.3), 0px 1px 3px 1px rgba(60, 64, 67, 0.15);\n",
              "      fill: #174EA6;\n",
              "    }\n",
              "\n",
              "    .colab-df-buttons div {\n",
              "      margin-bottom: 4px;\n",
              "    }\n",
              "\n",
              "    [theme=dark] .colab-df-convert {\n",
              "      background-color: #3B4455;\n",
              "      fill: #D2E3FC;\n",
              "    }\n",
              "\n",
              "    [theme=dark] .colab-df-convert:hover {\n",
              "      background-color: #434B5C;\n",
              "      box-shadow: 0px 1px 3px 1px rgba(0, 0, 0, 0.15);\n",
              "      filter: drop-shadow(0px 1px 2px rgba(0, 0, 0, 0.3));\n",
              "      fill: #FFFFFF;\n",
              "    }\n",
              "  </style>\n",
              "\n",
              "    <script>\n",
              "      const buttonEl =\n",
              "        document.querySelector('#df-0fd7aed1-4e3c-49f4-954f-dbcc274edd0a button.colab-df-convert');\n",
              "      buttonEl.style.display =\n",
              "        google.colab.kernel.accessAllowed ? 'block' : 'none';\n",
              "\n",
              "      async function convertToInteractive(key) {\n",
              "        const element = document.querySelector('#df-0fd7aed1-4e3c-49f4-954f-dbcc274edd0a');\n",
              "        const dataTable =\n",
              "          await google.colab.kernel.invokeFunction('convertToInteractive',\n",
              "                                                    [key], {});\n",
              "        if (!dataTable) return;\n",
              "\n",
              "        const docLinkHtml = 'Like what you see? Visit the ' +\n",
              "          '<a target=\"_blank\" href=https://colab.research.google.com/notebooks/data_table.ipynb>data table notebook</a>'\n",
              "          + ' to learn more about interactive tables.';\n",
              "        element.innerHTML = '';\n",
              "        dataTable['output_type'] = 'display_data';\n",
              "        await google.colab.output.renderOutput(dataTable, element);\n",
              "        const docLink = document.createElement('div');\n",
              "        docLink.innerHTML = docLinkHtml;\n",
              "        element.appendChild(docLink);\n",
              "      }\n",
              "    </script>\n",
              "  </div>\n",
              "\n",
              "\n",
              "<div id=\"df-129126be-aa39-4d5e-867c-197dfaa69706\">\n",
              "  <button class=\"colab-df-quickchart\" onclick=\"quickchart('df-129126be-aa39-4d5e-867c-197dfaa69706')\"\n",
              "            title=\"Suggest charts\"\n",
              "            style=\"display:none;\">\n",
              "\n",
              "<svg xmlns=\"http://www.w3.org/2000/svg\" height=\"24px\"viewBox=\"0 0 24 24\"\n",
              "     width=\"24px\">\n",
              "    <g>\n",
              "        <path d=\"M19 3H5c-1.1 0-2 .9-2 2v14c0 1.1.9 2 2 2h14c1.1 0 2-.9 2-2V5c0-1.1-.9-2-2-2zM9 17H7v-7h2v7zm4 0h-2V7h2v10zm4 0h-2v-4h2v4z\"/>\n",
              "    </g>\n",
              "</svg>\n",
              "  </button>\n",
              "\n",
              "<style>\n",
              "  .colab-df-quickchart {\n",
              "      --bg-color: #E8F0FE;\n",
              "      --fill-color: #1967D2;\n",
              "      --hover-bg-color: #E2EBFA;\n",
              "      --hover-fill-color: #174EA6;\n",
              "      --disabled-fill-color: #AAA;\n",
              "      --disabled-bg-color: #DDD;\n",
              "  }\n",
              "\n",
              "  [theme=dark] .colab-df-quickchart {\n",
              "      --bg-color: #3B4455;\n",
              "      --fill-color: #D2E3FC;\n",
              "      --hover-bg-color: #434B5C;\n",
              "      --hover-fill-color: #FFFFFF;\n",
              "      --disabled-bg-color: #3B4455;\n",
              "      --disabled-fill-color: #666;\n",
              "  }\n",
              "\n",
              "  .colab-df-quickchart {\n",
              "    background-color: var(--bg-color);\n",
              "    border: none;\n",
              "    border-radius: 50%;\n",
              "    cursor: pointer;\n",
              "    display: none;\n",
              "    fill: var(--fill-color);\n",
              "    height: 32px;\n",
              "    padding: 0;\n",
              "    width: 32px;\n",
              "  }\n",
              "\n",
              "  .colab-df-quickchart:hover {\n",
              "    background-color: var(--hover-bg-color);\n",
              "    box-shadow: 0 1px 2px rgba(60, 64, 67, 0.3), 0 1px 3px 1px rgba(60, 64, 67, 0.15);\n",
              "    fill: var(--button-hover-fill-color);\n",
              "  }\n",
              "\n",
              "  .colab-df-quickchart-complete:disabled,\n",
              "  .colab-df-quickchart-complete:disabled:hover {\n",
              "    background-color: var(--disabled-bg-color);\n",
              "    fill: var(--disabled-fill-color);\n",
              "    box-shadow: none;\n",
              "  }\n",
              "\n",
              "  .colab-df-spinner {\n",
              "    border: 2px solid var(--fill-color);\n",
              "    border-color: transparent;\n",
              "    border-bottom-color: var(--fill-color);\n",
              "    animation:\n",
              "      spin 1s steps(1) infinite;\n",
              "  }\n",
              "\n",
              "  @keyframes spin {\n",
              "    0% {\n",
              "      border-color: transparent;\n",
              "      border-bottom-color: var(--fill-color);\n",
              "      border-left-color: var(--fill-color);\n",
              "    }\n",
              "    20% {\n",
              "      border-color: transparent;\n",
              "      border-left-color: var(--fill-color);\n",
              "      border-top-color: var(--fill-color);\n",
              "    }\n",
              "    30% {\n",
              "      border-color: transparent;\n",
              "      border-left-color: var(--fill-color);\n",
              "      border-top-color: var(--fill-color);\n",
              "      border-right-color: var(--fill-color);\n",
              "    }\n",
              "    40% {\n",
              "      border-color: transparent;\n",
              "      border-right-color: var(--fill-color);\n",
              "      border-top-color: var(--fill-color);\n",
              "    }\n",
              "    60% {\n",
              "      border-color: transparent;\n",
              "      border-right-color: var(--fill-color);\n",
              "    }\n",
              "    80% {\n",
              "      border-color: transparent;\n",
              "      border-right-color: var(--fill-color);\n",
              "      border-bottom-color: var(--fill-color);\n",
              "    }\n",
              "    90% {\n",
              "      border-color: transparent;\n",
              "      border-bottom-color: var(--fill-color);\n",
              "    }\n",
              "  }\n",
              "</style>\n",
              "\n",
              "  <script>\n",
              "    async function quickchart(key) {\n",
              "      const quickchartButtonEl =\n",
              "        document.querySelector('#' + key + ' button');\n",
              "      quickchartButtonEl.disabled = true;  // To prevent multiple clicks.\n",
              "      quickchartButtonEl.classList.add('colab-df-spinner');\n",
              "      try {\n",
              "        const charts = await google.colab.kernel.invokeFunction(\n",
              "            'suggestCharts', [key], {});\n",
              "      } catch (error) {\n",
              "        console.error('Error during call to suggestCharts:', error);\n",
              "      }\n",
              "      quickchartButtonEl.classList.remove('colab-df-spinner');\n",
              "      quickchartButtonEl.classList.add('colab-df-quickchart-complete');\n",
              "    }\n",
              "    (() => {\n",
              "      let quickchartButtonEl =\n",
              "        document.querySelector('#df-129126be-aa39-4d5e-867c-197dfaa69706 button');\n",
              "      quickchartButtonEl.style.display =\n",
              "        google.colab.kernel.accessAllowed ? 'block' : 'none';\n",
              "    })();\n",
              "  </script>\n",
              "</div>\n",
              "    </div>\n",
              "  </div>\n"
            ]
          },
          "metadata": {},
          "execution_count": 31
        }
      ]
    },
    {
      "cell_type": "code",
      "source": [
        "# создадим копию датасета с исходными ненормированными признаками\n",
        "# для выполнения задачи\n",
        "X = pd.DataFrame(features.copy())"
      ],
      "metadata": {
        "id": "xP1frPoUIbkY"
      },
      "execution_count": 32,
      "outputs": []
    },
    {
      "cell_type": "code",
      "source": [
        "# выведем первые пять строк датасета X\n",
        "X.head()"
      ],
      "metadata": {
        "colab": {
          "base_uri": "https://localhost:8080/",
          "height": 226
        },
        "id": "RQEyHXfEJ_YA",
        "outputId": "95a6720e-4d1b-47a9-b40d-d5782abeb30c"
      },
      "execution_count": 33,
      "outputs": [
        {
          "output_type": "execute_result",
          "data": {
            "text/plain": [
              "         0         1         2         3         4         5         6   \\\n",
              "0 -0.922165  1.876796  0.756989  0.279969  0.725767  0.481009  1.355638   \n",
              "1 -0.083106 -1.457551 -1.406317 -0.160133 -0.796026  1.076007  0.760056   \n",
              "2  0.810808 -1.662492 -0.134309 -0.308034 -0.209222 -1.683438 -1.748532   \n",
              "3  0.536653 -0.756795 -1.046911  0.455888  0.268592  1.528468  0.718953   \n",
              "4  1.532739 -0.401220  0.519347  1.451144  0.183342  2.189803  0.401712   \n",
              "\n",
              "         7         8         9         10        11        12        13  \\\n",
              "0 -1.244655  0.413435  0.869606  0.654366 -1.125489  2.445752  0.129221   \n",
              "1 -0.752156  0.082440 -1.504720 -1.875172  0.671340  0.213197 -0.751969   \n",
              "2  1.126705  1.304340  0.793489 -1.105705  0.779661  1.310309  1.395684   \n",
              "3  1.501334  0.996048  1.185704  1.328194  2.165002 -0.643518  0.927840   \n",
              "4  0.012592  0.690144 -0.108760  0.024510  0.959271  2.153182 -0.767348   \n",
              "\n",
              "         14        15        16        17        18        19  \n",
              "0  0.223884  1.496044 -0.773789 -0.055585  0.109395 -1.778720  \n",
              "1  0.021312  1.340450 -0.309209  0.115026 -0.319054  0.319175  \n",
              "2 -0.805870 -0.410814  1.032546 -0.214921 -0.562168 -1.090966  \n",
              "3  0.507836 -0.250833 -1.421811  0.556230  0.057013 -0.322680  \n",
              "4 -0.808298 -0.773010  0.224092  0.497998  0.872321  0.097676  "
            ],
            "text/html": [
              "\n",
              "  <div id=\"df-39c832c7-f4c1-40ae-93c0-aea29367fdeb\" class=\"colab-df-container\">\n",
              "    <div>\n",
              "<style scoped>\n",
              "    .dataframe tbody tr th:only-of-type {\n",
              "        vertical-align: middle;\n",
              "    }\n",
              "\n",
              "    .dataframe tbody tr th {\n",
              "        vertical-align: top;\n",
              "    }\n",
              "\n",
              "    .dataframe thead th {\n",
              "        text-align: right;\n",
              "    }\n",
              "</style>\n",
              "<table border=\"1\" class=\"dataframe\">\n",
              "  <thead>\n",
              "    <tr style=\"text-align: right;\">\n",
              "      <th></th>\n",
              "      <th>0</th>\n",
              "      <th>1</th>\n",
              "      <th>2</th>\n",
              "      <th>3</th>\n",
              "      <th>4</th>\n",
              "      <th>5</th>\n",
              "      <th>6</th>\n",
              "      <th>7</th>\n",
              "      <th>8</th>\n",
              "      <th>9</th>\n",
              "      <th>10</th>\n",
              "      <th>11</th>\n",
              "      <th>12</th>\n",
              "      <th>13</th>\n",
              "      <th>14</th>\n",
              "      <th>15</th>\n",
              "      <th>16</th>\n",
              "      <th>17</th>\n",
              "      <th>18</th>\n",
              "      <th>19</th>\n",
              "    </tr>\n",
              "  </thead>\n",
              "  <tbody>\n",
              "    <tr>\n",
              "      <th>0</th>\n",
              "      <td>-0.922165</td>\n",
              "      <td>1.876796</td>\n",
              "      <td>0.756989</td>\n",
              "      <td>0.279969</td>\n",
              "      <td>0.725767</td>\n",
              "      <td>0.481009</td>\n",
              "      <td>1.355638</td>\n",
              "      <td>-1.244655</td>\n",
              "      <td>0.413435</td>\n",
              "      <td>0.869606</td>\n",
              "      <td>0.654366</td>\n",
              "      <td>-1.125489</td>\n",
              "      <td>2.445752</td>\n",
              "      <td>0.129221</td>\n",
              "      <td>0.223884</td>\n",
              "      <td>1.496044</td>\n",
              "      <td>-0.773789</td>\n",
              "      <td>-0.055585</td>\n",
              "      <td>0.109395</td>\n",
              "      <td>-1.778720</td>\n",
              "    </tr>\n",
              "    <tr>\n",
              "      <th>1</th>\n",
              "      <td>-0.083106</td>\n",
              "      <td>-1.457551</td>\n",
              "      <td>-1.406317</td>\n",
              "      <td>-0.160133</td>\n",
              "      <td>-0.796026</td>\n",
              "      <td>1.076007</td>\n",
              "      <td>0.760056</td>\n",
              "      <td>-0.752156</td>\n",
              "      <td>0.082440</td>\n",
              "      <td>-1.504720</td>\n",
              "      <td>-1.875172</td>\n",
              "      <td>0.671340</td>\n",
              "      <td>0.213197</td>\n",
              "      <td>-0.751969</td>\n",
              "      <td>0.021312</td>\n",
              "      <td>1.340450</td>\n",
              "      <td>-0.309209</td>\n",
              "      <td>0.115026</td>\n",
              "      <td>-0.319054</td>\n",
              "      <td>0.319175</td>\n",
              "    </tr>\n",
              "    <tr>\n",
              "      <th>2</th>\n",
              "      <td>0.810808</td>\n",
              "      <td>-1.662492</td>\n",
              "      <td>-0.134309</td>\n",
              "      <td>-0.308034</td>\n",
              "      <td>-0.209222</td>\n",
              "      <td>-1.683438</td>\n",
              "      <td>-1.748532</td>\n",
              "      <td>1.126705</td>\n",
              "      <td>1.304340</td>\n",
              "      <td>0.793489</td>\n",
              "      <td>-1.105705</td>\n",
              "      <td>0.779661</td>\n",
              "      <td>1.310309</td>\n",
              "      <td>1.395684</td>\n",
              "      <td>-0.805870</td>\n",
              "      <td>-0.410814</td>\n",
              "      <td>1.032546</td>\n",
              "      <td>-0.214921</td>\n",
              "      <td>-0.562168</td>\n",
              "      <td>-1.090966</td>\n",
              "    </tr>\n",
              "    <tr>\n",
              "      <th>3</th>\n",
              "      <td>0.536653</td>\n",
              "      <td>-0.756795</td>\n",
              "      <td>-1.046911</td>\n",
              "      <td>0.455888</td>\n",
              "      <td>0.268592</td>\n",
              "      <td>1.528468</td>\n",
              "      <td>0.718953</td>\n",
              "      <td>1.501334</td>\n",
              "      <td>0.996048</td>\n",
              "      <td>1.185704</td>\n",
              "      <td>1.328194</td>\n",
              "      <td>2.165002</td>\n",
              "      <td>-0.643518</td>\n",
              "      <td>0.927840</td>\n",
              "      <td>0.507836</td>\n",
              "      <td>-0.250833</td>\n",
              "      <td>-1.421811</td>\n",
              "      <td>0.556230</td>\n",
              "      <td>0.057013</td>\n",
              "      <td>-0.322680</td>\n",
              "    </tr>\n",
              "    <tr>\n",
              "      <th>4</th>\n",
              "      <td>1.532739</td>\n",
              "      <td>-0.401220</td>\n",
              "      <td>0.519347</td>\n",
              "      <td>1.451144</td>\n",
              "      <td>0.183342</td>\n",
              "      <td>2.189803</td>\n",
              "      <td>0.401712</td>\n",
              "      <td>0.012592</td>\n",
              "      <td>0.690144</td>\n",
              "      <td>-0.108760</td>\n",
              "      <td>0.024510</td>\n",
              "      <td>0.959271</td>\n",
              "      <td>2.153182</td>\n",
              "      <td>-0.767348</td>\n",
              "      <td>-0.808298</td>\n",
              "      <td>-0.773010</td>\n",
              "      <td>0.224092</td>\n",
              "      <td>0.497998</td>\n",
              "      <td>0.872321</td>\n",
              "      <td>0.097676</td>\n",
              "    </tr>\n",
              "  </tbody>\n",
              "</table>\n",
              "</div>\n",
              "    <div class=\"colab-df-buttons\">\n",
              "\n",
              "  <div class=\"colab-df-container\">\n",
              "    <button class=\"colab-df-convert\" onclick=\"convertToInteractive('df-39c832c7-f4c1-40ae-93c0-aea29367fdeb')\"\n",
              "            title=\"Convert this dataframe to an interactive table.\"\n",
              "            style=\"display:none;\">\n",
              "\n",
              "  <svg xmlns=\"http://www.w3.org/2000/svg\" height=\"24px\" viewBox=\"0 -960 960 960\">\n",
              "    <path d=\"M120-120v-720h720v720H120Zm60-500h600v-160H180v160Zm220 220h160v-160H400v160Zm0 220h160v-160H400v160ZM180-400h160v-160H180v160Zm440 0h160v-160H620v160ZM180-180h160v-160H180v160Zm440 0h160v-160H620v160Z\"/>\n",
              "  </svg>\n",
              "    </button>\n",
              "\n",
              "  <style>\n",
              "    .colab-df-container {\n",
              "      display:flex;\n",
              "      gap: 12px;\n",
              "    }\n",
              "\n",
              "    .colab-df-convert {\n",
              "      background-color: #E8F0FE;\n",
              "      border: none;\n",
              "      border-radius: 50%;\n",
              "      cursor: pointer;\n",
              "      display: none;\n",
              "      fill: #1967D2;\n",
              "      height: 32px;\n",
              "      padding: 0 0 0 0;\n",
              "      width: 32px;\n",
              "    }\n",
              "\n",
              "    .colab-df-convert:hover {\n",
              "      background-color: #E2EBFA;\n",
              "      box-shadow: 0px 1px 2px rgba(60, 64, 67, 0.3), 0px 1px 3px 1px rgba(60, 64, 67, 0.15);\n",
              "      fill: #174EA6;\n",
              "    }\n",
              "\n",
              "    .colab-df-buttons div {\n",
              "      margin-bottom: 4px;\n",
              "    }\n",
              "\n",
              "    [theme=dark] .colab-df-convert {\n",
              "      background-color: #3B4455;\n",
              "      fill: #D2E3FC;\n",
              "    }\n",
              "\n",
              "    [theme=dark] .colab-df-convert:hover {\n",
              "      background-color: #434B5C;\n",
              "      box-shadow: 0px 1px 3px 1px rgba(0, 0, 0, 0.15);\n",
              "      filter: drop-shadow(0px 1px 2px rgba(0, 0, 0, 0.3));\n",
              "      fill: #FFFFFF;\n",
              "    }\n",
              "  </style>\n",
              "\n",
              "    <script>\n",
              "      const buttonEl =\n",
              "        document.querySelector('#df-39c832c7-f4c1-40ae-93c0-aea29367fdeb button.colab-df-convert');\n",
              "      buttonEl.style.display =\n",
              "        google.colab.kernel.accessAllowed ? 'block' : 'none';\n",
              "\n",
              "      async function convertToInteractive(key) {\n",
              "        const element = document.querySelector('#df-39c832c7-f4c1-40ae-93c0-aea29367fdeb');\n",
              "        const dataTable =\n",
              "          await google.colab.kernel.invokeFunction('convertToInteractive',\n",
              "                                                    [key], {});\n",
              "        if (!dataTable) return;\n",
              "\n",
              "        const docLinkHtml = 'Like what you see? Visit the ' +\n",
              "          '<a target=\"_blank\" href=https://colab.research.google.com/notebooks/data_table.ipynb>data table notebook</a>'\n",
              "          + ' to learn more about interactive tables.';\n",
              "        element.innerHTML = '';\n",
              "        dataTable['output_type'] = 'display_data';\n",
              "        await google.colab.output.renderOutput(dataTable, element);\n",
              "        const docLink = document.createElement('div');\n",
              "        docLink.innerHTML = docLinkHtml;\n",
              "        element.appendChild(docLink);\n",
              "      }\n",
              "    </script>\n",
              "  </div>\n",
              "\n",
              "\n",
              "<div id=\"df-2e265d47-e370-40f0-a63b-ff722cafa29e\">\n",
              "  <button class=\"colab-df-quickchart\" onclick=\"quickchart('df-2e265d47-e370-40f0-a63b-ff722cafa29e')\"\n",
              "            title=\"Suggest charts\"\n",
              "            style=\"display:none;\">\n",
              "\n",
              "<svg xmlns=\"http://www.w3.org/2000/svg\" height=\"24px\"viewBox=\"0 0 24 24\"\n",
              "     width=\"24px\">\n",
              "    <g>\n",
              "        <path d=\"M19 3H5c-1.1 0-2 .9-2 2v14c0 1.1.9 2 2 2h14c1.1 0 2-.9 2-2V5c0-1.1-.9-2-2-2zM9 17H7v-7h2v7zm4 0h-2V7h2v10zm4 0h-2v-4h2v4z\"/>\n",
              "    </g>\n",
              "</svg>\n",
              "  </button>\n",
              "\n",
              "<style>\n",
              "  .colab-df-quickchart {\n",
              "      --bg-color: #E8F0FE;\n",
              "      --fill-color: #1967D2;\n",
              "      --hover-bg-color: #E2EBFA;\n",
              "      --hover-fill-color: #174EA6;\n",
              "      --disabled-fill-color: #AAA;\n",
              "      --disabled-bg-color: #DDD;\n",
              "  }\n",
              "\n",
              "  [theme=dark] .colab-df-quickchart {\n",
              "      --bg-color: #3B4455;\n",
              "      --fill-color: #D2E3FC;\n",
              "      --hover-bg-color: #434B5C;\n",
              "      --hover-fill-color: #FFFFFF;\n",
              "      --disabled-bg-color: #3B4455;\n",
              "      --disabled-fill-color: #666;\n",
              "  }\n",
              "\n",
              "  .colab-df-quickchart {\n",
              "    background-color: var(--bg-color);\n",
              "    border: none;\n",
              "    border-radius: 50%;\n",
              "    cursor: pointer;\n",
              "    display: none;\n",
              "    fill: var(--fill-color);\n",
              "    height: 32px;\n",
              "    padding: 0;\n",
              "    width: 32px;\n",
              "  }\n",
              "\n",
              "  .colab-df-quickchart:hover {\n",
              "    background-color: var(--hover-bg-color);\n",
              "    box-shadow: 0 1px 2px rgba(60, 64, 67, 0.3), 0 1px 3px 1px rgba(60, 64, 67, 0.15);\n",
              "    fill: var(--button-hover-fill-color);\n",
              "  }\n",
              "\n",
              "  .colab-df-quickchart-complete:disabled,\n",
              "  .colab-df-quickchart-complete:disabled:hover {\n",
              "    background-color: var(--disabled-bg-color);\n",
              "    fill: var(--disabled-fill-color);\n",
              "    box-shadow: none;\n",
              "  }\n",
              "\n",
              "  .colab-df-spinner {\n",
              "    border: 2px solid var(--fill-color);\n",
              "    border-color: transparent;\n",
              "    border-bottom-color: var(--fill-color);\n",
              "    animation:\n",
              "      spin 1s steps(1) infinite;\n",
              "  }\n",
              "\n",
              "  @keyframes spin {\n",
              "    0% {\n",
              "      border-color: transparent;\n",
              "      border-bottom-color: var(--fill-color);\n",
              "      border-left-color: var(--fill-color);\n",
              "    }\n",
              "    20% {\n",
              "      border-color: transparent;\n",
              "      border-left-color: var(--fill-color);\n",
              "      border-top-color: var(--fill-color);\n",
              "    }\n",
              "    30% {\n",
              "      border-color: transparent;\n",
              "      border-left-color: var(--fill-color);\n",
              "      border-top-color: var(--fill-color);\n",
              "      border-right-color: var(--fill-color);\n",
              "    }\n",
              "    40% {\n",
              "      border-color: transparent;\n",
              "      border-right-color: var(--fill-color);\n",
              "      border-top-color: var(--fill-color);\n",
              "    }\n",
              "    60% {\n",
              "      border-color: transparent;\n",
              "      border-right-color: var(--fill-color);\n",
              "    }\n",
              "    80% {\n",
              "      border-color: transparent;\n",
              "      border-right-color: var(--fill-color);\n",
              "      border-bottom-color: var(--fill-color);\n",
              "    }\n",
              "    90% {\n",
              "      border-color: transparent;\n",
              "      border-bottom-color: var(--fill-color);\n",
              "    }\n",
              "  }\n",
              "</style>\n",
              "\n",
              "  <script>\n",
              "    async function quickchart(key) {\n",
              "      const quickchartButtonEl =\n",
              "        document.querySelector('#' + key + ' button');\n",
              "      quickchartButtonEl.disabled = true;  // To prevent multiple clicks.\n",
              "      quickchartButtonEl.classList.add('colab-df-spinner');\n",
              "      try {\n",
              "        const charts = await google.colab.kernel.invokeFunction(\n",
              "            'suggestCharts', [key], {});\n",
              "      } catch (error) {\n",
              "        console.error('Error during call to suggestCharts:', error);\n",
              "      }\n",
              "      quickchartButtonEl.classList.remove('colab-df-spinner');\n",
              "      quickchartButtonEl.classList.add('colab-df-quickchart-complete');\n",
              "    }\n",
              "    (() => {\n",
              "      let quickchartButtonEl =\n",
              "        document.querySelector('#df-2e265d47-e370-40f0-a63b-ff722cafa29e button');\n",
              "      quickchartButtonEl.style.display =\n",
              "        google.colab.kernel.accessAllowed ? 'block' : 'none';\n",
              "    })();\n",
              "  </script>\n",
              "</div>\n",
              "    </div>\n",
              "  </div>\n"
            ]
          },
          "metadata": {},
          "execution_count": 33
        }
      ]
    },
    {
      "cell_type": "code",
      "source": [
        "# изменяем исходные данные\n",
        "X[4] = X[4] + 5\n",
        "X[9] = X[9] + 10\n",
        "X[14] = X[14] + 15"
      ],
      "metadata": {
        "id": "kljTrlS6JxdM"
      },
      "execution_count": 34,
      "outputs": []
    },
    {
      "cell_type": "code",
      "source": [
        "# выведем первые пять строк измененного датасета\n",
        "X.head()"
      ],
      "metadata": {
        "colab": {
          "base_uri": "https://localhost:8080/",
          "height": 226
        },
        "id": "Jp0S5UXeM3Qe",
        "outputId": "19aefcb7-ad12-4790-d9bd-4997e154c519"
      },
      "execution_count": 35,
      "outputs": [
        {
          "output_type": "execute_result",
          "data": {
            "text/plain": [
              "         0         1         2         3         4         5         6   \\\n",
              "0 -0.922165  1.876796  0.756989  0.279969  5.725767  0.481009  1.355638   \n",
              "1 -0.083106 -1.457551 -1.406317 -0.160133  4.203974  1.076007  0.760056   \n",
              "2  0.810808 -1.662492 -0.134309 -0.308034  4.790778 -1.683438 -1.748532   \n",
              "3  0.536653 -0.756795 -1.046911  0.455888  5.268592  1.528468  0.718953   \n",
              "4  1.532739 -0.401220  0.519347  1.451144  5.183342  2.189803  0.401712   \n",
              "\n",
              "         7         8          9         10        11        12        13  \\\n",
              "0 -1.244655  0.413435  10.869606  0.654366 -1.125489  2.445752  0.129221   \n",
              "1 -0.752156  0.082440   8.495280 -1.875172  0.671340  0.213197 -0.751969   \n",
              "2  1.126705  1.304340  10.793489 -1.105705  0.779661  1.310309  1.395684   \n",
              "3  1.501334  0.996048  11.185704  1.328194  2.165002 -0.643518  0.927840   \n",
              "4  0.012592  0.690144   9.891240  0.024510  0.959271  2.153182 -0.767348   \n",
              "\n",
              "          14        15        16        17        18        19  \n",
              "0  15.223884  1.496044 -0.773789 -0.055585  0.109395 -1.778720  \n",
              "1  15.021312  1.340450 -0.309209  0.115026 -0.319054  0.319175  \n",
              "2  14.194130 -0.410814  1.032546 -0.214921 -0.562168 -1.090966  \n",
              "3  15.507836 -0.250833 -1.421811  0.556230  0.057013 -0.322680  \n",
              "4  14.191702 -0.773010  0.224092  0.497998  0.872321  0.097676  "
            ],
            "text/html": [
              "\n",
              "  <div id=\"df-c6bb7ef8-652d-47d5-9574-1ee5703a483f\" class=\"colab-df-container\">\n",
              "    <div>\n",
              "<style scoped>\n",
              "    .dataframe tbody tr th:only-of-type {\n",
              "        vertical-align: middle;\n",
              "    }\n",
              "\n",
              "    .dataframe tbody tr th {\n",
              "        vertical-align: top;\n",
              "    }\n",
              "\n",
              "    .dataframe thead th {\n",
              "        text-align: right;\n",
              "    }\n",
              "</style>\n",
              "<table border=\"1\" class=\"dataframe\">\n",
              "  <thead>\n",
              "    <tr style=\"text-align: right;\">\n",
              "      <th></th>\n",
              "      <th>0</th>\n",
              "      <th>1</th>\n",
              "      <th>2</th>\n",
              "      <th>3</th>\n",
              "      <th>4</th>\n",
              "      <th>5</th>\n",
              "      <th>6</th>\n",
              "      <th>7</th>\n",
              "      <th>8</th>\n",
              "      <th>9</th>\n",
              "      <th>10</th>\n",
              "      <th>11</th>\n",
              "      <th>12</th>\n",
              "      <th>13</th>\n",
              "      <th>14</th>\n",
              "      <th>15</th>\n",
              "      <th>16</th>\n",
              "      <th>17</th>\n",
              "      <th>18</th>\n",
              "      <th>19</th>\n",
              "    </tr>\n",
              "  </thead>\n",
              "  <tbody>\n",
              "    <tr>\n",
              "      <th>0</th>\n",
              "      <td>-0.922165</td>\n",
              "      <td>1.876796</td>\n",
              "      <td>0.756989</td>\n",
              "      <td>0.279969</td>\n",
              "      <td>5.725767</td>\n",
              "      <td>0.481009</td>\n",
              "      <td>1.355638</td>\n",
              "      <td>-1.244655</td>\n",
              "      <td>0.413435</td>\n",
              "      <td>10.869606</td>\n",
              "      <td>0.654366</td>\n",
              "      <td>-1.125489</td>\n",
              "      <td>2.445752</td>\n",
              "      <td>0.129221</td>\n",
              "      <td>15.223884</td>\n",
              "      <td>1.496044</td>\n",
              "      <td>-0.773789</td>\n",
              "      <td>-0.055585</td>\n",
              "      <td>0.109395</td>\n",
              "      <td>-1.778720</td>\n",
              "    </tr>\n",
              "    <tr>\n",
              "      <th>1</th>\n",
              "      <td>-0.083106</td>\n",
              "      <td>-1.457551</td>\n",
              "      <td>-1.406317</td>\n",
              "      <td>-0.160133</td>\n",
              "      <td>4.203974</td>\n",
              "      <td>1.076007</td>\n",
              "      <td>0.760056</td>\n",
              "      <td>-0.752156</td>\n",
              "      <td>0.082440</td>\n",
              "      <td>8.495280</td>\n",
              "      <td>-1.875172</td>\n",
              "      <td>0.671340</td>\n",
              "      <td>0.213197</td>\n",
              "      <td>-0.751969</td>\n",
              "      <td>15.021312</td>\n",
              "      <td>1.340450</td>\n",
              "      <td>-0.309209</td>\n",
              "      <td>0.115026</td>\n",
              "      <td>-0.319054</td>\n",
              "      <td>0.319175</td>\n",
              "    </tr>\n",
              "    <tr>\n",
              "      <th>2</th>\n",
              "      <td>0.810808</td>\n",
              "      <td>-1.662492</td>\n",
              "      <td>-0.134309</td>\n",
              "      <td>-0.308034</td>\n",
              "      <td>4.790778</td>\n",
              "      <td>-1.683438</td>\n",
              "      <td>-1.748532</td>\n",
              "      <td>1.126705</td>\n",
              "      <td>1.304340</td>\n",
              "      <td>10.793489</td>\n",
              "      <td>-1.105705</td>\n",
              "      <td>0.779661</td>\n",
              "      <td>1.310309</td>\n",
              "      <td>1.395684</td>\n",
              "      <td>14.194130</td>\n",
              "      <td>-0.410814</td>\n",
              "      <td>1.032546</td>\n",
              "      <td>-0.214921</td>\n",
              "      <td>-0.562168</td>\n",
              "      <td>-1.090966</td>\n",
              "    </tr>\n",
              "    <tr>\n",
              "      <th>3</th>\n",
              "      <td>0.536653</td>\n",
              "      <td>-0.756795</td>\n",
              "      <td>-1.046911</td>\n",
              "      <td>0.455888</td>\n",
              "      <td>5.268592</td>\n",
              "      <td>1.528468</td>\n",
              "      <td>0.718953</td>\n",
              "      <td>1.501334</td>\n",
              "      <td>0.996048</td>\n",
              "      <td>11.185704</td>\n",
              "      <td>1.328194</td>\n",
              "      <td>2.165002</td>\n",
              "      <td>-0.643518</td>\n",
              "      <td>0.927840</td>\n",
              "      <td>15.507836</td>\n",
              "      <td>-0.250833</td>\n",
              "      <td>-1.421811</td>\n",
              "      <td>0.556230</td>\n",
              "      <td>0.057013</td>\n",
              "      <td>-0.322680</td>\n",
              "    </tr>\n",
              "    <tr>\n",
              "      <th>4</th>\n",
              "      <td>1.532739</td>\n",
              "      <td>-0.401220</td>\n",
              "      <td>0.519347</td>\n",
              "      <td>1.451144</td>\n",
              "      <td>5.183342</td>\n",
              "      <td>2.189803</td>\n",
              "      <td>0.401712</td>\n",
              "      <td>0.012592</td>\n",
              "      <td>0.690144</td>\n",
              "      <td>9.891240</td>\n",
              "      <td>0.024510</td>\n",
              "      <td>0.959271</td>\n",
              "      <td>2.153182</td>\n",
              "      <td>-0.767348</td>\n",
              "      <td>14.191702</td>\n",
              "      <td>-0.773010</td>\n",
              "      <td>0.224092</td>\n",
              "      <td>0.497998</td>\n",
              "      <td>0.872321</td>\n",
              "      <td>0.097676</td>\n",
              "    </tr>\n",
              "  </tbody>\n",
              "</table>\n",
              "</div>\n",
              "    <div class=\"colab-df-buttons\">\n",
              "\n",
              "  <div class=\"colab-df-container\">\n",
              "    <button class=\"colab-df-convert\" onclick=\"convertToInteractive('df-c6bb7ef8-652d-47d5-9574-1ee5703a483f')\"\n",
              "            title=\"Convert this dataframe to an interactive table.\"\n",
              "            style=\"display:none;\">\n",
              "\n",
              "  <svg xmlns=\"http://www.w3.org/2000/svg\" height=\"24px\" viewBox=\"0 -960 960 960\">\n",
              "    <path d=\"M120-120v-720h720v720H120Zm60-500h600v-160H180v160Zm220 220h160v-160H400v160Zm0 220h160v-160H400v160ZM180-400h160v-160H180v160Zm440 0h160v-160H620v160ZM180-180h160v-160H180v160Zm440 0h160v-160H620v160Z\"/>\n",
              "  </svg>\n",
              "    </button>\n",
              "\n",
              "  <style>\n",
              "    .colab-df-container {\n",
              "      display:flex;\n",
              "      gap: 12px;\n",
              "    }\n",
              "\n",
              "    .colab-df-convert {\n",
              "      background-color: #E8F0FE;\n",
              "      border: none;\n",
              "      border-radius: 50%;\n",
              "      cursor: pointer;\n",
              "      display: none;\n",
              "      fill: #1967D2;\n",
              "      height: 32px;\n",
              "      padding: 0 0 0 0;\n",
              "      width: 32px;\n",
              "    }\n",
              "\n",
              "    .colab-df-convert:hover {\n",
              "      background-color: #E2EBFA;\n",
              "      box-shadow: 0px 1px 2px rgba(60, 64, 67, 0.3), 0px 1px 3px 1px rgba(60, 64, 67, 0.15);\n",
              "      fill: #174EA6;\n",
              "    }\n",
              "\n",
              "    .colab-df-buttons div {\n",
              "      margin-bottom: 4px;\n",
              "    }\n",
              "\n",
              "    [theme=dark] .colab-df-convert {\n",
              "      background-color: #3B4455;\n",
              "      fill: #D2E3FC;\n",
              "    }\n",
              "\n",
              "    [theme=dark] .colab-df-convert:hover {\n",
              "      background-color: #434B5C;\n",
              "      box-shadow: 0px 1px 3px 1px rgba(0, 0, 0, 0.15);\n",
              "      filter: drop-shadow(0px 1px 2px rgba(0, 0, 0, 0.3));\n",
              "      fill: #FFFFFF;\n",
              "    }\n",
              "  </style>\n",
              "\n",
              "    <script>\n",
              "      const buttonEl =\n",
              "        document.querySelector('#df-c6bb7ef8-652d-47d5-9574-1ee5703a483f button.colab-df-convert');\n",
              "      buttonEl.style.display =\n",
              "        google.colab.kernel.accessAllowed ? 'block' : 'none';\n",
              "\n",
              "      async function convertToInteractive(key) {\n",
              "        const element = document.querySelector('#df-c6bb7ef8-652d-47d5-9574-1ee5703a483f');\n",
              "        const dataTable =\n",
              "          await google.colab.kernel.invokeFunction('convertToInteractive',\n",
              "                                                    [key], {});\n",
              "        if (!dataTable) return;\n",
              "\n",
              "        const docLinkHtml = 'Like what you see? Visit the ' +\n",
              "          '<a target=\"_blank\" href=https://colab.research.google.com/notebooks/data_table.ipynb>data table notebook</a>'\n",
              "          + ' to learn more about interactive tables.';\n",
              "        element.innerHTML = '';\n",
              "        dataTable['output_type'] = 'display_data';\n",
              "        await google.colab.output.renderOutput(dataTable, element);\n",
              "        const docLink = document.createElement('div');\n",
              "        docLink.innerHTML = docLinkHtml;\n",
              "        element.appendChild(docLink);\n",
              "      }\n",
              "    </script>\n",
              "  </div>\n",
              "\n",
              "\n",
              "<div id=\"df-8c837532-b413-444e-9acc-406975a8c1d9\">\n",
              "  <button class=\"colab-df-quickchart\" onclick=\"quickchart('df-8c837532-b413-444e-9acc-406975a8c1d9')\"\n",
              "            title=\"Suggest charts\"\n",
              "            style=\"display:none;\">\n",
              "\n",
              "<svg xmlns=\"http://www.w3.org/2000/svg\" height=\"24px\"viewBox=\"0 0 24 24\"\n",
              "     width=\"24px\">\n",
              "    <g>\n",
              "        <path d=\"M19 3H5c-1.1 0-2 .9-2 2v14c0 1.1.9 2 2 2h14c1.1 0 2-.9 2-2V5c0-1.1-.9-2-2-2zM9 17H7v-7h2v7zm4 0h-2V7h2v10zm4 0h-2v-4h2v4z\"/>\n",
              "    </g>\n",
              "</svg>\n",
              "  </button>\n",
              "\n",
              "<style>\n",
              "  .colab-df-quickchart {\n",
              "      --bg-color: #E8F0FE;\n",
              "      --fill-color: #1967D2;\n",
              "      --hover-bg-color: #E2EBFA;\n",
              "      --hover-fill-color: #174EA6;\n",
              "      --disabled-fill-color: #AAA;\n",
              "      --disabled-bg-color: #DDD;\n",
              "  }\n",
              "\n",
              "  [theme=dark] .colab-df-quickchart {\n",
              "      --bg-color: #3B4455;\n",
              "      --fill-color: #D2E3FC;\n",
              "      --hover-bg-color: #434B5C;\n",
              "      --hover-fill-color: #FFFFFF;\n",
              "      --disabled-bg-color: #3B4455;\n",
              "      --disabled-fill-color: #666;\n",
              "  }\n",
              "\n",
              "  .colab-df-quickchart {\n",
              "    background-color: var(--bg-color);\n",
              "    border: none;\n",
              "    border-radius: 50%;\n",
              "    cursor: pointer;\n",
              "    display: none;\n",
              "    fill: var(--fill-color);\n",
              "    height: 32px;\n",
              "    padding: 0;\n",
              "    width: 32px;\n",
              "  }\n",
              "\n",
              "  .colab-df-quickchart:hover {\n",
              "    background-color: var(--hover-bg-color);\n",
              "    box-shadow: 0 1px 2px rgba(60, 64, 67, 0.3), 0 1px 3px 1px rgba(60, 64, 67, 0.15);\n",
              "    fill: var(--button-hover-fill-color);\n",
              "  }\n",
              "\n",
              "  .colab-df-quickchart-complete:disabled,\n",
              "  .colab-df-quickchart-complete:disabled:hover {\n",
              "    background-color: var(--disabled-bg-color);\n",
              "    fill: var(--disabled-fill-color);\n",
              "    box-shadow: none;\n",
              "  }\n",
              "\n",
              "  .colab-df-spinner {\n",
              "    border: 2px solid var(--fill-color);\n",
              "    border-color: transparent;\n",
              "    border-bottom-color: var(--fill-color);\n",
              "    animation:\n",
              "      spin 1s steps(1) infinite;\n",
              "  }\n",
              "\n",
              "  @keyframes spin {\n",
              "    0% {\n",
              "      border-color: transparent;\n",
              "      border-bottom-color: var(--fill-color);\n",
              "      border-left-color: var(--fill-color);\n",
              "    }\n",
              "    20% {\n",
              "      border-color: transparent;\n",
              "      border-left-color: var(--fill-color);\n",
              "      border-top-color: var(--fill-color);\n",
              "    }\n",
              "    30% {\n",
              "      border-color: transparent;\n",
              "      border-left-color: var(--fill-color);\n",
              "      border-top-color: var(--fill-color);\n",
              "      border-right-color: var(--fill-color);\n",
              "    }\n",
              "    40% {\n",
              "      border-color: transparent;\n",
              "      border-right-color: var(--fill-color);\n",
              "      border-top-color: var(--fill-color);\n",
              "    }\n",
              "    60% {\n",
              "      border-color: transparent;\n",
              "      border-right-color: var(--fill-color);\n",
              "    }\n",
              "    80% {\n",
              "      border-color: transparent;\n",
              "      border-right-color: var(--fill-color);\n",
              "      border-bottom-color: var(--fill-color);\n",
              "    }\n",
              "    90% {\n",
              "      border-color: transparent;\n",
              "      border-bottom-color: var(--fill-color);\n",
              "    }\n",
              "  }\n",
              "</style>\n",
              "\n",
              "  <script>\n",
              "    async function quickchart(key) {\n",
              "      const quickchartButtonEl =\n",
              "        document.querySelector('#' + key + ' button');\n",
              "      quickchartButtonEl.disabled = true;  // To prevent multiple clicks.\n",
              "      quickchartButtonEl.classList.add('colab-df-spinner');\n",
              "      try {\n",
              "        const charts = await google.colab.kernel.invokeFunction(\n",
              "            'suggestCharts', [key], {});\n",
              "      } catch (error) {\n",
              "        console.error('Error during call to suggestCharts:', error);\n",
              "      }\n",
              "      quickchartButtonEl.classList.remove('colab-df-spinner');\n",
              "      quickchartButtonEl.classList.add('colab-df-quickchart-complete');\n",
              "    }\n",
              "    (() => {\n",
              "      let quickchartButtonEl =\n",
              "        document.querySelector('#df-8c837532-b413-444e-9acc-406975a8c1d9 button');\n",
              "      quickchartButtonEl.style.display =\n",
              "        google.colab.kernel.accessAllowed ? 'block' : 'none';\n",
              "    })();\n",
              "  </script>\n",
              "</div>\n",
              "    </div>\n",
              "  </div>\n"
            ]
          },
          "metadata": {},
          "execution_count": 35
        }
      ]
    },
    {
      "cell_type": "code",
      "source": [
        "# сохраним целевой признак в DataFrame\n",
        "y = pd.DataFrame(target)"
      ],
      "metadata": {
        "id": "zOPS7MbLSW9-"
      },
      "execution_count": 36,
      "outputs": []
    },
    {
      "cell_type": "markdown",
      "source": [
        "### **4.1 Обучение модели Ridge на датасетах без нормирования**\n",
        "\n",
        "---"
      ],
      "metadata": {
        "id": "-enN28qMWfiN"
      }
    },
    {
      "cell_type": "code",
      "source": [
        "# формируем обучающую и тестовую выборку\n",
        "X_train, X_test, y_train, y_test = train_test_split(\n",
        "    X, y, test_size = 0.33, random_state = 42)"
      ],
      "metadata": {
        "id": "qkadkztJWnzM"
      },
      "execution_count": 37,
      "outputs": []
    },
    {
      "cell_type": "code",
      "source": [
        "# объявляем модель\n",
        "ridge = Ridge(random_state = 1)"
      ],
      "metadata": {
        "id": "muxkQtwhWn19"
      },
      "execution_count": 38,
      "outputs": []
    },
    {
      "cell_type": "code",
      "source": [
        "# обучаем модель\n",
        "ridge.fit(X_train, y_train)"
      ],
      "metadata": {
        "colab": {
          "base_uri": "https://localhost:8080/",
          "height": 74
        },
        "id": "YMkWjSm9Wn4w",
        "outputId": "77374de5-1bdc-467e-e063-e263fc4b1424"
      },
      "execution_count": 39,
      "outputs": [
        {
          "output_type": "execute_result",
          "data": {
            "text/plain": [
              "Ridge(random_state=1)"
            ],
            "text/html": [
              "<style>#sk-container-id-3 {color: black;background-color: white;}#sk-container-id-3 pre{padding: 0;}#sk-container-id-3 div.sk-toggleable {background-color: white;}#sk-container-id-3 label.sk-toggleable__label {cursor: pointer;display: block;width: 100%;margin-bottom: 0;padding: 0.3em;box-sizing: border-box;text-align: center;}#sk-container-id-3 label.sk-toggleable__label-arrow:before {content: \"▸\";float: left;margin-right: 0.25em;color: #696969;}#sk-container-id-3 label.sk-toggleable__label-arrow:hover:before {color: black;}#sk-container-id-3 div.sk-estimator:hover label.sk-toggleable__label-arrow:before {color: black;}#sk-container-id-3 div.sk-toggleable__content {max-height: 0;max-width: 0;overflow: hidden;text-align: left;background-color: #f0f8ff;}#sk-container-id-3 div.sk-toggleable__content pre {margin: 0.2em;color: black;border-radius: 0.25em;background-color: #f0f8ff;}#sk-container-id-3 input.sk-toggleable__control:checked~div.sk-toggleable__content {max-height: 200px;max-width: 100%;overflow: auto;}#sk-container-id-3 input.sk-toggleable__control:checked~label.sk-toggleable__label-arrow:before {content: \"▾\";}#sk-container-id-3 div.sk-estimator input.sk-toggleable__control:checked~label.sk-toggleable__label {background-color: #d4ebff;}#sk-container-id-3 div.sk-label input.sk-toggleable__control:checked~label.sk-toggleable__label {background-color: #d4ebff;}#sk-container-id-3 input.sk-hidden--visually {border: 0;clip: rect(1px 1px 1px 1px);clip: rect(1px, 1px, 1px, 1px);height: 1px;margin: -1px;overflow: hidden;padding: 0;position: absolute;width: 1px;}#sk-container-id-3 div.sk-estimator {font-family: monospace;background-color: #f0f8ff;border: 1px dotted black;border-radius: 0.25em;box-sizing: border-box;margin-bottom: 0.5em;}#sk-container-id-3 div.sk-estimator:hover {background-color: #d4ebff;}#sk-container-id-3 div.sk-parallel-item::after {content: \"\";width: 100%;border-bottom: 1px solid gray;flex-grow: 1;}#sk-container-id-3 div.sk-label:hover label.sk-toggleable__label {background-color: #d4ebff;}#sk-container-id-3 div.sk-serial::before {content: \"\";position: absolute;border-left: 1px solid gray;box-sizing: border-box;top: 0;bottom: 0;left: 50%;z-index: 0;}#sk-container-id-3 div.sk-serial {display: flex;flex-direction: column;align-items: center;background-color: white;padding-right: 0.2em;padding-left: 0.2em;position: relative;}#sk-container-id-3 div.sk-item {position: relative;z-index: 1;}#sk-container-id-3 div.sk-parallel {display: flex;align-items: stretch;justify-content: center;background-color: white;position: relative;}#sk-container-id-3 div.sk-item::before, #sk-container-id-3 div.sk-parallel-item::before {content: \"\";position: absolute;border-left: 1px solid gray;box-sizing: border-box;top: 0;bottom: 0;left: 50%;z-index: -1;}#sk-container-id-3 div.sk-parallel-item {display: flex;flex-direction: column;z-index: 1;position: relative;background-color: white;}#sk-container-id-3 div.sk-parallel-item:first-child::after {align-self: flex-end;width: 50%;}#sk-container-id-3 div.sk-parallel-item:last-child::after {align-self: flex-start;width: 50%;}#sk-container-id-3 div.sk-parallel-item:only-child::after {width: 0;}#sk-container-id-3 div.sk-dashed-wrapped {border: 1px dashed gray;margin: 0 0.4em 0.5em 0.4em;box-sizing: border-box;padding-bottom: 0.4em;background-color: white;}#sk-container-id-3 div.sk-label label {font-family: monospace;font-weight: bold;display: inline-block;line-height: 1.2em;}#sk-container-id-3 div.sk-label-container {text-align: center;}#sk-container-id-3 div.sk-container {/* jupyter's `normalize.less` sets `[hidden] { display: none; }` but bootstrap.min.css set `[hidden] { display: none !important; }` so we also need the `!important` here to be able to override the default hidden behavior on the sphinx rendered scikit-learn.org. See: https://github.com/scikit-learn/scikit-learn/issues/21755 */display: inline-block !important;position: relative;}#sk-container-id-3 div.sk-text-repr-fallback {display: none;}</style><div id=\"sk-container-id-3\" class=\"sk-top-container\"><div class=\"sk-text-repr-fallback\"><pre>Ridge(random_state=1)</pre><b>In a Jupyter environment, please rerun this cell to show the HTML representation or trust the notebook. <br />On GitHub, the HTML representation is unable to render, please try loading this page with nbviewer.org.</b></div><div class=\"sk-container\" hidden><div class=\"sk-item\"><div class=\"sk-estimator sk-toggleable\"><input class=\"sk-toggleable__control sk-hidden--visually\" id=\"sk-estimator-id-3\" type=\"checkbox\" checked><label for=\"sk-estimator-id-3\" class=\"sk-toggleable__label sk-toggleable__label-arrow\">Ridge</label><div class=\"sk-toggleable__content\"><pre>Ridge(random_state=1)</pre></div></div></div></div></div>"
            ]
          },
          "metadata": {},
          "execution_count": 39
        }
      ]
    },
    {
      "cell_type": "code",
      "source": [
        "# получаем предсказания на тестовой выборке\n",
        "predictions = ridge.predict(X_test)"
      ],
      "metadata": {
        "id": "R2XsnVT9Wn7b"
      },
      "execution_count": 40,
      "outputs": []
    },
    {
      "cell_type": "code",
      "source": [
        "# вычислим значение r2\n",
        "r2_1 = round(r2_score(y_test, predictions), 5)"
      ],
      "metadata": {
        "id": "P3LBT-q2XG1e"
      },
      "execution_count": 41,
      "outputs": []
    },
    {
      "cell_type": "code",
      "source": [
        "# выведем значение r2\n",
        "print(r2_1)"
      ],
      "metadata": {
        "colab": {
          "base_uri": "https://localhost:8080/"
        },
        "id": "qV_c_Fy_Wn-S",
        "outputId": "7a69858f-184c-4620-f2aa-848b0bc7fd93"
      },
      "execution_count": 42,
      "outputs": [
        {
          "output_type": "stream",
          "name": "stdout",
          "text": [
            "0.98983\n"
          ]
        }
      ]
    },
    {
      "cell_type": "markdown",
      "source": [
        "### **4.2 Нормирование X_train и X_test с помощью StandardScaler, который обучен на X_train**\n",
        "\n",
        "---"
      ],
      "metadata": {
        "id": "c3aBlxuRJks0"
      }
    },
    {
      "cell_type": "code",
      "source": [
        "# формируем обучающую и тестовую выборку\n",
        "X_train, X_test, y_train, y_test = train_test_split(\n",
        "    X, y, test_size = 0.33, random_state = 42)"
      ],
      "metadata": {
        "id": "AotJh_OIR1kg"
      },
      "execution_count": 43,
      "outputs": []
    },
    {
      "cell_type": "code",
      "source": [
        "# выведем размеры датасетов\n",
        "X_train.shape, y_train.shape, X_test.shape, y_test.shape"
      ],
      "metadata": {
        "colab": {
          "base_uri": "https://localhost:8080/"
        },
        "id": "DR_GBk_HUTse",
        "outputId": "c8367785-dc30-4b1b-e402-27dd35c7fdb7"
      },
      "execution_count": 44,
      "outputs": [
        {
          "output_type": "execute_result",
          "data": {
            "text/plain": [
              "((67, 20), (67, 1), (33, 20), (33, 1))"
            ]
          },
          "metadata": {},
          "execution_count": 44
        }
      ]
    },
    {
      "cell_type": "code",
      "source": [
        "# объявляем объект StandardScaler\n",
        "scaler = StandardScaler()"
      ],
      "metadata": {
        "id": "TVIbgNYXFrvp"
      },
      "execution_count": 45,
      "outputs": []
    },
    {
      "cell_type": "code",
      "source": [
        "# проверим среднее значение по каждому признаку до скалирования\n",
        "X_train.mean(axis = 0)"
      ],
      "metadata": {
        "colab": {
          "base_uri": "https://localhost:8080/"
        },
        "id": "zzPJ8XPvVQ2G",
        "outputId": "df873679-e309-434a-d731-78c7ff8bb1fa"
      },
      "execution_count": 46,
      "outputs": [
        {
          "output_type": "execute_result",
          "data": {
            "text/plain": [
              "0      0.180680\n",
              "1     -0.091726\n",
              "2      0.085171\n",
              "3      0.085370\n",
              "4      4.999036\n",
              "5      0.167871\n",
              "6     -0.134928\n",
              "7      0.225905\n",
              "8     -0.053349\n",
              "9     10.077252\n",
              "10    -0.032496\n",
              "11     0.156415\n",
              "12     0.028178\n",
              "13    -0.030231\n",
              "14    15.094423\n",
              "15     0.139136\n",
              "16    -0.003173\n",
              "17    -0.077871\n",
              "18     0.007318\n",
              "19     0.010580\n",
              "dtype: float64"
            ]
          },
          "metadata": {},
          "execution_count": 46
        }
      ]
    },
    {
      "cell_type": "code",
      "source": [
        "# обучаем и применяем StandardScaler к датасету X_train\n",
        "X_train = scaler.fit_transform(X_train)"
      ],
      "metadata": {
        "id": "h21lgrEFRiLG"
      },
      "execution_count": 47,
      "outputs": []
    },
    {
      "cell_type": "code",
      "source": [
        "# проверим, что среднее значение по каждому признаку равно 0\n",
        "X_train.mean(axis = 0)"
      ],
      "metadata": {
        "colab": {
          "base_uri": "https://localhost:8080/"
        },
        "id": "RmhjFw0kRiRU",
        "outputId": "fdf989d3-bf77-4af6-8130-ee58a4bb8449"
      },
      "execution_count": 48,
      "outputs": [
        {
          "output_type": "execute_result",
          "data": {
            "text/plain": [
              "array([-3.31409858e-18, -1.15993450e-17, -1.82275422e-17, -3.31409858e-18,\n",
              "       -2.48557394e-17,  8.49237761e-18, -8.28524645e-19, -2.81698379e-17,\n",
              "        1.32563943e-17, -1.13740899e-15, -1.49134436e-17,  9.73516458e-18,\n",
              "        1.65704929e-17,  5.63396759e-17, -2.54522771e-15,  2.98268872e-17,\n",
              "       -1.86418045e-17,  2.81698379e-17,  6.62819716e-18, -1.32563943e-17])"
            ]
          },
          "metadata": {},
          "execution_count": 48
        }
      ]
    },
    {
      "cell_type": "code",
      "source": [
        "# применяем StandardScaler к датасету X_test\n",
        "X_test = scaler.transform(X_test)"
      ],
      "metadata": {
        "id": "OM4GIOunRiT7"
      },
      "execution_count": 49,
      "outputs": []
    },
    {
      "cell_type": "code",
      "source": [
        "# объявляем модель Ridge\n",
        "ridge = Ridge(random_state = 1)"
      ],
      "metadata": {
        "id": "mf5FQ7qqRiXF"
      },
      "execution_count": 50,
      "outputs": []
    },
    {
      "cell_type": "code",
      "source": [
        "# обучаем модель\n",
        "ridge.fit(X_train, y_train)"
      ],
      "metadata": {
        "colab": {
          "base_uri": "https://localhost:8080/",
          "height": 74
        },
        "id": "iHbIIQXbFryi",
        "outputId": "5dfe0db3-b2b9-4b5e-b895-c8064294ad0c"
      },
      "execution_count": 51,
      "outputs": [
        {
          "output_type": "execute_result",
          "data": {
            "text/plain": [
              "Ridge(random_state=1)"
            ],
            "text/html": [
              "<style>#sk-container-id-4 {color: black;background-color: white;}#sk-container-id-4 pre{padding: 0;}#sk-container-id-4 div.sk-toggleable {background-color: white;}#sk-container-id-4 label.sk-toggleable__label {cursor: pointer;display: block;width: 100%;margin-bottom: 0;padding: 0.3em;box-sizing: border-box;text-align: center;}#sk-container-id-4 label.sk-toggleable__label-arrow:before {content: \"▸\";float: left;margin-right: 0.25em;color: #696969;}#sk-container-id-4 label.sk-toggleable__label-arrow:hover:before {color: black;}#sk-container-id-4 div.sk-estimator:hover label.sk-toggleable__label-arrow:before {color: black;}#sk-container-id-4 div.sk-toggleable__content {max-height: 0;max-width: 0;overflow: hidden;text-align: left;background-color: #f0f8ff;}#sk-container-id-4 div.sk-toggleable__content pre {margin: 0.2em;color: black;border-radius: 0.25em;background-color: #f0f8ff;}#sk-container-id-4 input.sk-toggleable__control:checked~div.sk-toggleable__content {max-height: 200px;max-width: 100%;overflow: auto;}#sk-container-id-4 input.sk-toggleable__control:checked~label.sk-toggleable__label-arrow:before {content: \"▾\";}#sk-container-id-4 div.sk-estimator input.sk-toggleable__control:checked~label.sk-toggleable__label {background-color: #d4ebff;}#sk-container-id-4 div.sk-label input.sk-toggleable__control:checked~label.sk-toggleable__label {background-color: #d4ebff;}#sk-container-id-4 input.sk-hidden--visually {border: 0;clip: rect(1px 1px 1px 1px);clip: rect(1px, 1px, 1px, 1px);height: 1px;margin: -1px;overflow: hidden;padding: 0;position: absolute;width: 1px;}#sk-container-id-4 div.sk-estimator {font-family: monospace;background-color: #f0f8ff;border: 1px dotted black;border-radius: 0.25em;box-sizing: border-box;margin-bottom: 0.5em;}#sk-container-id-4 div.sk-estimator:hover {background-color: #d4ebff;}#sk-container-id-4 div.sk-parallel-item::after {content: \"\";width: 100%;border-bottom: 1px solid gray;flex-grow: 1;}#sk-container-id-4 div.sk-label:hover label.sk-toggleable__label {background-color: #d4ebff;}#sk-container-id-4 div.sk-serial::before {content: \"\";position: absolute;border-left: 1px solid gray;box-sizing: border-box;top: 0;bottom: 0;left: 50%;z-index: 0;}#sk-container-id-4 div.sk-serial {display: flex;flex-direction: column;align-items: center;background-color: white;padding-right: 0.2em;padding-left: 0.2em;position: relative;}#sk-container-id-4 div.sk-item {position: relative;z-index: 1;}#sk-container-id-4 div.sk-parallel {display: flex;align-items: stretch;justify-content: center;background-color: white;position: relative;}#sk-container-id-4 div.sk-item::before, #sk-container-id-4 div.sk-parallel-item::before {content: \"\";position: absolute;border-left: 1px solid gray;box-sizing: border-box;top: 0;bottom: 0;left: 50%;z-index: -1;}#sk-container-id-4 div.sk-parallel-item {display: flex;flex-direction: column;z-index: 1;position: relative;background-color: white;}#sk-container-id-4 div.sk-parallel-item:first-child::after {align-self: flex-end;width: 50%;}#sk-container-id-4 div.sk-parallel-item:last-child::after {align-self: flex-start;width: 50%;}#sk-container-id-4 div.sk-parallel-item:only-child::after {width: 0;}#sk-container-id-4 div.sk-dashed-wrapped {border: 1px dashed gray;margin: 0 0.4em 0.5em 0.4em;box-sizing: border-box;padding-bottom: 0.4em;background-color: white;}#sk-container-id-4 div.sk-label label {font-family: monospace;font-weight: bold;display: inline-block;line-height: 1.2em;}#sk-container-id-4 div.sk-label-container {text-align: center;}#sk-container-id-4 div.sk-container {/* jupyter's `normalize.less` sets `[hidden] { display: none; }` but bootstrap.min.css set `[hidden] { display: none !important; }` so we also need the `!important` here to be able to override the default hidden behavior on the sphinx rendered scikit-learn.org. See: https://github.com/scikit-learn/scikit-learn/issues/21755 */display: inline-block !important;position: relative;}#sk-container-id-4 div.sk-text-repr-fallback {display: none;}</style><div id=\"sk-container-id-4\" class=\"sk-top-container\"><div class=\"sk-text-repr-fallback\"><pre>Ridge(random_state=1)</pre><b>In a Jupyter environment, please rerun this cell to show the HTML representation or trust the notebook. <br />On GitHub, the HTML representation is unable to render, please try loading this page with nbviewer.org.</b></div><div class=\"sk-container\" hidden><div class=\"sk-item\"><div class=\"sk-estimator sk-toggleable\"><input class=\"sk-toggleable__control sk-hidden--visually\" id=\"sk-estimator-id-4\" type=\"checkbox\" checked><label for=\"sk-estimator-id-4\" class=\"sk-toggleable__label sk-toggleable__label-arrow\">Ridge</label><div class=\"sk-toggleable__content\"><pre>Ridge(random_state=1)</pre></div></div></div></div></div>"
            ]
          },
          "metadata": {},
          "execution_count": 51
        }
      ]
    },
    {
      "cell_type": "code",
      "source": [
        "# получаем предсказания\n",
        "predictions = ridge.predict(X_test)"
      ],
      "metadata": {
        "id": "HIu0ofjwFr05"
      },
      "execution_count": 52,
      "outputs": []
    },
    {
      "cell_type": "code",
      "source": [
        "# вычислим значение r2\n",
        "r2_2 = round(r2_score(y_test, predictions), 5)"
      ],
      "metadata": {
        "id": "qSUm_LEkbK74"
      },
      "execution_count": 53,
      "outputs": []
    },
    {
      "cell_type": "code",
      "source": [
        "# выведем значение r2\n",
        "print(r2_2)"
      ],
      "metadata": {
        "colab": {
          "base_uri": "https://localhost:8080/"
        },
        "outputId": "8d1a3c3c-886c-443c-bd7a-3fde1711b053",
        "id": "DnUqOLASbK8W"
      },
      "execution_count": 54,
      "outputs": [
        {
          "output_type": "stream",
          "name": "stdout",
          "text": [
            "0.98987\n"
          ]
        }
      ]
    },
    {
      "cell_type": "markdown",
      "source": [
        "### **4.3 Нормирование X_train и X_test с помощью StandardScaler, который обучен на X_train для X_train, и на X_test для X_test**\n",
        "\n",
        "---"
      ],
      "metadata": {
        "id": "w2KGPUYicLk0"
      }
    },
    {
      "cell_type": "code",
      "source": [
        "# формируем обучающую и тестовую выборку\n",
        "X_train, X_test, y_train, y_test = train_test_split(\n",
        "    X, y, test_size = 0.33, random_state = 42)"
      ],
      "metadata": {
        "id": "YYP_YwNcurok"
      },
      "execution_count": 55,
      "outputs": []
    },
    {
      "cell_type": "code",
      "source": [
        "# объявляем объект StandardScaler для X_train\n",
        "scaler_x_train = StandardScaler()"
      ],
      "metadata": {
        "id": "B3X66E31urpE"
      },
      "execution_count": 56,
      "outputs": []
    },
    {
      "cell_type": "code",
      "source": [
        "# обучаем и применяем StandardScaler к датасету X_train\n",
        "X_train = scaler_x_train.fit_transform(X_train)"
      ],
      "metadata": {
        "id": "LkBycyFGurpF"
      },
      "execution_count": 57,
      "outputs": []
    },
    {
      "cell_type": "code",
      "source": [
        "# объявляем объект StandardScaler для X_test\n",
        "scaler_x_test = StandardScaler()"
      ],
      "metadata": {
        "id": "ULr-wod8urpG"
      },
      "execution_count": 58,
      "outputs": []
    },
    {
      "cell_type": "code",
      "source": [
        "# обучаем и применяем StandardScaler к датасету X_test\n",
        "X_test = scaler_x_test.fit_transform(X_test)"
      ],
      "metadata": {
        "id": "JwzptRAyvNxF"
      },
      "execution_count": 59,
      "outputs": []
    },
    {
      "cell_type": "code",
      "source": [
        "# объявляем модель Ridge\n",
        "ridge = Ridge(random_state = 1)"
      ],
      "metadata": {
        "id": "lQqoCVcGurpH"
      },
      "execution_count": 60,
      "outputs": []
    },
    {
      "cell_type": "code",
      "source": [
        "# обучаем модель\n",
        "ridge.fit(X_train, y_train)"
      ],
      "metadata": {
        "colab": {
          "base_uri": "https://localhost:8080/",
          "height": 74
        },
        "outputId": "e5a741b5-195d-41d8-ddfc-1fbbd87f05af",
        "id": "v6rWypmYurpI"
      },
      "execution_count": 61,
      "outputs": [
        {
          "output_type": "execute_result",
          "data": {
            "text/plain": [
              "Ridge(random_state=1)"
            ],
            "text/html": [
              "<style>#sk-container-id-5 {color: black;background-color: white;}#sk-container-id-5 pre{padding: 0;}#sk-container-id-5 div.sk-toggleable {background-color: white;}#sk-container-id-5 label.sk-toggleable__label {cursor: pointer;display: block;width: 100%;margin-bottom: 0;padding: 0.3em;box-sizing: border-box;text-align: center;}#sk-container-id-5 label.sk-toggleable__label-arrow:before {content: \"▸\";float: left;margin-right: 0.25em;color: #696969;}#sk-container-id-5 label.sk-toggleable__label-arrow:hover:before {color: black;}#sk-container-id-5 div.sk-estimator:hover label.sk-toggleable__label-arrow:before {color: black;}#sk-container-id-5 div.sk-toggleable__content {max-height: 0;max-width: 0;overflow: hidden;text-align: left;background-color: #f0f8ff;}#sk-container-id-5 div.sk-toggleable__content pre {margin: 0.2em;color: black;border-radius: 0.25em;background-color: #f0f8ff;}#sk-container-id-5 input.sk-toggleable__control:checked~div.sk-toggleable__content {max-height: 200px;max-width: 100%;overflow: auto;}#sk-container-id-5 input.sk-toggleable__control:checked~label.sk-toggleable__label-arrow:before {content: \"▾\";}#sk-container-id-5 div.sk-estimator input.sk-toggleable__control:checked~label.sk-toggleable__label {background-color: #d4ebff;}#sk-container-id-5 div.sk-label input.sk-toggleable__control:checked~label.sk-toggleable__label {background-color: #d4ebff;}#sk-container-id-5 input.sk-hidden--visually {border: 0;clip: rect(1px 1px 1px 1px);clip: rect(1px, 1px, 1px, 1px);height: 1px;margin: -1px;overflow: hidden;padding: 0;position: absolute;width: 1px;}#sk-container-id-5 div.sk-estimator {font-family: monospace;background-color: #f0f8ff;border: 1px dotted black;border-radius: 0.25em;box-sizing: border-box;margin-bottom: 0.5em;}#sk-container-id-5 div.sk-estimator:hover {background-color: #d4ebff;}#sk-container-id-5 div.sk-parallel-item::after {content: \"\";width: 100%;border-bottom: 1px solid gray;flex-grow: 1;}#sk-container-id-5 div.sk-label:hover label.sk-toggleable__label {background-color: #d4ebff;}#sk-container-id-5 div.sk-serial::before {content: \"\";position: absolute;border-left: 1px solid gray;box-sizing: border-box;top: 0;bottom: 0;left: 50%;z-index: 0;}#sk-container-id-5 div.sk-serial {display: flex;flex-direction: column;align-items: center;background-color: white;padding-right: 0.2em;padding-left: 0.2em;position: relative;}#sk-container-id-5 div.sk-item {position: relative;z-index: 1;}#sk-container-id-5 div.sk-parallel {display: flex;align-items: stretch;justify-content: center;background-color: white;position: relative;}#sk-container-id-5 div.sk-item::before, #sk-container-id-5 div.sk-parallel-item::before {content: \"\";position: absolute;border-left: 1px solid gray;box-sizing: border-box;top: 0;bottom: 0;left: 50%;z-index: -1;}#sk-container-id-5 div.sk-parallel-item {display: flex;flex-direction: column;z-index: 1;position: relative;background-color: white;}#sk-container-id-5 div.sk-parallel-item:first-child::after {align-self: flex-end;width: 50%;}#sk-container-id-5 div.sk-parallel-item:last-child::after {align-self: flex-start;width: 50%;}#sk-container-id-5 div.sk-parallel-item:only-child::after {width: 0;}#sk-container-id-5 div.sk-dashed-wrapped {border: 1px dashed gray;margin: 0 0.4em 0.5em 0.4em;box-sizing: border-box;padding-bottom: 0.4em;background-color: white;}#sk-container-id-5 div.sk-label label {font-family: monospace;font-weight: bold;display: inline-block;line-height: 1.2em;}#sk-container-id-5 div.sk-label-container {text-align: center;}#sk-container-id-5 div.sk-container {/* jupyter's `normalize.less` sets `[hidden] { display: none; }` but bootstrap.min.css set `[hidden] { display: none !important; }` so we also need the `!important` here to be able to override the default hidden behavior on the sphinx rendered scikit-learn.org. See: https://github.com/scikit-learn/scikit-learn/issues/21755 */display: inline-block !important;position: relative;}#sk-container-id-5 div.sk-text-repr-fallback {display: none;}</style><div id=\"sk-container-id-5\" class=\"sk-top-container\"><div class=\"sk-text-repr-fallback\"><pre>Ridge(random_state=1)</pre><b>In a Jupyter environment, please rerun this cell to show the HTML representation or trust the notebook. <br />On GitHub, the HTML representation is unable to render, please try loading this page with nbviewer.org.</b></div><div class=\"sk-container\" hidden><div class=\"sk-item\"><div class=\"sk-estimator sk-toggleable\"><input class=\"sk-toggleable__control sk-hidden--visually\" id=\"sk-estimator-id-5\" type=\"checkbox\" checked><label for=\"sk-estimator-id-5\" class=\"sk-toggleable__label sk-toggleable__label-arrow\">Ridge</label><div class=\"sk-toggleable__content\"><pre>Ridge(random_state=1)</pre></div></div></div></div></div>"
            ]
          },
          "metadata": {},
          "execution_count": 61
        }
      ]
    },
    {
      "cell_type": "code",
      "source": [
        "# получаем предсказания\n",
        "predictions = ridge.predict(X_test)"
      ],
      "metadata": {
        "id": "xXaAsQ0ourpI"
      },
      "execution_count": 62,
      "outputs": []
    },
    {
      "cell_type": "code",
      "source": [
        "# вычислим значение r2\n",
        "r2_3 = round(r2_score(y_test, predictions), 5)"
      ],
      "metadata": {
        "id": "fZv870kLurpJ"
      },
      "execution_count": 63,
      "outputs": []
    },
    {
      "cell_type": "code",
      "source": [
        "# выведем значение r2\n",
        "print(r2_3)"
      ],
      "metadata": {
        "colab": {
          "base_uri": "https://localhost:8080/"
        },
        "outputId": "ebd156f9-3b8e-422a-d9c3-7bca418994f5",
        "id": "cLsPM6lGurpK"
      },
      "execution_count": 64,
      "outputs": [
        {
          "output_type": "stream",
          "name": "stdout",
          "text": [
            "0.93631\n"
          ]
        }
      ]
    },
    {
      "cell_type": "markdown",
      "source": [
        "### **4.4 Нормирование X_train и X_test с помощью StandardScaler, который обучен на всем X**\n",
        "\n",
        "---"
      ],
      "metadata": {
        "id": "pDfCmiqtvqDu"
      }
    },
    {
      "cell_type": "code",
      "source": [
        "# формируем обучающую и тестовую выборку\n",
        "X_train, X_test, y_train, y_test = train_test_split(\n",
        "    X, y, test_size = 0.33, random_state = 42)"
      ],
      "metadata": {
        "id": "lITtpZmYv384"
      },
      "execution_count": 65,
      "outputs": []
    },
    {
      "cell_type": "code",
      "source": [
        "# объявляем объект StandardScaler для X (полный набор признаков для обучения)\n",
        "scaler = StandardScaler()"
      ],
      "metadata": {
        "id": "VHclLjuFv385"
      },
      "execution_count": 66,
      "outputs": []
    },
    {
      "cell_type": "code",
      "source": [
        "# обучаем StandardScaler на датасете X\n",
        "scaler.fit(X)"
      ],
      "metadata": {
        "colab": {
          "base_uri": "https://localhost:8080/",
          "height": 74
        },
        "id": "8DkpGoLJv386",
        "outputId": "22460288-bbc3-4c02-9b64-a5b6dbb8fbc0"
      },
      "execution_count": 67,
      "outputs": [
        {
          "output_type": "execute_result",
          "data": {
            "text/plain": [
              "StandardScaler()"
            ],
            "text/html": [
              "<style>#sk-container-id-6 {color: black;background-color: white;}#sk-container-id-6 pre{padding: 0;}#sk-container-id-6 div.sk-toggleable {background-color: white;}#sk-container-id-6 label.sk-toggleable__label {cursor: pointer;display: block;width: 100%;margin-bottom: 0;padding: 0.3em;box-sizing: border-box;text-align: center;}#sk-container-id-6 label.sk-toggleable__label-arrow:before {content: \"▸\";float: left;margin-right: 0.25em;color: #696969;}#sk-container-id-6 label.sk-toggleable__label-arrow:hover:before {color: black;}#sk-container-id-6 div.sk-estimator:hover label.sk-toggleable__label-arrow:before {color: black;}#sk-container-id-6 div.sk-toggleable__content {max-height: 0;max-width: 0;overflow: hidden;text-align: left;background-color: #f0f8ff;}#sk-container-id-6 div.sk-toggleable__content pre {margin: 0.2em;color: black;border-radius: 0.25em;background-color: #f0f8ff;}#sk-container-id-6 input.sk-toggleable__control:checked~div.sk-toggleable__content {max-height: 200px;max-width: 100%;overflow: auto;}#sk-container-id-6 input.sk-toggleable__control:checked~label.sk-toggleable__label-arrow:before {content: \"▾\";}#sk-container-id-6 div.sk-estimator input.sk-toggleable__control:checked~label.sk-toggleable__label {background-color: #d4ebff;}#sk-container-id-6 div.sk-label input.sk-toggleable__control:checked~label.sk-toggleable__label {background-color: #d4ebff;}#sk-container-id-6 input.sk-hidden--visually {border: 0;clip: rect(1px 1px 1px 1px);clip: rect(1px, 1px, 1px, 1px);height: 1px;margin: -1px;overflow: hidden;padding: 0;position: absolute;width: 1px;}#sk-container-id-6 div.sk-estimator {font-family: monospace;background-color: #f0f8ff;border: 1px dotted black;border-radius: 0.25em;box-sizing: border-box;margin-bottom: 0.5em;}#sk-container-id-6 div.sk-estimator:hover {background-color: #d4ebff;}#sk-container-id-6 div.sk-parallel-item::after {content: \"\";width: 100%;border-bottom: 1px solid gray;flex-grow: 1;}#sk-container-id-6 div.sk-label:hover label.sk-toggleable__label {background-color: #d4ebff;}#sk-container-id-6 div.sk-serial::before {content: \"\";position: absolute;border-left: 1px solid gray;box-sizing: border-box;top: 0;bottom: 0;left: 50%;z-index: 0;}#sk-container-id-6 div.sk-serial {display: flex;flex-direction: column;align-items: center;background-color: white;padding-right: 0.2em;padding-left: 0.2em;position: relative;}#sk-container-id-6 div.sk-item {position: relative;z-index: 1;}#sk-container-id-6 div.sk-parallel {display: flex;align-items: stretch;justify-content: center;background-color: white;position: relative;}#sk-container-id-6 div.sk-item::before, #sk-container-id-6 div.sk-parallel-item::before {content: \"\";position: absolute;border-left: 1px solid gray;box-sizing: border-box;top: 0;bottom: 0;left: 50%;z-index: -1;}#sk-container-id-6 div.sk-parallel-item {display: flex;flex-direction: column;z-index: 1;position: relative;background-color: white;}#sk-container-id-6 div.sk-parallel-item:first-child::after {align-self: flex-end;width: 50%;}#sk-container-id-6 div.sk-parallel-item:last-child::after {align-self: flex-start;width: 50%;}#sk-container-id-6 div.sk-parallel-item:only-child::after {width: 0;}#sk-container-id-6 div.sk-dashed-wrapped {border: 1px dashed gray;margin: 0 0.4em 0.5em 0.4em;box-sizing: border-box;padding-bottom: 0.4em;background-color: white;}#sk-container-id-6 div.sk-label label {font-family: monospace;font-weight: bold;display: inline-block;line-height: 1.2em;}#sk-container-id-6 div.sk-label-container {text-align: center;}#sk-container-id-6 div.sk-container {/* jupyter's `normalize.less` sets `[hidden] { display: none; }` but bootstrap.min.css set `[hidden] { display: none !important; }` so we also need the `!important` here to be able to override the default hidden behavior on the sphinx rendered scikit-learn.org. See: https://github.com/scikit-learn/scikit-learn/issues/21755 */display: inline-block !important;position: relative;}#sk-container-id-6 div.sk-text-repr-fallback {display: none;}</style><div id=\"sk-container-id-6\" class=\"sk-top-container\"><div class=\"sk-text-repr-fallback\"><pre>StandardScaler()</pre><b>In a Jupyter environment, please rerun this cell to show the HTML representation or trust the notebook. <br />On GitHub, the HTML representation is unable to render, please try loading this page with nbviewer.org.</b></div><div class=\"sk-container\" hidden><div class=\"sk-item\"><div class=\"sk-estimator sk-toggleable\"><input class=\"sk-toggleable__control sk-hidden--visually\" id=\"sk-estimator-id-6\" type=\"checkbox\" checked><label for=\"sk-estimator-id-6\" class=\"sk-toggleable__label sk-toggleable__label-arrow\">StandardScaler</label><div class=\"sk-toggleable__content\"><pre>StandardScaler()</pre></div></div></div></div></div>"
            ]
          },
          "metadata": {},
          "execution_count": 67
        }
      ]
    },
    {
      "cell_type": "code",
      "source": [
        "# применяем StandardScaler к датасету X_train\n",
        "X_train = scaler.transform(X_train)"
      ],
      "metadata": {
        "id": "AL2-xEg9wZOr"
      },
      "execution_count": 68,
      "outputs": []
    },
    {
      "cell_type": "code",
      "source": [
        "# применяем StandardScaler к датасету X_test\n",
        "X_test = scaler.transform(X_test)"
      ],
      "metadata": {
        "id": "ENjaStPDv387"
      },
      "execution_count": 69,
      "outputs": []
    },
    {
      "cell_type": "code",
      "source": [
        "# объявляем модель Ridge\n",
        "ridge = Ridge(random_state = 1)"
      ],
      "metadata": {
        "id": "codoVmFHv388"
      },
      "execution_count": 70,
      "outputs": []
    },
    {
      "cell_type": "code",
      "source": [
        "# обучаем модель\n",
        "ridge.fit(X_train, y_train)"
      ],
      "metadata": {
        "colab": {
          "base_uri": "https://localhost:8080/",
          "height": 74
        },
        "outputId": "005d1e3e-85c6-4fbe-c221-c6d7d8cc539a",
        "id": "3IIbzXl1v388"
      },
      "execution_count": 71,
      "outputs": [
        {
          "output_type": "execute_result",
          "data": {
            "text/plain": [
              "Ridge(random_state=1)"
            ],
            "text/html": [
              "<style>#sk-container-id-7 {color: black;background-color: white;}#sk-container-id-7 pre{padding: 0;}#sk-container-id-7 div.sk-toggleable {background-color: white;}#sk-container-id-7 label.sk-toggleable__label {cursor: pointer;display: block;width: 100%;margin-bottom: 0;padding: 0.3em;box-sizing: border-box;text-align: center;}#sk-container-id-7 label.sk-toggleable__label-arrow:before {content: \"▸\";float: left;margin-right: 0.25em;color: #696969;}#sk-container-id-7 label.sk-toggleable__label-arrow:hover:before {color: black;}#sk-container-id-7 div.sk-estimator:hover label.sk-toggleable__label-arrow:before {color: black;}#sk-container-id-7 div.sk-toggleable__content {max-height: 0;max-width: 0;overflow: hidden;text-align: left;background-color: #f0f8ff;}#sk-container-id-7 div.sk-toggleable__content pre {margin: 0.2em;color: black;border-radius: 0.25em;background-color: #f0f8ff;}#sk-container-id-7 input.sk-toggleable__control:checked~div.sk-toggleable__content {max-height: 200px;max-width: 100%;overflow: auto;}#sk-container-id-7 input.sk-toggleable__control:checked~label.sk-toggleable__label-arrow:before {content: \"▾\";}#sk-container-id-7 div.sk-estimator input.sk-toggleable__control:checked~label.sk-toggleable__label {background-color: #d4ebff;}#sk-container-id-7 div.sk-label input.sk-toggleable__control:checked~label.sk-toggleable__label {background-color: #d4ebff;}#sk-container-id-7 input.sk-hidden--visually {border: 0;clip: rect(1px 1px 1px 1px);clip: rect(1px, 1px, 1px, 1px);height: 1px;margin: -1px;overflow: hidden;padding: 0;position: absolute;width: 1px;}#sk-container-id-7 div.sk-estimator {font-family: monospace;background-color: #f0f8ff;border: 1px dotted black;border-radius: 0.25em;box-sizing: border-box;margin-bottom: 0.5em;}#sk-container-id-7 div.sk-estimator:hover {background-color: #d4ebff;}#sk-container-id-7 div.sk-parallel-item::after {content: \"\";width: 100%;border-bottom: 1px solid gray;flex-grow: 1;}#sk-container-id-7 div.sk-label:hover label.sk-toggleable__label {background-color: #d4ebff;}#sk-container-id-7 div.sk-serial::before {content: \"\";position: absolute;border-left: 1px solid gray;box-sizing: border-box;top: 0;bottom: 0;left: 50%;z-index: 0;}#sk-container-id-7 div.sk-serial {display: flex;flex-direction: column;align-items: center;background-color: white;padding-right: 0.2em;padding-left: 0.2em;position: relative;}#sk-container-id-7 div.sk-item {position: relative;z-index: 1;}#sk-container-id-7 div.sk-parallel {display: flex;align-items: stretch;justify-content: center;background-color: white;position: relative;}#sk-container-id-7 div.sk-item::before, #sk-container-id-7 div.sk-parallel-item::before {content: \"\";position: absolute;border-left: 1px solid gray;box-sizing: border-box;top: 0;bottom: 0;left: 50%;z-index: -1;}#sk-container-id-7 div.sk-parallel-item {display: flex;flex-direction: column;z-index: 1;position: relative;background-color: white;}#sk-container-id-7 div.sk-parallel-item:first-child::after {align-self: flex-end;width: 50%;}#sk-container-id-7 div.sk-parallel-item:last-child::after {align-self: flex-start;width: 50%;}#sk-container-id-7 div.sk-parallel-item:only-child::after {width: 0;}#sk-container-id-7 div.sk-dashed-wrapped {border: 1px dashed gray;margin: 0 0.4em 0.5em 0.4em;box-sizing: border-box;padding-bottom: 0.4em;background-color: white;}#sk-container-id-7 div.sk-label label {font-family: monospace;font-weight: bold;display: inline-block;line-height: 1.2em;}#sk-container-id-7 div.sk-label-container {text-align: center;}#sk-container-id-7 div.sk-container {/* jupyter's `normalize.less` sets `[hidden] { display: none; }` but bootstrap.min.css set `[hidden] { display: none !important; }` so we also need the `!important` here to be able to override the default hidden behavior on the sphinx rendered scikit-learn.org. See: https://github.com/scikit-learn/scikit-learn/issues/21755 */display: inline-block !important;position: relative;}#sk-container-id-7 div.sk-text-repr-fallback {display: none;}</style><div id=\"sk-container-id-7\" class=\"sk-top-container\"><div class=\"sk-text-repr-fallback\"><pre>Ridge(random_state=1)</pre><b>In a Jupyter environment, please rerun this cell to show the HTML representation or trust the notebook. <br />On GitHub, the HTML representation is unable to render, please try loading this page with nbviewer.org.</b></div><div class=\"sk-container\" hidden><div class=\"sk-item\"><div class=\"sk-estimator sk-toggleable\"><input class=\"sk-toggleable__control sk-hidden--visually\" id=\"sk-estimator-id-7\" type=\"checkbox\" checked><label for=\"sk-estimator-id-7\" class=\"sk-toggleable__label sk-toggleable__label-arrow\">Ridge</label><div class=\"sk-toggleable__content\"><pre>Ridge(random_state=1)</pre></div></div></div></div></div>"
            ]
          },
          "metadata": {},
          "execution_count": 71
        }
      ]
    },
    {
      "cell_type": "code",
      "source": [
        "# получаем предсказания\n",
        "predictions = ridge.predict(X_test)"
      ],
      "metadata": {
        "id": "jKbFlFMAv389"
      },
      "execution_count": 72,
      "outputs": []
    },
    {
      "cell_type": "code",
      "source": [
        "# вычислим значение r2\n",
        "r2_4 = round(r2_score(y_test, predictions), 5)"
      ],
      "metadata": {
        "id": "HpJ3XOijv38-"
      },
      "execution_count": 73,
      "outputs": []
    },
    {
      "cell_type": "code",
      "source": [
        "# выведем значение r2\n",
        "print(r2_4)"
      ],
      "metadata": {
        "colab": {
          "base_uri": "https://localhost:8080/"
        },
        "outputId": "1aa3c033-33e7-44de-8f16-e911d9a59469",
        "id": "a9aGvuC_v38_"
      },
      "execution_count": 74,
      "outputs": [
        {
          "output_type": "stream",
          "name": "stdout",
          "text": [
            "0.98974\n"
          ]
        }
      ]
    },
    {
      "cell_type": "markdown",
      "source": [
        "### **4.5 Результаты обучения**\n",
        "\n",
        "---"
      ],
      "metadata": {
        "id": "9lWEuGpixSWF"
      }
    },
    {
      "cell_type": "code",
      "source": [
        "# создаем результирующую таблицу\n",
        "summary_results = pd.DataFrame(\n",
        "    {'1': ['Признаки без нормирования', r2_1],\n",
        "     '2': ['X_train и X_test нормированы на X_train', r2_2],\n",
        "     '3': ['X_train и X_test нормированы раздельно', r2_3],\n",
        "     '4': ['X_train и X_test нормированы на Х', r2_4]\n",
        "     }\n",
        ")\n",
        "\n",
        "summary_results = summary_results.T\n",
        "summary_results.columns = ['Способ нормирования',\n",
        "                          'Метрика r2']\n",
        "\n",
        "summary_results = \\\n",
        "    summary_results \\\n",
        "    .sort_values(by = 'Метрика r2',\n",
        "                 ascending = False) \\\n",
        "    .reset_index(drop = True)"
      ],
      "metadata": {
        "id": "x0Y69t6BatXI"
      },
      "execution_count": 75,
      "outputs": []
    },
    {
      "cell_type": "code",
      "source": [
        "# выведем результирующую таблицу\n",
        "cm = sns.light_palette('navy',\n",
        "                       as_cmap = True)\n",
        "\n",
        "summary_results.style.background_gradient(cmap = cm,\n",
        "                                          subset = 'Метрика r2',\n",
        "                                          text_color_threshold = 0.05,\n",
        "                                          low = 0.4)"
      ],
      "metadata": {
        "colab": {
          "base_uri": "https://localhost:8080/",
          "height": 175
        },
        "id": "BekRqk-9atZ-",
        "outputId": "05fea2cb-f415-44a5-ce50-fc746a6c65a6"
      },
      "execution_count": 76,
      "outputs": [
        {
          "output_type": "execute_result",
          "data": {
            "text/plain": [
              "<pandas.io.formats.style.Styler at 0x7f20d6117e50>"
            ],
            "text/html": [
              "<style type=\"text/css\">\n",
              "#T_18513_row0_col1, #T_18513_row1_col1, #T_18513_row2_col1 {\n",
              "  background-color: #000080;\n",
              "  color: #f1f1f1;\n",
              "}\n",
              "#T_18513_row3_col1 {\n",
              "  background-color: #acacd2;\n",
              "  color: #000000;\n",
              "}\n",
              "</style>\n",
              "<table id=\"T_18513\" class=\"dataframe\">\n",
              "  <thead>\n",
              "    <tr>\n",
              "      <th class=\"blank level0\" >&nbsp;</th>\n",
              "      <th id=\"T_18513_level0_col0\" class=\"col_heading level0 col0\" >Способ нормирования</th>\n",
              "      <th id=\"T_18513_level0_col1\" class=\"col_heading level0 col1\" >Метрика r2</th>\n",
              "    </tr>\n",
              "  </thead>\n",
              "  <tbody>\n",
              "    <tr>\n",
              "      <th id=\"T_18513_level0_row0\" class=\"row_heading level0 row0\" >0</th>\n",
              "      <td id=\"T_18513_row0_col0\" class=\"data row0 col0\" >X_train и X_test нормированы на X_train</td>\n",
              "      <td id=\"T_18513_row0_col1\" class=\"data row0 col1\" >0.989870</td>\n",
              "    </tr>\n",
              "    <tr>\n",
              "      <th id=\"T_18513_level0_row1\" class=\"row_heading level0 row1\" >1</th>\n",
              "      <td id=\"T_18513_row1_col0\" class=\"data row1 col0\" >Признаки без нормирования</td>\n",
              "      <td id=\"T_18513_row1_col1\" class=\"data row1 col1\" >0.989830</td>\n",
              "    </tr>\n",
              "    <tr>\n",
              "      <th id=\"T_18513_level0_row2\" class=\"row_heading level0 row2\" >2</th>\n",
              "      <td id=\"T_18513_row2_col0\" class=\"data row2 col0\" >X_train и X_test нормированы на Х</td>\n",
              "      <td id=\"T_18513_row2_col1\" class=\"data row2 col1\" >0.989740</td>\n",
              "    </tr>\n",
              "    <tr>\n",
              "      <th id=\"T_18513_level0_row3\" class=\"row_heading level0 row3\" >3</th>\n",
              "      <td id=\"T_18513_row3_col0\" class=\"data row3 col0\" >X_train и X_test нормированы раздельно</td>\n",
              "      <td id=\"T_18513_row3_col1\" class=\"data row3 col1\" >0.936310</td>\n",
              "    </tr>\n",
              "  </tbody>\n",
              "</table>\n"
            ]
          },
          "metadata": {},
          "execution_count": 76
        }
      ]
    },
    {
      "cell_type": "markdown",
      "source": [
        "Нормирование X_train и X_test с помощью StandardScalar, который обучен на X_train для X_train, и на X_test для X_test, дает хуже результат, чем StandardScalar, который обучен только на X_train, причем значительно (во 2-м знаке)."
      ],
      "metadata": {
        "id": "n0Vgbuls7oPA"
      }
    },
    {
      "cell_type": "markdown",
      "source": [
        "# <font color='green'>**Вопрос 5**<font>\n",
        "\n",
        "---"
      ],
      "metadata": {
        "id": "i3b1gOO84vQx"
      }
    },
    {
      "cell_type": "markdown",
      "source": [
        "**Давайте теперь изменим только X_test (моделируя ситуацию, когда тестовые данные \"поплыли\"):**\n",
        "\n",
        "**X_test['x5'] = X_test['x5'] - 2**\n",
        "\n",
        "**X_test['x10'] = X_test['x10'] - 5**\n",
        "\n",
        "**X_test['x15'] = X_test['x15'] - 7**\n",
        "\n",
        "**В качестве реализации регрессии продолжаем с Ridge(random_state=1). Метрика качества R2.**"
      ],
      "metadata": {
        "id": "eHjHafSh4vRK"
      }
    },
    {
      "cell_type": "markdown",
      "source": [
        "* Нормирование X_train и X_test с помощью StandardScaler, который обучен на X_train, дает лучше результат, по сравнению с отсутствием нормировки, причем значительно (во 2-м знаке)\n",
        "* Нормирование X_train и X_test с помощью StandardScaler, который обучен на X_train для X_train, и на X_test для X_test, дает лучше результат, чем StandardScaler, который обучен только на X_train, причем значительно (во 2-м знаке)\n",
        "* Нормирование X_train и X_test с помощью StandardScaler, который обучен на всем X, дает самые лучшие результаты, сравнивая все варианты обучения StandardScalar\n",
        "* R2 не может быть меньше 0"
      ],
      "metadata": {
        "id": "YTxNLWTb4vRL"
      }
    },
    {
      "cell_type": "code",
      "source": [
        "# создадим копию датасета с исходными ненормированными признаками\n",
        "# для выполнения задачи\n",
        "X = pd.DataFrame(features.copy())"
      ],
      "metadata": {
        "id": "4ly1HcXG4vRL"
      },
      "execution_count": 77,
      "outputs": []
    },
    {
      "cell_type": "code",
      "source": [
        "# сохраним целевой признак в DataFrame\n",
        "y = pd.DataFrame(target)"
      ],
      "metadata": {
        "id": "Yzmpz3pN7j4j"
      },
      "execution_count": 78,
      "outputs": []
    },
    {
      "cell_type": "markdown",
      "source": [
        "### **5.1 Обучение модели Ridge на датасетах без нормирования**\n",
        "\n",
        "---"
      ],
      "metadata": {
        "id": "wThBHQ3K4vRN"
      }
    },
    {
      "cell_type": "code",
      "source": [
        "# формируем обучающую и тестовую выборку\n",
        "X_train, X_test, y_train, y_test = train_test_split(\n",
        "    X, y, test_size = 0.33, random_state = 42)"
      ],
      "metadata": {
        "id": "2UdPp8sZ4vRN"
      },
      "execution_count": 79,
      "outputs": []
    },
    {
      "cell_type": "markdown",
      "source": [
        " Изменяем только X_test (моделируя ситуацию, когда тестовые данные 'поплыли')."
      ],
      "metadata": {
        "id": "_5rbmIRp6uII"
      }
    },
    {
      "cell_type": "code",
      "source": [
        "# изменяем датасет X_test\n",
        "X_test[4] = X_test[4] - 2\n",
        "X_test[9] = X_test[9] - 5\n",
        "X_test[14] = X_test[14] - 7"
      ],
      "metadata": {
        "id": "QMc-2J6O6nsQ"
      },
      "execution_count": 80,
      "outputs": []
    },
    {
      "cell_type": "code",
      "source": [
        "# объявляем модель\n",
        "ridge = Ridge(random_state = 1)"
      ],
      "metadata": {
        "id": "pxZMhw9Y4vRN"
      },
      "execution_count": 81,
      "outputs": []
    },
    {
      "cell_type": "code",
      "source": [
        "# обучаем модель\n",
        "ridge.fit(X_train, y_train)"
      ],
      "metadata": {
        "colab": {
          "base_uri": "https://localhost:8080/",
          "height": 74
        },
        "outputId": "196f39c1-44bd-47cb-c708-8aef437a889b",
        "id": "Sn9DVrur4vRO"
      },
      "execution_count": 82,
      "outputs": [
        {
          "output_type": "execute_result",
          "data": {
            "text/plain": [
              "Ridge(random_state=1)"
            ],
            "text/html": [
              "<style>#sk-container-id-8 {color: black;background-color: white;}#sk-container-id-8 pre{padding: 0;}#sk-container-id-8 div.sk-toggleable {background-color: white;}#sk-container-id-8 label.sk-toggleable__label {cursor: pointer;display: block;width: 100%;margin-bottom: 0;padding: 0.3em;box-sizing: border-box;text-align: center;}#sk-container-id-8 label.sk-toggleable__label-arrow:before {content: \"▸\";float: left;margin-right: 0.25em;color: #696969;}#sk-container-id-8 label.sk-toggleable__label-arrow:hover:before {color: black;}#sk-container-id-8 div.sk-estimator:hover label.sk-toggleable__label-arrow:before {color: black;}#sk-container-id-8 div.sk-toggleable__content {max-height: 0;max-width: 0;overflow: hidden;text-align: left;background-color: #f0f8ff;}#sk-container-id-8 div.sk-toggleable__content pre {margin: 0.2em;color: black;border-radius: 0.25em;background-color: #f0f8ff;}#sk-container-id-8 input.sk-toggleable__control:checked~div.sk-toggleable__content {max-height: 200px;max-width: 100%;overflow: auto;}#sk-container-id-8 input.sk-toggleable__control:checked~label.sk-toggleable__label-arrow:before {content: \"▾\";}#sk-container-id-8 div.sk-estimator input.sk-toggleable__control:checked~label.sk-toggleable__label {background-color: #d4ebff;}#sk-container-id-8 div.sk-label input.sk-toggleable__control:checked~label.sk-toggleable__label {background-color: #d4ebff;}#sk-container-id-8 input.sk-hidden--visually {border: 0;clip: rect(1px 1px 1px 1px);clip: rect(1px, 1px, 1px, 1px);height: 1px;margin: -1px;overflow: hidden;padding: 0;position: absolute;width: 1px;}#sk-container-id-8 div.sk-estimator {font-family: monospace;background-color: #f0f8ff;border: 1px dotted black;border-radius: 0.25em;box-sizing: border-box;margin-bottom: 0.5em;}#sk-container-id-8 div.sk-estimator:hover {background-color: #d4ebff;}#sk-container-id-8 div.sk-parallel-item::after {content: \"\";width: 100%;border-bottom: 1px solid gray;flex-grow: 1;}#sk-container-id-8 div.sk-label:hover label.sk-toggleable__label {background-color: #d4ebff;}#sk-container-id-8 div.sk-serial::before {content: \"\";position: absolute;border-left: 1px solid gray;box-sizing: border-box;top: 0;bottom: 0;left: 50%;z-index: 0;}#sk-container-id-8 div.sk-serial {display: flex;flex-direction: column;align-items: center;background-color: white;padding-right: 0.2em;padding-left: 0.2em;position: relative;}#sk-container-id-8 div.sk-item {position: relative;z-index: 1;}#sk-container-id-8 div.sk-parallel {display: flex;align-items: stretch;justify-content: center;background-color: white;position: relative;}#sk-container-id-8 div.sk-item::before, #sk-container-id-8 div.sk-parallel-item::before {content: \"\";position: absolute;border-left: 1px solid gray;box-sizing: border-box;top: 0;bottom: 0;left: 50%;z-index: -1;}#sk-container-id-8 div.sk-parallel-item {display: flex;flex-direction: column;z-index: 1;position: relative;background-color: white;}#sk-container-id-8 div.sk-parallel-item:first-child::after {align-self: flex-end;width: 50%;}#sk-container-id-8 div.sk-parallel-item:last-child::after {align-self: flex-start;width: 50%;}#sk-container-id-8 div.sk-parallel-item:only-child::after {width: 0;}#sk-container-id-8 div.sk-dashed-wrapped {border: 1px dashed gray;margin: 0 0.4em 0.5em 0.4em;box-sizing: border-box;padding-bottom: 0.4em;background-color: white;}#sk-container-id-8 div.sk-label label {font-family: monospace;font-weight: bold;display: inline-block;line-height: 1.2em;}#sk-container-id-8 div.sk-label-container {text-align: center;}#sk-container-id-8 div.sk-container {/* jupyter's `normalize.less` sets `[hidden] { display: none; }` but bootstrap.min.css set `[hidden] { display: none !important; }` so we also need the `!important` here to be able to override the default hidden behavior on the sphinx rendered scikit-learn.org. See: https://github.com/scikit-learn/scikit-learn/issues/21755 */display: inline-block !important;position: relative;}#sk-container-id-8 div.sk-text-repr-fallback {display: none;}</style><div id=\"sk-container-id-8\" class=\"sk-top-container\"><div class=\"sk-text-repr-fallback\"><pre>Ridge(random_state=1)</pre><b>In a Jupyter environment, please rerun this cell to show the HTML representation or trust the notebook. <br />On GitHub, the HTML representation is unable to render, please try loading this page with nbviewer.org.</b></div><div class=\"sk-container\" hidden><div class=\"sk-item\"><div class=\"sk-estimator sk-toggleable\"><input class=\"sk-toggleable__control sk-hidden--visually\" id=\"sk-estimator-id-8\" type=\"checkbox\" checked><label for=\"sk-estimator-id-8\" class=\"sk-toggleable__label sk-toggleable__label-arrow\">Ridge</label><div class=\"sk-toggleable__content\"><pre>Ridge(random_state=1)</pre></div></div></div></div></div>"
            ]
          },
          "metadata": {},
          "execution_count": 82
        }
      ]
    },
    {
      "cell_type": "code",
      "source": [
        "# получаем предсказания на тестовой выборке\n",
        "predictions = ridge.predict(X_test)"
      ],
      "metadata": {
        "id": "Msa_sNuL4vRO"
      },
      "execution_count": 83,
      "outputs": []
    },
    {
      "cell_type": "code",
      "source": [
        "# вычислим значение r2\n",
        "r2_1 = round(r2_score(y_test, predictions), 5)"
      ],
      "metadata": {
        "id": "5KozEHus4vRO"
      },
      "execution_count": 84,
      "outputs": []
    },
    {
      "cell_type": "code",
      "source": [
        "# выведем значение r2\n",
        "print(r2_1)"
      ],
      "metadata": {
        "colab": {
          "base_uri": "https://localhost:8080/"
        },
        "outputId": "337ce510-9507-4eae-907e-e7d078187d78",
        "id": "Qmc3RhrN4vRO"
      },
      "execution_count": 85,
      "outputs": [
        {
          "output_type": "stream",
          "name": "stdout",
          "text": [
            "-0.46233\n"
          ]
        }
      ]
    },
    {
      "cell_type": "markdown",
      "source": [
        "### **5.2 Нормирование X_train и X_test с помощью StandardScaler, который обучен на X_train**\n",
        "\n",
        "---"
      ],
      "metadata": {
        "id": "AzgU2piy4vRP"
      }
    },
    {
      "cell_type": "code",
      "source": [
        "# формируем обучающую и тестовую выборку\n",
        "X_train, X_test, y_train, y_test = train_test_split(\n",
        "    X, y, test_size = 0.33, random_state = 42)"
      ],
      "metadata": {
        "id": "gmrT0Vqq4vRP"
      },
      "execution_count": 86,
      "outputs": []
    },
    {
      "cell_type": "code",
      "source": [
        "# изменяем датасет X_test\n",
        "X_test[4] = X_test[4] - 2\n",
        "X_test[9] = X_test[9] - 5\n",
        "X_test[14] = X_test[14] - 7"
      ],
      "metadata": {
        "id": "Mqo4eWXx8Oot"
      },
      "execution_count": 87,
      "outputs": []
    },
    {
      "cell_type": "code",
      "source": [
        "# объявляем объект StandardScaler\n",
        "scaler = StandardScaler()"
      ],
      "metadata": {
        "id": "8aP_lqcM4vRP"
      },
      "execution_count": 88,
      "outputs": []
    },
    {
      "cell_type": "code",
      "source": [
        "# обучаем и применяем StandardScaler к датасету X_train\n",
        "X_train = scaler.fit_transform(X_train)"
      ],
      "metadata": {
        "id": "yGIC12h44vRQ"
      },
      "execution_count": 89,
      "outputs": []
    },
    {
      "cell_type": "code",
      "source": [
        "# применяем StandardScaler к датасету X_test\n",
        "X_test = scaler.transform(X_test)"
      ],
      "metadata": {
        "id": "iPLaBrGG4vRR"
      },
      "execution_count": 90,
      "outputs": []
    },
    {
      "cell_type": "code",
      "source": [
        "# объявляем модель Ridge\n",
        "ridge = Ridge(random_state = 1)"
      ],
      "metadata": {
        "id": "jvIF7ZRM4vRR"
      },
      "execution_count": 91,
      "outputs": []
    },
    {
      "cell_type": "code",
      "source": [
        "# обучаем модель\n",
        "ridge.fit(X_train, y_train)"
      ],
      "metadata": {
        "colab": {
          "base_uri": "https://localhost:8080/",
          "height": 74
        },
        "outputId": "f84b3bbe-944e-460d-c22e-2ef85c4c593e",
        "id": "i2bNOTyM4vRR"
      },
      "execution_count": 92,
      "outputs": [
        {
          "output_type": "execute_result",
          "data": {
            "text/plain": [
              "Ridge(random_state=1)"
            ],
            "text/html": [
              "<style>#sk-container-id-9 {color: black;background-color: white;}#sk-container-id-9 pre{padding: 0;}#sk-container-id-9 div.sk-toggleable {background-color: white;}#sk-container-id-9 label.sk-toggleable__label {cursor: pointer;display: block;width: 100%;margin-bottom: 0;padding: 0.3em;box-sizing: border-box;text-align: center;}#sk-container-id-9 label.sk-toggleable__label-arrow:before {content: \"▸\";float: left;margin-right: 0.25em;color: #696969;}#sk-container-id-9 label.sk-toggleable__label-arrow:hover:before {color: black;}#sk-container-id-9 div.sk-estimator:hover label.sk-toggleable__label-arrow:before {color: black;}#sk-container-id-9 div.sk-toggleable__content {max-height: 0;max-width: 0;overflow: hidden;text-align: left;background-color: #f0f8ff;}#sk-container-id-9 div.sk-toggleable__content pre {margin: 0.2em;color: black;border-radius: 0.25em;background-color: #f0f8ff;}#sk-container-id-9 input.sk-toggleable__control:checked~div.sk-toggleable__content {max-height: 200px;max-width: 100%;overflow: auto;}#sk-container-id-9 input.sk-toggleable__control:checked~label.sk-toggleable__label-arrow:before {content: \"▾\";}#sk-container-id-9 div.sk-estimator input.sk-toggleable__control:checked~label.sk-toggleable__label {background-color: #d4ebff;}#sk-container-id-9 div.sk-label input.sk-toggleable__control:checked~label.sk-toggleable__label {background-color: #d4ebff;}#sk-container-id-9 input.sk-hidden--visually {border: 0;clip: rect(1px 1px 1px 1px);clip: rect(1px, 1px, 1px, 1px);height: 1px;margin: -1px;overflow: hidden;padding: 0;position: absolute;width: 1px;}#sk-container-id-9 div.sk-estimator {font-family: monospace;background-color: #f0f8ff;border: 1px dotted black;border-radius: 0.25em;box-sizing: border-box;margin-bottom: 0.5em;}#sk-container-id-9 div.sk-estimator:hover {background-color: #d4ebff;}#sk-container-id-9 div.sk-parallel-item::after {content: \"\";width: 100%;border-bottom: 1px solid gray;flex-grow: 1;}#sk-container-id-9 div.sk-label:hover label.sk-toggleable__label {background-color: #d4ebff;}#sk-container-id-9 div.sk-serial::before {content: \"\";position: absolute;border-left: 1px solid gray;box-sizing: border-box;top: 0;bottom: 0;left: 50%;z-index: 0;}#sk-container-id-9 div.sk-serial {display: flex;flex-direction: column;align-items: center;background-color: white;padding-right: 0.2em;padding-left: 0.2em;position: relative;}#sk-container-id-9 div.sk-item {position: relative;z-index: 1;}#sk-container-id-9 div.sk-parallel {display: flex;align-items: stretch;justify-content: center;background-color: white;position: relative;}#sk-container-id-9 div.sk-item::before, #sk-container-id-9 div.sk-parallel-item::before {content: \"\";position: absolute;border-left: 1px solid gray;box-sizing: border-box;top: 0;bottom: 0;left: 50%;z-index: -1;}#sk-container-id-9 div.sk-parallel-item {display: flex;flex-direction: column;z-index: 1;position: relative;background-color: white;}#sk-container-id-9 div.sk-parallel-item:first-child::after {align-self: flex-end;width: 50%;}#sk-container-id-9 div.sk-parallel-item:last-child::after {align-self: flex-start;width: 50%;}#sk-container-id-9 div.sk-parallel-item:only-child::after {width: 0;}#sk-container-id-9 div.sk-dashed-wrapped {border: 1px dashed gray;margin: 0 0.4em 0.5em 0.4em;box-sizing: border-box;padding-bottom: 0.4em;background-color: white;}#sk-container-id-9 div.sk-label label {font-family: monospace;font-weight: bold;display: inline-block;line-height: 1.2em;}#sk-container-id-9 div.sk-label-container {text-align: center;}#sk-container-id-9 div.sk-container {/* jupyter's `normalize.less` sets `[hidden] { display: none; }` but bootstrap.min.css set `[hidden] { display: none !important; }` so we also need the `!important` here to be able to override the default hidden behavior on the sphinx rendered scikit-learn.org. See: https://github.com/scikit-learn/scikit-learn/issues/21755 */display: inline-block !important;position: relative;}#sk-container-id-9 div.sk-text-repr-fallback {display: none;}</style><div id=\"sk-container-id-9\" class=\"sk-top-container\"><div class=\"sk-text-repr-fallback\"><pre>Ridge(random_state=1)</pre><b>In a Jupyter environment, please rerun this cell to show the HTML representation or trust the notebook. <br />On GitHub, the HTML representation is unable to render, please try loading this page with nbviewer.org.</b></div><div class=\"sk-container\" hidden><div class=\"sk-item\"><div class=\"sk-estimator sk-toggleable\"><input class=\"sk-toggleable__control sk-hidden--visually\" id=\"sk-estimator-id-9\" type=\"checkbox\" checked><label for=\"sk-estimator-id-9\" class=\"sk-toggleable__label sk-toggleable__label-arrow\">Ridge</label><div class=\"sk-toggleable__content\"><pre>Ridge(random_state=1)</pre></div></div></div></div></div>"
            ]
          },
          "metadata": {},
          "execution_count": 92
        }
      ]
    },
    {
      "cell_type": "code",
      "source": [
        "# получаем предсказания\n",
        "predictions = ridge.predict(X_test)"
      ],
      "metadata": {
        "id": "GAuC_PM74vRR"
      },
      "execution_count": 93,
      "outputs": []
    },
    {
      "cell_type": "code",
      "source": [
        "# вычислим значение r2\n",
        "r2_2 = round(r2_score(y_test, predictions), 5)"
      ],
      "metadata": {
        "id": "RGykuWCi4vRS"
      },
      "execution_count": 94,
      "outputs": []
    },
    {
      "cell_type": "code",
      "source": [
        "# выведем значение r2\n",
        "print(r2_2)"
      ],
      "metadata": {
        "colab": {
          "base_uri": "https://localhost:8080/"
        },
        "outputId": "d55a9c05-e9be-4da3-f291-9d58d041ae7f",
        "id": "Q00tDblv4vRS"
      },
      "execution_count": 95,
      "outputs": [
        {
          "output_type": "stream",
          "name": "stdout",
          "text": [
            "-0.4411\n"
          ]
        }
      ]
    },
    {
      "cell_type": "markdown",
      "source": [
        "### **5.3 Нормирование X_train и X_test с помощью StandardScaler, который обучен на X_train для X_train, и на X_test для X_test**\n",
        "\n",
        "---"
      ],
      "metadata": {
        "id": "vbtTPAH44vRS"
      }
    },
    {
      "cell_type": "code",
      "source": [
        "# формируем обучающую и тестовую выборку\n",
        "X_train, X_test, y_train, y_test = train_test_split(\n",
        "    X, y, test_size = 0.33, random_state = 42)"
      ],
      "metadata": {
        "id": "wCfNZ6QP4vRS"
      },
      "execution_count": 96,
      "outputs": []
    },
    {
      "cell_type": "code",
      "source": [
        "# изменяем датасет X_test\n",
        "X_test[4] = X_test[4] - 2\n",
        "X_test[9] = X_test[9] - 5\n",
        "X_test[14] = X_test[14] - 7"
      ],
      "metadata": {
        "id": "T0KPYel-8iV0"
      },
      "execution_count": 97,
      "outputs": []
    },
    {
      "cell_type": "code",
      "source": [
        "# объявляем объект StandardScaler для X_train\n",
        "scaler_x_train = StandardScaler()"
      ],
      "metadata": {
        "id": "3V4ETWOS4vRT"
      },
      "execution_count": 98,
      "outputs": []
    },
    {
      "cell_type": "code",
      "source": [
        "# обучаем и применяем StandardScaler к датасету X_train\n",
        "X_train = scaler_x_train.fit_transform(X_train)"
      ],
      "metadata": {
        "id": "WI2lQS5r4vRT"
      },
      "execution_count": 99,
      "outputs": []
    },
    {
      "cell_type": "code",
      "source": [
        "# объявляем объект StandardScaler для X_test\n",
        "scaler_x_test = StandardScaler()"
      ],
      "metadata": {
        "id": "u8We3k5F4vRT"
      },
      "execution_count": 100,
      "outputs": []
    },
    {
      "cell_type": "code",
      "source": [
        "# обучаем и применяем StandardScaler к датасету X_test\n",
        "X_test = scaler_x_test.fit_transform(X_test)"
      ],
      "metadata": {
        "id": "jbtmhCMG4vRT"
      },
      "execution_count": 101,
      "outputs": []
    },
    {
      "cell_type": "code",
      "source": [
        "# объявляем модель Ridge\n",
        "ridge = Ridge(random_state = 1)"
      ],
      "metadata": {
        "id": "EKTS0qrx4vRT"
      },
      "execution_count": 102,
      "outputs": []
    },
    {
      "cell_type": "code",
      "source": [
        "# обучаем модель\n",
        "ridge.fit(X_train, y_train)"
      ],
      "metadata": {
        "colab": {
          "base_uri": "https://localhost:8080/",
          "height": 74
        },
        "outputId": "8c9af6e9-e21b-44bd-82a6-10d20a3a74da",
        "id": "3qFzI3E-4vRU"
      },
      "execution_count": 103,
      "outputs": [
        {
          "output_type": "execute_result",
          "data": {
            "text/plain": [
              "Ridge(random_state=1)"
            ],
            "text/html": [
              "<style>#sk-container-id-10 {color: black;background-color: white;}#sk-container-id-10 pre{padding: 0;}#sk-container-id-10 div.sk-toggleable {background-color: white;}#sk-container-id-10 label.sk-toggleable__label {cursor: pointer;display: block;width: 100%;margin-bottom: 0;padding: 0.3em;box-sizing: border-box;text-align: center;}#sk-container-id-10 label.sk-toggleable__label-arrow:before {content: \"▸\";float: left;margin-right: 0.25em;color: #696969;}#sk-container-id-10 label.sk-toggleable__label-arrow:hover:before {color: black;}#sk-container-id-10 div.sk-estimator:hover label.sk-toggleable__label-arrow:before {color: black;}#sk-container-id-10 div.sk-toggleable__content {max-height: 0;max-width: 0;overflow: hidden;text-align: left;background-color: #f0f8ff;}#sk-container-id-10 div.sk-toggleable__content pre {margin: 0.2em;color: black;border-radius: 0.25em;background-color: #f0f8ff;}#sk-container-id-10 input.sk-toggleable__control:checked~div.sk-toggleable__content {max-height: 200px;max-width: 100%;overflow: auto;}#sk-container-id-10 input.sk-toggleable__control:checked~label.sk-toggleable__label-arrow:before {content: \"▾\";}#sk-container-id-10 div.sk-estimator input.sk-toggleable__control:checked~label.sk-toggleable__label {background-color: #d4ebff;}#sk-container-id-10 div.sk-label input.sk-toggleable__control:checked~label.sk-toggleable__label {background-color: #d4ebff;}#sk-container-id-10 input.sk-hidden--visually {border: 0;clip: rect(1px 1px 1px 1px);clip: rect(1px, 1px, 1px, 1px);height: 1px;margin: -1px;overflow: hidden;padding: 0;position: absolute;width: 1px;}#sk-container-id-10 div.sk-estimator {font-family: monospace;background-color: #f0f8ff;border: 1px dotted black;border-radius: 0.25em;box-sizing: border-box;margin-bottom: 0.5em;}#sk-container-id-10 div.sk-estimator:hover {background-color: #d4ebff;}#sk-container-id-10 div.sk-parallel-item::after {content: \"\";width: 100%;border-bottom: 1px solid gray;flex-grow: 1;}#sk-container-id-10 div.sk-label:hover label.sk-toggleable__label {background-color: #d4ebff;}#sk-container-id-10 div.sk-serial::before {content: \"\";position: absolute;border-left: 1px solid gray;box-sizing: border-box;top: 0;bottom: 0;left: 50%;z-index: 0;}#sk-container-id-10 div.sk-serial {display: flex;flex-direction: column;align-items: center;background-color: white;padding-right: 0.2em;padding-left: 0.2em;position: relative;}#sk-container-id-10 div.sk-item {position: relative;z-index: 1;}#sk-container-id-10 div.sk-parallel {display: flex;align-items: stretch;justify-content: center;background-color: white;position: relative;}#sk-container-id-10 div.sk-item::before, #sk-container-id-10 div.sk-parallel-item::before {content: \"\";position: absolute;border-left: 1px solid gray;box-sizing: border-box;top: 0;bottom: 0;left: 50%;z-index: -1;}#sk-container-id-10 div.sk-parallel-item {display: flex;flex-direction: column;z-index: 1;position: relative;background-color: white;}#sk-container-id-10 div.sk-parallel-item:first-child::after {align-self: flex-end;width: 50%;}#sk-container-id-10 div.sk-parallel-item:last-child::after {align-self: flex-start;width: 50%;}#sk-container-id-10 div.sk-parallel-item:only-child::after {width: 0;}#sk-container-id-10 div.sk-dashed-wrapped {border: 1px dashed gray;margin: 0 0.4em 0.5em 0.4em;box-sizing: border-box;padding-bottom: 0.4em;background-color: white;}#sk-container-id-10 div.sk-label label {font-family: monospace;font-weight: bold;display: inline-block;line-height: 1.2em;}#sk-container-id-10 div.sk-label-container {text-align: center;}#sk-container-id-10 div.sk-container {/* jupyter's `normalize.less` sets `[hidden] { display: none; }` but bootstrap.min.css set `[hidden] { display: none !important; }` so we also need the `!important` here to be able to override the default hidden behavior on the sphinx rendered scikit-learn.org. See: https://github.com/scikit-learn/scikit-learn/issues/21755 */display: inline-block !important;position: relative;}#sk-container-id-10 div.sk-text-repr-fallback {display: none;}</style><div id=\"sk-container-id-10\" class=\"sk-top-container\"><div class=\"sk-text-repr-fallback\"><pre>Ridge(random_state=1)</pre><b>In a Jupyter environment, please rerun this cell to show the HTML representation or trust the notebook. <br />On GitHub, the HTML representation is unable to render, please try loading this page with nbviewer.org.</b></div><div class=\"sk-container\" hidden><div class=\"sk-item\"><div class=\"sk-estimator sk-toggleable\"><input class=\"sk-toggleable__control sk-hidden--visually\" id=\"sk-estimator-id-10\" type=\"checkbox\" checked><label for=\"sk-estimator-id-10\" class=\"sk-toggleable__label sk-toggleable__label-arrow\">Ridge</label><div class=\"sk-toggleable__content\"><pre>Ridge(random_state=1)</pre></div></div></div></div></div>"
            ]
          },
          "metadata": {},
          "execution_count": 103
        }
      ]
    },
    {
      "cell_type": "code",
      "source": [
        "# получаем предсказания\n",
        "predictions = ridge.predict(X_test)"
      ],
      "metadata": {
        "id": "yo8sLDoJ4vRU"
      },
      "execution_count": 104,
      "outputs": []
    },
    {
      "cell_type": "code",
      "source": [
        "# вычислим значение r2\n",
        "r2_3 = round(r2_score(y_test, predictions), 5)"
      ],
      "metadata": {
        "id": "dBsnSEZj4vRU"
      },
      "execution_count": 105,
      "outputs": []
    },
    {
      "cell_type": "code",
      "source": [
        "# выведем значение r2\n",
        "print(r2_3)"
      ],
      "metadata": {
        "colab": {
          "base_uri": "https://localhost:8080/"
        },
        "outputId": "3666523e-3643-4f5f-d248-0a9c016f1d13",
        "id": "erlrc-2g4vRU"
      },
      "execution_count": 106,
      "outputs": [
        {
          "output_type": "stream",
          "name": "stdout",
          "text": [
            "0.93631\n"
          ]
        }
      ]
    },
    {
      "cell_type": "markdown",
      "source": [
        "### **5.4 Нормирование X_train и X_test с помощью StandardScaler, который обучен на всем X**\n",
        "\n",
        "---"
      ],
      "metadata": {
        "id": "kmA236rH4vRV"
      }
    },
    {
      "cell_type": "code",
      "source": [
        "# формируем обучающую и тестовую выборку\n",
        "X_train, X_test, y_train, y_test = train_test_split(\n",
        "    X, y, test_size = 0.33, random_state = 42)"
      ],
      "metadata": {
        "id": "wiDUzuWe4vRV"
      },
      "execution_count": 107,
      "outputs": []
    },
    {
      "cell_type": "code",
      "source": [
        "# изменяем датасет X_test\n",
        "X_test[4] = X_test[4] - 2\n",
        "X_test[9] = X_test[9] - 5\n",
        "X_test[14] = X_test[14] - 7"
      ],
      "metadata": {
        "id": "z_e4FM-t9HD2"
      },
      "execution_count": 108,
      "outputs": []
    },
    {
      "cell_type": "code",
      "source": [
        "# объявляем объект StandardScaler для X (полный набор признаков для обучения)\n",
        "scaler = StandardScaler()"
      ],
      "metadata": {
        "id": "PXiaG3VT4vRV"
      },
      "execution_count": 109,
      "outputs": []
    },
    {
      "cell_type": "code",
      "source": [
        "# обучаем StandardScaler на датасете X\n",
        "scaler.fit(X)"
      ],
      "metadata": {
        "colab": {
          "base_uri": "https://localhost:8080/",
          "height": 74
        },
        "outputId": "0c4e0cd3-86fe-4369-b544-e93b61729f6b",
        "id": "KS78DeaO4vRV"
      },
      "execution_count": 110,
      "outputs": [
        {
          "output_type": "execute_result",
          "data": {
            "text/plain": [
              "StandardScaler()"
            ],
            "text/html": [
              "<style>#sk-container-id-11 {color: black;background-color: white;}#sk-container-id-11 pre{padding: 0;}#sk-container-id-11 div.sk-toggleable {background-color: white;}#sk-container-id-11 label.sk-toggleable__label {cursor: pointer;display: block;width: 100%;margin-bottom: 0;padding: 0.3em;box-sizing: border-box;text-align: center;}#sk-container-id-11 label.sk-toggleable__label-arrow:before {content: \"▸\";float: left;margin-right: 0.25em;color: #696969;}#sk-container-id-11 label.sk-toggleable__label-arrow:hover:before {color: black;}#sk-container-id-11 div.sk-estimator:hover label.sk-toggleable__label-arrow:before {color: black;}#sk-container-id-11 div.sk-toggleable__content {max-height: 0;max-width: 0;overflow: hidden;text-align: left;background-color: #f0f8ff;}#sk-container-id-11 div.sk-toggleable__content pre {margin: 0.2em;color: black;border-radius: 0.25em;background-color: #f0f8ff;}#sk-container-id-11 input.sk-toggleable__control:checked~div.sk-toggleable__content {max-height: 200px;max-width: 100%;overflow: auto;}#sk-container-id-11 input.sk-toggleable__control:checked~label.sk-toggleable__label-arrow:before {content: \"▾\";}#sk-container-id-11 div.sk-estimator input.sk-toggleable__control:checked~label.sk-toggleable__label {background-color: #d4ebff;}#sk-container-id-11 div.sk-label input.sk-toggleable__control:checked~label.sk-toggleable__label {background-color: #d4ebff;}#sk-container-id-11 input.sk-hidden--visually {border: 0;clip: rect(1px 1px 1px 1px);clip: rect(1px, 1px, 1px, 1px);height: 1px;margin: -1px;overflow: hidden;padding: 0;position: absolute;width: 1px;}#sk-container-id-11 div.sk-estimator {font-family: monospace;background-color: #f0f8ff;border: 1px dotted black;border-radius: 0.25em;box-sizing: border-box;margin-bottom: 0.5em;}#sk-container-id-11 div.sk-estimator:hover {background-color: #d4ebff;}#sk-container-id-11 div.sk-parallel-item::after {content: \"\";width: 100%;border-bottom: 1px solid gray;flex-grow: 1;}#sk-container-id-11 div.sk-label:hover label.sk-toggleable__label {background-color: #d4ebff;}#sk-container-id-11 div.sk-serial::before {content: \"\";position: absolute;border-left: 1px solid gray;box-sizing: border-box;top: 0;bottom: 0;left: 50%;z-index: 0;}#sk-container-id-11 div.sk-serial {display: flex;flex-direction: column;align-items: center;background-color: white;padding-right: 0.2em;padding-left: 0.2em;position: relative;}#sk-container-id-11 div.sk-item {position: relative;z-index: 1;}#sk-container-id-11 div.sk-parallel {display: flex;align-items: stretch;justify-content: center;background-color: white;position: relative;}#sk-container-id-11 div.sk-item::before, #sk-container-id-11 div.sk-parallel-item::before {content: \"\";position: absolute;border-left: 1px solid gray;box-sizing: border-box;top: 0;bottom: 0;left: 50%;z-index: -1;}#sk-container-id-11 div.sk-parallel-item {display: flex;flex-direction: column;z-index: 1;position: relative;background-color: white;}#sk-container-id-11 div.sk-parallel-item:first-child::after {align-self: flex-end;width: 50%;}#sk-container-id-11 div.sk-parallel-item:last-child::after {align-self: flex-start;width: 50%;}#sk-container-id-11 div.sk-parallel-item:only-child::after {width: 0;}#sk-container-id-11 div.sk-dashed-wrapped {border: 1px dashed gray;margin: 0 0.4em 0.5em 0.4em;box-sizing: border-box;padding-bottom: 0.4em;background-color: white;}#sk-container-id-11 div.sk-label label {font-family: monospace;font-weight: bold;display: inline-block;line-height: 1.2em;}#sk-container-id-11 div.sk-label-container {text-align: center;}#sk-container-id-11 div.sk-container {/* jupyter's `normalize.less` sets `[hidden] { display: none; }` but bootstrap.min.css set `[hidden] { display: none !important; }` so we also need the `!important` here to be able to override the default hidden behavior on the sphinx rendered scikit-learn.org. See: https://github.com/scikit-learn/scikit-learn/issues/21755 */display: inline-block !important;position: relative;}#sk-container-id-11 div.sk-text-repr-fallback {display: none;}</style><div id=\"sk-container-id-11\" class=\"sk-top-container\"><div class=\"sk-text-repr-fallback\"><pre>StandardScaler()</pre><b>In a Jupyter environment, please rerun this cell to show the HTML representation or trust the notebook. <br />On GitHub, the HTML representation is unable to render, please try loading this page with nbviewer.org.</b></div><div class=\"sk-container\" hidden><div class=\"sk-item\"><div class=\"sk-estimator sk-toggleable\"><input class=\"sk-toggleable__control sk-hidden--visually\" id=\"sk-estimator-id-11\" type=\"checkbox\" checked><label for=\"sk-estimator-id-11\" class=\"sk-toggleable__label sk-toggleable__label-arrow\">StandardScaler</label><div class=\"sk-toggleable__content\"><pre>StandardScaler()</pre></div></div></div></div></div>"
            ]
          },
          "metadata": {},
          "execution_count": 110
        }
      ]
    },
    {
      "cell_type": "code",
      "source": [
        "# применяем StandardScaler к датасету X_train\n",
        "X_train = scaler.transform(X_train)"
      ],
      "metadata": {
        "id": "cAelYeYN4vRW"
      },
      "execution_count": 111,
      "outputs": []
    },
    {
      "cell_type": "code",
      "source": [
        "# применяем StandardScaler к датасету X_test\n",
        "X_test = scaler.transform(X_test)"
      ],
      "metadata": {
        "id": "UahotVnY4vRW"
      },
      "execution_count": 112,
      "outputs": []
    },
    {
      "cell_type": "code",
      "source": [
        "# объявляем модель Ridge\n",
        "ridge = Ridge(random_state = 1)"
      ],
      "metadata": {
        "id": "7YdOxNcV4vRW"
      },
      "execution_count": 113,
      "outputs": []
    },
    {
      "cell_type": "code",
      "source": [
        "# обучаем модель\n",
        "ridge.fit(X_train, y_train)"
      ],
      "metadata": {
        "colab": {
          "base_uri": "https://localhost:8080/",
          "height": 74
        },
        "outputId": "061d94bb-fccd-4c35-d30d-b50a4d122a36",
        "id": "ZDXFSGS44vRW"
      },
      "execution_count": 114,
      "outputs": [
        {
          "output_type": "execute_result",
          "data": {
            "text/plain": [
              "Ridge(random_state=1)"
            ],
            "text/html": [
              "<style>#sk-container-id-12 {color: black;background-color: white;}#sk-container-id-12 pre{padding: 0;}#sk-container-id-12 div.sk-toggleable {background-color: white;}#sk-container-id-12 label.sk-toggleable__label {cursor: pointer;display: block;width: 100%;margin-bottom: 0;padding: 0.3em;box-sizing: border-box;text-align: center;}#sk-container-id-12 label.sk-toggleable__label-arrow:before {content: \"▸\";float: left;margin-right: 0.25em;color: #696969;}#sk-container-id-12 label.sk-toggleable__label-arrow:hover:before {color: black;}#sk-container-id-12 div.sk-estimator:hover label.sk-toggleable__label-arrow:before {color: black;}#sk-container-id-12 div.sk-toggleable__content {max-height: 0;max-width: 0;overflow: hidden;text-align: left;background-color: #f0f8ff;}#sk-container-id-12 div.sk-toggleable__content pre {margin: 0.2em;color: black;border-radius: 0.25em;background-color: #f0f8ff;}#sk-container-id-12 input.sk-toggleable__control:checked~div.sk-toggleable__content {max-height: 200px;max-width: 100%;overflow: auto;}#sk-container-id-12 input.sk-toggleable__control:checked~label.sk-toggleable__label-arrow:before {content: \"▾\";}#sk-container-id-12 div.sk-estimator input.sk-toggleable__control:checked~label.sk-toggleable__label {background-color: #d4ebff;}#sk-container-id-12 div.sk-label input.sk-toggleable__control:checked~label.sk-toggleable__label {background-color: #d4ebff;}#sk-container-id-12 input.sk-hidden--visually {border: 0;clip: rect(1px 1px 1px 1px);clip: rect(1px, 1px, 1px, 1px);height: 1px;margin: -1px;overflow: hidden;padding: 0;position: absolute;width: 1px;}#sk-container-id-12 div.sk-estimator {font-family: monospace;background-color: #f0f8ff;border: 1px dotted black;border-radius: 0.25em;box-sizing: border-box;margin-bottom: 0.5em;}#sk-container-id-12 div.sk-estimator:hover {background-color: #d4ebff;}#sk-container-id-12 div.sk-parallel-item::after {content: \"\";width: 100%;border-bottom: 1px solid gray;flex-grow: 1;}#sk-container-id-12 div.sk-label:hover label.sk-toggleable__label {background-color: #d4ebff;}#sk-container-id-12 div.sk-serial::before {content: \"\";position: absolute;border-left: 1px solid gray;box-sizing: border-box;top: 0;bottom: 0;left: 50%;z-index: 0;}#sk-container-id-12 div.sk-serial {display: flex;flex-direction: column;align-items: center;background-color: white;padding-right: 0.2em;padding-left: 0.2em;position: relative;}#sk-container-id-12 div.sk-item {position: relative;z-index: 1;}#sk-container-id-12 div.sk-parallel {display: flex;align-items: stretch;justify-content: center;background-color: white;position: relative;}#sk-container-id-12 div.sk-item::before, #sk-container-id-12 div.sk-parallel-item::before {content: \"\";position: absolute;border-left: 1px solid gray;box-sizing: border-box;top: 0;bottom: 0;left: 50%;z-index: -1;}#sk-container-id-12 div.sk-parallel-item {display: flex;flex-direction: column;z-index: 1;position: relative;background-color: white;}#sk-container-id-12 div.sk-parallel-item:first-child::after {align-self: flex-end;width: 50%;}#sk-container-id-12 div.sk-parallel-item:last-child::after {align-self: flex-start;width: 50%;}#sk-container-id-12 div.sk-parallel-item:only-child::after {width: 0;}#sk-container-id-12 div.sk-dashed-wrapped {border: 1px dashed gray;margin: 0 0.4em 0.5em 0.4em;box-sizing: border-box;padding-bottom: 0.4em;background-color: white;}#sk-container-id-12 div.sk-label label {font-family: monospace;font-weight: bold;display: inline-block;line-height: 1.2em;}#sk-container-id-12 div.sk-label-container {text-align: center;}#sk-container-id-12 div.sk-container {/* jupyter's `normalize.less` sets `[hidden] { display: none; }` but bootstrap.min.css set `[hidden] { display: none !important; }` so we also need the `!important` here to be able to override the default hidden behavior on the sphinx rendered scikit-learn.org. See: https://github.com/scikit-learn/scikit-learn/issues/21755 */display: inline-block !important;position: relative;}#sk-container-id-12 div.sk-text-repr-fallback {display: none;}</style><div id=\"sk-container-id-12\" class=\"sk-top-container\"><div class=\"sk-text-repr-fallback\"><pre>Ridge(random_state=1)</pre><b>In a Jupyter environment, please rerun this cell to show the HTML representation or trust the notebook. <br />On GitHub, the HTML representation is unable to render, please try loading this page with nbviewer.org.</b></div><div class=\"sk-container\" hidden><div class=\"sk-item\"><div class=\"sk-estimator sk-toggleable\"><input class=\"sk-toggleable__control sk-hidden--visually\" id=\"sk-estimator-id-12\" type=\"checkbox\" checked><label for=\"sk-estimator-id-12\" class=\"sk-toggleable__label sk-toggleable__label-arrow\">Ridge</label><div class=\"sk-toggleable__content\"><pre>Ridge(random_state=1)</pre></div></div></div></div></div>"
            ]
          },
          "metadata": {},
          "execution_count": 114
        }
      ]
    },
    {
      "cell_type": "code",
      "source": [
        "# получаем предсказания\n",
        "predictions = ridge.predict(X_test)"
      ],
      "metadata": {
        "id": "dyplFv2s4vRX"
      },
      "execution_count": 115,
      "outputs": []
    },
    {
      "cell_type": "code",
      "source": [
        "# вычислим значение r2\n",
        "r2_4 = round(r2_score(y_test, predictions), 5)"
      ],
      "metadata": {
        "id": "A3rxbOFq4vRX"
      },
      "execution_count": 116,
      "outputs": []
    },
    {
      "cell_type": "code",
      "source": [
        "# выведем значение r2\n",
        "print(r2_4)"
      ],
      "metadata": {
        "colab": {
          "base_uri": "https://localhost:8080/"
        },
        "outputId": "cec98210-ad6d-4040-97fb-b00028b08941",
        "id": "Tgi-v7fv4vRX"
      },
      "execution_count": 117,
      "outputs": [
        {
          "output_type": "stream",
          "name": "stdout",
          "text": [
            "-0.45243\n"
          ]
        }
      ]
    },
    {
      "cell_type": "markdown",
      "source": [
        "### **5.5 Результаты обучения**\n",
        "\n",
        "---"
      ],
      "metadata": {
        "id": "J-l2Eyeg4vRY"
      }
    },
    {
      "cell_type": "code",
      "source": [
        "# создаем результирующую таблицу\n",
        "summary_results = pd.DataFrame(\n",
        "    {'1': ['Признаки без нормирования', r2_1],\n",
        "     '2': ['X_train и X_test нормированы на X_train', r2_2],\n",
        "     '3': ['X_train и X_test нормированы раздельно', r2_3],\n",
        "     '4': ['X_train и X_test нормированы на Х', r2_4]\n",
        "     }\n",
        ")\n",
        "\n",
        "summary_results = summary_results.T\n",
        "summary_results.columns = ['Способ нормирования',\n",
        "                          'Метрика r2']\n",
        "\n",
        "summary_results = \\\n",
        "    summary_results \\\n",
        "    .sort_values(by = 'Метрика r2',\n",
        "                 ascending = False) \\\n",
        "    .reset_index(drop = True)"
      ],
      "metadata": {
        "id": "9yiwkM024vRY"
      },
      "execution_count": 118,
      "outputs": []
    },
    {
      "cell_type": "code",
      "source": [
        "# выведем результирующую таблицу\n",
        "cm = sns.light_palette('steelblue',\n",
        "                       as_cmap = True)\n",
        "\n",
        "summary_results.style.background_gradient(cmap = cm,\n",
        "                                          subset = 'Метрика r2',\n",
        "                                          text_color_threshold = 0.30,\n",
        "                                          low = 0.9)"
      ],
      "metadata": {
        "colab": {
          "base_uri": "https://localhost:8080/",
          "height": 175
        },
        "outputId": "3bd113df-46a1-4afd-c932-5670c9c84f41",
        "id": "j874nfqi4vRY"
      },
      "execution_count": 119,
      "outputs": [
        {
          "output_type": "execute_result",
          "data": {
            "text/plain": [
              "<pandas.io.formats.style.Styler at 0x7f20da487df0>"
            ],
            "text/html": [
              "<style type=\"text/css\">\n",
              "#T_543cf_row0_col1 {\n",
              "  background-color: #4682b4;\n",
              "  color: #f1f1f1;\n",
              "}\n",
              "#T_543cf_row1_col1 {\n",
              "  background-color: #9ebbd4;\n",
              "  color: #000000;\n",
              "}\n",
              "#T_543cf_row2_col1 {\n",
              "  background-color: #9ebcd4;\n",
              "  color: #000000;\n",
              "}\n",
              "#T_543cf_row3_col1 {\n",
              "  background-color: #9fbcd5;\n",
              "  color: #000000;\n",
              "}\n",
              "</style>\n",
              "<table id=\"T_543cf\" class=\"dataframe\">\n",
              "  <thead>\n",
              "    <tr>\n",
              "      <th class=\"blank level0\" >&nbsp;</th>\n",
              "      <th id=\"T_543cf_level0_col0\" class=\"col_heading level0 col0\" >Способ нормирования</th>\n",
              "      <th id=\"T_543cf_level0_col1\" class=\"col_heading level0 col1\" >Метрика r2</th>\n",
              "    </tr>\n",
              "  </thead>\n",
              "  <tbody>\n",
              "    <tr>\n",
              "      <th id=\"T_543cf_level0_row0\" class=\"row_heading level0 row0\" >0</th>\n",
              "      <td id=\"T_543cf_row0_col0\" class=\"data row0 col0\" >X_train и X_test нормированы раздельно</td>\n",
              "      <td id=\"T_543cf_row0_col1\" class=\"data row0 col1\" >0.936310</td>\n",
              "    </tr>\n",
              "    <tr>\n",
              "      <th id=\"T_543cf_level0_row1\" class=\"row_heading level0 row1\" >1</th>\n",
              "      <td id=\"T_543cf_row1_col0\" class=\"data row1 col0\" >X_train и X_test нормированы на X_train</td>\n",
              "      <td id=\"T_543cf_row1_col1\" class=\"data row1 col1\" >-0.441100</td>\n",
              "    </tr>\n",
              "    <tr>\n",
              "      <th id=\"T_543cf_level0_row2\" class=\"row_heading level0 row2\" >2</th>\n",
              "      <td id=\"T_543cf_row2_col0\" class=\"data row2 col0\" >X_train и X_test нормированы на Х</td>\n",
              "      <td id=\"T_543cf_row2_col1\" class=\"data row2 col1\" >-0.452430</td>\n",
              "    </tr>\n",
              "    <tr>\n",
              "      <th id=\"T_543cf_level0_row3\" class=\"row_heading level0 row3\" >3</th>\n",
              "      <td id=\"T_543cf_row3_col0\" class=\"data row3 col0\" >Признаки без нормирования</td>\n",
              "      <td id=\"T_543cf_row3_col1\" class=\"data row3 col1\" >-0.462330</td>\n",
              "    </tr>\n",
              "  </tbody>\n",
              "</table>\n"
            ]
          },
          "metadata": {},
          "execution_count": 119
        }
      ]
    },
    {
      "cell_type": "markdown",
      "source": [
        "Метрика R2 может быть отрицательна, если модель плохо соответствует тренду данных. Это определено в документации sklearn.\n",
        "\n",
        "Нормирование X_train и X_test с помощью StandardScaler, который обучен на X_train, дает лучше результат, по сравнению с отсутствием нормировки, причем значительно (во 2-м знаке).\n",
        "\n",
        "Нормирование X_train и X_test с помощью StandardScaler, который обучен на X_train для X_train, и на X_test для X_test, дает лучше результат, чем StandardScalar, который обучен только на X_train, причем значительно (во 2-м знаке)"
      ],
      "metadata": {
        "id": "liKgIZOwBbLc"
      }
    },
    {
      "cell_type": "markdown",
      "source": [
        "# <font color='green'>**Вопрос 6**<font>\n",
        "\n",
        "---"
      ],
      "metadata": {
        "id": "SM-jemCVDfk6"
      }
    },
    {
      "cell_type": "markdown",
      "source": [
        "**Давайте теперь изменим X_test и X_train следующим образом:**\n",
        "\n",
        "**X_train['x5'] = X_train['x5'] * 2.5**\n",
        "\n",
        "**X_train['x10'] = X_train['x10'] * 5.5**\n",
        "\n",
        "**X_train['x15'] = X_train['x15'] * 7.7**\n",
        "\n",
        "\n",
        "**X_test['x5'] = X_test['x5'] * 2 + 0.5**\n",
        "\n",
        "**X_test['x10'] = X_test['x10'] * 5 + 1**\n",
        "\n",
        "**X_test['x15'] = X_test['x15'] * 7 + 1.5**\n",
        "\n",
        "**В качестве реализации регрессии продолжаем с Ridge(random_state=1). Метрика качества R2.**"
      ],
      "metadata": {
        "id": "nwuLh_zzDfk7"
      }
    },
    {
      "cell_type": "markdown",
      "source": [
        "* Нормирование X_train и X_test с помощью StandardScaler, который обучен на X_train, дает лучше результат, по сравнению с отсутствием нормировки, причем значительно (во 2-м знаке)\n",
        "* Нормирование X_train и X_test с помощью StandardScaler, который обучен на X_train для X_train, и на X_test для X_test, дает хуже результат, чем StandardScalar, который обучен только на X_train, причем значительно (в 2-м знаке)\n",
        "* Нормирование X_train и X_test с помощью StandardScaler, который обучен на всем X, дает самые лучшие результаты, сравнивая все варианты обучения StandardScalar"
      ],
      "metadata": {
        "id": "eUS3R4tPDfk7"
      }
    },
    {
      "cell_type": "code",
      "source": [
        "# создадим копию датасета с исходными ненормированными признаками\n",
        "# для выполнения задачи\n",
        "X = pd.DataFrame(features.copy())"
      ],
      "metadata": {
        "id": "TQTfqH6fDfk8"
      },
      "execution_count": 120,
      "outputs": []
    },
    {
      "cell_type": "code",
      "source": [
        "# сохраним целевой признак в DataFrame\n",
        "y = pd.DataFrame(target)"
      ],
      "metadata": {
        "id": "VrnsXF-mDfk8"
      },
      "execution_count": 121,
      "outputs": []
    },
    {
      "cell_type": "markdown",
      "source": [
        "### **6.1 Обучение модели Ridge на датасетах без нормирования**\n",
        "\n",
        "---"
      ],
      "metadata": {
        "id": "beV7q2nQDfk8"
      }
    },
    {
      "cell_type": "code",
      "source": [
        "# формируем обучающую и тестовую выборку\n",
        "X_train, X_test, y_train, y_test = train_test_split(\n",
        "    X, y, test_size = 0.33, random_state = 42)"
      ],
      "metadata": {
        "id": "wHjNXh05Dfk9"
      },
      "execution_count": 122,
      "outputs": []
    },
    {
      "cell_type": "code",
      "source": [
        "# Изменяем датасет X_train\n",
        "X_train[4] = X_train[4] * 2.5\n",
        "X_train[9] = X_train[9] * 5.5\n",
        "X_train[14] = X_train[14] * 7.7\n",
        "\n",
        "# изменяем датасет X_test\n",
        "X_test[4] = X_test[4] * 2 + 0.5\n",
        "X_test[9] = X_test[9] * 5 + 1\n",
        "X_test[14] = X_test[14] * 7 + 1.5"
      ],
      "metadata": {
        "id": "UxwZ_dvwDfk9"
      },
      "execution_count": 123,
      "outputs": []
    },
    {
      "cell_type": "code",
      "source": [
        "# объявляем модель\n",
        "ridge = Ridge(random_state = 1)"
      ],
      "metadata": {
        "id": "NK6wkF0gDfk-"
      },
      "execution_count": 124,
      "outputs": []
    },
    {
      "cell_type": "code",
      "source": [
        "# обучаем модель\n",
        "ridge.fit(X_train, y_train)"
      ],
      "metadata": {
        "colab": {
          "base_uri": "https://localhost:8080/",
          "height": 74
        },
        "outputId": "958bf5a0-a93a-46f8-ed0a-0e422ea259c7",
        "id": "kvfh2WYcDfk-"
      },
      "execution_count": 125,
      "outputs": [
        {
          "output_type": "execute_result",
          "data": {
            "text/plain": [
              "Ridge(random_state=1)"
            ],
            "text/html": [
              "<style>#sk-container-id-13 {color: black;background-color: white;}#sk-container-id-13 pre{padding: 0;}#sk-container-id-13 div.sk-toggleable {background-color: white;}#sk-container-id-13 label.sk-toggleable__label {cursor: pointer;display: block;width: 100%;margin-bottom: 0;padding: 0.3em;box-sizing: border-box;text-align: center;}#sk-container-id-13 label.sk-toggleable__label-arrow:before {content: \"▸\";float: left;margin-right: 0.25em;color: #696969;}#sk-container-id-13 label.sk-toggleable__label-arrow:hover:before {color: black;}#sk-container-id-13 div.sk-estimator:hover label.sk-toggleable__label-arrow:before {color: black;}#sk-container-id-13 div.sk-toggleable__content {max-height: 0;max-width: 0;overflow: hidden;text-align: left;background-color: #f0f8ff;}#sk-container-id-13 div.sk-toggleable__content pre {margin: 0.2em;color: black;border-radius: 0.25em;background-color: #f0f8ff;}#sk-container-id-13 input.sk-toggleable__control:checked~div.sk-toggleable__content {max-height: 200px;max-width: 100%;overflow: auto;}#sk-container-id-13 input.sk-toggleable__control:checked~label.sk-toggleable__label-arrow:before {content: \"▾\";}#sk-container-id-13 div.sk-estimator input.sk-toggleable__control:checked~label.sk-toggleable__label {background-color: #d4ebff;}#sk-container-id-13 div.sk-label input.sk-toggleable__control:checked~label.sk-toggleable__label {background-color: #d4ebff;}#sk-container-id-13 input.sk-hidden--visually {border: 0;clip: rect(1px 1px 1px 1px);clip: rect(1px, 1px, 1px, 1px);height: 1px;margin: -1px;overflow: hidden;padding: 0;position: absolute;width: 1px;}#sk-container-id-13 div.sk-estimator {font-family: monospace;background-color: #f0f8ff;border: 1px dotted black;border-radius: 0.25em;box-sizing: border-box;margin-bottom: 0.5em;}#sk-container-id-13 div.sk-estimator:hover {background-color: #d4ebff;}#sk-container-id-13 div.sk-parallel-item::after {content: \"\";width: 100%;border-bottom: 1px solid gray;flex-grow: 1;}#sk-container-id-13 div.sk-label:hover label.sk-toggleable__label {background-color: #d4ebff;}#sk-container-id-13 div.sk-serial::before {content: \"\";position: absolute;border-left: 1px solid gray;box-sizing: border-box;top: 0;bottom: 0;left: 50%;z-index: 0;}#sk-container-id-13 div.sk-serial {display: flex;flex-direction: column;align-items: center;background-color: white;padding-right: 0.2em;padding-left: 0.2em;position: relative;}#sk-container-id-13 div.sk-item {position: relative;z-index: 1;}#sk-container-id-13 div.sk-parallel {display: flex;align-items: stretch;justify-content: center;background-color: white;position: relative;}#sk-container-id-13 div.sk-item::before, #sk-container-id-13 div.sk-parallel-item::before {content: \"\";position: absolute;border-left: 1px solid gray;box-sizing: border-box;top: 0;bottom: 0;left: 50%;z-index: -1;}#sk-container-id-13 div.sk-parallel-item {display: flex;flex-direction: column;z-index: 1;position: relative;background-color: white;}#sk-container-id-13 div.sk-parallel-item:first-child::after {align-self: flex-end;width: 50%;}#sk-container-id-13 div.sk-parallel-item:last-child::after {align-self: flex-start;width: 50%;}#sk-container-id-13 div.sk-parallel-item:only-child::after {width: 0;}#sk-container-id-13 div.sk-dashed-wrapped {border: 1px dashed gray;margin: 0 0.4em 0.5em 0.4em;box-sizing: border-box;padding-bottom: 0.4em;background-color: white;}#sk-container-id-13 div.sk-label label {font-family: monospace;font-weight: bold;display: inline-block;line-height: 1.2em;}#sk-container-id-13 div.sk-label-container {text-align: center;}#sk-container-id-13 div.sk-container {/* jupyter's `normalize.less` sets `[hidden] { display: none; }` but bootstrap.min.css set `[hidden] { display: none !important; }` so we also need the `!important` here to be able to override the default hidden behavior on the sphinx rendered scikit-learn.org. See: https://github.com/scikit-learn/scikit-learn/issues/21755 */display: inline-block !important;position: relative;}#sk-container-id-13 div.sk-text-repr-fallback {display: none;}</style><div id=\"sk-container-id-13\" class=\"sk-top-container\"><div class=\"sk-text-repr-fallback\"><pre>Ridge(random_state=1)</pre><b>In a Jupyter environment, please rerun this cell to show the HTML representation or trust the notebook. <br />On GitHub, the HTML representation is unable to render, please try loading this page with nbviewer.org.</b></div><div class=\"sk-container\" hidden><div class=\"sk-item\"><div class=\"sk-estimator sk-toggleable\"><input class=\"sk-toggleable__control sk-hidden--visually\" id=\"sk-estimator-id-13\" type=\"checkbox\" checked><label for=\"sk-estimator-id-13\" class=\"sk-toggleable__label sk-toggleable__label-arrow\">Ridge</label><div class=\"sk-toggleable__content\"><pre>Ridge(random_state=1)</pre></div></div></div></div></div>"
            ]
          },
          "metadata": {},
          "execution_count": 125
        }
      ]
    },
    {
      "cell_type": "code",
      "source": [
        "# получаем предсказания на тестовой выборке\n",
        "predictions = ridge.predict(X_test)"
      ],
      "metadata": {
        "id": "mwgG4BiEDfk-"
      },
      "execution_count": 126,
      "outputs": []
    },
    {
      "cell_type": "code",
      "source": [
        "# вычислим значение r2\n",
        "r2_1 = round(r2_score(y_test, predictions), 5)"
      ],
      "metadata": {
        "id": "QYmz0txyDfk_"
      },
      "execution_count": 127,
      "outputs": []
    },
    {
      "cell_type": "code",
      "source": [
        "# выведем значение r2\n",
        "print(r2_1)"
      ],
      "metadata": {
        "colab": {
          "base_uri": "https://localhost:8080/"
        },
        "outputId": "2b484aa5-8a99-4d5e-910b-959443735631",
        "id": "dqdPZijGDfk_"
      },
      "execution_count": 128,
      "outputs": [
        {
          "output_type": "stream",
          "name": "stdout",
          "text": [
            "0.98194\n"
          ]
        }
      ]
    },
    {
      "cell_type": "markdown",
      "source": [
        "### **6.2 Нормирование X_train и X_test с помощью StandardScaler, который обучен на X_train**\n",
        "\n",
        "---"
      ],
      "metadata": {
        "id": "68Qur5RjDfk_"
      }
    },
    {
      "cell_type": "code",
      "source": [
        "# формируем обучающую и тестовую выборку\n",
        "X_train, X_test, y_train, y_test = train_test_split(\n",
        "    X, y, test_size = 0.33, random_state = 42)"
      ],
      "metadata": {
        "id": "iDh9yXxaDfk_"
      },
      "execution_count": 129,
      "outputs": []
    },
    {
      "cell_type": "code",
      "source": [
        "# Изменяем датасет X_train\n",
        "X_train[4] = X_train[4] * 2.5\n",
        "X_train[9] = X_train[9] * 5.5\n",
        "X_train[14] = X_train[14] * 7.7\n",
        "\n",
        "# изменяем датасет X_test\n",
        "X_test[4] = X_test[4] * 2 + 0.5\n",
        "X_test[9] = X_test[9] * 5 + 1\n",
        "X_test[14] = X_test[14] * 7 + 1.5"
      ],
      "metadata": {
        "id": "dJEGArJeFup9"
      },
      "execution_count": 130,
      "outputs": []
    },
    {
      "cell_type": "code",
      "source": [
        "# объявляем объект StandardScaler\n",
        "scaler = StandardScaler()"
      ],
      "metadata": {
        "id": "wvI6aUPZDflA"
      },
      "execution_count": 131,
      "outputs": []
    },
    {
      "cell_type": "code",
      "source": [
        "# обучаем и применяем StandardScaler к датасету X_train\n",
        "X_train = scaler.fit_transform(X_train)"
      ],
      "metadata": {
        "id": "W7Q1EpVvDflA"
      },
      "execution_count": 132,
      "outputs": []
    },
    {
      "cell_type": "code",
      "source": [
        "# применяем StandardScaler к датасету X_test\n",
        "X_test = scaler.transform(X_test)"
      ],
      "metadata": {
        "id": "JH2sEx8UDflA"
      },
      "execution_count": 133,
      "outputs": []
    },
    {
      "cell_type": "code",
      "source": [
        "# объявляем модель Ridge\n",
        "ridge = Ridge(random_state = 1)"
      ],
      "metadata": {
        "id": "VbZCxa07DflB"
      },
      "execution_count": 134,
      "outputs": []
    },
    {
      "cell_type": "code",
      "source": [
        "# обучаем модель\n",
        "ridge.fit(X_train, y_train)"
      ],
      "metadata": {
        "colab": {
          "base_uri": "https://localhost:8080/",
          "height": 74
        },
        "outputId": "90883254-34e8-440a-9a7b-ab48c71f39c8",
        "id": "x3uoI6qmDflB"
      },
      "execution_count": 135,
      "outputs": [
        {
          "output_type": "execute_result",
          "data": {
            "text/plain": [
              "Ridge(random_state=1)"
            ],
            "text/html": [
              "<style>#sk-container-id-14 {color: black;background-color: white;}#sk-container-id-14 pre{padding: 0;}#sk-container-id-14 div.sk-toggleable {background-color: white;}#sk-container-id-14 label.sk-toggleable__label {cursor: pointer;display: block;width: 100%;margin-bottom: 0;padding: 0.3em;box-sizing: border-box;text-align: center;}#sk-container-id-14 label.sk-toggleable__label-arrow:before {content: \"▸\";float: left;margin-right: 0.25em;color: #696969;}#sk-container-id-14 label.sk-toggleable__label-arrow:hover:before {color: black;}#sk-container-id-14 div.sk-estimator:hover label.sk-toggleable__label-arrow:before {color: black;}#sk-container-id-14 div.sk-toggleable__content {max-height: 0;max-width: 0;overflow: hidden;text-align: left;background-color: #f0f8ff;}#sk-container-id-14 div.sk-toggleable__content pre {margin: 0.2em;color: black;border-radius: 0.25em;background-color: #f0f8ff;}#sk-container-id-14 input.sk-toggleable__control:checked~div.sk-toggleable__content {max-height: 200px;max-width: 100%;overflow: auto;}#sk-container-id-14 input.sk-toggleable__control:checked~label.sk-toggleable__label-arrow:before {content: \"▾\";}#sk-container-id-14 div.sk-estimator input.sk-toggleable__control:checked~label.sk-toggleable__label {background-color: #d4ebff;}#sk-container-id-14 div.sk-label input.sk-toggleable__control:checked~label.sk-toggleable__label {background-color: #d4ebff;}#sk-container-id-14 input.sk-hidden--visually {border: 0;clip: rect(1px 1px 1px 1px);clip: rect(1px, 1px, 1px, 1px);height: 1px;margin: -1px;overflow: hidden;padding: 0;position: absolute;width: 1px;}#sk-container-id-14 div.sk-estimator {font-family: monospace;background-color: #f0f8ff;border: 1px dotted black;border-radius: 0.25em;box-sizing: border-box;margin-bottom: 0.5em;}#sk-container-id-14 div.sk-estimator:hover {background-color: #d4ebff;}#sk-container-id-14 div.sk-parallel-item::after {content: \"\";width: 100%;border-bottom: 1px solid gray;flex-grow: 1;}#sk-container-id-14 div.sk-label:hover label.sk-toggleable__label {background-color: #d4ebff;}#sk-container-id-14 div.sk-serial::before {content: \"\";position: absolute;border-left: 1px solid gray;box-sizing: border-box;top: 0;bottom: 0;left: 50%;z-index: 0;}#sk-container-id-14 div.sk-serial {display: flex;flex-direction: column;align-items: center;background-color: white;padding-right: 0.2em;padding-left: 0.2em;position: relative;}#sk-container-id-14 div.sk-item {position: relative;z-index: 1;}#sk-container-id-14 div.sk-parallel {display: flex;align-items: stretch;justify-content: center;background-color: white;position: relative;}#sk-container-id-14 div.sk-item::before, #sk-container-id-14 div.sk-parallel-item::before {content: \"\";position: absolute;border-left: 1px solid gray;box-sizing: border-box;top: 0;bottom: 0;left: 50%;z-index: -1;}#sk-container-id-14 div.sk-parallel-item {display: flex;flex-direction: column;z-index: 1;position: relative;background-color: white;}#sk-container-id-14 div.sk-parallel-item:first-child::after {align-self: flex-end;width: 50%;}#sk-container-id-14 div.sk-parallel-item:last-child::after {align-self: flex-start;width: 50%;}#sk-container-id-14 div.sk-parallel-item:only-child::after {width: 0;}#sk-container-id-14 div.sk-dashed-wrapped {border: 1px dashed gray;margin: 0 0.4em 0.5em 0.4em;box-sizing: border-box;padding-bottom: 0.4em;background-color: white;}#sk-container-id-14 div.sk-label label {font-family: monospace;font-weight: bold;display: inline-block;line-height: 1.2em;}#sk-container-id-14 div.sk-label-container {text-align: center;}#sk-container-id-14 div.sk-container {/* jupyter's `normalize.less` sets `[hidden] { display: none; }` but bootstrap.min.css set `[hidden] { display: none !important; }` so we also need the `!important` here to be able to override the default hidden behavior on the sphinx rendered scikit-learn.org. See: https://github.com/scikit-learn/scikit-learn/issues/21755 */display: inline-block !important;position: relative;}#sk-container-id-14 div.sk-text-repr-fallback {display: none;}</style><div id=\"sk-container-id-14\" class=\"sk-top-container\"><div class=\"sk-text-repr-fallback\"><pre>Ridge(random_state=1)</pre><b>In a Jupyter environment, please rerun this cell to show the HTML representation or trust the notebook. <br />On GitHub, the HTML representation is unable to render, please try loading this page with nbviewer.org.</b></div><div class=\"sk-container\" hidden><div class=\"sk-item\"><div class=\"sk-estimator sk-toggleable\"><input class=\"sk-toggleable__control sk-hidden--visually\" id=\"sk-estimator-id-14\" type=\"checkbox\" checked><label for=\"sk-estimator-id-14\" class=\"sk-toggleable__label sk-toggleable__label-arrow\">Ridge</label><div class=\"sk-toggleable__content\"><pre>Ridge(random_state=1)</pre></div></div></div></div></div>"
            ]
          },
          "metadata": {},
          "execution_count": 135
        }
      ]
    },
    {
      "cell_type": "code",
      "source": [
        "# получаем предсказания\n",
        "predictions = ridge.predict(X_test)"
      ],
      "metadata": {
        "id": "1cgbcd9MDflB"
      },
      "execution_count": 136,
      "outputs": []
    },
    {
      "cell_type": "code",
      "source": [
        "# вычислим значение r2\n",
        "r2_2 = round(r2_score(y_test, predictions), 5)"
      ],
      "metadata": {
        "id": "rZ9Wuf_gDflB"
      },
      "execution_count": 137,
      "outputs": []
    },
    {
      "cell_type": "code",
      "source": [
        "# выведем значение r2\n",
        "print(r2_2)"
      ],
      "metadata": {
        "colab": {
          "base_uri": "https://localhost:8080/"
        },
        "outputId": "26d5f846-92d7-4316-99f6-638e3d496e3f",
        "id": "pVjeF7vTDflC"
      },
      "execution_count": 138,
      "outputs": [
        {
          "output_type": "stream",
          "name": "stdout",
          "text": [
            "0.98171\n"
          ]
        }
      ]
    },
    {
      "cell_type": "markdown",
      "source": [
        "### **6.3 Нормирование X_train и X_test с помощью StandardScaler, который обучен на X_train для X_train, и на X_test для X_test**\n",
        "\n",
        "---"
      ],
      "metadata": {
        "id": "8aEAYN44DflC"
      }
    },
    {
      "cell_type": "code",
      "source": [
        "# формируем обучающую и тестовую выборку\n",
        "X_train, X_test, y_train, y_test = train_test_split(\n",
        "    X, y, test_size = 0.33, random_state = 42)"
      ],
      "metadata": {
        "id": "6akz0hC3DflC"
      },
      "execution_count": 139,
      "outputs": []
    },
    {
      "cell_type": "code",
      "source": [
        "# Изменяем датасет X_train\n",
        "X_train[4] = X_train[4] * 2.5\n",
        "X_train[9] = X_train[9] * 5.5\n",
        "X_train[14] = X_train[14] * 7.7\n",
        "\n",
        "# изменяем датасет X_test\n",
        "X_test[4] = X_test[4] * 2 + 0.5\n",
        "X_test[9] = X_test[9] * 5 + 1\n",
        "X_test[14] = X_test[14] * 7 + 1.5"
      ],
      "metadata": {
        "id": "Yu_gtUJADflC"
      },
      "execution_count": 140,
      "outputs": []
    },
    {
      "cell_type": "code",
      "source": [
        "# объявляем объект StandardScaler для X_train\n",
        "scaler_x_train = StandardScaler()"
      ],
      "metadata": {
        "id": "y6CIlvmEDflD"
      },
      "execution_count": 141,
      "outputs": []
    },
    {
      "cell_type": "code",
      "source": [
        "# обучаем и применяем StandardScaler к датасету X_train\n",
        "X_train = scaler_x_train.fit_transform(X_train)"
      ],
      "metadata": {
        "id": "plfErWv8DflD"
      },
      "execution_count": 142,
      "outputs": []
    },
    {
      "cell_type": "code",
      "source": [
        "# объявляем объект StandardScaler для X_test\n",
        "scaler_x_test = StandardScaler()"
      ],
      "metadata": {
        "id": "yzEsaPd5DflD"
      },
      "execution_count": 143,
      "outputs": []
    },
    {
      "cell_type": "code",
      "source": [
        "# обучаем и применяем StandardScaler к датасету X_test\n",
        "X_test = scaler_x_test.fit_transform(X_test)"
      ],
      "metadata": {
        "id": "SjGf-K09DflD"
      },
      "execution_count": 144,
      "outputs": []
    },
    {
      "cell_type": "code",
      "source": [
        "# объявляем модель Ridge\n",
        "ridge = Ridge(random_state = 1)"
      ],
      "metadata": {
        "id": "eglhkn_jDflE"
      },
      "execution_count": 145,
      "outputs": []
    },
    {
      "cell_type": "code",
      "source": [
        "# обучаем модель\n",
        "ridge.fit(X_train, y_train)"
      ],
      "metadata": {
        "colab": {
          "base_uri": "https://localhost:8080/",
          "height": 74
        },
        "outputId": "d9ea74f4-4be0-485c-93c2-eafacac774c0",
        "id": "p4oVMQWEDflE"
      },
      "execution_count": 146,
      "outputs": [
        {
          "output_type": "execute_result",
          "data": {
            "text/plain": [
              "Ridge(random_state=1)"
            ],
            "text/html": [
              "<style>#sk-container-id-15 {color: black;background-color: white;}#sk-container-id-15 pre{padding: 0;}#sk-container-id-15 div.sk-toggleable {background-color: white;}#sk-container-id-15 label.sk-toggleable__label {cursor: pointer;display: block;width: 100%;margin-bottom: 0;padding: 0.3em;box-sizing: border-box;text-align: center;}#sk-container-id-15 label.sk-toggleable__label-arrow:before {content: \"▸\";float: left;margin-right: 0.25em;color: #696969;}#sk-container-id-15 label.sk-toggleable__label-arrow:hover:before {color: black;}#sk-container-id-15 div.sk-estimator:hover label.sk-toggleable__label-arrow:before {color: black;}#sk-container-id-15 div.sk-toggleable__content {max-height: 0;max-width: 0;overflow: hidden;text-align: left;background-color: #f0f8ff;}#sk-container-id-15 div.sk-toggleable__content pre {margin: 0.2em;color: black;border-radius: 0.25em;background-color: #f0f8ff;}#sk-container-id-15 input.sk-toggleable__control:checked~div.sk-toggleable__content {max-height: 200px;max-width: 100%;overflow: auto;}#sk-container-id-15 input.sk-toggleable__control:checked~label.sk-toggleable__label-arrow:before {content: \"▾\";}#sk-container-id-15 div.sk-estimator input.sk-toggleable__control:checked~label.sk-toggleable__label {background-color: #d4ebff;}#sk-container-id-15 div.sk-label input.sk-toggleable__control:checked~label.sk-toggleable__label {background-color: #d4ebff;}#sk-container-id-15 input.sk-hidden--visually {border: 0;clip: rect(1px 1px 1px 1px);clip: rect(1px, 1px, 1px, 1px);height: 1px;margin: -1px;overflow: hidden;padding: 0;position: absolute;width: 1px;}#sk-container-id-15 div.sk-estimator {font-family: monospace;background-color: #f0f8ff;border: 1px dotted black;border-radius: 0.25em;box-sizing: border-box;margin-bottom: 0.5em;}#sk-container-id-15 div.sk-estimator:hover {background-color: #d4ebff;}#sk-container-id-15 div.sk-parallel-item::after {content: \"\";width: 100%;border-bottom: 1px solid gray;flex-grow: 1;}#sk-container-id-15 div.sk-label:hover label.sk-toggleable__label {background-color: #d4ebff;}#sk-container-id-15 div.sk-serial::before {content: \"\";position: absolute;border-left: 1px solid gray;box-sizing: border-box;top: 0;bottom: 0;left: 50%;z-index: 0;}#sk-container-id-15 div.sk-serial {display: flex;flex-direction: column;align-items: center;background-color: white;padding-right: 0.2em;padding-left: 0.2em;position: relative;}#sk-container-id-15 div.sk-item {position: relative;z-index: 1;}#sk-container-id-15 div.sk-parallel {display: flex;align-items: stretch;justify-content: center;background-color: white;position: relative;}#sk-container-id-15 div.sk-item::before, #sk-container-id-15 div.sk-parallel-item::before {content: \"\";position: absolute;border-left: 1px solid gray;box-sizing: border-box;top: 0;bottom: 0;left: 50%;z-index: -1;}#sk-container-id-15 div.sk-parallel-item {display: flex;flex-direction: column;z-index: 1;position: relative;background-color: white;}#sk-container-id-15 div.sk-parallel-item:first-child::after {align-self: flex-end;width: 50%;}#sk-container-id-15 div.sk-parallel-item:last-child::after {align-self: flex-start;width: 50%;}#sk-container-id-15 div.sk-parallel-item:only-child::after {width: 0;}#sk-container-id-15 div.sk-dashed-wrapped {border: 1px dashed gray;margin: 0 0.4em 0.5em 0.4em;box-sizing: border-box;padding-bottom: 0.4em;background-color: white;}#sk-container-id-15 div.sk-label label {font-family: monospace;font-weight: bold;display: inline-block;line-height: 1.2em;}#sk-container-id-15 div.sk-label-container {text-align: center;}#sk-container-id-15 div.sk-container {/* jupyter's `normalize.less` sets `[hidden] { display: none; }` but bootstrap.min.css set `[hidden] { display: none !important; }` so we also need the `!important` here to be able to override the default hidden behavior on the sphinx rendered scikit-learn.org. See: https://github.com/scikit-learn/scikit-learn/issues/21755 */display: inline-block !important;position: relative;}#sk-container-id-15 div.sk-text-repr-fallback {display: none;}</style><div id=\"sk-container-id-15\" class=\"sk-top-container\"><div class=\"sk-text-repr-fallback\"><pre>Ridge(random_state=1)</pre><b>In a Jupyter environment, please rerun this cell to show the HTML representation or trust the notebook. <br />On GitHub, the HTML representation is unable to render, please try loading this page with nbviewer.org.</b></div><div class=\"sk-container\" hidden><div class=\"sk-item\"><div class=\"sk-estimator sk-toggleable\"><input class=\"sk-toggleable__control sk-hidden--visually\" id=\"sk-estimator-id-15\" type=\"checkbox\" checked><label for=\"sk-estimator-id-15\" class=\"sk-toggleable__label sk-toggleable__label-arrow\">Ridge</label><div class=\"sk-toggleable__content\"><pre>Ridge(random_state=1)</pre></div></div></div></div></div>"
            ]
          },
          "metadata": {},
          "execution_count": 146
        }
      ]
    },
    {
      "cell_type": "code",
      "source": [
        "# получаем предсказания\n",
        "predictions = ridge.predict(X_test)"
      ],
      "metadata": {
        "id": "F-awXzQKDflE"
      },
      "execution_count": 147,
      "outputs": []
    },
    {
      "cell_type": "code",
      "source": [
        "# вычислим значение r2\n",
        "r2_3 = round(r2_score(y_test, predictions), 5)"
      ],
      "metadata": {
        "id": "tF5gWOA2DflE"
      },
      "execution_count": 148,
      "outputs": []
    },
    {
      "cell_type": "code",
      "source": [
        "# выведем значение r2\n",
        "print(r2_3)"
      ],
      "metadata": {
        "colab": {
          "base_uri": "https://localhost:8080/"
        },
        "outputId": "66cf6e64-fa76-43d3-81e0-903c4a50f6a6",
        "id": "oLMqmBZEDflF"
      },
      "execution_count": 149,
      "outputs": [
        {
          "output_type": "stream",
          "name": "stdout",
          "text": [
            "0.93631\n"
          ]
        }
      ]
    },
    {
      "cell_type": "markdown",
      "source": [
        "### **6.4 Нормирование X_train и X_test с помощью StandardScaler, который обучен на всем X**\n",
        "\n",
        "---"
      ],
      "metadata": {
        "id": "3tO2VDt7DflF"
      }
    },
    {
      "cell_type": "code",
      "source": [
        "# формируем обучающую и тестовую выборку\n",
        "X_train, X_test, y_train, y_test = train_test_split(\n",
        "    X, y, test_size = 0.33, random_state = 42)"
      ],
      "metadata": {
        "id": "hMSAkPlFDflF"
      },
      "execution_count": 150,
      "outputs": []
    },
    {
      "cell_type": "code",
      "source": [
        "# Изменяем датасет X_train\n",
        "X_train[4] = X_train[4] * 2.5\n",
        "X_train[9] = X_train[9] * 5.5\n",
        "X_train[14] = X_train[14] * 7.7\n",
        "\n",
        "# изменяем датасет X_test\n",
        "X_test[4] = X_test[4] * 2 + 0.5\n",
        "X_test[9] = X_test[9] * 5 + 1\n",
        "X_test[14] = X_test[14] * 7 + 1.5"
      ],
      "metadata": {
        "id": "Fztzu_3xDflF"
      },
      "execution_count": 151,
      "outputs": []
    },
    {
      "cell_type": "code",
      "source": [
        "# объявляем объект StandardScaler для X (полный набор признаков для обучения)\n",
        "scaler = StandardScaler()"
      ],
      "metadata": {
        "id": "Lyp-aDDqDflG"
      },
      "execution_count": 152,
      "outputs": []
    },
    {
      "cell_type": "code",
      "source": [
        "# обучаем StandardScaler на датасете X\n",
        "scaler.fit(X)"
      ],
      "metadata": {
        "colab": {
          "base_uri": "https://localhost:8080/",
          "height": 74
        },
        "outputId": "0dbfe0e9-59ca-456a-d582-81c9722babb6",
        "id": "FcgIzdvPDflG"
      },
      "execution_count": 153,
      "outputs": [
        {
          "output_type": "execute_result",
          "data": {
            "text/plain": [
              "StandardScaler()"
            ],
            "text/html": [
              "<style>#sk-container-id-16 {color: black;background-color: white;}#sk-container-id-16 pre{padding: 0;}#sk-container-id-16 div.sk-toggleable {background-color: white;}#sk-container-id-16 label.sk-toggleable__label {cursor: pointer;display: block;width: 100%;margin-bottom: 0;padding: 0.3em;box-sizing: border-box;text-align: center;}#sk-container-id-16 label.sk-toggleable__label-arrow:before {content: \"▸\";float: left;margin-right: 0.25em;color: #696969;}#sk-container-id-16 label.sk-toggleable__label-arrow:hover:before {color: black;}#sk-container-id-16 div.sk-estimator:hover label.sk-toggleable__label-arrow:before {color: black;}#sk-container-id-16 div.sk-toggleable__content {max-height: 0;max-width: 0;overflow: hidden;text-align: left;background-color: #f0f8ff;}#sk-container-id-16 div.sk-toggleable__content pre {margin: 0.2em;color: black;border-radius: 0.25em;background-color: #f0f8ff;}#sk-container-id-16 input.sk-toggleable__control:checked~div.sk-toggleable__content {max-height: 200px;max-width: 100%;overflow: auto;}#sk-container-id-16 input.sk-toggleable__control:checked~label.sk-toggleable__label-arrow:before {content: \"▾\";}#sk-container-id-16 div.sk-estimator input.sk-toggleable__control:checked~label.sk-toggleable__label {background-color: #d4ebff;}#sk-container-id-16 div.sk-label input.sk-toggleable__control:checked~label.sk-toggleable__label {background-color: #d4ebff;}#sk-container-id-16 input.sk-hidden--visually {border: 0;clip: rect(1px 1px 1px 1px);clip: rect(1px, 1px, 1px, 1px);height: 1px;margin: -1px;overflow: hidden;padding: 0;position: absolute;width: 1px;}#sk-container-id-16 div.sk-estimator {font-family: monospace;background-color: #f0f8ff;border: 1px dotted black;border-radius: 0.25em;box-sizing: border-box;margin-bottom: 0.5em;}#sk-container-id-16 div.sk-estimator:hover {background-color: #d4ebff;}#sk-container-id-16 div.sk-parallel-item::after {content: \"\";width: 100%;border-bottom: 1px solid gray;flex-grow: 1;}#sk-container-id-16 div.sk-label:hover label.sk-toggleable__label {background-color: #d4ebff;}#sk-container-id-16 div.sk-serial::before {content: \"\";position: absolute;border-left: 1px solid gray;box-sizing: border-box;top: 0;bottom: 0;left: 50%;z-index: 0;}#sk-container-id-16 div.sk-serial {display: flex;flex-direction: column;align-items: center;background-color: white;padding-right: 0.2em;padding-left: 0.2em;position: relative;}#sk-container-id-16 div.sk-item {position: relative;z-index: 1;}#sk-container-id-16 div.sk-parallel {display: flex;align-items: stretch;justify-content: center;background-color: white;position: relative;}#sk-container-id-16 div.sk-item::before, #sk-container-id-16 div.sk-parallel-item::before {content: \"\";position: absolute;border-left: 1px solid gray;box-sizing: border-box;top: 0;bottom: 0;left: 50%;z-index: -1;}#sk-container-id-16 div.sk-parallel-item {display: flex;flex-direction: column;z-index: 1;position: relative;background-color: white;}#sk-container-id-16 div.sk-parallel-item:first-child::after {align-self: flex-end;width: 50%;}#sk-container-id-16 div.sk-parallel-item:last-child::after {align-self: flex-start;width: 50%;}#sk-container-id-16 div.sk-parallel-item:only-child::after {width: 0;}#sk-container-id-16 div.sk-dashed-wrapped {border: 1px dashed gray;margin: 0 0.4em 0.5em 0.4em;box-sizing: border-box;padding-bottom: 0.4em;background-color: white;}#sk-container-id-16 div.sk-label label {font-family: monospace;font-weight: bold;display: inline-block;line-height: 1.2em;}#sk-container-id-16 div.sk-label-container {text-align: center;}#sk-container-id-16 div.sk-container {/* jupyter's `normalize.less` sets `[hidden] { display: none; }` but bootstrap.min.css set `[hidden] { display: none !important; }` so we also need the `!important` here to be able to override the default hidden behavior on the sphinx rendered scikit-learn.org. See: https://github.com/scikit-learn/scikit-learn/issues/21755 */display: inline-block !important;position: relative;}#sk-container-id-16 div.sk-text-repr-fallback {display: none;}</style><div id=\"sk-container-id-16\" class=\"sk-top-container\"><div class=\"sk-text-repr-fallback\"><pre>StandardScaler()</pre><b>In a Jupyter environment, please rerun this cell to show the HTML representation or trust the notebook. <br />On GitHub, the HTML representation is unable to render, please try loading this page with nbviewer.org.</b></div><div class=\"sk-container\" hidden><div class=\"sk-item\"><div class=\"sk-estimator sk-toggleable\"><input class=\"sk-toggleable__control sk-hidden--visually\" id=\"sk-estimator-id-16\" type=\"checkbox\" checked><label for=\"sk-estimator-id-16\" class=\"sk-toggleable__label sk-toggleable__label-arrow\">StandardScaler</label><div class=\"sk-toggleable__content\"><pre>StandardScaler()</pre></div></div></div></div></div>"
            ]
          },
          "metadata": {},
          "execution_count": 153
        }
      ]
    },
    {
      "cell_type": "code",
      "source": [
        "# применяем StandardScaler к датасету X_train\n",
        "X_train = scaler.transform(X_train)"
      ],
      "metadata": {
        "id": "TawtEM4gDflG"
      },
      "execution_count": 154,
      "outputs": []
    },
    {
      "cell_type": "code",
      "source": [
        "# применяем StandardScaler к датасету X_test\n",
        "X_test = scaler.transform(X_test)"
      ],
      "metadata": {
        "id": "jaDe1o5_DflG"
      },
      "execution_count": 155,
      "outputs": []
    },
    {
      "cell_type": "code",
      "source": [
        "# объявляем модель Ridge\n",
        "ridge = Ridge(random_state = 1)"
      ],
      "metadata": {
        "id": "AoNv3NZvDflH"
      },
      "execution_count": 156,
      "outputs": []
    },
    {
      "cell_type": "code",
      "source": [
        "# обучаем модель\n",
        "ridge.fit(X_train, y_train)"
      ],
      "metadata": {
        "colab": {
          "base_uri": "https://localhost:8080/",
          "height": 74
        },
        "outputId": "abacb724-3d23-4473-85f3-ce160164e6a3",
        "id": "Ypz4v-rNDflH"
      },
      "execution_count": 157,
      "outputs": [
        {
          "output_type": "execute_result",
          "data": {
            "text/plain": [
              "Ridge(random_state=1)"
            ],
            "text/html": [
              "<style>#sk-container-id-17 {color: black;background-color: white;}#sk-container-id-17 pre{padding: 0;}#sk-container-id-17 div.sk-toggleable {background-color: white;}#sk-container-id-17 label.sk-toggleable__label {cursor: pointer;display: block;width: 100%;margin-bottom: 0;padding: 0.3em;box-sizing: border-box;text-align: center;}#sk-container-id-17 label.sk-toggleable__label-arrow:before {content: \"▸\";float: left;margin-right: 0.25em;color: #696969;}#sk-container-id-17 label.sk-toggleable__label-arrow:hover:before {color: black;}#sk-container-id-17 div.sk-estimator:hover label.sk-toggleable__label-arrow:before {color: black;}#sk-container-id-17 div.sk-toggleable__content {max-height: 0;max-width: 0;overflow: hidden;text-align: left;background-color: #f0f8ff;}#sk-container-id-17 div.sk-toggleable__content pre {margin: 0.2em;color: black;border-radius: 0.25em;background-color: #f0f8ff;}#sk-container-id-17 input.sk-toggleable__control:checked~div.sk-toggleable__content {max-height: 200px;max-width: 100%;overflow: auto;}#sk-container-id-17 input.sk-toggleable__control:checked~label.sk-toggleable__label-arrow:before {content: \"▾\";}#sk-container-id-17 div.sk-estimator input.sk-toggleable__control:checked~label.sk-toggleable__label {background-color: #d4ebff;}#sk-container-id-17 div.sk-label input.sk-toggleable__control:checked~label.sk-toggleable__label {background-color: #d4ebff;}#sk-container-id-17 input.sk-hidden--visually {border: 0;clip: rect(1px 1px 1px 1px);clip: rect(1px, 1px, 1px, 1px);height: 1px;margin: -1px;overflow: hidden;padding: 0;position: absolute;width: 1px;}#sk-container-id-17 div.sk-estimator {font-family: monospace;background-color: #f0f8ff;border: 1px dotted black;border-radius: 0.25em;box-sizing: border-box;margin-bottom: 0.5em;}#sk-container-id-17 div.sk-estimator:hover {background-color: #d4ebff;}#sk-container-id-17 div.sk-parallel-item::after {content: \"\";width: 100%;border-bottom: 1px solid gray;flex-grow: 1;}#sk-container-id-17 div.sk-label:hover label.sk-toggleable__label {background-color: #d4ebff;}#sk-container-id-17 div.sk-serial::before {content: \"\";position: absolute;border-left: 1px solid gray;box-sizing: border-box;top: 0;bottom: 0;left: 50%;z-index: 0;}#sk-container-id-17 div.sk-serial {display: flex;flex-direction: column;align-items: center;background-color: white;padding-right: 0.2em;padding-left: 0.2em;position: relative;}#sk-container-id-17 div.sk-item {position: relative;z-index: 1;}#sk-container-id-17 div.sk-parallel {display: flex;align-items: stretch;justify-content: center;background-color: white;position: relative;}#sk-container-id-17 div.sk-item::before, #sk-container-id-17 div.sk-parallel-item::before {content: \"\";position: absolute;border-left: 1px solid gray;box-sizing: border-box;top: 0;bottom: 0;left: 50%;z-index: -1;}#sk-container-id-17 div.sk-parallel-item {display: flex;flex-direction: column;z-index: 1;position: relative;background-color: white;}#sk-container-id-17 div.sk-parallel-item:first-child::after {align-self: flex-end;width: 50%;}#sk-container-id-17 div.sk-parallel-item:last-child::after {align-self: flex-start;width: 50%;}#sk-container-id-17 div.sk-parallel-item:only-child::after {width: 0;}#sk-container-id-17 div.sk-dashed-wrapped {border: 1px dashed gray;margin: 0 0.4em 0.5em 0.4em;box-sizing: border-box;padding-bottom: 0.4em;background-color: white;}#sk-container-id-17 div.sk-label label {font-family: monospace;font-weight: bold;display: inline-block;line-height: 1.2em;}#sk-container-id-17 div.sk-label-container {text-align: center;}#sk-container-id-17 div.sk-container {/* jupyter's `normalize.less` sets `[hidden] { display: none; }` but bootstrap.min.css set `[hidden] { display: none !important; }` so we also need the `!important` here to be able to override the default hidden behavior on the sphinx rendered scikit-learn.org. See: https://github.com/scikit-learn/scikit-learn/issues/21755 */display: inline-block !important;position: relative;}#sk-container-id-17 div.sk-text-repr-fallback {display: none;}</style><div id=\"sk-container-id-17\" class=\"sk-top-container\"><div class=\"sk-text-repr-fallback\"><pre>Ridge(random_state=1)</pre><b>In a Jupyter environment, please rerun this cell to show the HTML representation or trust the notebook. <br />On GitHub, the HTML representation is unable to render, please try loading this page with nbviewer.org.</b></div><div class=\"sk-container\" hidden><div class=\"sk-item\"><div class=\"sk-estimator sk-toggleable\"><input class=\"sk-toggleable__control sk-hidden--visually\" id=\"sk-estimator-id-17\" type=\"checkbox\" checked><label for=\"sk-estimator-id-17\" class=\"sk-toggleable__label sk-toggleable__label-arrow\">Ridge</label><div class=\"sk-toggleable__content\"><pre>Ridge(random_state=1)</pre></div></div></div></div></div>"
            ]
          },
          "metadata": {},
          "execution_count": 157
        }
      ]
    },
    {
      "cell_type": "code",
      "source": [
        "# получаем предсказания\n",
        "predictions = ridge.predict(X_test)"
      ],
      "metadata": {
        "id": "NQOMGnIbDflH"
      },
      "execution_count": 158,
      "outputs": []
    },
    {
      "cell_type": "code",
      "source": [
        "# вычислим значение r2\n",
        "r2_4 = round(r2_score(y_test, predictions), 5)"
      ],
      "metadata": {
        "id": "Kcx-Oa-bDflH"
      },
      "execution_count": 159,
      "outputs": []
    },
    {
      "cell_type": "code",
      "source": [
        "# выведем значение r2\n",
        "print(r2_4)"
      ],
      "metadata": {
        "colab": {
          "base_uri": "https://localhost:8080/"
        },
        "outputId": "061a5d88-8ee8-4e0c-de10-5c2cdd1e8c19",
        "id": "UZKukVTjDflI"
      },
      "execution_count": 160,
      "outputs": [
        {
          "output_type": "stream",
          "name": "stdout",
          "text": [
            "0.98188\n"
          ]
        }
      ]
    },
    {
      "cell_type": "markdown",
      "source": [
        "### **6.5 Результаты обучения**\n",
        "\n",
        "---"
      ],
      "metadata": {
        "id": "1VrfeH__DflI"
      }
    },
    {
      "cell_type": "code",
      "source": [
        "# создаем результирующую таблицу\n",
        "summary_results = pd.DataFrame(\n",
        "    {'1': ['Признаки без нормирования', r2_1],\n",
        "     '2': ['X_train и X_test нормированы на X_train', r2_2],\n",
        "     '3': ['X_train и X_test нормированы раздельно', r2_3],\n",
        "     '4': ['X_train и X_test нормированы на Х', r2_4]\n",
        "     }\n",
        ")\n",
        "\n",
        "summary_results = summary_results.T\n",
        "summary_results.columns = ['Способ нормирования',\n",
        "                          'Метрика r2']\n",
        "\n",
        "summary_results = \\\n",
        "    summary_results \\\n",
        "    .sort_values(by = 'Метрика r2',\n",
        "                 ascending = False) \\\n",
        "    .reset_index(drop = True)"
      ],
      "metadata": {
        "id": "4kB0tliXDflI"
      },
      "execution_count": 161,
      "outputs": []
    },
    {
      "cell_type": "code",
      "source": [
        "# выведем результирующую таблицу\n",
        "cm = sns.light_palette('teal',\n",
        "                       as_cmap = True)\n",
        "\n",
        "summary_results.style.background_gradient(cmap = cm,\n",
        "                                          subset = 'Метрика r2',\n",
        "                                          text_color_threshold = 0.30,\n",
        "                                          low = 0.9)"
      ],
      "metadata": {
        "colab": {
          "base_uri": "https://localhost:8080/",
          "height": 175
        },
        "outputId": "ccd1d01a-76e8-4c15-b680-885305bb5278",
        "id": "x0SjTK84DflI"
      },
      "execution_count": 162,
      "outputs": [
        {
          "output_type": "execute_result",
          "data": {
            "text/plain": [
              "<pandas.io.formats.style.Styler at 0x7f20d483d870>"
            ],
            "text/html": [
              "<style type=\"text/css\">\n",
              "#T_eb991_row0_col1, #T_eb991_row1_col1, #T_eb991_row2_col1 {\n",
              "  background-color: #008080;\n",
              "  color: #f1f1f1;\n",
              "}\n",
              "#T_eb991_row3_col1 {\n",
              "  background-color: #7abcbc;\n",
              "  color: #000000;\n",
              "}\n",
              "</style>\n",
              "<table id=\"T_eb991\" class=\"dataframe\">\n",
              "  <thead>\n",
              "    <tr>\n",
              "      <th class=\"blank level0\" >&nbsp;</th>\n",
              "      <th id=\"T_eb991_level0_col0\" class=\"col_heading level0 col0\" >Способ нормирования</th>\n",
              "      <th id=\"T_eb991_level0_col1\" class=\"col_heading level0 col1\" >Метрика r2</th>\n",
              "    </tr>\n",
              "  </thead>\n",
              "  <tbody>\n",
              "    <tr>\n",
              "      <th id=\"T_eb991_level0_row0\" class=\"row_heading level0 row0\" >0</th>\n",
              "      <td id=\"T_eb991_row0_col0\" class=\"data row0 col0\" >Признаки без нормирования</td>\n",
              "      <td id=\"T_eb991_row0_col1\" class=\"data row0 col1\" >0.981940</td>\n",
              "    </tr>\n",
              "    <tr>\n",
              "      <th id=\"T_eb991_level0_row1\" class=\"row_heading level0 row1\" >1</th>\n",
              "      <td id=\"T_eb991_row1_col0\" class=\"data row1 col0\" >X_train и X_test нормированы на Х</td>\n",
              "      <td id=\"T_eb991_row1_col1\" class=\"data row1 col1\" >0.981880</td>\n",
              "    </tr>\n",
              "    <tr>\n",
              "      <th id=\"T_eb991_level0_row2\" class=\"row_heading level0 row2\" >2</th>\n",
              "      <td id=\"T_eb991_row2_col0\" class=\"data row2 col0\" >X_train и X_test нормированы на X_train</td>\n",
              "      <td id=\"T_eb991_row2_col1\" class=\"data row2 col1\" >0.981710</td>\n",
              "    </tr>\n",
              "    <tr>\n",
              "      <th id=\"T_eb991_level0_row3\" class=\"row_heading level0 row3\" >3</th>\n",
              "      <td id=\"T_eb991_row3_col0\" class=\"data row3 col0\" >X_train и X_test нормированы раздельно</td>\n",
              "      <td id=\"T_eb991_row3_col1\" class=\"data row3 col1\" >0.936310</td>\n",
              "    </tr>\n",
              "  </tbody>\n",
              "</table>\n"
            ]
          },
          "metadata": {},
          "execution_count": 162
        }
      ]
    },
    {
      "cell_type": "markdown",
      "source": [
        "# <font color='green'>**Вопрос 7**<font>\n",
        "\n",
        "---"
      ],
      "metadata": {
        "id": "dMDyZa7KDflJ"
      }
    },
    {
      "cell_type": "markdown",
      "source": [
        "**Работаем с датасетом, определенном в вопросе 4 (где 5й,10й,15й признаки увеличены). Разобьём на трейн и тест как в вопросе 4. Используем нормированные признаки и Ridge(random_state=1):**\n",
        "\n",
        "**Теперь давайте сделаем пропущенные значения для важного признака:\n",
        "X_train.loc[X_train['x1'].isin(X_train['x1'].sample(smpl, random_state=1+exp)), 'x1'] = np.nan,\n",
        "где попробуем 5 вариантов случайности exp = range(5). smpl - кол-во пропущенных значений.**\n",
        "\n",
        "**Ответьте на вопросы 1-2.**\n",
        "\n",
        "**Потом сделаем пропущенные значения только для неважного признака:\n",
        "X_train.loc[X_train['x10'].isin(X_train['x10'].sample(smpl, random_state=1+exp)), 'x10'] = np.nan,\n",
        "где попробуем 5 вариантов случайности exp = range(5).**\n",
        "\n",
        "**Ответьте на вопросы 3-4.**"
      ],
      "metadata": {
        "id": "kkFD9-qEIji7"
      }
    },
    {
      "cell_type": "markdown",
      "source": [
        "* При 0-60% пропущенных значений, заполнение средним по x1 работает лучше для важного признака, чем отбрасывание наблюдений с пропущенными значениями\n",
        "* Для 70-90% пропущенных значений, заполнение средним по x1 работает лучше для важного признака, чем отбрасывание наблюдений с пропущенными значениями\n",
        "* При 0-60% пропущенных значений, заполнение средним по x10 работает в среднем лучше для неважного признака, чем отбрасывание наблюдений с пропущенными значениями\n",
        "* Для 70-90% пропущенных значений, заполнение средним по x10 работает лучше для неважного признака, чем отбрасывание наблюдений с пропущенными значениями"
      ],
      "metadata": {
        "id": "Wv_GoTByJB2l"
      }
    },
    {
      "cell_type": "code",
      "source": [
        "# создадим копию датасета с исходными ненормированными признаками\n",
        "# для выполнения задачи\n",
        "X = pd.DataFrame(features.copy())"
      ],
      "metadata": {
        "id": "mh8Ils2tJvpa"
      },
      "execution_count": 163,
      "outputs": []
    },
    {
      "cell_type": "code",
      "source": [
        "# изменяем исходные данные\n",
        "X[4] = X[4] + 5\n",
        "X[9] = X[9] + 10\n",
        "X[14] = X[14] + 15"
      ],
      "metadata": {
        "id": "JDh89flVJvpy"
      },
      "execution_count": 164,
      "outputs": []
    },
    {
      "cell_type": "code",
      "source": [
        "# сохраним целевой признак в DataFrame\n",
        "y = pd.DataFrame(target)"
      ],
      "metadata": {
        "id": "nqB72njuJvpz"
      },
      "execution_count": 165,
      "outputs": []
    },
    {
      "cell_type": "code",
      "source": [
        "# выведем значение коэффициента для 1-го признака\n",
        "coef_1 = round(coefs[0], 4)\n",
        "coef_1"
      ],
      "metadata": {
        "colab": {
          "base_uri": "https://localhost:8080/"
        },
        "id": "FZ7bCM485GzK",
        "outputId": "4713cf41-df1c-42c8-e64b-bb415aaef65a"
      },
      "execution_count": 166,
      "outputs": [
        {
          "output_type": "execute_result",
          "data": {
            "text/plain": [
              "6.601"
            ]
          },
          "metadata": {},
          "execution_count": 166
        }
      ]
    },
    {
      "cell_type": "code",
      "source": [
        "# выведем значение коэффициента для 10-го признака\n",
        "coef_10 = round(coefs[9], 4)\n",
        "coef_10"
      ],
      "metadata": {
        "colab": {
          "base_uri": "https://localhost:8080/"
        },
        "id": "swYaOZFd5VhX",
        "outputId": "1fbeab46-32ef-4bea-d43a-0ca42405c6c5"
      },
      "execution_count": 167,
      "outputs": [
        {
          "output_type": "execute_result",
          "data": {
            "text/plain": [
              "34.8821"
            ]
          },
          "metadata": {},
          "execution_count": 167
        }
      ]
    },
    {
      "cell_type": "markdown",
      "source": [
        "## **7.1 Заполнение пропущенных значений для важного признака**\n",
        "\n",
        "---"
      ],
      "metadata": {
        "id": "A0yx-8U4Kas3"
      }
    },
    {
      "cell_type": "markdown",
      "source": [
        "### **7.1.1 Количество пропусков 0-60%**\n",
        "\n",
        "---"
      ],
      "metadata": {
        "id": "ubGqYsg5bto5"
      }
    },
    {
      "cell_type": "markdown",
      "source": [
        "Обучим модель, **удалив все наблюдения с пропущенными значениями**."
      ],
      "metadata": {
        "id": "_USMjE5-cpsK"
      }
    },
    {
      "cell_type": "code",
      "source": [
        "# формируем обучающую и тестовую выборку\n",
        "X_train, X_test, y_train, y_test = train_test_split(\n",
        "    X, y, test_size = 0.33, random_state = 42)"
      ],
      "metadata": {
        "id": "XZyfhKVYJvp1"
      },
      "execution_count": 168,
      "outputs": []
    },
    {
      "cell_type": "code",
      "source": [
        "# объявляем объект StandardScaler\n",
        "scaler = StandardScaler()"
      ],
      "metadata": {
        "id": "sLe_6mMGJvp2"
      },
      "execution_count": 169,
      "outputs": []
    },
    {
      "cell_type": "code",
      "source": [
        "# обучаем и применяем StandardScaler к датасету X_train\n",
        "X_train = scaler.fit_transform(X_train)"
      ],
      "metadata": {
        "id": "v-uu62FpJvp2"
      },
      "execution_count": 170,
      "outputs": []
    },
    {
      "cell_type": "code",
      "source": [
        "# применяем StandardScaler к датасету X_test\n",
        "X_test = scaler.transform(X_test)"
      ],
      "metadata": {
        "id": "hK9fYw4fJvp3"
      },
      "execution_count": 171,
      "outputs": []
    },
    {
      "cell_type": "code",
      "source": [
        "# сохраним обучающие признаки в DataFrame\n",
        "X_train = pd.DataFrame(X_train)"
      ],
      "metadata": {
        "id": "PRiPxpDvV9Ot"
      },
      "execution_count": 172,
      "outputs": []
    },
    {
      "cell_type": "code",
      "source": [
        "# создадим пропуски в диапазоне 0-60% от общего числа значений\n",
        "X_train.loc[X_train[0].isin(X_train[0].sample(30, random_state=1)), 0] = np.nan"
      ],
      "metadata": {
        "id": "V5JgjfNtKXWa"
      },
      "execution_count": 173,
      "outputs": []
    },
    {
      "cell_type": "code",
      "source": [
        "# проверим наличие пропусков в признаке X_train[0] в %\n",
        "round(X_train[0].isna().sum() / X_train.shape[0], 4) * 100"
      ],
      "metadata": {
        "id": "G2gvfiQCKXaJ",
        "colab": {
          "base_uri": "https://localhost:8080/"
        },
        "outputId": "abe3a514-ebf1-45d7-b9b1-9e6ae5ad806a"
      },
      "execution_count": 174,
      "outputs": [
        {
          "output_type": "execute_result",
          "data": {
            "text/plain": [
              "44.78"
            ]
          },
          "metadata": {},
          "execution_count": 174
        }
      ]
    },
    {
      "cell_type": "code",
      "source": [
        "# сбрасываем индексы\n",
        "X_train.reset_index(drop = True, inplace = True)\n",
        "\n",
        "# выведем новые значения индексов\n",
        "X_train.index"
      ],
      "metadata": {
        "colab": {
          "base_uri": "https://localhost:8080/"
        },
        "id": "oN-Nd2XCehAb",
        "outputId": "ab11b88a-a6df-4c83-fa19-96635976c52d"
      },
      "execution_count": 175,
      "outputs": [
        {
          "output_type": "execute_result",
          "data": {
            "text/plain": [
              "RangeIndex(start=0, stop=67, step=1)"
            ]
          },
          "metadata": {},
          "execution_count": 175
        }
      ]
    },
    {
      "cell_type": "code",
      "source": [
        "# сбрасываем индексы\n",
        "y_train.reset_index(drop = True, inplace = True)\n",
        "\n",
        "# выведем новые значения индексов\n",
        "y_train.index"
      ],
      "metadata": {
        "colab": {
          "base_uri": "https://localhost:8080/"
        },
        "id": "wF-mi92SkgLj",
        "outputId": "1e9c2892-0c18-447c-df61-2e145547bfc3"
      },
      "execution_count": 176,
      "outputs": [
        {
          "output_type": "execute_result",
          "data": {
            "text/plain": [
              "RangeIndex(start=0, stop=67, step=1)"
            ]
          },
          "metadata": {},
          "execution_count": 176
        }
      ]
    },
    {
      "cell_type": "code",
      "source": [
        "# удаляем их X_train строки с пропусками в признаке [0]\n",
        "X_train.dropna(inplace = True)\n",
        "X_train.shape"
      ],
      "metadata": {
        "colab": {
          "base_uri": "https://localhost:8080/"
        },
        "id": "BVwV_7gkehDc",
        "outputId": "889addfb-dc2b-465d-abbe-5ba34e6b65de"
      },
      "execution_count": 177,
      "outputs": [
        {
          "output_type": "execute_result",
          "data": {
            "text/plain": [
              "(37, 20)"
            ]
          },
          "metadata": {},
          "execution_count": 177
        }
      ]
    },
    {
      "cell_type": "code",
      "source": [
        "# отфильтруем из датасета y_train только строки,\n",
        "# соответствующие строкам датасета X_train\n",
        "y_train = y_train.loc[y_train.index.intersection(X_train.index)]\n",
        "y_train.shape"
      ],
      "metadata": {
        "colab": {
          "base_uri": "https://localhost:8080/"
        },
        "id": "mLbfFHFNehGm",
        "outputId": "56155fcf-db67-4667-e443-6c7f5210e51d"
      },
      "execution_count": 178,
      "outputs": [
        {
          "output_type": "execute_result",
          "data": {
            "text/plain": [
              "(37, 1)"
            ]
          },
          "metadata": {},
          "execution_count": 178
        }
      ]
    },
    {
      "cell_type": "code",
      "source": [
        "# объявим модель\n",
        "ridge = Ridge(random_state = 1)"
      ],
      "metadata": {
        "id": "iz438KBlehMq"
      },
      "execution_count": 179,
      "outputs": []
    },
    {
      "cell_type": "code",
      "source": [
        "# обучаем модель\n",
        "ridge.fit(X_train, y_train)"
      ],
      "metadata": {
        "id": "yotzMThjnK7z",
        "colab": {
          "base_uri": "https://localhost:8080/",
          "height": 74
        },
        "outputId": "90a8baaa-e686-42e3-fc15-9e80c865945c"
      },
      "execution_count": 180,
      "outputs": [
        {
          "output_type": "execute_result",
          "data": {
            "text/plain": [
              "Ridge(random_state=1)"
            ],
            "text/html": [
              "<style>#sk-container-id-18 {color: black;background-color: white;}#sk-container-id-18 pre{padding: 0;}#sk-container-id-18 div.sk-toggleable {background-color: white;}#sk-container-id-18 label.sk-toggleable__label {cursor: pointer;display: block;width: 100%;margin-bottom: 0;padding: 0.3em;box-sizing: border-box;text-align: center;}#sk-container-id-18 label.sk-toggleable__label-arrow:before {content: \"▸\";float: left;margin-right: 0.25em;color: #696969;}#sk-container-id-18 label.sk-toggleable__label-arrow:hover:before {color: black;}#sk-container-id-18 div.sk-estimator:hover label.sk-toggleable__label-arrow:before {color: black;}#sk-container-id-18 div.sk-toggleable__content {max-height: 0;max-width: 0;overflow: hidden;text-align: left;background-color: #f0f8ff;}#sk-container-id-18 div.sk-toggleable__content pre {margin: 0.2em;color: black;border-radius: 0.25em;background-color: #f0f8ff;}#sk-container-id-18 input.sk-toggleable__control:checked~div.sk-toggleable__content {max-height: 200px;max-width: 100%;overflow: auto;}#sk-container-id-18 input.sk-toggleable__control:checked~label.sk-toggleable__label-arrow:before {content: \"▾\";}#sk-container-id-18 div.sk-estimator input.sk-toggleable__control:checked~label.sk-toggleable__label {background-color: #d4ebff;}#sk-container-id-18 div.sk-label input.sk-toggleable__control:checked~label.sk-toggleable__label {background-color: #d4ebff;}#sk-container-id-18 input.sk-hidden--visually {border: 0;clip: rect(1px 1px 1px 1px);clip: rect(1px, 1px, 1px, 1px);height: 1px;margin: -1px;overflow: hidden;padding: 0;position: absolute;width: 1px;}#sk-container-id-18 div.sk-estimator {font-family: monospace;background-color: #f0f8ff;border: 1px dotted black;border-radius: 0.25em;box-sizing: border-box;margin-bottom: 0.5em;}#sk-container-id-18 div.sk-estimator:hover {background-color: #d4ebff;}#sk-container-id-18 div.sk-parallel-item::after {content: \"\";width: 100%;border-bottom: 1px solid gray;flex-grow: 1;}#sk-container-id-18 div.sk-label:hover label.sk-toggleable__label {background-color: #d4ebff;}#sk-container-id-18 div.sk-serial::before {content: \"\";position: absolute;border-left: 1px solid gray;box-sizing: border-box;top: 0;bottom: 0;left: 50%;z-index: 0;}#sk-container-id-18 div.sk-serial {display: flex;flex-direction: column;align-items: center;background-color: white;padding-right: 0.2em;padding-left: 0.2em;position: relative;}#sk-container-id-18 div.sk-item {position: relative;z-index: 1;}#sk-container-id-18 div.sk-parallel {display: flex;align-items: stretch;justify-content: center;background-color: white;position: relative;}#sk-container-id-18 div.sk-item::before, #sk-container-id-18 div.sk-parallel-item::before {content: \"\";position: absolute;border-left: 1px solid gray;box-sizing: border-box;top: 0;bottom: 0;left: 50%;z-index: -1;}#sk-container-id-18 div.sk-parallel-item {display: flex;flex-direction: column;z-index: 1;position: relative;background-color: white;}#sk-container-id-18 div.sk-parallel-item:first-child::after {align-self: flex-end;width: 50%;}#sk-container-id-18 div.sk-parallel-item:last-child::after {align-self: flex-start;width: 50%;}#sk-container-id-18 div.sk-parallel-item:only-child::after {width: 0;}#sk-container-id-18 div.sk-dashed-wrapped {border: 1px dashed gray;margin: 0 0.4em 0.5em 0.4em;box-sizing: border-box;padding-bottom: 0.4em;background-color: white;}#sk-container-id-18 div.sk-label label {font-family: monospace;font-weight: bold;display: inline-block;line-height: 1.2em;}#sk-container-id-18 div.sk-label-container {text-align: center;}#sk-container-id-18 div.sk-container {/* jupyter's `normalize.less` sets `[hidden] { display: none; }` but bootstrap.min.css set `[hidden] { display: none !important; }` so we also need the `!important` here to be able to override the default hidden behavior on the sphinx rendered scikit-learn.org. See: https://github.com/scikit-learn/scikit-learn/issues/21755 */display: inline-block !important;position: relative;}#sk-container-id-18 div.sk-text-repr-fallback {display: none;}</style><div id=\"sk-container-id-18\" class=\"sk-top-container\"><div class=\"sk-text-repr-fallback\"><pre>Ridge(random_state=1)</pre><b>In a Jupyter environment, please rerun this cell to show the HTML representation or trust the notebook. <br />On GitHub, the HTML representation is unable to render, please try loading this page with nbviewer.org.</b></div><div class=\"sk-container\" hidden><div class=\"sk-item\"><div class=\"sk-estimator sk-toggleable\"><input class=\"sk-toggleable__control sk-hidden--visually\" id=\"sk-estimator-id-18\" type=\"checkbox\" checked><label for=\"sk-estimator-id-18\" class=\"sk-toggleable__label sk-toggleable__label-arrow\">Ridge</label><div class=\"sk-toggleable__content\"><pre>Ridge(random_state=1)</pre></div></div></div></div></div>"
            ]
          },
          "metadata": {},
          "execution_count": 180
        }
      ]
    },
    {
      "cell_type": "code",
      "source": [
        "# получим значение коэффициента признака\n",
        "round(ridge.coef_[0, 0], 4)"
      ],
      "metadata": {
        "id": "RmYIkMRXnK-7",
        "colab": {
          "base_uri": "https://localhost:8080/"
        },
        "outputId": "644b62e1-9ad6-43a1-fce8-8c0f66763b3d"
      },
      "execution_count": 181,
      "outputs": [
        {
          "output_type": "execute_result",
          "data": {
            "text/plain": [
              "6.205"
            ]
          },
          "metadata": {},
          "execution_count": 181
        }
      ]
    },
    {
      "cell_type": "markdown",
      "source": [
        "Обучим модель, **заполнив все пропуски средним значением**."
      ],
      "metadata": {
        "id": "NXIzGZ9C-2gW"
      }
    },
    {
      "cell_type": "code",
      "source": [
        "# формируем обучающую и тестовую выборку\n",
        "X_train, X_test, y_train, y_test = train_test_split(\n",
        "    X, y, test_size = 0.33, random_state = 42)"
      ],
      "metadata": {
        "id": "DowbLjt3AV0n"
      },
      "execution_count": 182,
      "outputs": []
    },
    {
      "cell_type": "code",
      "source": [
        "# объявляем объект StandardScaler\n",
        "scaler = StandardScaler()"
      ],
      "metadata": {
        "id": "f2cukUYZAV0n"
      },
      "execution_count": 183,
      "outputs": []
    },
    {
      "cell_type": "code",
      "source": [
        "# обучаем и применяем StandardScaler к датасету X_train\n",
        "X_train = scaler.fit_transform(X_train)"
      ],
      "metadata": {
        "id": "0fjBKTClAV0o"
      },
      "execution_count": 184,
      "outputs": []
    },
    {
      "cell_type": "code",
      "source": [
        "# применяем StandardScaler к датасету X_test\n",
        "X_test = scaler.transform(X_test)"
      ],
      "metadata": {
        "id": "6xqJHk4kAV0o"
      },
      "execution_count": 185,
      "outputs": []
    },
    {
      "cell_type": "code",
      "source": [
        "# сохраним обучающие признаки в DataFrame\n",
        "X_train = pd.DataFrame(X_train)"
      ],
      "metadata": {
        "id": "1aqOIVk9AV0o"
      },
      "execution_count": 186,
      "outputs": []
    },
    {
      "cell_type": "code",
      "source": [
        "# создадим пропуски в диапазоне 0-60% от общего числа значений\n",
        "X_train.loc[X_train[0].isin(X_train[0].sample(30, random_state=1)), 0] = np.nan"
      ],
      "metadata": {
        "id": "sUnYga8nAV0o"
      },
      "execution_count": 187,
      "outputs": []
    },
    {
      "cell_type": "code",
      "source": [
        "# проверим наличие пропусков в признаке X_train[0] в %\n",
        "round(X_train[0].isna().sum() / X_train.shape[0], 4) * 100"
      ],
      "metadata": {
        "colab": {
          "base_uri": "https://localhost:8080/"
        },
        "outputId": "ba50124d-ae37-4a02-cffe-eb9ff392176e",
        "id": "xrMcqVyvAV0o"
      },
      "execution_count": 188,
      "outputs": [
        {
          "output_type": "execute_result",
          "data": {
            "text/plain": [
              "44.78"
            ]
          },
          "metadata": {},
          "execution_count": 188
        }
      ]
    },
    {
      "cell_type": "code",
      "source": [
        "# объявляем объект SimpleImputer\n",
        "# для заполнения пропусков средним значением\n",
        "imputer = SimpleImputer(\n",
        "    missing_values = np.nan,\n",
        "    strategy = 'mean')"
      ],
      "metadata": {
        "id": "6zwZ2fjnA2GV"
      },
      "execution_count": 189,
      "outputs": []
    },
    {
      "cell_type": "code",
      "source": [
        "# заполняем пропуски\n",
        "X_train = imputer.fit_transform(X_train)"
      ],
      "metadata": {
        "id": "K4rhNMQ7DOI9"
      },
      "execution_count": 190,
      "outputs": []
    },
    {
      "cell_type": "code",
      "source": [
        "pd.DataFrame(X_train)[0].isna().sum()"
      ],
      "metadata": {
        "colab": {
          "base_uri": "https://localhost:8080/"
        },
        "id": "9er7k6r_A2MW",
        "outputId": "eb734752-4499-449b-b46a-13de4a5c6ca9"
      },
      "execution_count": 191,
      "outputs": [
        {
          "output_type": "execute_result",
          "data": {
            "text/plain": [
              "0"
            ]
          },
          "metadata": {},
          "execution_count": 191
        }
      ]
    },
    {
      "cell_type": "code",
      "source": [
        "# обучаем модель\n",
        "ridge.fit(X_train, y_train)"
      ],
      "metadata": {
        "colab": {
          "base_uri": "https://localhost:8080/",
          "height": 74
        },
        "outputId": "52265593-8ccc-4415-8ebd-fd8c194f18c0",
        "id": "GJItrho_AV0q"
      },
      "execution_count": 192,
      "outputs": [
        {
          "output_type": "execute_result",
          "data": {
            "text/plain": [
              "Ridge(random_state=1)"
            ],
            "text/html": [
              "<style>#sk-container-id-19 {color: black;background-color: white;}#sk-container-id-19 pre{padding: 0;}#sk-container-id-19 div.sk-toggleable {background-color: white;}#sk-container-id-19 label.sk-toggleable__label {cursor: pointer;display: block;width: 100%;margin-bottom: 0;padding: 0.3em;box-sizing: border-box;text-align: center;}#sk-container-id-19 label.sk-toggleable__label-arrow:before {content: \"▸\";float: left;margin-right: 0.25em;color: #696969;}#sk-container-id-19 label.sk-toggleable__label-arrow:hover:before {color: black;}#sk-container-id-19 div.sk-estimator:hover label.sk-toggleable__label-arrow:before {color: black;}#sk-container-id-19 div.sk-toggleable__content {max-height: 0;max-width: 0;overflow: hidden;text-align: left;background-color: #f0f8ff;}#sk-container-id-19 div.sk-toggleable__content pre {margin: 0.2em;color: black;border-radius: 0.25em;background-color: #f0f8ff;}#sk-container-id-19 input.sk-toggleable__control:checked~div.sk-toggleable__content {max-height: 200px;max-width: 100%;overflow: auto;}#sk-container-id-19 input.sk-toggleable__control:checked~label.sk-toggleable__label-arrow:before {content: \"▾\";}#sk-container-id-19 div.sk-estimator input.sk-toggleable__control:checked~label.sk-toggleable__label {background-color: #d4ebff;}#sk-container-id-19 div.sk-label input.sk-toggleable__control:checked~label.sk-toggleable__label {background-color: #d4ebff;}#sk-container-id-19 input.sk-hidden--visually {border: 0;clip: rect(1px 1px 1px 1px);clip: rect(1px, 1px, 1px, 1px);height: 1px;margin: -1px;overflow: hidden;padding: 0;position: absolute;width: 1px;}#sk-container-id-19 div.sk-estimator {font-family: monospace;background-color: #f0f8ff;border: 1px dotted black;border-radius: 0.25em;box-sizing: border-box;margin-bottom: 0.5em;}#sk-container-id-19 div.sk-estimator:hover {background-color: #d4ebff;}#sk-container-id-19 div.sk-parallel-item::after {content: \"\";width: 100%;border-bottom: 1px solid gray;flex-grow: 1;}#sk-container-id-19 div.sk-label:hover label.sk-toggleable__label {background-color: #d4ebff;}#sk-container-id-19 div.sk-serial::before {content: \"\";position: absolute;border-left: 1px solid gray;box-sizing: border-box;top: 0;bottom: 0;left: 50%;z-index: 0;}#sk-container-id-19 div.sk-serial {display: flex;flex-direction: column;align-items: center;background-color: white;padding-right: 0.2em;padding-left: 0.2em;position: relative;}#sk-container-id-19 div.sk-item {position: relative;z-index: 1;}#sk-container-id-19 div.sk-parallel {display: flex;align-items: stretch;justify-content: center;background-color: white;position: relative;}#sk-container-id-19 div.sk-item::before, #sk-container-id-19 div.sk-parallel-item::before {content: \"\";position: absolute;border-left: 1px solid gray;box-sizing: border-box;top: 0;bottom: 0;left: 50%;z-index: -1;}#sk-container-id-19 div.sk-parallel-item {display: flex;flex-direction: column;z-index: 1;position: relative;background-color: white;}#sk-container-id-19 div.sk-parallel-item:first-child::after {align-self: flex-end;width: 50%;}#sk-container-id-19 div.sk-parallel-item:last-child::after {align-self: flex-start;width: 50%;}#sk-container-id-19 div.sk-parallel-item:only-child::after {width: 0;}#sk-container-id-19 div.sk-dashed-wrapped {border: 1px dashed gray;margin: 0 0.4em 0.5em 0.4em;box-sizing: border-box;padding-bottom: 0.4em;background-color: white;}#sk-container-id-19 div.sk-label label {font-family: monospace;font-weight: bold;display: inline-block;line-height: 1.2em;}#sk-container-id-19 div.sk-label-container {text-align: center;}#sk-container-id-19 div.sk-container {/* jupyter's `normalize.less` sets `[hidden] { display: none; }` but bootstrap.min.css set `[hidden] { display: none !important; }` so we also need the `!important` here to be able to override the default hidden behavior on the sphinx rendered scikit-learn.org. See: https://github.com/scikit-learn/scikit-learn/issues/21755 */display: inline-block !important;position: relative;}#sk-container-id-19 div.sk-text-repr-fallback {display: none;}</style><div id=\"sk-container-id-19\" class=\"sk-top-container\"><div class=\"sk-text-repr-fallback\"><pre>Ridge(random_state=1)</pre><b>In a Jupyter environment, please rerun this cell to show the HTML representation or trust the notebook. <br />On GitHub, the HTML representation is unable to render, please try loading this page with nbviewer.org.</b></div><div class=\"sk-container\" hidden><div class=\"sk-item\"><div class=\"sk-estimator sk-toggleable\"><input class=\"sk-toggleable__control sk-hidden--visually\" id=\"sk-estimator-id-19\" type=\"checkbox\" checked><label for=\"sk-estimator-id-19\" class=\"sk-toggleable__label sk-toggleable__label-arrow\">Ridge</label><div class=\"sk-toggleable__content\"><pre>Ridge(random_state=1)</pre></div></div></div></div></div>"
            ]
          },
          "metadata": {},
          "execution_count": 192
        }
      ]
    },
    {
      "cell_type": "code",
      "source": [
        "# получим значение коэффициента признака\n",
        "round(ridge.coef_[0, 0], 4)"
      ],
      "metadata": {
        "colab": {
          "base_uri": "https://localhost:8080/"
        },
        "outputId": "9e95d163-97ae-4c3a-fece-784d5a4a8bd8",
        "id": "So4ysjlDAV0q"
      },
      "execution_count": 193,
      "outputs": [
        {
          "output_type": "execute_result",
          "data": {
            "text/plain": [
              "5.0592"
            ]
          },
          "metadata": {},
          "execution_count": 193
        }
      ]
    },
    {
      "cell_type": "markdown",
      "source": [
        "Вывод: при 0-60% пропущенных значений, заполнение средним по 1-му признаку работает хуже для важного признака, чем отбрасывание наблюдений с пропущенными значениями."
      ],
      "metadata": {
        "id": "qjYy2zH7EsOf"
      }
    },
    {
      "cell_type": "markdown",
      "source": [
        "### **7.1.2 Количество пропусков 70-90%**\n",
        "\n",
        "---"
      ],
      "metadata": {
        "id": "ECNXWlMDFAzh"
      }
    },
    {
      "cell_type": "markdown",
      "source": [
        "Обучим модель, **удалив все наблюдения с пропущенными значениями**."
      ],
      "metadata": {
        "id": "bJ9ffT6jFAzh"
      }
    },
    {
      "cell_type": "code",
      "source": [
        "# формируем обучающую и тестовую выборку\n",
        "X_train, X_test, y_train, y_test = train_test_split(\n",
        "    X, y, test_size = 0.33, random_state = 42)"
      ],
      "metadata": {
        "id": "GahwBh1lFAzh"
      },
      "execution_count": 194,
      "outputs": []
    },
    {
      "cell_type": "code",
      "source": [
        "# объявляем объект StandardScaler\n",
        "scaler = StandardScaler()"
      ],
      "metadata": {
        "id": "JZPr5ZxnFAzi"
      },
      "execution_count": 195,
      "outputs": []
    },
    {
      "cell_type": "code",
      "source": [
        "# обучаем и применяем StandardScaler к датасету X_train\n",
        "X_train = scaler.fit_transform(X_train)"
      ],
      "metadata": {
        "id": "HMLtMz8yFAzi"
      },
      "execution_count": 196,
      "outputs": []
    },
    {
      "cell_type": "code",
      "source": [
        "# применяем StandardScaler к датасету X_test\n",
        "X_test = scaler.transform(X_test)"
      ],
      "metadata": {
        "id": "K6Xcs8PLFAzi"
      },
      "execution_count": 197,
      "outputs": []
    },
    {
      "cell_type": "code",
      "source": [
        "# сохраним обучающие признаки в DataFrame\n",
        "X_train = pd.DataFrame(X_train)"
      ],
      "metadata": {
        "id": "5Xk2RGlBFAzi"
      },
      "execution_count": 198,
      "outputs": []
    },
    {
      "cell_type": "code",
      "source": [
        "# создадим пропуски в диапазоне 0-60% от общего числа значений\n",
        "X_train.loc[X_train[0].isin(X_train[0].sample(55, random_state=1)), 0] = np.nan"
      ],
      "metadata": {
        "id": "0kZivcVOFAzj"
      },
      "execution_count": 199,
      "outputs": []
    },
    {
      "cell_type": "code",
      "source": [
        "# проверим наличие пропусков в признаке X_train[0] в %\n",
        "round(X_train[0].isna().sum() / X_train.shape[0], 4) * 100"
      ],
      "metadata": {
        "colab": {
          "base_uri": "https://localhost:8080/"
        },
        "outputId": "8a04d18c-4c58-4533-b9e2-497d49edd10d",
        "id": "GK_XLaKoFAzj"
      },
      "execution_count": 200,
      "outputs": [
        {
          "output_type": "execute_result",
          "data": {
            "text/plain": [
              "82.09"
            ]
          },
          "metadata": {},
          "execution_count": 200
        }
      ]
    },
    {
      "cell_type": "code",
      "source": [
        "# сбрасываем индексы\n",
        "X_train.reset_index(drop = True, inplace = True)\n",
        "\n",
        "# выведем новые значения индексов\n",
        "X_train.index"
      ],
      "metadata": {
        "colab": {
          "base_uri": "https://localhost:8080/"
        },
        "outputId": "1d5483b2-2cb0-4b68-f162-9657e73955e5",
        "id": "Gv1r7Uh2FAzj"
      },
      "execution_count": 201,
      "outputs": [
        {
          "output_type": "execute_result",
          "data": {
            "text/plain": [
              "RangeIndex(start=0, stop=67, step=1)"
            ]
          },
          "metadata": {},
          "execution_count": 201
        }
      ]
    },
    {
      "cell_type": "code",
      "source": [
        "# сбрасываем индексы\n",
        "y_train.reset_index(drop = True, inplace = True)\n",
        "\n",
        "# выведем новые значения индексов\n",
        "y_train.index"
      ],
      "metadata": {
        "colab": {
          "base_uri": "https://localhost:8080/"
        },
        "outputId": "eb9d4951-2261-43f3-c3b4-fb04c0ce5f80",
        "id": "RZDKYW2lFAzj"
      },
      "execution_count": 202,
      "outputs": [
        {
          "output_type": "execute_result",
          "data": {
            "text/plain": [
              "RangeIndex(start=0, stop=67, step=1)"
            ]
          },
          "metadata": {},
          "execution_count": 202
        }
      ]
    },
    {
      "cell_type": "code",
      "source": [
        "# удаляем их X_train строки с пропусками в признаке [0]\n",
        "X_train.dropna(inplace = True)\n",
        "X_train.shape"
      ],
      "metadata": {
        "colab": {
          "base_uri": "https://localhost:8080/"
        },
        "outputId": "3dd8b681-3ba3-45d1-d0e4-756ccfc9f168",
        "id": "fnEEZU8lFAzj"
      },
      "execution_count": 203,
      "outputs": [
        {
          "output_type": "execute_result",
          "data": {
            "text/plain": [
              "(12, 20)"
            ]
          },
          "metadata": {},
          "execution_count": 203
        }
      ]
    },
    {
      "cell_type": "code",
      "source": [
        "# отфильтруем из датасета y_train только строки,\n",
        "# соответствующие строкам датасета X_train\n",
        "y_train = y_train.loc[y_train.index.intersection(X_train.index)]\n",
        "y_train.shape"
      ],
      "metadata": {
        "colab": {
          "base_uri": "https://localhost:8080/"
        },
        "outputId": "80cd5867-db97-497f-9c6a-31cfc7bc288a",
        "id": "q-CVQRneFAzk"
      },
      "execution_count": 204,
      "outputs": [
        {
          "output_type": "execute_result",
          "data": {
            "text/plain": [
              "(12, 1)"
            ]
          },
          "metadata": {},
          "execution_count": 204
        }
      ]
    },
    {
      "cell_type": "code",
      "source": [
        "# объявим модель\n",
        "ridge = Ridge(random_state = 1)"
      ],
      "metadata": {
        "id": "nsNrNRHqFAzk"
      },
      "execution_count": 205,
      "outputs": []
    },
    {
      "cell_type": "code",
      "source": [
        "# обучаем модель\n",
        "ridge.fit(X_train, y_train)"
      ],
      "metadata": {
        "colab": {
          "base_uri": "https://localhost:8080/",
          "height": 74
        },
        "outputId": "e032af50-a627-4f09-c2f2-10d494603868",
        "id": "7fbv-XXGFAzk"
      },
      "execution_count": 206,
      "outputs": [
        {
          "output_type": "execute_result",
          "data": {
            "text/plain": [
              "Ridge(random_state=1)"
            ],
            "text/html": [
              "<style>#sk-container-id-20 {color: black;background-color: white;}#sk-container-id-20 pre{padding: 0;}#sk-container-id-20 div.sk-toggleable {background-color: white;}#sk-container-id-20 label.sk-toggleable__label {cursor: pointer;display: block;width: 100%;margin-bottom: 0;padding: 0.3em;box-sizing: border-box;text-align: center;}#sk-container-id-20 label.sk-toggleable__label-arrow:before {content: \"▸\";float: left;margin-right: 0.25em;color: #696969;}#sk-container-id-20 label.sk-toggleable__label-arrow:hover:before {color: black;}#sk-container-id-20 div.sk-estimator:hover label.sk-toggleable__label-arrow:before {color: black;}#sk-container-id-20 div.sk-toggleable__content {max-height: 0;max-width: 0;overflow: hidden;text-align: left;background-color: #f0f8ff;}#sk-container-id-20 div.sk-toggleable__content pre {margin: 0.2em;color: black;border-radius: 0.25em;background-color: #f0f8ff;}#sk-container-id-20 input.sk-toggleable__control:checked~div.sk-toggleable__content {max-height: 200px;max-width: 100%;overflow: auto;}#sk-container-id-20 input.sk-toggleable__control:checked~label.sk-toggleable__label-arrow:before {content: \"▾\";}#sk-container-id-20 div.sk-estimator input.sk-toggleable__control:checked~label.sk-toggleable__label {background-color: #d4ebff;}#sk-container-id-20 div.sk-label input.sk-toggleable__control:checked~label.sk-toggleable__label {background-color: #d4ebff;}#sk-container-id-20 input.sk-hidden--visually {border: 0;clip: rect(1px 1px 1px 1px);clip: rect(1px, 1px, 1px, 1px);height: 1px;margin: -1px;overflow: hidden;padding: 0;position: absolute;width: 1px;}#sk-container-id-20 div.sk-estimator {font-family: monospace;background-color: #f0f8ff;border: 1px dotted black;border-radius: 0.25em;box-sizing: border-box;margin-bottom: 0.5em;}#sk-container-id-20 div.sk-estimator:hover {background-color: #d4ebff;}#sk-container-id-20 div.sk-parallel-item::after {content: \"\";width: 100%;border-bottom: 1px solid gray;flex-grow: 1;}#sk-container-id-20 div.sk-label:hover label.sk-toggleable__label {background-color: #d4ebff;}#sk-container-id-20 div.sk-serial::before {content: \"\";position: absolute;border-left: 1px solid gray;box-sizing: border-box;top: 0;bottom: 0;left: 50%;z-index: 0;}#sk-container-id-20 div.sk-serial {display: flex;flex-direction: column;align-items: center;background-color: white;padding-right: 0.2em;padding-left: 0.2em;position: relative;}#sk-container-id-20 div.sk-item {position: relative;z-index: 1;}#sk-container-id-20 div.sk-parallel {display: flex;align-items: stretch;justify-content: center;background-color: white;position: relative;}#sk-container-id-20 div.sk-item::before, #sk-container-id-20 div.sk-parallel-item::before {content: \"\";position: absolute;border-left: 1px solid gray;box-sizing: border-box;top: 0;bottom: 0;left: 50%;z-index: -1;}#sk-container-id-20 div.sk-parallel-item {display: flex;flex-direction: column;z-index: 1;position: relative;background-color: white;}#sk-container-id-20 div.sk-parallel-item:first-child::after {align-self: flex-end;width: 50%;}#sk-container-id-20 div.sk-parallel-item:last-child::after {align-self: flex-start;width: 50%;}#sk-container-id-20 div.sk-parallel-item:only-child::after {width: 0;}#sk-container-id-20 div.sk-dashed-wrapped {border: 1px dashed gray;margin: 0 0.4em 0.5em 0.4em;box-sizing: border-box;padding-bottom: 0.4em;background-color: white;}#sk-container-id-20 div.sk-label label {font-family: monospace;font-weight: bold;display: inline-block;line-height: 1.2em;}#sk-container-id-20 div.sk-label-container {text-align: center;}#sk-container-id-20 div.sk-container {/* jupyter's `normalize.less` sets `[hidden] { display: none; }` but bootstrap.min.css set `[hidden] { display: none !important; }` so we also need the `!important` here to be able to override the default hidden behavior on the sphinx rendered scikit-learn.org. See: https://github.com/scikit-learn/scikit-learn/issues/21755 */display: inline-block !important;position: relative;}#sk-container-id-20 div.sk-text-repr-fallback {display: none;}</style><div id=\"sk-container-id-20\" class=\"sk-top-container\"><div class=\"sk-text-repr-fallback\"><pre>Ridge(random_state=1)</pre><b>In a Jupyter environment, please rerun this cell to show the HTML representation or trust the notebook. <br />On GitHub, the HTML representation is unable to render, please try loading this page with nbviewer.org.</b></div><div class=\"sk-container\" hidden><div class=\"sk-item\"><div class=\"sk-estimator sk-toggleable\"><input class=\"sk-toggleable__control sk-hidden--visually\" id=\"sk-estimator-id-20\" type=\"checkbox\" checked><label for=\"sk-estimator-id-20\" class=\"sk-toggleable__label sk-toggleable__label-arrow\">Ridge</label><div class=\"sk-toggleable__content\"><pre>Ridge(random_state=1)</pre></div></div></div></div></div>"
            ]
          },
          "metadata": {},
          "execution_count": 206
        }
      ]
    },
    {
      "cell_type": "code",
      "source": [
        "# получим значение коэффициента признака\n",
        "round(ridge.coef_[0, 0], 4)"
      ],
      "metadata": {
        "colab": {
          "base_uri": "https://localhost:8080/"
        },
        "outputId": "157caecb-6f63-40a3-d61b-2e4fee4978a3",
        "id": "2KMjyljkFAzk"
      },
      "execution_count": 207,
      "outputs": [
        {
          "output_type": "execute_result",
          "data": {
            "text/plain": [
              "-2.7167"
            ]
          },
          "metadata": {},
          "execution_count": 207
        }
      ]
    },
    {
      "cell_type": "markdown",
      "source": [
        "Обучим модель, **заполнив все пропуски средним значением**."
      ],
      "metadata": {
        "id": "2x826xwUFAzl"
      }
    },
    {
      "cell_type": "code",
      "source": [
        "# формируем обучающую и тестовую выборку\n",
        "X_train, X_test, y_train, y_test = train_test_split(\n",
        "    X, y, test_size = 0.33, random_state = 42)"
      ],
      "metadata": {
        "id": "ApLwm5IPFAzl"
      },
      "execution_count": 208,
      "outputs": []
    },
    {
      "cell_type": "code",
      "source": [
        "# объявляем объект StandardScaler\n",
        "scaler = StandardScaler()"
      ],
      "metadata": {
        "id": "9t1DIfweFAzl"
      },
      "execution_count": 209,
      "outputs": []
    },
    {
      "cell_type": "code",
      "source": [
        "# обучаем и применяем StandardScaler к датасету X_train\n",
        "X_train = scaler.fit_transform(X_train)"
      ],
      "metadata": {
        "id": "xyEcPeH4FAzl"
      },
      "execution_count": 210,
      "outputs": []
    },
    {
      "cell_type": "code",
      "source": [
        "# применяем StandardScaler к датасету X_test\n",
        "X_test = scaler.transform(X_test)"
      ],
      "metadata": {
        "id": "1tEatDriFAzm"
      },
      "execution_count": 211,
      "outputs": []
    },
    {
      "cell_type": "code",
      "source": [
        "# сохраним обучающие признаки в DataFrame\n",
        "X_train = pd.DataFrame(X_train)"
      ],
      "metadata": {
        "id": "ZRrHq0tQFAzm"
      },
      "execution_count": 212,
      "outputs": []
    },
    {
      "cell_type": "code",
      "source": [
        "# создадим пропуски в диапазоне 70-90% от общего числа значений\n",
        "X_train.loc[X_train[0].isin(X_train[0].sample(55, random_state=1)), 0] = np.nan"
      ],
      "metadata": {
        "id": "blAuAEVaFAzm"
      },
      "execution_count": 213,
      "outputs": []
    },
    {
      "cell_type": "code",
      "source": [
        "# проверим наличие пропусков в признаке X_train[0] в %\n",
        "round(X_train[0].isna().sum() / X_train.shape[0], 4) * 100"
      ],
      "metadata": {
        "colab": {
          "base_uri": "https://localhost:8080/"
        },
        "outputId": "d62abf84-9340-40a7-b5e9-a2bdb8ead918",
        "id": "aON4tmeuFAzm"
      },
      "execution_count": 214,
      "outputs": [
        {
          "output_type": "execute_result",
          "data": {
            "text/plain": [
              "82.09"
            ]
          },
          "metadata": {},
          "execution_count": 214
        }
      ]
    },
    {
      "cell_type": "code",
      "source": [
        "# объявляем объект SimpleImputer\n",
        "# для заполнения пропусков средним значением\n",
        "imputer = SimpleImputer(\n",
        "    missing_values = np.nan,\n",
        "    strategy = 'mean')"
      ],
      "metadata": {
        "id": "zgRqTbDyFAzm"
      },
      "execution_count": 215,
      "outputs": []
    },
    {
      "cell_type": "code",
      "source": [
        "# заполняем пропуски\n",
        "X_train = imputer.fit_transform(X_train)"
      ],
      "metadata": {
        "id": "XqgSApSKFAzn"
      },
      "execution_count": 216,
      "outputs": []
    },
    {
      "cell_type": "code",
      "source": [
        "pd.DataFrame(X_train)[0].isna().sum()"
      ],
      "metadata": {
        "colab": {
          "base_uri": "https://localhost:8080/"
        },
        "outputId": "bd8879b4-eabe-4536-ae66-526ff84b8822",
        "id": "LwTcctn2FAzn"
      },
      "execution_count": 217,
      "outputs": [
        {
          "output_type": "execute_result",
          "data": {
            "text/plain": [
              "0"
            ]
          },
          "metadata": {},
          "execution_count": 217
        }
      ]
    },
    {
      "cell_type": "code",
      "source": [
        "# обучаем модель\n",
        "ridge.fit(X_train, y_train)"
      ],
      "metadata": {
        "colab": {
          "base_uri": "https://localhost:8080/",
          "height": 74
        },
        "outputId": "d9bbb2e5-e09e-4356-c11a-7fdea6f522b8",
        "id": "SBE_3SuzFAzn"
      },
      "execution_count": 218,
      "outputs": [
        {
          "output_type": "execute_result",
          "data": {
            "text/plain": [
              "Ridge(random_state=1)"
            ],
            "text/html": [
              "<style>#sk-container-id-21 {color: black;background-color: white;}#sk-container-id-21 pre{padding: 0;}#sk-container-id-21 div.sk-toggleable {background-color: white;}#sk-container-id-21 label.sk-toggleable__label {cursor: pointer;display: block;width: 100%;margin-bottom: 0;padding: 0.3em;box-sizing: border-box;text-align: center;}#sk-container-id-21 label.sk-toggleable__label-arrow:before {content: \"▸\";float: left;margin-right: 0.25em;color: #696969;}#sk-container-id-21 label.sk-toggleable__label-arrow:hover:before {color: black;}#sk-container-id-21 div.sk-estimator:hover label.sk-toggleable__label-arrow:before {color: black;}#sk-container-id-21 div.sk-toggleable__content {max-height: 0;max-width: 0;overflow: hidden;text-align: left;background-color: #f0f8ff;}#sk-container-id-21 div.sk-toggleable__content pre {margin: 0.2em;color: black;border-radius: 0.25em;background-color: #f0f8ff;}#sk-container-id-21 input.sk-toggleable__control:checked~div.sk-toggleable__content {max-height: 200px;max-width: 100%;overflow: auto;}#sk-container-id-21 input.sk-toggleable__control:checked~label.sk-toggleable__label-arrow:before {content: \"▾\";}#sk-container-id-21 div.sk-estimator input.sk-toggleable__control:checked~label.sk-toggleable__label {background-color: #d4ebff;}#sk-container-id-21 div.sk-label input.sk-toggleable__control:checked~label.sk-toggleable__label {background-color: #d4ebff;}#sk-container-id-21 input.sk-hidden--visually {border: 0;clip: rect(1px 1px 1px 1px);clip: rect(1px, 1px, 1px, 1px);height: 1px;margin: -1px;overflow: hidden;padding: 0;position: absolute;width: 1px;}#sk-container-id-21 div.sk-estimator {font-family: monospace;background-color: #f0f8ff;border: 1px dotted black;border-radius: 0.25em;box-sizing: border-box;margin-bottom: 0.5em;}#sk-container-id-21 div.sk-estimator:hover {background-color: #d4ebff;}#sk-container-id-21 div.sk-parallel-item::after {content: \"\";width: 100%;border-bottom: 1px solid gray;flex-grow: 1;}#sk-container-id-21 div.sk-label:hover label.sk-toggleable__label {background-color: #d4ebff;}#sk-container-id-21 div.sk-serial::before {content: \"\";position: absolute;border-left: 1px solid gray;box-sizing: border-box;top: 0;bottom: 0;left: 50%;z-index: 0;}#sk-container-id-21 div.sk-serial {display: flex;flex-direction: column;align-items: center;background-color: white;padding-right: 0.2em;padding-left: 0.2em;position: relative;}#sk-container-id-21 div.sk-item {position: relative;z-index: 1;}#sk-container-id-21 div.sk-parallel {display: flex;align-items: stretch;justify-content: center;background-color: white;position: relative;}#sk-container-id-21 div.sk-item::before, #sk-container-id-21 div.sk-parallel-item::before {content: \"\";position: absolute;border-left: 1px solid gray;box-sizing: border-box;top: 0;bottom: 0;left: 50%;z-index: -1;}#sk-container-id-21 div.sk-parallel-item {display: flex;flex-direction: column;z-index: 1;position: relative;background-color: white;}#sk-container-id-21 div.sk-parallel-item:first-child::after {align-self: flex-end;width: 50%;}#sk-container-id-21 div.sk-parallel-item:last-child::after {align-self: flex-start;width: 50%;}#sk-container-id-21 div.sk-parallel-item:only-child::after {width: 0;}#sk-container-id-21 div.sk-dashed-wrapped {border: 1px dashed gray;margin: 0 0.4em 0.5em 0.4em;box-sizing: border-box;padding-bottom: 0.4em;background-color: white;}#sk-container-id-21 div.sk-label label {font-family: monospace;font-weight: bold;display: inline-block;line-height: 1.2em;}#sk-container-id-21 div.sk-label-container {text-align: center;}#sk-container-id-21 div.sk-container {/* jupyter's `normalize.less` sets `[hidden] { display: none; }` but bootstrap.min.css set `[hidden] { display: none !important; }` so we also need the `!important` here to be able to override the default hidden behavior on the sphinx rendered scikit-learn.org. See: https://github.com/scikit-learn/scikit-learn/issues/21755 */display: inline-block !important;position: relative;}#sk-container-id-21 div.sk-text-repr-fallback {display: none;}</style><div id=\"sk-container-id-21\" class=\"sk-top-container\"><div class=\"sk-text-repr-fallback\"><pre>Ridge(random_state=1)</pre><b>In a Jupyter environment, please rerun this cell to show the HTML representation or trust the notebook. <br />On GitHub, the HTML representation is unable to render, please try loading this page with nbviewer.org.</b></div><div class=\"sk-container\" hidden><div class=\"sk-item\"><div class=\"sk-estimator sk-toggleable\"><input class=\"sk-toggleable__control sk-hidden--visually\" id=\"sk-estimator-id-21\" type=\"checkbox\" checked><label for=\"sk-estimator-id-21\" class=\"sk-toggleable__label sk-toggleable__label-arrow\">Ridge</label><div class=\"sk-toggleable__content\"><pre>Ridge(random_state=1)</pre></div></div></div></div></div>"
            ]
          },
          "metadata": {},
          "execution_count": 218
        }
      ]
    },
    {
      "cell_type": "code",
      "source": [
        "# получим значение коэффициента признака\n",
        "round(ridge.coef_[0, 0], 4)"
      ],
      "metadata": {
        "colab": {
          "base_uri": "https://localhost:8080/"
        },
        "outputId": "dcf59443-7591-405a-e9a4-461028365b28",
        "id": "A_bNbezKFAzn"
      },
      "execution_count": 219,
      "outputs": [
        {
          "output_type": "execute_result",
          "data": {
            "text/plain": [
              "3.3592"
            ]
          },
          "metadata": {},
          "execution_count": 219
        }
      ]
    },
    {
      "cell_type": "markdown",
      "source": [
        "Вывод: для 70-90% пропущенных значений, заполнение средним по x1 работает лучше для важного признака, чем отбрасывание наблюдений с пропущенными значениями."
      ],
      "metadata": {
        "id": "qKNW4wObFAzo"
      }
    },
    {
      "cell_type": "markdown",
      "source": [
        "## **7.2 Заполнение пропущенных значений для неважного признака**\n",
        "\n",
        "---"
      ],
      "metadata": {
        "id": "W5gus2f6HAed"
      }
    },
    {
      "cell_type": "markdown",
      "source": [
        "### **7.2.1 Количество пропусков 0-60%**\n",
        "\n",
        "---"
      ],
      "metadata": {
        "id": "Jw4LJrURGsPR"
      }
    },
    {
      "cell_type": "markdown",
      "source": [
        "Обучим модель, **удалив все наблюдения с пропущенными значениями**."
      ],
      "metadata": {
        "id": "w8gGqFamGsPZ"
      }
    },
    {
      "cell_type": "code",
      "source": [
        "# формируем обучающую и тестовую выборку\n",
        "X_train, X_test, y_train, y_test = train_test_split(\n",
        "    X, y, test_size = 0.33, random_state = 42)"
      ],
      "metadata": {
        "id": "h4f9kKQOGsPZ"
      },
      "execution_count": 220,
      "outputs": []
    },
    {
      "cell_type": "code",
      "source": [
        "# объявляем объект StandardScaler\n",
        "scaler = StandardScaler()"
      ],
      "metadata": {
        "id": "J-68xXvIGsPZ"
      },
      "execution_count": 221,
      "outputs": []
    },
    {
      "cell_type": "code",
      "source": [
        "# обучаем и применяем StandardScaler к датасету X_train\n",
        "X_train = scaler.fit_transform(X_train)"
      ],
      "metadata": {
        "id": "HXLk2TD9GsPZ"
      },
      "execution_count": 222,
      "outputs": []
    },
    {
      "cell_type": "code",
      "source": [
        "# применяем StandardScaler к датасету X_test\n",
        "X_test = scaler.transform(X_test)"
      ],
      "metadata": {
        "id": "NLYVqtZBGsPa"
      },
      "execution_count": 223,
      "outputs": []
    },
    {
      "cell_type": "code",
      "source": [
        "# сохраним обучающие признаки в DataFrame\n",
        "X_train = pd.DataFrame(X_train)"
      ],
      "metadata": {
        "id": "O5aAac2QGsPa"
      },
      "execution_count": 224,
      "outputs": []
    },
    {
      "cell_type": "code",
      "source": [
        "# создадим пропуски в диапазоне 0-60% от общего числа значений\n",
        "X_train.loc[X_train[9].isin(X_train[9].sample(30, random_state=1)), 9] = np.nan"
      ],
      "metadata": {
        "id": "ZGlD3uw8GsPa"
      },
      "execution_count": 225,
      "outputs": []
    },
    {
      "cell_type": "code",
      "source": [
        "# проверим наличие пропусков в признаке X_train[9] в %\n",
        "round(X_train[9].isna().sum() / X_train.shape[0], 4) * 100"
      ],
      "metadata": {
        "colab": {
          "base_uri": "https://localhost:8080/"
        },
        "outputId": "8b795915-f676-4c6f-9308-8536eaa2d987",
        "id": "t_iLS3t9GsPa"
      },
      "execution_count": 226,
      "outputs": [
        {
          "output_type": "execute_result",
          "data": {
            "text/plain": [
              "44.78"
            ]
          },
          "metadata": {},
          "execution_count": 226
        }
      ]
    },
    {
      "cell_type": "code",
      "source": [
        "# сбрасываем индексы\n",
        "X_train.reset_index(drop = True, inplace = True)\n",
        "\n",
        "# выведем новые значения индексов\n",
        "X_train.index"
      ],
      "metadata": {
        "colab": {
          "base_uri": "https://localhost:8080/"
        },
        "outputId": "4a164f55-2505-4e4b-8069-290367f5fcde",
        "id": "SwYt1iYhGsPa"
      },
      "execution_count": 227,
      "outputs": [
        {
          "output_type": "execute_result",
          "data": {
            "text/plain": [
              "RangeIndex(start=0, stop=67, step=1)"
            ]
          },
          "metadata": {},
          "execution_count": 227
        }
      ]
    },
    {
      "cell_type": "code",
      "source": [
        "# сбрасываем индексы\n",
        "y_train.reset_index(drop = True, inplace = True)\n",
        "\n",
        "# выведем новые значения индексов\n",
        "y_train.index"
      ],
      "metadata": {
        "colab": {
          "base_uri": "https://localhost:8080/"
        },
        "outputId": "a0a46190-0a8b-4cc1-c698-ab32df125e82",
        "id": "qY49iK_7GsPb"
      },
      "execution_count": 228,
      "outputs": [
        {
          "output_type": "execute_result",
          "data": {
            "text/plain": [
              "RangeIndex(start=0, stop=67, step=1)"
            ]
          },
          "metadata": {},
          "execution_count": 228
        }
      ]
    },
    {
      "cell_type": "code",
      "source": [
        "# удаляем их X_train строки с пропусками в признаке [9]\n",
        "X_train.dropna(inplace = True)\n",
        "X_train.shape"
      ],
      "metadata": {
        "colab": {
          "base_uri": "https://localhost:8080/"
        },
        "outputId": "d2d27ff4-3d26-48a3-fc4e-4d088b94cba7",
        "id": "-C6byOP3GsPb"
      },
      "execution_count": 229,
      "outputs": [
        {
          "output_type": "execute_result",
          "data": {
            "text/plain": [
              "(37, 20)"
            ]
          },
          "metadata": {},
          "execution_count": 229
        }
      ]
    },
    {
      "cell_type": "code",
      "source": [
        "# отфильтруем из датасета y_train только строки,\n",
        "# соответствующие строкам датасета X_train\n",
        "y_train = y_train.loc[y_train.index.intersection(X_train.index)]\n",
        "y_train.shape"
      ],
      "metadata": {
        "colab": {
          "base_uri": "https://localhost:8080/"
        },
        "outputId": "dc2ed71a-7b38-4c64-bb7f-36e2539cf22f",
        "id": "C9rTe5vkGsPb"
      },
      "execution_count": 230,
      "outputs": [
        {
          "output_type": "execute_result",
          "data": {
            "text/plain": [
              "(37, 1)"
            ]
          },
          "metadata": {},
          "execution_count": 230
        }
      ]
    },
    {
      "cell_type": "code",
      "source": [
        "# объявим модель\n",
        "ridge = Ridge(random_state = 1)"
      ],
      "metadata": {
        "id": "mungBllsGsPc"
      },
      "execution_count": 231,
      "outputs": []
    },
    {
      "cell_type": "code",
      "source": [
        "# обучаем модель\n",
        "ridge.fit(X_train, y_train)"
      ],
      "metadata": {
        "colab": {
          "base_uri": "https://localhost:8080/",
          "height": 74
        },
        "outputId": "be87b20e-268f-44dc-a6e9-4cf349db946e",
        "id": "qy_aiW31GsPc"
      },
      "execution_count": 232,
      "outputs": [
        {
          "output_type": "execute_result",
          "data": {
            "text/plain": [
              "Ridge(random_state=1)"
            ],
            "text/html": [
              "<style>#sk-container-id-22 {color: black;background-color: white;}#sk-container-id-22 pre{padding: 0;}#sk-container-id-22 div.sk-toggleable {background-color: white;}#sk-container-id-22 label.sk-toggleable__label {cursor: pointer;display: block;width: 100%;margin-bottom: 0;padding: 0.3em;box-sizing: border-box;text-align: center;}#sk-container-id-22 label.sk-toggleable__label-arrow:before {content: \"▸\";float: left;margin-right: 0.25em;color: #696969;}#sk-container-id-22 label.sk-toggleable__label-arrow:hover:before {color: black;}#sk-container-id-22 div.sk-estimator:hover label.sk-toggleable__label-arrow:before {color: black;}#sk-container-id-22 div.sk-toggleable__content {max-height: 0;max-width: 0;overflow: hidden;text-align: left;background-color: #f0f8ff;}#sk-container-id-22 div.sk-toggleable__content pre {margin: 0.2em;color: black;border-radius: 0.25em;background-color: #f0f8ff;}#sk-container-id-22 input.sk-toggleable__control:checked~div.sk-toggleable__content {max-height: 200px;max-width: 100%;overflow: auto;}#sk-container-id-22 input.sk-toggleable__control:checked~label.sk-toggleable__label-arrow:before {content: \"▾\";}#sk-container-id-22 div.sk-estimator input.sk-toggleable__control:checked~label.sk-toggleable__label {background-color: #d4ebff;}#sk-container-id-22 div.sk-label input.sk-toggleable__control:checked~label.sk-toggleable__label {background-color: #d4ebff;}#sk-container-id-22 input.sk-hidden--visually {border: 0;clip: rect(1px 1px 1px 1px);clip: rect(1px, 1px, 1px, 1px);height: 1px;margin: -1px;overflow: hidden;padding: 0;position: absolute;width: 1px;}#sk-container-id-22 div.sk-estimator {font-family: monospace;background-color: #f0f8ff;border: 1px dotted black;border-radius: 0.25em;box-sizing: border-box;margin-bottom: 0.5em;}#sk-container-id-22 div.sk-estimator:hover {background-color: #d4ebff;}#sk-container-id-22 div.sk-parallel-item::after {content: \"\";width: 100%;border-bottom: 1px solid gray;flex-grow: 1;}#sk-container-id-22 div.sk-label:hover label.sk-toggleable__label {background-color: #d4ebff;}#sk-container-id-22 div.sk-serial::before {content: \"\";position: absolute;border-left: 1px solid gray;box-sizing: border-box;top: 0;bottom: 0;left: 50%;z-index: 0;}#sk-container-id-22 div.sk-serial {display: flex;flex-direction: column;align-items: center;background-color: white;padding-right: 0.2em;padding-left: 0.2em;position: relative;}#sk-container-id-22 div.sk-item {position: relative;z-index: 1;}#sk-container-id-22 div.sk-parallel {display: flex;align-items: stretch;justify-content: center;background-color: white;position: relative;}#sk-container-id-22 div.sk-item::before, #sk-container-id-22 div.sk-parallel-item::before {content: \"\";position: absolute;border-left: 1px solid gray;box-sizing: border-box;top: 0;bottom: 0;left: 50%;z-index: -1;}#sk-container-id-22 div.sk-parallel-item {display: flex;flex-direction: column;z-index: 1;position: relative;background-color: white;}#sk-container-id-22 div.sk-parallel-item:first-child::after {align-self: flex-end;width: 50%;}#sk-container-id-22 div.sk-parallel-item:last-child::after {align-self: flex-start;width: 50%;}#sk-container-id-22 div.sk-parallel-item:only-child::after {width: 0;}#sk-container-id-22 div.sk-dashed-wrapped {border: 1px dashed gray;margin: 0 0.4em 0.5em 0.4em;box-sizing: border-box;padding-bottom: 0.4em;background-color: white;}#sk-container-id-22 div.sk-label label {font-family: monospace;font-weight: bold;display: inline-block;line-height: 1.2em;}#sk-container-id-22 div.sk-label-container {text-align: center;}#sk-container-id-22 div.sk-container {/* jupyter's `normalize.less` sets `[hidden] { display: none; }` but bootstrap.min.css set `[hidden] { display: none !important; }` so we also need the `!important` here to be able to override the default hidden behavior on the sphinx rendered scikit-learn.org. See: https://github.com/scikit-learn/scikit-learn/issues/21755 */display: inline-block !important;position: relative;}#sk-container-id-22 div.sk-text-repr-fallback {display: none;}</style><div id=\"sk-container-id-22\" class=\"sk-top-container\"><div class=\"sk-text-repr-fallback\"><pre>Ridge(random_state=1)</pre><b>In a Jupyter environment, please rerun this cell to show the HTML representation or trust the notebook. <br />On GitHub, the HTML representation is unable to render, please try loading this page with nbviewer.org.</b></div><div class=\"sk-container\" hidden><div class=\"sk-item\"><div class=\"sk-estimator sk-toggleable\"><input class=\"sk-toggleable__control sk-hidden--visually\" id=\"sk-estimator-id-22\" type=\"checkbox\" checked><label for=\"sk-estimator-id-22\" class=\"sk-toggleable__label sk-toggleable__label-arrow\">Ridge</label><div class=\"sk-toggleable__content\"><pre>Ridge(random_state=1)</pre></div></div></div></div></div>"
            ]
          },
          "metadata": {},
          "execution_count": 232
        }
      ]
    },
    {
      "cell_type": "code",
      "source": [
        "# получим значение коэффициента признака\n",
        "round(ridge.coef_[0, 9], 4)"
      ],
      "metadata": {
        "colab": {
          "base_uri": "https://localhost:8080/"
        },
        "outputId": "31c5700a-19e9-4ffa-df60-054eb55b3e68",
        "id": "Gv5413kRGsPc"
      },
      "execution_count": 233,
      "outputs": [
        {
          "output_type": "execute_result",
          "data": {
            "text/plain": [
              "39.0668"
            ]
          },
          "metadata": {},
          "execution_count": 233
        }
      ]
    },
    {
      "cell_type": "markdown",
      "source": [
        "Обучим модель, **заполнив все пропуски средним значением**."
      ],
      "metadata": {
        "id": "x5QPrFPzGsPc"
      }
    },
    {
      "cell_type": "code",
      "source": [
        "# формируем обучающую и тестовую выборку\n",
        "X_train, X_test, y_train, y_test = train_test_split(\n",
        "    X, y, test_size = 0.33, random_state = 42)"
      ],
      "metadata": {
        "id": "LlpzJAXKGsPc"
      },
      "execution_count": 234,
      "outputs": []
    },
    {
      "cell_type": "code",
      "source": [
        "# объявляем объект StandardScaler\n",
        "scaler = StandardScaler()"
      ],
      "metadata": {
        "id": "RuY8mF06GsPd"
      },
      "execution_count": 235,
      "outputs": []
    },
    {
      "cell_type": "code",
      "source": [
        "# обучаем и применяем StandardScaler к датасету X_train\n",
        "X_train = scaler.fit_transform(X_train)"
      ],
      "metadata": {
        "id": "jTki8XoaGsPd"
      },
      "execution_count": 236,
      "outputs": []
    },
    {
      "cell_type": "code",
      "source": [
        "# применяем StandardScaler к датасету X_test\n",
        "X_test = scaler.transform(X_test)"
      ],
      "metadata": {
        "id": "4KrfcwOcGsPd"
      },
      "execution_count": 237,
      "outputs": []
    },
    {
      "cell_type": "code",
      "source": [
        "# сохраним обучающие признаки в DataFrame\n",
        "X_train = pd.DataFrame(X_train)"
      ],
      "metadata": {
        "id": "KEeVwo0rGsPd"
      },
      "execution_count": 238,
      "outputs": []
    },
    {
      "cell_type": "code",
      "source": [
        "# создадим пропуски в диапазоне 0-60% от общего числа значений\n",
        "X_train.loc[X_train[9].isin(X_train[9].sample(30, random_state=1)), 9] = np.nan"
      ],
      "metadata": {
        "id": "9Ft6jE2qGsPd"
      },
      "execution_count": 239,
      "outputs": []
    },
    {
      "cell_type": "code",
      "source": [
        "# проверим наличие пропусков в признаке X_train[9] в %\n",
        "round(X_train[9].isna().sum() / X_train.shape[0], 4) * 100"
      ],
      "metadata": {
        "colab": {
          "base_uri": "https://localhost:8080/"
        },
        "outputId": "e2f26ef5-e94f-4596-9671-ce5f3eb8d589",
        "id": "gHQd91yRGsPd"
      },
      "execution_count": 240,
      "outputs": [
        {
          "output_type": "execute_result",
          "data": {
            "text/plain": [
              "44.78"
            ]
          },
          "metadata": {},
          "execution_count": 240
        }
      ]
    },
    {
      "cell_type": "code",
      "source": [
        "# объявляем объект SimpleImputer\n",
        "# для заполнения пропусков средним значением\n",
        "imputer = SimpleImputer(\n",
        "    missing_values = np.nan,\n",
        "    strategy = 'mean')"
      ],
      "metadata": {
        "id": "vkhSLFQ2GsPe"
      },
      "execution_count": 241,
      "outputs": []
    },
    {
      "cell_type": "code",
      "source": [
        "# заполняем пропуски\n",
        "X_train = imputer.fit_transform(X_train)"
      ],
      "metadata": {
        "id": "QWWZ7U4BGsPe"
      },
      "execution_count": 242,
      "outputs": []
    },
    {
      "cell_type": "code",
      "source": [
        "pd.DataFrame(X_train)[0].isna().sum()"
      ],
      "metadata": {
        "colab": {
          "base_uri": "https://localhost:8080/"
        },
        "outputId": "adbd86d8-93d8-47ba-85ae-09a8a35b8145",
        "id": "QqLlLbzGGsPe"
      },
      "execution_count": 243,
      "outputs": [
        {
          "output_type": "execute_result",
          "data": {
            "text/plain": [
              "0"
            ]
          },
          "metadata": {},
          "execution_count": 243
        }
      ]
    },
    {
      "cell_type": "code",
      "source": [
        "# обучаем модель\n",
        "ridge.fit(X_train, y_train)"
      ],
      "metadata": {
        "colab": {
          "base_uri": "https://localhost:8080/",
          "height": 74
        },
        "outputId": "f9a3e57e-587f-4520-8e93-16c8a8b7b905",
        "id": "NUjveQiUGsPf"
      },
      "execution_count": 244,
      "outputs": [
        {
          "output_type": "execute_result",
          "data": {
            "text/plain": [
              "Ridge(random_state=1)"
            ],
            "text/html": [
              "<style>#sk-container-id-23 {color: black;background-color: white;}#sk-container-id-23 pre{padding: 0;}#sk-container-id-23 div.sk-toggleable {background-color: white;}#sk-container-id-23 label.sk-toggleable__label {cursor: pointer;display: block;width: 100%;margin-bottom: 0;padding: 0.3em;box-sizing: border-box;text-align: center;}#sk-container-id-23 label.sk-toggleable__label-arrow:before {content: \"▸\";float: left;margin-right: 0.25em;color: #696969;}#sk-container-id-23 label.sk-toggleable__label-arrow:hover:before {color: black;}#sk-container-id-23 div.sk-estimator:hover label.sk-toggleable__label-arrow:before {color: black;}#sk-container-id-23 div.sk-toggleable__content {max-height: 0;max-width: 0;overflow: hidden;text-align: left;background-color: #f0f8ff;}#sk-container-id-23 div.sk-toggleable__content pre {margin: 0.2em;color: black;border-radius: 0.25em;background-color: #f0f8ff;}#sk-container-id-23 input.sk-toggleable__control:checked~div.sk-toggleable__content {max-height: 200px;max-width: 100%;overflow: auto;}#sk-container-id-23 input.sk-toggleable__control:checked~label.sk-toggleable__label-arrow:before {content: \"▾\";}#sk-container-id-23 div.sk-estimator input.sk-toggleable__control:checked~label.sk-toggleable__label {background-color: #d4ebff;}#sk-container-id-23 div.sk-label input.sk-toggleable__control:checked~label.sk-toggleable__label {background-color: #d4ebff;}#sk-container-id-23 input.sk-hidden--visually {border: 0;clip: rect(1px 1px 1px 1px);clip: rect(1px, 1px, 1px, 1px);height: 1px;margin: -1px;overflow: hidden;padding: 0;position: absolute;width: 1px;}#sk-container-id-23 div.sk-estimator {font-family: monospace;background-color: #f0f8ff;border: 1px dotted black;border-radius: 0.25em;box-sizing: border-box;margin-bottom: 0.5em;}#sk-container-id-23 div.sk-estimator:hover {background-color: #d4ebff;}#sk-container-id-23 div.sk-parallel-item::after {content: \"\";width: 100%;border-bottom: 1px solid gray;flex-grow: 1;}#sk-container-id-23 div.sk-label:hover label.sk-toggleable__label {background-color: #d4ebff;}#sk-container-id-23 div.sk-serial::before {content: \"\";position: absolute;border-left: 1px solid gray;box-sizing: border-box;top: 0;bottom: 0;left: 50%;z-index: 0;}#sk-container-id-23 div.sk-serial {display: flex;flex-direction: column;align-items: center;background-color: white;padding-right: 0.2em;padding-left: 0.2em;position: relative;}#sk-container-id-23 div.sk-item {position: relative;z-index: 1;}#sk-container-id-23 div.sk-parallel {display: flex;align-items: stretch;justify-content: center;background-color: white;position: relative;}#sk-container-id-23 div.sk-item::before, #sk-container-id-23 div.sk-parallel-item::before {content: \"\";position: absolute;border-left: 1px solid gray;box-sizing: border-box;top: 0;bottom: 0;left: 50%;z-index: -1;}#sk-container-id-23 div.sk-parallel-item {display: flex;flex-direction: column;z-index: 1;position: relative;background-color: white;}#sk-container-id-23 div.sk-parallel-item:first-child::after {align-self: flex-end;width: 50%;}#sk-container-id-23 div.sk-parallel-item:last-child::after {align-self: flex-start;width: 50%;}#sk-container-id-23 div.sk-parallel-item:only-child::after {width: 0;}#sk-container-id-23 div.sk-dashed-wrapped {border: 1px dashed gray;margin: 0 0.4em 0.5em 0.4em;box-sizing: border-box;padding-bottom: 0.4em;background-color: white;}#sk-container-id-23 div.sk-label label {font-family: monospace;font-weight: bold;display: inline-block;line-height: 1.2em;}#sk-container-id-23 div.sk-label-container {text-align: center;}#sk-container-id-23 div.sk-container {/* jupyter's `normalize.less` sets `[hidden] { display: none; }` but bootstrap.min.css set `[hidden] { display: none !important; }` so we also need the `!important` here to be able to override the default hidden behavior on the sphinx rendered scikit-learn.org. See: https://github.com/scikit-learn/scikit-learn/issues/21755 */display: inline-block !important;position: relative;}#sk-container-id-23 div.sk-text-repr-fallback {display: none;}</style><div id=\"sk-container-id-23\" class=\"sk-top-container\"><div class=\"sk-text-repr-fallback\"><pre>Ridge(random_state=1)</pre><b>In a Jupyter environment, please rerun this cell to show the HTML representation or trust the notebook. <br />On GitHub, the HTML representation is unable to render, please try loading this page with nbviewer.org.</b></div><div class=\"sk-container\" hidden><div class=\"sk-item\"><div class=\"sk-estimator sk-toggleable\"><input class=\"sk-toggleable__control sk-hidden--visually\" id=\"sk-estimator-id-23\" type=\"checkbox\" checked><label for=\"sk-estimator-id-23\" class=\"sk-toggleable__label sk-toggleable__label-arrow\">Ridge</label><div class=\"sk-toggleable__content\"><pre>Ridge(random_state=1)</pre></div></div></div></div></div>"
            ]
          },
          "metadata": {},
          "execution_count": 244
        }
      ]
    },
    {
      "cell_type": "code",
      "source": [
        "# получим значение коэффициента признака\n",
        "round(ridge.coef_[0, 9], 4)"
      ],
      "metadata": {
        "colab": {
          "base_uri": "https://localhost:8080/"
        },
        "outputId": "a8e65a58-5b89-4ac8-faae-4eafbca9f8e6",
        "id": "VCpH0EtOGsPf"
      },
      "execution_count": 245,
      "outputs": [
        {
          "output_type": "execute_result",
          "data": {
            "text/plain": [
              "36.95"
            ]
          },
          "metadata": {},
          "execution_count": 245
        }
      ]
    },
    {
      "cell_type": "markdown",
      "source": [
        "Вывод: при 0-60% пропущенных значений, заполнение средним по 9-му работает хуже для неважного признака, чем отбрасывание наблюдений с пропущенными значениями."
      ],
      "metadata": {
        "id": "_VFkBSNOGsPf"
      }
    },
    {
      "cell_type": "markdown",
      "source": [
        "### **7.1.2 Количество пропусков 70-90%**\n",
        "\n",
        "---"
      ],
      "metadata": {
        "id": "z5XL42HWGsPf"
      }
    },
    {
      "cell_type": "markdown",
      "source": [
        "Обучим модель, **удалив все наблюдения с пропущенными значениями**."
      ],
      "metadata": {
        "id": "TJCEs8JhGsPf"
      }
    },
    {
      "cell_type": "code",
      "source": [
        "# формируем обучающую и тестовую выборку\n",
        "X_train, X_test, y_train, y_test = train_test_split(\n",
        "    X, y, test_size = 0.33, random_state = 42)"
      ],
      "metadata": {
        "id": "kMRLt90GGsPf"
      },
      "execution_count": 246,
      "outputs": []
    },
    {
      "cell_type": "code",
      "source": [
        "# объявляем объект StandardScaler\n",
        "scaler = StandardScaler()"
      ],
      "metadata": {
        "id": "QEDeHVVTGsPg"
      },
      "execution_count": 247,
      "outputs": []
    },
    {
      "cell_type": "code",
      "source": [
        "# обучаем и применяем StandardScaler к датасету X_train\n",
        "X_train = scaler.fit_transform(X_train)"
      ],
      "metadata": {
        "id": "osRZbMiUGsPg"
      },
      "execution_count": 248,
      "outputs": []
    },
    {
      "cell_type": "code",
      "source": [
        "# применяем StandardScaler к датасету X_test\n",
        "X_test = scaler.transform(X_test)"
      ],
      "metadata": {
        "id": "6Pa2n8M8GsPg"
      },
      "execution_count": 249,
      "outputs": []
    },
    {
      "cell_type": "code",
      "source": [
        "# сохраним обучающие признаки в DataFrame\n",
        "X_train = pd.DataFrame(X_train)"
      ],
      "metadata": {
        "id": "274QwFGxGsPg"
      },
      "execution_count": 250,
      "outputs": []
    },
    {
      "cell_type": "code",
      "source": [
        "# создадим пропуски в диапазоне 70-90% от общего числа значений\n",
        "X_train.loc[X_train[9].isin(X_train[9].sample(55, random_state=1)), 9] = np.nan"
      ],
      "metadata": {
        "id": "xrN7BMc4GsPg"
      },
      "execution_count": 251,
      "outputs": []
    },
    {
      "cell_type": "code",
      "source": [
        "# проверим наличие пропусков в признаке X_train[9] в %\n",
        "round(X_train[9].isna().sum() / X_train.shape[0], 4) * 100"
      ],
      "metadata": {
        "colab": {
          "base_uri": "https://localhost:8080/"
        },
        "outputId": "0eb9e464-77f0-48e2-8ff1-d772f0c5538d",
        "id": "HSrhzM0CGsPh"
      },
      "execution_count": 252,
      "outputs": [
        {
          "output_type": "execute_result",
          "data": {
            "text/plain": [
              "82.09"
            ]
          },
          "metadata": {},
          "execution_count": 252
        }
      ]
    },
    {
      "cell_type": "code",
      "source": [
        "# сбрасываем индексы\n",
        "X_train.reset_index(drop = True, inplace = True)\n",
        "\n",
        "# выведем новые значения индексов\n",
        "X_train.index"
      ],
      "metadata": {
        "colab": {
          "base_uri": "https://localhost:8080/"
        },
        "outputId": "6c1f36af-83fc-4fab-c09d-7441791dddea",
        "id": "fjxouM6_GsPh"
      },
      "execution_count": 253,
      "outputs": [
        {
          "output_type": "execute_result",
          "data": {
            "text/plain": [
              "RangeIndex(start=0, stop=67, step=1)"
            ]
          },
          "metadata": {},
          "execution_count": 253
        }
      ]
    },
    {
      "cell_type": "code",
      "source": [
        "# сбрасываем индексы\n",
        "y_train.reset_index(drop = True, inplace = True)\n",
        "\n",
        "# выведем новые значения индексов\n",
        "y_train.index"
      ],
      "metadata": {
        "colab": {
          "base_uri": "https://localhost:8080/"
        },
        "outputId": "dadd6d39-a0ec-4525-b79e-e74e621ee8f3",
        "id": "4am7Ly-iGsPh"
      },
      "execution_count": 254,
      "outputs": [
        {
          "output_type": "execute_result",
          "data": {
            "text/plain": [
              "RangeIndex(start=0, stop=67, step=1)"
            ]
          },
          "metadata": {},
          "execution_count": 254
        }
      ]
    },
    {
      "cell_type": "code",
      "source": [
        "# удаляем их X_train строки с пропусками в признаке [9]\n",
        "X_train.dropna(inplace = True)\n",
        "X_train.shape"
      ],
      "metadata": {
        "colab": {
          "base_uri": "https://localhost:8080/"
        },
        "outputId": "83c507b3-52d5-49e8-8058-2c13ba243f8b",
        "id": "JG5SDhAEGsPh"
      },
      "execution_count": 255,
      "outputs": [
        {
          "output_type": "execute_result",
          "data": {
            "text/plain": [
              "(12, 20)"
            ]
          },
          "metadata": {},
          "execution_count": 255
        }
      ]
    },
    {
      "cell_type": "code",
      "source": [
        "# отфильтруем из датасета y_train только строки,\n",
        "# соответствующие строкам датасета X_train\n",
        "y_train = y_train.loc[y_train.index.intersection(X_train.index)]\n",
        "y_train.shape"
      ],
      "metadata": {
        "colab": {
          "base_uri": "https://localhost:8080/"
        },
        "outputId": "d32c501d-8e00-4056-a65c-47616a946246",
        "id": "YvfBlWeSGsPh"
      },
      "execution_count": 256,
      "outputs": [
        {
          "output_type": "execute_result",
          "data": {
            "text/plain": [
              "(12, 1)"
            ]
          },
          "metadata": {},
          "execution_count": 256
        }
      ]
    },
    {
      "cell_type": "code",
      "source": [
        "# объявим модель\n",
        "ridge = Ridge(random_state = 1)"
      ],
      "metadata": {
        "id": "7wGTJ_lHGsPi"
      },
      "execution_count": 257,
      "outputs": []
    },
    {
      "cell_type": "code",
      "source": [
        "# обучаем модель\n",
        "ridge.fit(X_train, y_train)"
      ],
      "metadata": {
        "colab": {
          "base_uri": "https://localhost:8080/",
          "height": 74
        },
        "outputId": "98c08a45-6522-4d27-d9c4-36bf459435aa",
        "id": "_cdGi2z6GsPi"
      },
      "execution_count": 258,
      "outputs": [
        {
          "output_type": "execute_result",
          "data": {
            "text/plain": [
              "Ridge(random_state=1)"
            ],
            "text/html": [
              "<style>#sk-container-id-24 {color: black;background-color: white;}#sk-container-id-24 pre{padding: 0;}#sk-container-id-24 div.sk-toggleable {background-color: white;}#sk-container-id-24 label.sk-toggleable__label {cursor: pointer;display: block;width: 100%;margin-bottom: 0;padding: 0.3em;box-sizing: border-box;text-align: center;}#sk-container-id-24 label.sk-toggleable__label-arrow:before {content: \"▸\";float: left;margin-right: 0.25em;color: #696969;}#sk-container-id-24 label.sk-toggleable__label-arrow:hover:before {color: black;}#sk-container-id-24 div.sk-estimator:hover label.sk-toggleable__label-arrow:before {color: black;}#sk-container-id-24 div.sk-toggleable__content {max-height: 0;max-width: 0;overflow: hidden;text-align: left;background-color: #f0f8ff;}#sk-container-id-24 div.sk-toggleable__content pre {margin: 0.2em;color: black;border-radius: 0.25em;background-color: #f0f8ff;}#sk-container-id-24 input.sk-toggleable__control:checked~div.sk-toggleable__content {max-height: 200px;max-width: 100%;overflow: auto;}#sk-container-id-24 input.sk-toggleable__control:checked~label.sk-toggleable__label-arrow:before {content: \"▾\";}#sk-container-id-24 div.sk-estimator input.sk-toggleable__control:checked~label.sk-toggleable__label {background-color: #d4ebff;}#sk-container-id-24 div.sk-label input.sk-toggleable__control:checked~label.sk-toggleable__label {background-color: #d4ebff;}#sk-container-id-24 input.sk-hidden--visually {border: 0;clip: rect(1px 1px 1px 1px);clip: rect(1px, 1px, 1px, 1px);height: 1px;margin: -1px;overflow: hidden;padding: 0;position: absolute;width: 1px;}#sk-container-id-24 div.sk-estimator {font-family: monospace;background-color: #f0f8ff;border: 1px dotted black;border-radius: 0.25em;box-sizing: border-box;margin-bottom: 0.5em;}#sk-container-id-24 div.sk-estimator:hover {background-color: #d4ebff;}#sk-container-id-24 div.sk-parallel-item::after {content: \"\";width: 100%;border-bottom: 1px solid gray;flex-grow: 1;}#sk-container-id-24 div.sk-label:hover label.sk-toggleable__label {background-color: #d4ebff;}#sk-container-id-24 div.sk-serial::before {content: \"\";position: absolute;border-left: 1px solid gray;box-sizing: border-box;top: 0;bottom: 0;left: 50%;z-index: 0;}#sk-container-id-24 div.sk-serial {display: flex;flex-direction: column;align-items: center;background-color: white;padding-right: 0.2em;padding-left: 0.2em;position: relative;}#sk-container-id-24 div.sk-item {position: relative;z-index: 1;}#sk-container-id-24 div.sk-parallel {display: flex;align-items: stretch;justify-content: center;background-color: white;position: relative;}#sk-container-id-24 div.sk-item::before, #sk-container-id-24 div.sk-parallel-item::before {content: \"\";position: absolute;border-left: 1px solid gray;box-sizing: border-box;top: 0;bottom: 0;left: 50%;z-index: -1;}#sk-container-id-24 div.sk-parallel-item {display: flex;flex-direction: column;z-index: 1;position: relative;background-color: white;}#sk-container-id-24 div.sk-parallel-item:first-child::after {align-self: flex-end;width: 50%;}#sk-container-id-24 div.sk-parallel-item:last-child::after {align-self: flex-start;width: 50%;}#sk-container-id-24 div.sk-parallel-item:only-child::after {width: 0;}#sk-container-id-24 div.sk-dashed-wrapped {border: 1px dashed gray;margin: 0 0.4em 0.5em 0.4em;box-sizing: border-box;padding-bottom: 0.4em;background-color: white;}#sk-container-id-24 div.sk-label label {font-family: monospace;font-weight: bold;display: inline-block;line-height: 1.2em;}#sk-container-id-24 div.sk-label-container {text-align: center;}#sk-container-id-24 div.sk-container {/* jupyter's `normalize.less` sets `[hidden] { display: none; }` but bootstrap.min.css set `[hidden] { display: none !important; }` so we also need the `!important` here to be able to override the default hidden behavior on the sphinx rendered scikit-learn.org. See: https://github.com/scikit-learn/scikit-learn/issues/21755 */display: inline-block !important;position: relative;}#sk-container-id-24 div.sk-text-repr-fallback {display: none;}</style><div id=\"sk-container-id-24\" class=\"sk-top-container\"><div class=\"sk-text-repr-fallback\"><pre>Ridge(random_state=1)</pre><b>In a Jupyter environment, please rerun this cell to show the HTML representation or trust the notebook. <br />On GitHub, the HTML representation is unable to render, please try loading this page with nbviewer.org.</b></div><div class=\"sk-container\" hidden><div class=\"sk-item\"><div class=\"sk-estimator sk-toggleable\"><input class=\"sk-toggleable__control sk-hidden--visually\" id=\"sk-estimator-id-24\" type=\"checkbox\" checked><label for=\"sk-estimator-id-24\" class=\"sk-toggleable__label sk-toggleable__label-arrow\">Ridge</label><div class=\"sk-toggleable__content\"><pre>Ridge(random_state=1)</pre></div></div></div></div></div>"
            ]
          },
          "metadata": {},
          "execution_count": 258
        }
      ]
    },
    {
      "cell_type": "code",
      "source": [
        "# получим значение коэффициента признака\n",
        "round(ridge.coef_[0, 9], 4)"
      ],
      "metadata": {
        "colab": {
          "base_uri": "https://localhost:8080/"
        },
        "outputId": "1ff51337-c82f-4203-cc64-65551b3e0464",
        "id": "xmm-CgqLGsPi"
      },
      "execution_count": 259,
      "outputs": [
        {
          "output_type": "execute_result",
          "data": {
            "text/plain": [
              "40.7513"
            ]
          },
          "metadata": {},
          "execution_count": 259
        }
      ]
    },
    {
      "cell_type": "markdown",
      "source": [
        "Обучим модель, **заполнив все пропуски средним значением**."
      ],
      "metadata": {
        "id": "1cdQkHW2GsPi"
      }
    },
    {
      "cell_type": "code",
      "source": [
        "# формируем обучающую и тестовую выборку\n",
        "X_train, X_test, y_train, y_test = train_test_split(\n",
        "    X, y, test_size = 0.33, random_state = 42)"
      ],
      "metadata": {
        "id": "WUD0Tv1MGsPi"
      },
      "execution_count": 260,
      "outputs": []
    },
    {
      "cell_type": "code",
      "source": [
        "# объявляем объект StandardScaler\n",
        "scaler = StandardScaler()"
      ],
      "metadata": {
        "id": "IfXqQh0aGsPj"
      },
      "execution_count": 261,
      "outputs": []
    },
    {
      "cell_type": "code",
      "source": [
        "# обучаем и применяем StandardScaler к датасету X_train\n",
        "X_train = scaler.fit_transform(X_train)"
      ],
      "metadata": {
        "id": "LvafBxUhGsPj"
      },
      "execution_count": 262,
      "outputs": []
    },
    {
      "cell_type": "code",
      "source": [
        "# применяем StandardScaler к датасету X_test\n",
        "X_test = scaler.transform(X_test)"
      ],
      "metadata": {
        "id": "GXo-WIBdGsPj"
      },
      "execution_count": 263,
      "outputs": []
    },
    {
      "cell_type": "code",
      "source": [
        "# сохраним обучающие признаки в DataFrame\n",
        "X_train = pd.DataFrame(X_train)"
      ],
      "metadata": {
        "id": "Jk-aO7SHGsPj"
      },
      "execution_count": 264,
      "outputs": []
    },
    {
      "cell_type": "code",
      "source": [
        "# создадим пропуски в диапазоне 0-60% от общего числа значений\n",
        "X_train.loc[X_train[9].isin(X_train[9].sample(55, random_state=1)), 9] = np.nan"
      ],
      "metadata": {
        "id": "gUjpdBHrGsPj"
      },
      "execution_count": 265,
      "outputs": []
    },
    {
      "cell_type": "code",
      "source": [
        "# проверим наличие пропусков в признаке X_train[9] в %\n",
        "round(X_train[9].isna().sum() / X_train.shape[0], 4) * 100"
      ],
      "metadata": {
        "colab": {
          "base_uri": "https://localhost:8080/"
        },
        "outputId": "36b9a708-eed7-4ac3-c0c8-7217b7f1b610",
        "id": "BP2IUrhAGsPk"
      },
      "execution_count": 266,
      "outputs": [
        {
          "output_type": "execute_result",
          "data": {
            "text/plain": [
              "82.09"
            ]
          },
          "metadata": {},
          "execution_count": 266
        }
      ]
    },
    {
      "cell_type": "code",
      "source": [
        "# объявляем объект SimpleImputer\n",
        "# для заполнения пропусков средним значением\n",
        "imputer = SimpleImputer(\n",
        "    missing_values = np.nan,\n",
        "    strategy = 'mean')"
      ],
      "metadata": {
        "id": "YyZBLSvlGsPk"
      },
      "execution_count": 267,
      "outputs": []
    },
    {
      "cell_type": "code",
      "source": [
        "# заполняем пропуски\n",
        "X_train = imputer.fit_transform(X_train)"
      ],
      "metadata": {
        "id": "9_y-QMI-GsPk"
      },
      "execution_count": 268,
      "outputs": []
    },
    {
      "cell_type": "code",
      "source": [
        "pd.DataFrame(X_train)[0].isna().sum()"
      ],
      "metadata": {
        "colab": {
          "base_uri": "https://localhost:8080/"
        },
        "outputId": "8f109a86-c793-4a38-919c-6327689a5de4",
        "id": "G3t9jjG4GsPk"
      },
      "execution_count": 269,
      "outputs": [
        {
          "output_type": "execute_result",
          "data": {
            "text/plain": [
              "0"
            ]
          },
          "metadata": {},
          "execution_count": 269
        }
      ]
    },
    {
      "cell_type": "code",
      "source": [
        "# обучаем модель\n",
        "ridge.fit(X_train, y_train)"
      ],
      "metadata": {
        "colab": {
          "base_uri": "https://localhost:8080/",
          "height": 74
        },
        "outputId": "70e7a925-78f3-4173-e4b1-f4bb6f3d8d60",
        "id": "hLUgHMgcGsPl"
      },
      "execution_count": 270,
      "outputs": [
        {
          "output_type": "execute_result",
          "data": {
            "text/plain": [
              "Ridge(random_state=1)"
            ],
            "text/html": [
              "<style>#sk-container-id-25 {color: black;background-color: white;}#sk-container-id-25 pre{padding: 0;}#sk-container-id-25 div.sk-toggleable {background-color: white;}#sk-container-id-25 label.sk-toggleable__label {cursor: pointer;display: block;width: 100%;margin-bottom: 0;padding: 0.3em;box-sizing: border-box;text-align: center;}#sk-container-id-25 label.sk-toggleable__label-arrow:before {content: \"▸\";float: left;margin-right: 0.25em;color: #696969;}#sk-container-id-25 label.sk-toggleable__label-arrow:hover:before {color: black;}#sk-container-id-25 div.sk-estimator:hover label.sk-toggleable__label-arrow:before {color: black;}#sk-container-id-25 div.sk-toggleable__content {max-height: 0;max-width: 0;overflow: hidden;text-align: left;background-color: #f0f8ff;}#sk-container-id-25 div.sk-toggleable__content pre {margin: 0.2em;color: black;border-radius: 0.25em;background-color: #f0f8ff;}#sk-container-id-25 input.sk-toggleable__control:checked~div.sk-toggleable__content {max-height: 200px;max-width: 100%;overflow: auto;}#sk-container-id-25 input.sk-toggleable__control:checked~label.sk-toggleable__label-arrow:before {content: \"▾\";}#sk-container-id-25 div.sk-estimator input.sk-toggleable__control:checked~label.sk-toggleable__label {background-color: #d4ebff;}#sk-container-id-25 div.sk-label input.sk-toggleable__control:checked~label.sk-toggleable__label {background-color: #d4ebff;}#sk-container-id-25 input.sk-hidden--visually {border: 0;clip: rect(1px 1px 1px 1px);clip: rect(1px, 1px, 1px, 1px);height: 1px;margin: -1px;overflow: hidden;padding: 0;position: absolute;width: 1px;}#sk-container-id-25 div.sk-estimator {font-family: monospace;background-color: #f0f8ff;border: 1px dotted black;border-radius: 0.25em;box-sizing: border-box;margin-bottom: 0.5em;}#sk-container-id-25 div.sk-estimator:hover {background-color: #d4ebff;}#sk-container-id-25 div.sk-parallel-item::after {content: \"\";width: 100%;border-bottom: 1px solid gray;flex-grow: 1;}#sk-container-id-25 div.sk-label:hover label.sk-toggleable__label {background-color: #d4ebff;}#sk-container-id-25 div.sk-serial::before {content: \"\";position: absolute;border-left: 1px solid gray;box-sizing: border-box;top: 0;bottom: 0;left: 50%;z-index: 0;}#sk-container-id-25 div.sk-serial {display: flex;flex-direction: column;align-items: center;background-color: white;padding-right: 0.2em;padding-left: 0.2em;position: relative;}#sk-container-id-25 div.sk-item {position: relative;z-index: 1;}#sk-container-id-25 div.sk-parallel {display: flex;align-items: stretch;justify-content: center;background-color: white;position: relative;}#sk-container-id-25 div.sk-item::before, #sk-container-id-25 div.sk-parallel-item::before {content: \"\";position: absolute;border-left: 1px solid gray;box-sizing: border-box;top: 0;bottom: 0;left: 50%;z-index: -1;}#sk-container-id-25 div.sk-parallel-item {display: flex;flex-direction: column;z-index: 1;position: relative;background-color: white;}#sk-container-id-25 div.sk-parallel-item:first-child::after {align-self: flex-end;width: 50%;}#sk-container-id-25 div.sk-parallel-item:last-child::after {align-self: flex-start;width: 50%;}#sk-container-id-25 div.sk-parallel-item:only-child::after {width: 0;}#sk-container-id-25 div.sk-dashed-wrapped {border: 1px dashed gray;margin: 0 0.4em 0.5em 0.4em;box-sizing: border-box;padding-bottom: 0.4em;background-color: white;}#sk-container-id-25 div.sk-label label {font-family: monospace;font-weight: bold;display: inline-block;line-height: 1.2em;}#sk-container-id-25 div.sk-label-container {text-align: center;}#sk-container-id-25 div.sk-container {/* jupyter's `normalize.less` sets `[hidden] { display: none; }` but bootstrap.min.css set `[hidden] { display: none !important; }` so we also need the `!important` here to be able to override the default hidden behavior on the sphinx rendered scikit-learn.org. See: https://github.com/scikit-learn/scikit-learn/issues/21755 */display: inline-block !important;position: relative;}#sk-container-id-25 div.sk-text-repr-fallback {display: none;}</style><div id=\"sk-container-id-25\" class=\"sk-top-container\"><div class=\"sk-text-repr-fallback\"><pre>Ridge(random_state=1)</pre><b>In a Jupyter environment, please rerun this cell to show the HTML representation or trust the notebook. <br />On GitHub, the HTML representation is unable to render, please try loading this page with nbviewer.org.</b></div><div class=\"sk-container\" hidden><div class=\"sk-item\"><div class=\"sk-estimator sk-toggleable\"><input class=\"sk-toggleable__control sk-hidden--visually\" id=\"sk-estimator-id-25\" type=\"checkbox\" checked><label for=\"sk-estimator-id-25\" class=\"sk-toggleable__label sk-toggleable__label-arrow\">Ridge</label><div class=\"sk-toggleable__content\"><pre>Ridge(random_state=1)</pre></div></div></div></div></div>"
            ]
          },
          "metadata": {},
          "execution_count": 270
        }
      ]
    },
    {
      "cell_type": "code",
      "source": [
        "# получим значение коэффициента признака\n",
        "round(ridge.coef_[0, 9], 4)"
      ],
      "metadata": {
        "colab": {
          "base_uri": "https://localhost:8080/"
        },
        "outputId": "daa1fab6-ed5c-4b3c-a557-8d5724b571fb",
        "id": "l70afc0uGsPl"
      },
      "execution_count": 271,
      "outputs": [
        {
          "output_type": "execute_result",
          "data": {
            "text/plain": [
              "33.042"
            ]
          },
          "metadata": {},
          "execution_count": 271
        }
      ]
    },
    {
      "cell_type": "markdown",
      "source": [
        "Вывод: для 70-90% пропущенных значений, заполнение средним по 9-му признаку работает хуже для неважного признака, чем отбрасывание наблюдений с пропущенными значениями."
      ],
      "metadata": {
        "id": "-ksKAeldGsPl"
      }
    },
    {
      "cell_type": "markdown",
      "source": [
        "# <font color='green'>**Вопрос 8**<font>\n",
        "\n",
        "---"
      ],
      "metadata": {
        "id": "fl7xi05dMR1f"
      }
    },
    {
      "cell_type": "markdown",
      "source": [
        "**Вопросы 4-6 были про правильное нормирование. Вопрос 7 был про заполнение пропусков.\n",
        "Подведем итоги экспериментов. Какие выводы можно сделать?**"
      ],
      "metadata": {
        "id": "TEtjZpQONEBq"
      }
    },
    {
      "cell_type": "markdown",
      "source": [
        "* Лучше всегда нормировать при применении регуляризации\n",
        "* Если мы предполагаем, что распределение X_test (данные, на которых мы будем применять модель) может измениться, то лучше отдельно обучать и применять StandardScalar для train и отдельно обучать и применять для test\n",
        "* Заполнение пропусков средним работает всегда\n",
        "* Если признак важный, а доля пропущенных значений невелика, то лучше наблюдения с пропущенными значениями просто отбросить"
      ],
      "metadata": {
        "id": "vNjsogKbNGjJ"
      }
    },
    {
      "cell_type": "markdown",
      "source": [
        "# <font color='green'>**Вопрос 9**<font>\n",
        "\n",
        "---"
      ],
      "metadata": {
        "id": "s7m22WAZOoyN"
      }
    },
    {
      "cell_type": "markdown",
      "source": [
        "**Создадим данные, используя\n",
        "X, y, coefs = make_regression(n_samples=1000, n_features=200, noise=10, random_state=42, coef=True)**\n",
        "\n",
        "**Давайте построим Ridge(random_state=1), Lasso, LinearRegression на ненормированных данных (т.к. сырые данные близки к нормированным) и на 100 случайно выбранных наблюдениях. Качество оценим по mean_squared_error от истинных значений и предсказаний на наблюдениях, которые не участвовали в обучении (900).**"
      ],
      "metadata": {
        "id": "CmsRXn_ZOsp-"
      }
    },
    {
      "cell_type": "markdown",
      "source": [
        "* Самая лучшая регрессия – LinearRegression\n",
        "* Самая лучшая регрессия – Ridge\n",
        "* Самая лучшая регрессия – Lasso\n",
        "* Самые близкие к истинным значения коэффициентов у Linear Regression, если оценить по методу вопроса 3\n",
        "* Самые близкие к истинным значения коэффициентов у Lasso, если оценить по методу вопроса 3\n",
        "* При количестве наблюдений меньше, чем количество признаков, Lasso может помочь\n",
        "* Регрессию можно использовать при любом соотношении количества признаков и наблюдений"
      ],
      "metadata": {
        "id": "PModgXE4Oz0N"
      }
    },
    {
      "cell_type": "code",
      "source": [
        "# создадим исходные данные\n",
        "X, y, coefs = make_regression(\n",
        "    n_samples=1000,\n",
        "    n_features=200,\n",
        "    noise=10,\n",
        "    random_state=42,\n",
        "    coef=True)"
      ],
      "metadata": {
        "id": "feG3sT7zGg_-"
      },
      "execution_count": 272,
      "outputs": []
    },
    {
      "cell_type": "code",
      "source": [
        "# сохраним np.array X и y в DataFrame\n",
        "X = pd.DataFrame(X)\n",
        "y = pd.DataFrame(y)"
      ],
      "metadata": {
        "id": "-tdUOI6TYzsK"
      },
      "execution_count": 273,
      "outputs": []
    },
    {
      "cell_type": "code",
      "source": [
        "# сформируем из признаков выборку из 100 случайных значений\n",
        "X_100 = X.sample(100, random_state=1)"
      ],
      "metadata": {
        "id": "I__GZkXaYQvw"
      },
      "execution_count": 274,
      "outputs": []
    },
    {
      "cell_type": "code",
      "source": [
        "# выведем размер выборки с признаками\n",
        "X_100.shape"
      ],
      "metadata": {
        "colab": {
          "base_uri": "https://localhost:8080/"
        },
        "id": "97XypSW8ZFB2",
        "outputId": "79890983-902c-429e-c795-00e3ea23257a"
      },
      "execution_count": 275,
      "outputs": [
        {
          "output_type": "execute_result",
          "data": {
            "text/plain": [
              "(100, 200)"
            ]
          },
          "metadata": {},
          "execution_count": 275
        }
      ]
    },
    {
      "cell_type": "code",
      "source": [
        "# отфильтруем для y_100 наблюдения из X_100 по индексам\n",
        "y_100 = y.loc[y.index.intersection(X_100.index)]\n",
        "y_100.shape"
      ],
      "metadata": {
        "colab": {
          "base_uri": "https://localhost:8080/"
        },
        "id": "BxCsAcOZaGLj",
        "outputId": "d7b2b980-8b57-44fc-8171-1311ab38dad7"
      },
      "execution_count": 276,
      "outputs": [
        {
          "output_type": "execute_result",
          "data": {
            "text/plain": [
              "(100, 1)"
            ]
          },
          "metadata": {},
          "execution_count": 276
        }
      ]
    },
    {
      "cell_type": "markdown",
      "source": [
        "## **9.1 Обучение модели LinearRegression**\n",
        "\n",
        "---"
      ],
      "metadata": {
        "id": "hanMmaapXckJ"
      }
    },
    {
      "cell_type": "markdown",
      "source": [
        "### **9.1.1 Обучение модели LinearRegression на полных данных**\n",
        "\n",
        "---"
      ],
      "metadata": {
        "id": "5FmB-weQfOpe"
      }
    },
    {
      "cell_type": "code",
      "source": [
        "# формируем обучающую и тестовую выборку\n",
        "X_train, X_test, y_train, y_test = train_test_split(\n",
        "    X, y, test_size = 0.33, random_state = 42)"
      ],
      "metadata": {
        "id": "8Nl07o_rfFyK"
      },
      "execution_count": 277,
      "outputs": []
    },
    {
      "cell_type": "code",
      "source": [
        "# объявляем модель\n",
        "lr_full = LinearRegression()"
      ],
      "metadata": {
        "id": "pEUsIIFzXXg7"
      },
      "execution_count": 278,
      "outputs": []
    },
    {
      "cell_type": "code",
      "source": [
        "# обучаем модель на полных данных\n",
        "lr_full.fit(X_train, y_train)"
      ],
      "metadata": {
        "colab": {
          "base_uri": "https://localhost:8080/",
          "height": 74
        },
        "id": "D9DeR1giXXeL",
        "outputId": "351ab000-c748-42f8-ddf0-5d3879545d0d"
      },
      "execution_count": 279,
      "outputs": [
        {
          "output_type": "execute_result",
          "data": {
            "text/plain": [
              "LinearRegression()"
            ],
            "text/html": [
              "<style>#sk-container-id-26 {color: black;background-color: white;}#sk-container-id-26 pre{padding: 0;}#sk-container-id-26 div.sk-toggleable {background-color: white;}#sk-container-id-26 label.sk-toggleable__label {cursor: pointer;display: block;width: 100%;margin-bottom: 0;padding: 0.3em;box-sizing: border-box;text-align: center;}#sk-container-id-26 label.sk-toggleable__label-arrow:before {content: \"▸\";float: left;margin-right: 0.25em;color: #696969;}#sk-container-id-26 label.sk-toggleable__label-arrow:hover:before {color: black;}#sk-container-id-26 div.sk-estimator:hover label.sk-toggleable__label-arrow:before {color: black;}#sk-container-id-26 div.sk-toggleable__content {max-height: 0;max-width: 0;overflow: hidden;text-align: left;background-color: #f0f8ff;}#sk-container-id-26 div.sk-toggleable__content pre {margin: 0.2em;color: black;border-radius: 0.25em;background-color: #f0f8ff;}#sk-container-id-26 input.sk-toggleable__control:checked~div.sk-toggleable__content {max-height: 200px;max-width: 100%;overflow: auto;}#sk-container-id-26 input.sk-toggleable__control:checked~label.sk-toggleable__label-arrow:before {content: \"▾\";}#sk-container-id-26 div.sk-estimator input.sk-toggleable__control:checked~label.sk-toggleable__label {background-color: #d4ebff;}#sk-container-id-26 div.sk-label input.sk-toggleable__control:checked~label.sk-toggleable__label {background-color: #d4ebff;}#sk-container-id-26 input.sk-hidden--visually {border: 0;clip: rect(1px 1px 1px 1px);clip: rect(1px, 1px, 1px, 1px);height: 1px;margin: -1px;overflow: hidden;padding: 0;position: absolute;width: 1px;}#sk-container-id-26 div.sk-estimator {font-family: monospace;background-color: #f0f8ff;border: 1px dotted black;border-radius: 0.25em;box-sizing: border-box;margin-bottom: 0.5em;}#sk-container-id-26 div.sk-estimator:hover {background-color: #d4ebff;}#sk-container-id-26 div.sk-parallel-item::after {content: \"\";width: 100%;border-bottom: 1px solid gray;flex-grow: 1;}#sk-container-id-26 div.sk-label:hover label.sk-toggleable__label {background-color: #d4ebff;}#sk-container-id-26 div.sk-serial::before {content: \"\";position: absolute;border-left: 1px solid gray;box-sizing: border-box;top: 0;bottom: 0;left: 50%;z-index: 0;}#sk-container-id-26 div.sk-serial {display: flex;flex-direction: column;align-items: center;background-color: white;padding-right: 0.2em;padding-left: 0.2em;position: relative;}#sk-container-id-26 div.sk-item {position: relative;z-index: 1;}#sk-container-id-26 div.sk-parallel {display: flex;align-items: stretch;justify-content: center;background-color: white;position: relative;}#sk-container-id-26 div.sk-item::before, #sk-container-id-26 div.sk-parallel-item::before {content: \"\";position: absolute;border-left: 1px solid gray;box-sizing: border-box;top: 0;bottom: 0;left: 50%;z-index: -1;}#sk-container-id-26 div.sk-parallel-item {display: flex;flex-direction: column;z-index: 1;position: relative;background-color: white;}#sk-container-id-26 div.sk-parallel-item:first-child::after {align-self: flex-end;width: 50%;}#sk-container-id-26 div.sk-parallel-item:last-child::after {align-self: flex-start;width: 50%;}#sk-container-id-26 div.sk-parallel-item:only-child::after {width: 0;}#sk-container-id-26 div.sk-dashed-wrapped {border: 1px dashed gray;margin: 0 0.4em 0.5em 0.4em;box-sizing: border-box;padding-bottom: 0.4em;background-color: white;}#sk-container-id-26 div.sk-label label {font-family: monospace;font-weight: bold;display: inline-block;line-height: 1.2em;}#sk-container-id-26 div.sk-label-container {text-align: center;}#sk-container-id-26 div.sk-container {/* jupyter's `normalize.less` sets `[hidden] { display: none; }` but bootstrap.min.css set `[hidden] { display: none !important; }` so we also need the `!important` here to be able to override the default hidden behavior on the sphinx rendered scikit-learn.org. See: https://github.com/scikit-learn/scikit-learn/issues/21755 */display: inline-block !important;position: relative;}#sk-container-id-26 div.sk-text-repr-fallback {display: none;}</style><div id=\"sk-container-id-26\" class=\"sk-top-container\"><div class=\"sk-text-repr-fallback\"><pre>LinearRegression()</pre><b>In a Jupyter environment, please rerun this cell to show the HTML representation or trust the notebook. <br />On GitHub, the HTML representation is unable to render, please try loading this page with nbviewer.org.</b></div><div class=\"sk-container\" hidden><div class=\"sk-item\"><div class=\"sk-estimator sk-toggleable\"><input class=\"sk-toggleable__control sk-hidden--visually\" id=\"sk-estimator-id-26\" type=\"checkbox\" checked><label for=\"sk-estimator-id-26\" class=\"sk-toggleable__label sk-toggleable__label-arrow\">LinearRegression</label><div class=\"sk-toggleable__content\"><pre>LinearRegression()</pre></div></div></div></div></div>"
            ]
          },
          "metadata": {},
          "execution_count": 279
        }
      ]
    },
    {
      "cell_type": "code",
      "source": [
        "# получаем предсказания модели\n",
        "predictions = lr_full.predict(X_test)"
      ],
      "metadata": {
        "id": "J8zwtPFkGhC9"
      },
      "execution_count": 280,
      "outputs": []
    },
    {
      "cell_type": "code",
      "source": [
        "# вычислим значение метрики mse\n",
        "mse_lr_full = round(mean_squared_error(y_test, predictions), 3)\n",
        "\n",
        "# выведем значение метрики mse\n",
        "print(mse_lr_full)"
      ],
      "metadata": {
        "colab": {
          "base_uri": "https://localhost:8080/"
        },
        "id": "ODjUNr06GhGG",
        "outputId": "cff4cdb9-2046-494b-a297-6505a854a28d"
      },
      "execution_count": 281,
      "outputs": [
        {
          "output_type": "stream",
          "name": "stdout",
          "text": [
            "129.787\n"
          ]
        }
      ]
    },
    {
      "cell_type": "markdown",
      "source": [
        "### **9.1.2 Обучение модели LinearRegression на выборочных данных**\n",
        "\n",
        "---"
      ],
      "metadata": {
        "id": "J_8XfVMrgePk"
      }
    },
    {
      "cell_type": "code",
      "source": [
        "# формируем обучающую и тестовую выборку\n",
        "X_train, X_test, y_train, y_test = train_test_split(\n",
        "    X_100, y_100, test_size = 0.33, random_state = 42)"
      ],
      "metadata": {
        "id": "4t0PxEnEgePr"
      },
      "execution_count": 282,
      "outputs": []
    },
    {
      "cell_type": "code",
      "source": [
        "# объявляем модель\n",
        "lr_sample = LinearRegression()"
      ],
      "metadata": {
        "id": "tLfrYwf0gePs"
      },
      "execution_count": 283,
      "outputs": []
    },
    {
      "cell_type": "code",
      "source": [
        "# обучаем модель на полных данных\n",
        "lr_sample.fit(X_train, y_train)"
      ],
      "metadata": {
        "colab": {
          "base_uri": "https://localhost:8080/",
          "height": 74
        },
        "outputId": "aaa981b4-bbbc-4821-d8a6-09cc683bda7c",
        "id": "Bi6wy4twgePs"
      },
      "execution_count": 284,
      "outputs": [
        {
          "output_type": "execute_result",
          "data": {
            "text/plain": [
              "LinearRegression()"
            ],
            "text/html": [
              "<style>#sk-container-id-27 {color: black;background-color: white;}#sk-container-id-27 pre{padding: 0;}#sk-container-id-27 div.sk-toggleable {background-color: white;}#sk-container-id-27 label.sk-toggleable__label {cursor: pointer;display: block;width: 100%;margin-bottom: 0;padding: 0.3em;box-sizing: border-box;text-align: center;}#sk-container-id-27 label.sk-toggleable__label-arrow:before {content: \"▸\";float: left;margin-right: 0.25em;color: #696969;}#sk-container-id-27 label.sk-toggleable__label-arrow:hover:before {color: black;}#sk-container-id-27 div.sk-estimator:hover label.sk-toggleable__label-arrow:before {color: black;}#sk-container-id-27 div.sk-toggleable__content {max-height: 0;max-width: 0;overflow: hidden;text-align: left;background-color: #f0f8ff;}#sk-container-id-27 div.sk-toggleable__content pre {margin: 0.2em;color: black;border-radius: 0.25em;background-color: #f0f8ff;}#sk-container-id-27 input.sk-toggleable__control:checked~div.sk-toggleable__content {max-height: 200px;max-width: 100%;overflow: auto;}#sk-container-id-27 input.sk-toggleable__control:checked~label.sk-toggleable__label-arrow:before {content: \"▾\";}#sk-container-id-27 div.sk-estimator input.sk-toggleable__control:checked~label.sk-toggleable__label {background-color: #d4ebff;}#sk-container-id-27 div.sk-label input.sk-toggleable__control:checked~label.sk-toggleable__label {background-color: #d4ebff;}#sk-container-id-27 input.sk-hidden--visually {border: 0;clip: rect(1px 1px 1px 1px);clip: rect(1px, 1px, 1px, 1px);height: 1px;margin: -1px;overflow: hidden;padding: 0;position: absolute;width: 1px;}#sk-container-id-27 div.sk-estimator {font-family: monospace;background-color: #f0f8ff;border: 1px dotted black;border-radius: 0.25em;box-sizing: border-box;margin-bottom: 0.5em;}#sk-container-id-27 div.sk-estimator:hover {background-color: #d4ebff;}#sk-container-id-27 div.sk-parallel-item::after {content: \"\";width: 100%;border-bottom: 1px solid gray;flex-grow: 1;}#sk-container-id-27 div.sk-label:hover label.sk-toggleable__label {background-color: #d4ebff;}#sk-container-id-27 div.sk-serial::before {content: \"\";position: absolute;border-left: 1px solid gray;box-sizing: border-box;top: 0;bottom: 0;left: 50%;z-index: 0;}#sk-container-id-27 div.sk-serial {display: flex;flex-direction: column;align-items: center;background-color: white;padding-right: 0.2em;padding-left: 0.2em;position: relative;}#sk-container-id-27 div.sk-item {position: relative;z-index: 1;}#sk-container-id-27 div.sk-parallel {display: flex;align-items: stretch;justify-content: center;background-color: white;position: relative;}#sk-container-id-27 div.sk-item::before, #sk-container-id-27 div.sk-parallel-item::before {content: \"\";position: absolute;border-left: 1px solid gray;box-sizing: border-box;top: 0;bottom: 0;left: 50%;z-index: -1;}#sk-container-id-27 div.sk-parallel-item {display: flex;flex-direction: column;z-index: 1;position: relative;background-color: white;}#sk-container-id-27 div.sk-parallel-item:first-child::after {align-self: flex-end;width: 50%;}#sk-container-id-27 div.sk-parallel-item:last-child::after {align-self: flex-start;width: 50%;}#sk-container-id-27 div.sk-parallel-item:only-child::after {width: 0;}#sk-container-id-27 div.sk-dashed-wrapped {border: 1px dashed gray;margin: 0 0.4em 0.5em 0.4em;box-sizing: border-box;padding-bottom: 0.4em;background-color: white;}#sk-container-id-27 div.sk-label label {font-family: monospace;font-weight: bold;display: inline-block;line-height: 1.2em;}#sk-container-id-27 div.sk-label-container {text-align: center;}#sk-container-id-27 div.sk-container {/* jupyter's `normalize.less` sets `[hidden] { display: none; }` but bootstrap.min.css set `[hidden] { display: none !important; }` so we also need the `!important` here to be able to override the default hidden behavior on the sphinx rendered scikit-learn.org. See: https://github.com/scikit-learn/scikit-learn/issues/21755 */display: inline-block !important;position: relative;}#sk-container-id-27 div.sk-text-repr-fallback {display: none;}</style><div id=\"sk-container-id-27\" class=\"sk-top-container\"><div class=\"sk-text-repr-fallback\"><pre>LinearRegression()</pre><b>In a Jupyter environment, please rerun this cell to show the HTML representation or trust the notebook. <br />On GitHub, the HTML representation is unable to render, please try loading this page with nbviewer.org.</b></div><div class=\"sk-container\" hidden><div class=\"sk-item\"><div class=\"sk-estimator sk-toggleable\"><input class=\"sk-toggleable__control sk-hidden--visually\" id=\"sk-estimator-id-27\" type=\"checkbox\" checked><label for=\"sk-estimator-id-27\" class=\"sk-toggleable__label sk-toggleable__label-arrow\">LinearRegression</label><div class=\"sk-toggleable__content\"><pre>LinearRegression()</pre></div></div></div></div></div>"
            ]
          },
          "metadata": {},
          "execution_count": 284
        }
      ]
    },
    {
      "cell_type": "code",
      "source": [
        "# получаем предсказания модели\n",
        "predictions = lr_sample.predict(X_test)"
      ],
      "metadata": {
        "id": "gAUC4xoIgePs"
      },
      "execution_count": 285,
      "outputs": []
    },
    {
      "cell_type": "code",
      "source": [
        "# вычислим значение метрики mse\n",
        "mse_lr_sample = round(mean_squared_error(y_test, predictions), 3)\n",
        "\n",
        "# выведем значение метрики mse\n",
        "print(mse_lr_sample)"
      ],
      "metadata": {
        "colab": {
          "base_uri": "https://localhost:8080/"
        },
        "outputId": "6dd82fd4-b844-418d-a746-95c320b06171",
        "id": "ismk7mNYgePt"
      },
      "execution_count": 286,
      "outputs": [
        {
          "output_type": "stream",
          "name": "stdout",
          "text": [
            "59963.798\n"
          ]
        }
      ]
    },
    {
      "cell_type": "markdown",
      "source": [
        "## **9.2 Обучение модели Ridge**\n",
        "\n",
        "---"
      ],
      "metadata": {
        "id": "Gy1TqXRBhRHr"
      }
    },
    {
      "cell_type": "markdown",
      "source": [
        "### **9.2.1 Обучение модели Ridge на полных данных**\n",
        "\n",
        "---"
      ],
      "metadata": {
        "id": "grtr5rxFhKaU"
      }
    },
    {
      "cell_type": "code",
      "source": [
        "# формируем обучающую и тестовую выборку\n",
        "X_train, X_test, y_train, y_test = train_test_split(\n",
        "    X, y, test_size = 0.33, random_state = 42)"
      ],
      "metadata": {
        "id": "FJETFfPMhKab"
      },
      "execution_count": 287,
      "outputs": []
    },
    {
      "cell_type": "code",
      "source": [
        "# объявляем модель\n",
        "ridge_full = Ridge(random_state = 1)"
      ],
      "metadata": {
        "id": "ms0G7jSrhKac"
      },
      "execution_count": 288,
      "outputs": []
    },
    {
      "cell_type": "code",
      "source": [
        "# обучаем модель на полных данных\n",
        "ridge_full.fit(X_train, y_train)"
      ],
      "metadata": {
        "colab": {
          "base_uri": "https://localhost:8080/",
          "height": 74
        },
        "outputId": "8b96c186-56de-4a0a-a162-126f37577592",
        "id": "pw1458TihKac"
      },
      "execution_count": 289,
      "outputs": [
        {
          "output_type": "execute_result",
          "data": {
            "text/plain": [
              "Ridge(random_state=1)"
            ],
            "text/html": [
              "<style>#sk-container-id-28 {color: black;background-color: white;}#sk-container-id-28 pre{padding: 0;}#sk-container-id-28 div.sk-toggleable {background-color: white;}#sk-container-id-28 label.sk-toggleable__label {cursor: pointer;display: block;width: 100%;margin-bottom: 0;padding: 0.3em;box-sizing: border-box;text-align: center;}#sk-container-id-28 label.sk-toggleable__label-arrow:before {content: \"▸\";float: left;margin-right: 0.25em;color: #696969;}#sk-container-id-28 label.sk-toggleable__label-arrow:hover:before {color: black;}#sk-container-id-28 div.sk-estimator:hover label.sk-toggleable__label-arrow:before {color: black;}#sk-container-id-28 div.sk-toggleable__content {max-height: 0;max-width: 0;overflow: hidden;text-align: left;background-color: #f0f8ff;}#sk-container-id-28 div.sk-toggleable__content pre {margin: 0.2em;color: black;border-radius: 0.25em;background-color: #f0f8ff;}#sk-container-id-28 input.sk-toggleable__control:checked~div.sk-toggleable__content {max-height: 200px;max-width: 100%;overflow: auto;}#sk-container-id-28 input.sk-toggleable__control:checked~label.sk-toggleable__label-arrow:before {content: \"▾\";}#sk-container-id-28 div.sk-estimator input.sk-toggleable__control:checked~label.sk-toggleable__label {background-color: #d4ebff;}#sk-container-id-28 div.sk-label input.sk-toggleable__control:checked~label.sk-toggleable__label {background-color: #d4ebff;}#sk-container-id-28 input.sk-hidden--visually {border: 0;clip: rect(1px 1px 1px 1px);clip: rect(1px, 1px, 1px, 1px);height: 1px;margin: -1px;overflow: hidden;padding: 0;position: absolute;width: 1px;}#sk-container-id-28 div.sk-estimator {font-family: monospace;background-color: #f0f8ff;border: 1px dotted black;border-radius: 0.25em;box-sizing: border-box;margin-bottom: 0.5em;}#sk-container-id-28 div.sk-estimator:hover {background-color: #d4ebff;}#sk-container-id-28 div.sk-parallel-item::after {content: \"\";width: 100%;border-bottom: 1px solid gray;flex-grow: 1;}#sk-container-id-28 div.sk-label:hover label.sk-toggleable__label {background-color: #d4ebff;}#sk-container-id-28 div.sk-serial::before {content: \"\";position: absolute;border-left: 1px solid gray;box-sizing: border-box;top: 0;bottom: 0;left: 50%;z-index: 0;}#sk-container-id-28 div.sk-serial {display: flex;flex-direction: column;align-items: center;background-color: white;padding-right: 0.2em;padding-left: 0.2em;position: relative;}#sk-container-id-28 div.sk-item {position: relative;z-index: 1;}#sk-container-id-28 div.sk-parallel {display: flex;align-items: stretch;justify-content: center;background-color: white;position: relative;}#sk-container-id-28 div.sk-item::before, #sk-container-id-28 div.sk-parallel-item::before {content: \"\";position: absolute;border-left: 1px solid gray;box-sizing: border-box;top: 0;bottom: 0;left: 50%;z-index: -1;}#sk-container-id-28 div.sk-parallel-item {display: flex;flex-direction: column;z-index: 1;position: relative;background-color: white;}#sk-container-id-28 div.sk-parallel-item:first-child::after {align-self: flex-end;width: 50%;}#sk-container-id-28 div.sk-parallel-item:last-child::after {align-self: flex-start;width: 50%;}#sk-container-id-28 div.sk-parallel-item:only-child::after {width: 0;}#sk-container-id-28 div.sk-dashed-wrapped {border: 1px dashed gray;margin: 0 0.4em 0.5em 0.4em;box-sizing: border-box;padding-bottom: 0.4em;background-color: white;}#sk-container-id-28 div.sk-label label {font-family: monospace;font-weight: bold;display: inline-block;line-height: 1.2em;}#sk-container-id-28 div.sk-label-container {text-align: center;}#sk-container-id-28 div.sk-container {/* jupyter's `normalize.less` sets `[hidden] { display: none; }` but bootstrap.min.css set `[hidden] { display: none !important; }` so we also need the `!important` here to be able to override the default hidden behavior on the sphinx rendered scikit-learn.org. See: https://github.com/scikit-learn/scikit-learn/issues/21755 */display: inline-block !important;position: relative;}#sk-container-id-28 div.sk-text-repr-fallback {display: none;}</style><div id=\"sk-container-id-28\" class=\"sk-top-container\"><div class=\"sk-text-repr-fallback\"><pre>Ridge(random_state=1)</pre><b>In a Jupyter environment, please rerun this cell to show the HTML representation or trust the notebook. <br />On GitHub, the HTML representation is unable to render, please try loading this page with nbviewer.org.</b></div><div class=\"sk-container\" hidden><div class=\"sk-item\"><div class=\"sk-estimator sk-toggleable\"><input class=\"sk-toggleable__control sk-hidden--visually\" id=\"sk-estimator-id-28\" type=\"checkbox\" checked><label for=\"sk-estimator-id-28\" class=\"sk-toggleable__label sk-toggleable__label-arrow\">Ridge</label><div class=\"sk-toggleable__content\"><pre>Ridge(random_state=1)</pre></div></div></div></div></div>"
            ]
          },
          "metadata": {},
          "execution_count": 289
        }
      ]
    },
    {
      "cell_type": "code",
      "source": [
        "# получаем предсказания модели\n",
        "predictions = ridge_full.predict(X_test)"
      ],
      "metadata": {
        "id": "Q9vFXkuohKac"
      },
      "execution_count": 290,
      "outputs": []
    },
    {
      "cell_type": "code",
      "source": [
        "# вычислим значение метрики mse\n",
        "mse_ridge_full = round(mean_squared_error(y_test, predictions), 3)\n",
        "\n",
        "# выведем значение метрики mse\n",
        "print(mse_ridge_full)"
      ],
      "metadata": {
        "colab": {
          "base_uri": "https://localhost:8080/"
        },
        "outputId": "1b818e3a-7030-43ba-c09a-3b4bd7c7a12e",
        "id": "cOnNd8POhKac"
      },
      "execution_count": 291,
      "outputs": [
        {
          "output_type": "stream",
          "name": "stdout",
          "text": [
            "128.674\n"
          ]
        }
      ]
    },
    {
      "cell_type": "markdown",
      "source": [
        "### **9.2.2 Обучение модели Ridge на выборочных данных**\n",
        "\n",
        "---"
      ],
      "metadata": {
        "id": "dgTs_gmJhKad"
      }
    },
    {
      "cell_type": "code",
      "source": [
        "# формируем обучающую и тестовую выборку\n",
        "X_train, X_test, y_train, y_test = train_test_split(\n",
        "    X_100, y_100, test_size = 0.33, random_state = 42)"
      ],
      "metadata": {
        "id": "gfXvLQhYhKad"
      },
      "execution_count": 292,
      "outputs": []
    },
    {
      "cell_type": "code",
      "source": [
        "# объявляем модель\n",
        "ridge_sample = Ridge(random_state = 1)"
      ],
      "metadata": {
        "id": "1SqFJVL6hKad"
      },
      "execution_count": 293,
      "outputs": []
    },
    {
      "cell_type": "code",
      "source": [
        "# обучаем модель на полных данных\n",
        "ridge_sample.fit(X_train, y_train)"
      ],
      "metadata": {
        "colab": {
          "base_uri": "https://localhost:8080/",
          "height": 74
        },
        "outputId": "91f9a185-c1dc-488d-a72e-dee5b928f641",
        "id": "xfTIY_RthKad"
      },
      "execution_count": 294,
      "outputs": [
        {
          "output_type": "execute_result",
          "data": {
            "text/plain": [
              "Ridge(random_state=1)"
            ],
            "text/html": [
              "<style>#sk-container-id-29 {color: black;background-color: white;}#sk-container-id-29 pre{padding: 0;}#sk-container-id-29 div.sk-toggleable {background-color: white;}#sk-container-id-29 label.sk-toggleable__label {cursor: pointer;display: block;width: 100%;margin-bottom: 0;padding: 0.3em;box-sizing: border-box;text-align: center;}#sk-container-id-29 label.sk-toggleable__label-arrow:before {content: \"▸\";float: left;margin-right: 0.25em;color: #696969;}#sk-container-id-29 label.sk-toggleable__label-arrow:hover:before {color: black;}#sk-container-id-29 div.sk-estimator:hover label.sk-toggleable__label-arrow:before {color: black;}#sk-container-id-29 div.sk-toggleable__content {max-height: 0;max-width: 0;overflow: hidden;text-align: left;background-color: #f0f8ff;}#sk-container-id-29 div.sk-toggleable__content pre {margin: 0.2em;color: black;border-radius: 0.25em;background-color: #f0f8ff;}#sk-container-id-29 input.sk-toggleable__control:checked~div.sk-toggleable__content {max-height: 200px;max-width: 100%;overflow: auto;}#sk-container-id-29 input.sk-toggleable__control:checked~label.sk-toggleable__label-arrow:before {content: \"▾\";}#sk-container-id-29 div.sk-estimator input.sk-toggleable__control:checked~label.sk-toggleable__label {background-color: #d4ebff;}#sk-container-id-29 div.sk-label input.sk-toggleable__control:checked~label.sk-toggleable__label {background-color: #d4ebff;}#sk-container-id-29 input.sk-hidden--visually {border: 0;clip: rect(1px 1px 1px 1px);clip: rect(1px, 1px, 1px, 1px);height: 1px;margin: -1px;overflow: hidden;padding: 0;position: absolute;width: 1px;}#sk-container-id-29 div.sk-estimator {font-family: monospace;background-color: #f0f8ff;border: 1px dotted black;border-radius: 0.25em;box-sizing: border-box;margin-bottom: 0.5em;}#sk-container-id-29 div.sk-estimator:hover {background-color: #d4ebff;}#sk-container-id-29 div.sk-parallel-item::after {content: \"\";width: 100%;border-bottom: 1px solid gray;flex-grow: 1;}#sk-container-id-29 div.sk-label:hover label.sk-toggleable__label {background-color: #d4ebff;}#sk-container-id-29 div.sk-serial::before {content: \"\";position: absolute;border-left: 1px solid gray;box-sizing: border-box;top: 0;bottom: 0;left: 50%;z-index: 0;}#sk-container-id-29 div.sk-serial {display: flex;flex-direction: column;align-items: center;background-color: white;padding-right: 0.2em;padding-left: 0.2em;position: relative;}#sk-container-id-29 div.sk-item {position: relative;z-index: 1;}#sk-container-id-29 div.sk-parallel {display: flex;align-items: stretch;justify-content: center;background-color: white;position: relative;}#sk-container-id-29 div.sk-item::before, #sk-container-id-29 div.sk-parallel-item::before {content: \"\";position: absolute;border-left: 1px solid gray;box-sizing: border-box;top: 0;bottom: 0;left: 50%;z-index: -1;}#sk-container-id-29 div.sk-parallel-item {display: flex;flex-direction: column;z-index: 1;position: relative;background-color: white;}#sk-container-id-29 div.sk-parallel-item:first-child::after {align-self: flex-end;width: 50%;}#sk-container-id-29 div.sk-parallel-item:last-child::after {align-self: flex-start;width: 50%;}#sk-container-id-29 div.sk-parallel-item:only-child::after {width: 0;}#sk-container-id-29 div.sk-dashed-wrapped {border: 1px dashed gray;margin: 0 0.4em 0.5em 0.4em;box-sizing: border-box;padding-bottom: 0.4em;background-color: white;}#sk-container-id-29 div.sk-label label {font-family: monospace;font-weight: bold;display: inline-block;line-height: 1.2em;}#sk-container-id-29 div.sk-label-container {text-align: center;}#sk-container-id-29 div.sk-container {/* jupyter's `normalize.less` sets `[hidden] { display: none; }` but bootstrap.min.css set `[hidden] { display: none !important; }` so we also need the `!important` here to be able to override the default hidden behavior on the sphinx rendered scikit-learn.org. See: https://github.com/scikit-learn/scikit-learn/issues/21755 */display: inline-block !important;position: relative;}#sk-container-id-29 div.sk-text-repr-fallback {display: none;}</style><div id=\"sk-container-id-29\" class=\"sk-top-container\"><div class=\"sk-text-repr-fallback\"><pre>Ridge(random_state=1)</pre><b>In a Jupyter environment, please rerun this cell to show the HTML representation or trust the notebook. <br />On GitHub, the HTML representation is unable to render, please try loading this page with nbviewer.org.</b></div><div class=\"sk-container\" hidden><div class=\"sk-item\"><div class=\"sk-estimator sk-toggleable\"><input class=\"sk-toggleable__control sk-hidden--visually\" id=\"sk-estimator-id-29\" type=\"checkbox\" checked><label for=\"sk-estimator-id-29\" class=\"sk-toggleable__label sk-toggleable__label-arrow\">Ridge</label><div class=\"sk-toggleable__content\"><pre>Ridge(random_state=1)</pre></div></div></div></div></div>"
            ]
          },
          "metadata": {},
          "execution_count": 294
        }
      ]
    },
    {
      "cell_type": "code",
      "source": [
        "# получаем предсказания модели\n",
        "predictions = ridge_sample.predict(X_test)"
      ],
      "metadata": {
        "id": "iieDkd6ZhKae"
      },
      "execution_count": 295,
      "outputs": []
    },
    {
      "cell_type": "code",
      "source": [
        "# вычислим значение метрики mse\n",
        "mse_ridge_sample = round(mean_squared_error(y_test, predictions), 3)\n",
        "\n",
        "# выведем значение метрики mse\n",
        "print(mse_ridge_sample)"
      ],
      "metadata": {
        "colab": {
          "base_uri": "https://localhost:8080/"
        },
        "outputId": "8ad72ba5-762f-457d-b23c-ce6e5771cc48",
        "id": "3GzK3HVvhKae"
      },
      "execution_count": 296,
      "outputs": [
        {
          "output_type": "stream",
          "name": "stdout",
          "text": [
            "59611.517\n"
          ]
        }
      ]
    },
    {
      "cell_type": "markdown",
      "source": [
        "## **9.3 Обучение модели Lasso**\n",
        "\n",
        "---"
      ],
      "metadata": {
        "id": "BJoGaJvTi6yk"
      }
    },
    {
      "cell_type": "markdown",
      "source": [
        "### **9.3.1 Обучение модели Lasso на полных данных**\n",
        "\n",
        "---"
      ],
      "metadata": {
        "id": "2ZYt7OWSi6ys"
      }
    },
    {
      "cell_type": "code",
      "source": [
        "# формируем обучающую и тестовую выборку\n",
        "X_train, X_test, y_train, y_test = train_test_split(\n",
        "    X, y, test_size = 0.33, random_state = 42)"
      ],
      "metadata": {
        "id": "voprPrhLi6ys"
      },
      "execution_count": 297,
      "outputs": []
    },
    {
      "cell_type": "code",
      "source": [
        "# объявляем модель\n",
        "lasso_full = Lasso(random_state = 1)"
      ],
      "metadata": {
        "id": "1W5D6ajui6yt"
      },
      "execution_count": 298,
      "outputs": []
    },
    {
      "cell_type": "code",
      "source": [
        "# обучаем модель на полных данных\n",
        "lasso_full.fit(X_train, y_train)"
      ],
      "metadata": {
        "colab": {
          "base_uri": "https://localhost:8080/",
          "height": 74
        },
        "outputId": "1f01a2a9-c196-4a38-dc9a-ba2186939e17",
        "id": "ZUUfN-fZi6yt"
      },
      "execution_count": 299,
      "outputs": [
        {
          "output_type": "execute_result",
          "data": {
            "text/plain": [
              "Lasso(random_state=1)"
            ],
            "text/html": [
              "<style>#sk-container-id-30 {color: black;background-color: white;}#sk-container-id-30 pre{padding: 0;}#sk-container-id-30 div.sk-toggleable {background-color: white;}#sk-container-id-30 label.sk-toggleable__label {cursor: pointer;display: block;width: 100%;margin-bottom: 0;padding: 0.3em;box-sizing: border-box;text-align: center;}#sk-container-id-30 label.sk-toggleable__label-arrow:before {content: \"▸\";float: left;margin-right: 0.25em;color: #696969;}#sk-container-id-30 label.sk-toggleable__label-arrow:hover:before {color: black;}#sk-container-id-30 div.sk-estimator:hover label.sk-toggleable__label-arrow:before {color: black;}#sk-container-id-30 div.sk-toggleable__content {max-height: 0;max-width: 0;overflow: hidden;text-align: left;background-color: #f0f8ff;}#sk-container-id-30 div.sk-toggleable__content pre {margin: 0.2em;color: black;border-radius: 0.25em;background-color: #f0f8ff;}#sk-container-id-30 input.sk-toggleable__control:checked~div.sk-toggleable__content {max-height: 200px;max-width: 100%;overflow: auto;}#sk-container-id-30 input.sk-toggleable__control:checked~label.sk-toggleable__label-arrow:before {content: \"▾\";}#sk-container-id-30 div.sk-estimator input.sk-toggleable__control:checked~label.sk-toggleable__label {background-color: #d4ebff;}#sk-container-id-30 div.sk-label input.sk-toggleable__control:checked~label.sk-toggleable__label {background-color: #d4ebff;}#sk-container-id-30 input.sk-hidden--visually {border: 0;clip: rect(1px 1px 1px 1px);clip: rect(1px, 1px, 1px, 1px);height: 1px;margin: -1px;overflow: hidden;padding: 0;position: absolute;width: 1px;}#sk-container-id-30 div.sk-estimator {font-family: monospace;background-color: #f0f8ff;border: 1px dotted black;border-radius: 0.25em;box-sizing: border-box;margin-bottom: 0.5em;}#sk-container-id-30 div.sk-estimator:hover {background-color: #d4ebff;}#sk-container-id-30 div.sk-parallel-item::after {content: \"\";width: 100%;border-bottom: 1px solid gray;flex-grow: 1;}#sk-container-id-30 div.sk-label:hover label.sk-toggleable__label {background-color: #d4ebff;}#sk-container-id-30 div.sk-serial::before {content: \"\";position: absolute;border-left: 1px solid gray;box-sizing: border-box;top: 0;bottom: 0;left: 50%;z-index: 0;}#sk-container-id-30 div.sk-serial {display: flex;flex-direction: column;align-items: center;background-color: white;padding-right: 0.2em;padding-left: 0.2em;position: relative;}#sk-container-id-30 div.sk-item {position: relative;z-index: 1;}#sk-container-id-30 div.sk-parallel {display: flex;align-items: stretch;justify-content: center;background-color: white;position: relative;}#sk-container-id-30 div.sk-item::before, #sk-container-id-30 div.sk-parallel-item::before {content: \"\";position: absolute;border-left: 1px solid gray;box-sizing: border-box;top: 0;bottom: 0;left: 50%;z-index: -1;}#sk-container-id-30 div.sk-parallel-item {display: flex;flex-direction: column;z-index: 1;position: relative;background-color: white;}#sk-container-id-30 div.sk-parallel-item:first-child::after {align-self: flex-end;width: 50%;}#sk-container-id-30 div.sk-parallel-item:last-child::after {align-self: flex-start;width: 50%;}#sk-container-id-30 div.sk-parallel-item:only-child::after {width: 0;}#sk-container-id-30 div.sk-dashed-wrapped {border: 1px dashed gray;margin: 0 0.4em 0.5em 0.4em;box-sizing: border-box;padding-bottom: 0.4em;background-color: white;}#sk-container-id-30 div.sk-label label {font-family: monospace;font-weight: bold;display: inline-block;line-height: 1.2em;}#sk-container-id-30 div.sk-label-container {text-align: center;}#sk-container-id-30 div.sk-container {/* jupyter's `normalize.less` sets `[hidden] { display: none; }` but bootstrap.min.css set `[hidden] { display: none !important; }` so we also need the `!important` here to be able to override the default hidden behavior on the sphinx rendered scikit-learn.org. See: https://github.com/scikit-learn/scikit-learn/issues/21755 */display: inline-block !important;position: relative;}#sk-container-id-30 div.sk-text-repr-fallback {display: none;}</style><div id=\"sk-container-id-30\" class=\"sk-top-container\"><div class=\"sk-text-repr-fallback\"><pre>Lasso(random_state=1)</pre><b>In a Jupyter environment, please rerun this cell to show the HTML representation or trust the notebook. <br />On GitHub, the HTML representation is unable to render, please try loading this page with nbviewer.org.</b></div><div class=\"sk-container\" hidden><div class=\"sk-item\"><div class=\"sk-estimator sk-toggleable\"><input class=\"sk-toggleable__control sk-hidden--visually\" id=\"sk-estimator-id-30\" type=\"checkbox\" checked><label for=\"sk-estimator-id-30\" class=\"sk-toggleable__label sk-toggleable__label-arrow\">Lasso</label><div class=\"sk-toggleable__content\"><pre>Lasso(random_state=1)</pre></div></div></div></div></div>"
            ]
          },
          "metadata": {},
          "execution_count": 299
        }
      ]
    },
    {
      "cell_type": "code",
      "source": [
        "# получаем предсказания модели\n",
        "predictions = lasso_full.predict(X_test)"
      ],
      "metadata": {
        "id": "UaEU_ycGi6yu"
      },
      "execution_count": 300,
      "outputs": []
    },
    {
      "cell_type": "code",
      "source": [
        "# вычислим значение метрики mse\n",
        "mse_lasso_full = round(mean_squared_error(y_test, predictions), 3)\n",
        "\n",
        "# выведем значение метрики mse\n",
        "print(mse_lasso_full)"
      ],
      "metadata": {
        "colab": {
          "base_uri": "https://localhost:8080/"
        },
        "outputId": "e9e4cdc4-dcd6-4c39-8322-3af0a63f4286",
        "id": "QopH0DFHi6yv"
      },
      "execution_count": 301,
      "outputs": [
        {
          "output_type": "stream",
          "name": "stdout",
          "text": [
            "102.643\n"
          ]
        }
      ]
    },
    {
      "cell_type": "markdown",
      "source": [
        "### **9.3.2 Обучение модели Lasso на выборочных данных**\n",
        "\n",
        "---"
      ],
      "metadata": {
        "id": "5x33xoaRi6yv"
      }
    },
    {
      "cell_type": "code",
      "source": [
        "# формируем обучающую и тестовую выборку\n",
        "X_train, X_test, y_train, y_test = train_test_split(\n",
        "    X_100, y_100, test_size = 0.33, random_state = 42)"
      ],
      "metadata": {
        "id": "Vk_vfK0Ei6yv"
      },
      "execution_count": 302,
      "outputs": []
    },
    {
      "cell_type": "code",
      "source": [
        "# объявляем модель\n",
        "lasso_sample = Lasso(random_state = 1)"
      ],
      "metadata": {
        "id": "KXJxriUli6yv"
      },
      "execution_count": 303,
      "outputs": []
    },
    {
      "cell_type": "code",
      "source": [
        "# обучаем модель на полных данных\n",
        "lasso_sample.fit(X_train, y_train)"
      ],
      "metadata": {
        "colab": {
          "base_uri": "https://localhost:8080/",
          "height": 74
        },
        "outputId": "f04939dc-d0bf-40ea-c2c3-b0bb75974004",
        "id": "Zp3IoGRVi6yw"
      },
      "execution_count": 304,
      "outputs": [
        {
          "output_type": "execute_result",
          "data": {
            "text/plain": [
              "Lasso(random_state=1)"
            ],
            "text/html": [
              "<style>#sk-container-id-31 {color: black;background-color: white;}#sk-container-id-31 pre{padding: 0;}#sk-container-id-31 div.sk-toggleable {background-color: white;}#sk-container-id-31 label.sk-toggleable__label {cursor: pointer;display: block;width: 100%;margin-bottom: 0;padding: 0.3em;box-sizing: border-box;text-align: center;}#sk-container-id-31 label.sk-toggleable__label-arrow:before {content: \"▸\";float: left;margin-right: 0.25em;color: #696969;}#sk-container-id-31 label.sk-toggleable__label-arrow:hover:before {color: black;}#sk-container-id-31 div.sk-estimator:hover label.sk-toggleable__label-arrow:before {color: black;}#sk-container-id-31 div.sk-toggleable__content {max-height: 0;max-width: 0;overflow: hidden;text-align: left;background-color: #f0f8ff;}#sk-container-id-31 div.sk-toggleable__content pre {margin: 0.2em;color: black;border-radius: 0.25em;background-color: #f0f8ff;}#sk-container-id-31 input.sk-toggleable__control:checked~div.sk-toggleable__content {max-height: 200px;max-width: 100%;overflow: auto;}#sk-container-id-31 input.sk-toggleable__control:checked~label.sk-toggleable__label-arrow:before {content: \"▾\";}#sk-container-id-31 div.sk-estimator input.sk-toggleable__control:checked~label.sk-toggleable__label {background-color: #d4ebff;}#sk-container-id-31 div.sk-label input.sk-toggleable__control:checked~label.sk-toggleable__label {background-color: #d4ebff;}#sk-container-id-31 input.sk-hidden--visually {border: 0;clip: rect(1px 1px 1px 1px);clip: rect(1px, 1px, 1px, 1px);height: 1px;margin: -1px;overflow: hidden;padding: 0;position: absolute;width: 1px;}#sk-container-id-31 div.sk-estimator {font-family: monospace;background-color: #f0f8ff;border: 1px dotted black;border-radius: 0.25em;box-sizing: border-box;margin-bottom: 0.5em;}#sk-container-id-31 div.sk-estimator:hover {background-color: #d4ebff;}#sk-container-id-31 div.sk-parallel-item::after {content: \"\";width: 100%;border-bottom: 1px solid gray;flex-grow: 1;}#sk-container-id-31 div.sk-label:hover label.sk-toggleable__label {background-color: #d4ebff;}#sk-container-id-31 div.sk-serial::before {content: \"\";position: absolute;border-left: 1px solid gray;box-sizing: border-box;top: 0;bottom: 0;left: 50%;z-index: 0;}#sk-container-id-31 div.sk-serial {display: flex;flex-direction: column;align-items: center;background-color: white;padding-right: 0.2em;padding-left: 0.2em;position: relative;}#sk-container-id-31 div.sk-item {position: relative;z-index: 1;}#sk-container-id-31 div.sk-parallel {display: flex;align-items: stretch;justify-content: center;background-color: white;position: relative;}#sk-container-id-31 div.sk-item::before, #sk-container-id-31 div.sk-parallel-item::before {content: \"\";position: absolute;border-left: 1px solid gray;box-sizing: border-box;top: 0;bottom: 0;left: 50%;z-index: -1;}#sk-container-id-31 div.sk-parallel-item {display: flex;flex-direction: column;z-index: 1;position: relative;background-color: white;}#sk-container-id-31 div.sk-parallel-item:first-child::after {align-self: flex-end;width: 50%;}#sk-container-id-31 div.sk-parallel-item:last-child::after {align-self: flex-start;width: 50%;}#sk-container-id-31 div.sk-parallel-item:only-child::after {width: 0;}#sk-container-id-31 div.sk-dashed-wrapped {border: 1px dashed gray;margin: 0 0.4em 0.5em 0.4em;box-sizing: border-box;padding-bottom: 0.4em;background-color: white;}#sk-container-id-31 div.sk-label label {font-family: monospace;font-weight: bold;display: inline-block;line-height: 1.2em;}#sk-container-id-31 div.sk-label-container {text-align: center;}#sk-container-id-31 div.sk-container {/* jupyter's `normalize.less` sets `[hidden] { display: none; }` but bootstrap.min.css set `[hidden] { display: none !important; }` so we also need the `!important` here to be able to override the default hidden behavior on the sphinx rendered scikit-learn.org. See: https://github.com/scikit-learn/scikit-learn/issues/21755 */display: inline-block !important;position: relative;}#sk-container-id-31 div.sk-text-repr-fallback {display: none;}</style><div id=\"sk-container-id-31\" class=\"sk-top-container\"><div class=\"sk-text-repr-fallback\"><pre>Lasso(random_state=1)</pre><b>In a Jupyter environment, please rerun this cell to show the HTML representation or trust the notebook. <br />On GitHub, the HTML representation is unable to render, please try loading this page with nbviewer.org.</b></div><div class=\"sk-container\" hidden><div class=\"sk-item\"><div class=\"sk-estimator sk-toggleable\"><input class=\"sk-toggleable__control sk-hidden--visually\" id=\"sk-estimator-id-31\" type=\"checkbox\" checked><label for=\"sk-estimator-id-31\" class=\"sk-toggleable__label sk-toggleable__label-arrow\">Lasso</label><div class=\"sk-toggleable__content\"><pre>Lasso(random_state=1)</pre></div></div></div></div></div>"
            ]
          },
          "metadata": {},
          "execution_count": 304
        }
      ]
    },
    {
      "cell_type": "code",
      "source": [
        "# получаем предсказания модели\n",
        "predictions = lasso_sample.predict(X_test)"
      ],
      "metadata": {
        "id": "CEgFl9Fki6yw"
      },
      "execution_count": 305,
      "outputs": []
    },
    {
      "cell_type": "code",
      "source": [
        "# вычислим значение метрики mse\n",
        "mse_lasso_sample = round(mean_squared_error(y_test, predictions), 3)\n",
        "\n",
        "# выведем значение метрики mse\n",
        "print(mse_lasso_sample)"
      ],
      "metadata": {
        "colab": {
          "base_uri": "https://localhost:8080/"
        },
        "outputId": "c4638f75-4b38-4dfc-8b38-fc68adfd5711",
        "id": "BE1vf9Xfi6yw"
      },
      "execution_count": 306,
      "outputs": [
        {
          "output_type": "stream",
          "name": "stdout",
          "text": [
            "70487.889\n"
          ]
        }
      ]
    },
    {
      "cell_type": "markdown",
      "source": [
        "## **9.4 Сводные результаты обучения модели**\n",
        "\n",
        "---"
      ],
      "metadata": {
        "id": "VW7GmSFVjwrn"
      }
    },
    {
      "cell_type": "code",
      "source": [
        "# создаем результирующую таблицу\n",
        "summary_results = pd.DataFrame(\n",
        "    {'1': ['Linear_regression (full)', mse_lr_full],\n",
        "     '2': ['Linear_regression (sample)', mse_lr_sample],\n",
        "     '3': ['Ridge (full)', mse_ridge_full],\n",
        "     '4': ['Ridge (sample)', mse_ridge_sample],\n",
        "     '5': ['Lasso (full)', mse_lasso_full],\n",
        "     '6': ['Lasso (sample)', mse_lasso_sample]\n",
        "     }\n",
        ")\n",
        "\n",
        "summary_results = summary_results.T\n",
        "summary_results.columns = ['Модель',\n",
        "                          'Метрика mse']\n",
        "\n",
        "summary_results = \\\n",
        "    summary_results \\\n",
        "    .sort_values(by = 'Метрика mse',\n",
        "                 ascending = True) \\\n",
        "    .reset_index(drop = True)"
      ],
      "metadata": {
        "id": "u7cXxJuskb58"
      },
      "execution_count": 307,
      "outputs": []
    },
    {
      "cell_type": "code",
      "source": [
        "# выведем результирующую таблицу\n",
        "cm = sns.light_palette('red',\n",
        "                       as_cmap = True)\n",
        "\n",
        "summary_results.style.background_gradient(cmap = cm,\n",
        "                                          subset = 'Метрика mse',\n",
        "                                          text_color_threshold = 0.05,\n",
        "                                          low = 0.4)"
      ],
      "metadata": {
        "colab": {
          "base_uri": "https://localhost:8080/",
          "height": 237
        },
        "outputId": "3562edd9-4ff1-4bc2-8671-50cb3c18313b",
        "id": "PsXlJzCkkb59"
      },
      "execution_count": 308,
      "outputs": [
        {
          "output_type": "execute_result",
          "data": {
            "text/plain": [
              "<pandas.io.formats.style.Styler at 0x7f20da295000>"
            ],
            "text/html": [
              "<style type=\"text/css\">\n",
              "#T_ed831_row0_col1, #T_ed831_row1_col1, #T_ed831_row2_col1 {\n",
              "  background-color: #f6abab;\n",
              "  color: #000000;\n",
              "}\n",
              "#T_ed831_row3_col1 {\n",
              "  background-color: #fe1a1a;\n",
              "  color: #000000;\n",
              "}\n",
              "#T_ed831_row4_col1 {\n",
              "  background-color: #fe1919;\n",
              "  color: #000000;\n",
              "}\n",
              "#T_ed831_row5_col1 {\n",
              "  background-color: #ff0000;\n",
              "  color: #000000;\n",
              "}\n",
              "</style>\n",
              "<table id=\"T_ed831\" class=\"dataframe\">\n",
              "  <thead>\n",
              "    <tr>\n",
              "      <th class=\"blank level0\" >&nbsp;</th>\n",
              "      <th id=\"T_ed831_level0_col0\" class=\"col_heading level0 col0\" >Модель</th>\n",
              "      <th id=\"T_ed831_level0_col1\" class=\"col_heading level0 col1\" >Метрика mse</th>\n",
              "    </tr>\n",
              "  </thead>\n",
              "  <tbody>\n",
              "    <tr>\n",
              "      <th id=\"T_ed831_level0_row0\" class=\"row_heading level0 row0\" >0</th>\n",
              "      <td id=\"T_ed831_row0_col0\" class=\"data row0 col0\" >Lasso (full)</td>\n",
              "      <td id=\"T_ed831_row0_col1\" class=\"data row0 col1\" >102.643000</td>\n",
              "    </tr>\n",
              "    <tr>\n",
              "      <th id=\"T_ed831_level0_row1\" class=\"row_heading level0 row1\" >1</th>\n",
              "      <td id=\"T_ed831_row1_col0\" class=\"data row1 col0\" >Ridge (full)</td>\n",
              "      <td id=\"T_ed831_row1_col1\" class=\"data row1 col1\" >128.674000</td>\n",
              "    </tr>\n",
              "    <tr>\n",
              "      <th id=\"T_ed831_level0_row2\" class=\"row_heading level0 row2\" >2</th>\n",
              "      <td id=\"T_ed831_row2_col0\" class=\"data row2 col0\" >Linear_regression (full)</td>\n",
              "      <td id=\"T_ed831_row2_col1\" class=\"data row2 col1\" >129.787000</td>\n",
              "    </tr>\n",
              "    <tr>\n",
              "      <th id=\"T_ed831_level0_row3\" class=\"row_heading level0 row3\" >3</th>\n",
              "      <td id=\"T_ed831_row3_col0\" class=\"data row3 col0\" >Ridge (sample)</td>\n",
              "      <td id=\"T_ed831_row3_col1\" class=\"data row3 col1\" >59611.517000</td>\n",
              "    </tr>\n",
              "    <tr>\n",
              "      <th id=\"T_ed831_level0_row4\" class=\"row_heading level0 row4\" >4</th>\n",
              "      <td id=\"T_ed831_row4_col0\" class=\"data row4 col0\" >Linear_regression (sample)</td>\n",
              "      <td id=\"T_ed831_row4_col1\" class=\"data row4 col1\" >59963.798000</td>\n",
              "    </tr>\n",
              "    <tr>\n",
              "      <th id=\"T_ed831_level0_row5\" class=\"row_heading level0 row5\" >5</th>\n",
              "      <td id=\"T_ed831_row5_col0\" class=\"data row5 col0\" >Lasso (sample)</td>\n",
              "      <td id=\"T_ed831_row5_col1\" class=\"data row5 col1\" >70487.889000</td>\n",
              "    </tr>\n",
              "  </tbody>\n",
              "</table>\n"
            ]
          },
          "metadata": {},
          "execution_count": 308
        }
      ]
    },
    {
      "cell_type": "markdown",
      "source": [
        "На полных данных лучшее (самое низкое) значение метрики mse показывает модель Lasso.\n",
        "\n",
        "На выборке 10% случайных наблюдений лучший результат показала модель Ridge."
      ],
      "metadata": {
        "id": "ersrb3fsl89v"
      }
    },
    {
      "cell_type": "markdown",
      "source": [
        "## **9.5 Оценка близости коэффициентов обученных моделей к истинным значениям коэффициентов**\n",
        "\n",
        "---\n"
      ],
      "metadata": {
        "id": "NFW2_0FLIKZ4"
      }
    },
    {
      "cell_type": "code",
      "source": [
        "# сохраним значения коэффициентов в датафреймы\n",
        "coefs_base = pd.DataFrame(\n",
        "    data = coefs,\n",
        "    columns = ['coefs_base'])\n",
        "\n",
        "coefs_lr = pd.DataFrame(\n",
        "    data = lr_full.coef_.T,\n",
        "    columns = ['coefs_lr'])\n",
        "\n",
        "coefs_lasso = pd.DataFrame(\n",
        "    data = lasso_full.coef_,\n",
        "    columns = ['coefs_lasso'])"
      ],
      "metadata": {
        "id": "eBxKaVc5nAHv"
      },
      "execution_count": 309,
      "outputs": []
    },
    {
      "cell_type": "markdown",
      "source": [
        "Объединим датафреймы с коэффициентами."
      ],
      "metadata": {
        "id": "0SBUcgfgnAH2"
      }
    },
    {
      "cell_type": "code",
      "source": [
        "# создадим список датафреймов\n",
        "data_frames = [coefs_base, coefs_lr, coefs_lasso]"
      ],
      "metadata": {
        "id": "TvDpLIrcnAH2"
      },
      "execution_count": 310,
      "outputs": []
    },
    {
      "cell_type": "code",
      "source": [
        "# создаем объединенный датасет с коэффициентами\n",
        "df_merged = reduce(lambda  left, right:\n",
        "                    pd.merge(left, right,\n",
        "                    left_index = True, right_index = True,\n",
        "                    how='outer'), data_frames)"
      ],
      "metadata": {
        "id": "oG-FP_7unAH3"
      },
      "execution_count": 311,
      "outputs": []
    },
    {
      "cell_type": "code",
      "source": [
        "# выведем первые 5 строк объединенного датасета\n",
        "df_merged.head()"
      ],
      "metadata": {
        "colab": {
          "base_uri": "https://localhost:8080/",
          "height": 206
        },
        "outputId": "aac2d561-35a3-490a-aba6-ee9ab0dfd1f8",
        "id": "f9IfM5M3nAH3"
      },
      "execution_count": 312,
      "outputs": [
        {
          "output_type": "execute_result",
          "data": {
            "text/plain": [
              "   coefs_base  coefs_lr  coefs_lasso\n",
              "0         0.0 -0.203917     -0.00000\n",
              "1         0.0  0.515315      0.00000\n",
              "2         0.0  0.885316      0.01651\n",
              "3         0.0 -0.152746     -0.00000\n",
              "4         0.0 -0.398486     -0.00000"
            ],
            "text/html": [
              "\n",
              "  <div id=\"df-e43d2cb5-6dbd-4b8d-9b7c-9f8e4ba86e08\" class=\"colab-df-container\">\n",
              "    <div>\n",
              "<style scoped>\n",
              "    .dataframe tbody tr th:only-of-type {\n",
              "        vertical-align: middle;\n",
              "    }\n",
              "\n",
              "    .dataframe tbody tr th {\n",
              "        vertical-align: top;\n",
              "    }\n",
              "\n",
              "    .dataframe thead th {\n",
              "        text-align: right;\n",
              "    }\n",
              "</style>\n",
              "<table border=\"1\" class=\"dataframe\">\n",
              "  <thead>\n",
              "    <tr style=\"text-align: right;\">\n",
              "      <th></th>\n",
              "      <th>coefs_base</th>\n",
              "      <th>coefs_lr</th>\n",
              "      <th>coefs_lasso</th>\n",
              "    </tr>\n",
              "  </thead>\n",
              "  <tbody>\n",
              "    <tr>\n",
              "      <th>0</th>\n",
              "      <td>0.0</td>\n",
              "      <td>-0.203917</td>\n",
              "      <td>-0.00000</td>\n",
              "    </tr>\n",
              "    <tr>\n",
              "      <th>1</th>\n",
              "      <td>0.0</td>\n",
              "      <td>0.515315</td>\n",
              "      <td>0.00000</td>\n",
              "    </tr>\n",
              "    <tr>\n",
              "      <th>2</th>\n",
              "      <td>0.0</td>\n",
              "      <td>0.885316</td>\n",
              "      <td>0.01651</td>\n",
              "    </tr>\n",
              "    <tr>\n",
              "      <th>3</th>\n",
              "      <td>0.0</td>\n",
              "      <td>-0.152746</td>\n",
              "      <td>-0.00000</td>\n",
              "    </tr>\n",
              "    <tr>\n",
              "      <th>4</th>\n",
              "      <td>0.0</td>\n",
              "      <td>-0.398486</td>\n",
              "      <td>-0.00000</td>\n",
              "    </tr>\n",
              "  </tbody>\n",
              "</table>\n",
              "</div>\n",
              "    <div class=\"colab-df-buttons\">\n",
              "\n",
              "  <div class=\"colab-df-container\">\n",
              "    <button class=\"colab-df-convert\" onclick=\"convertToInteractive('df-e43d2cb5-6dbd-4b8d-9b7c-9f8e4ba86e08')\"\n",
              "            title=\"Convert this dataframe to an interactive table.\"\n",
              "            style=\"display:none;\">\n",
              "\n",
              "  <svg xmlns=\"http://www.w3.org/2000/svg\" height=\"24px\" viewBox=\"0 -960 960 960\">\n",
              "    <path d=\"M120-120v-720h720v720H120Zm60-500h600v-160H180v160Zm220 220h160v-160H400v160Zm0 220h160v-160H400v160ZM180-400h160v-160H180v160Zm440 0h160v-160H620v160ZM180-180h160v-160H180v160Zm440 0h160v-160H620v160Z\"/>\n",
              "  </svg>\n",
              "    </button>\n",
              "\n",
              "  <style>\n",
              "    .colab-df-container {\n",
              "      display:flex;\n",
              "      gap: 12px;\n",
              "    }\n",
              "\n",
              "    .colab-df-convert {\n",
              "      background-color: #E8F0FE;\n",
              "      border: none;\n",
              "      border-radius: 50%;\n",
              "      cursor: pointer;\n",
              "      display: none;\n",
              "      fill: #1967D2;\n",
              "      height: 32px;\n",
              "      padding: 0 0 0 0;\n",
              "      width: 32px;\n",
              "    }\n",
              "\n",
              "    .colab-df-convert:hover {\n",
              "      background-color: #E2EBFA;\n",
              "      box-shadow: 0px 1px 2px rgba(60, 64, 67, 0.3), 0px 1px 3px 1px rgba(60, 64, 67, 0.15);\n",
              "      fill: #174EA6;\n",
              "    }\n",
              "\n",
              "    .colab-df-buttons div {\n",
              "      margin-bottom: 4px;\n",
              "    }\n",
              "\n",
              "    [theme=dark] .colab-df-convert {\n",
              "      background-color: #3B4455;\n",
              "      fill: #D2E3FC;\n",
              "    }\n",
              "\n",
              "    [theme=dark] .colab-df-convert:hover {\n",
              "      background-color: #434B5C;\n",
              "      box-shadow: 0px 1px 3px 1px rgba(0, 0, 0, 0.15);\n",
              "      filter: drop-shadow(0px 1px 2px rgba(0, 0, 0, 0.3));\n",
              "      fill: #FFFFFF;\n",
              "    }\n",
              "  </style>\n",
              "\n",
              "    <script>\n",
              "      const buttonEl =\n",
              "        document.querySelector('#df-e43d2cb5-6dbd-4b8d-9b7c-9f8e4ba86e08 button.colab-df-convert');\n",
              "      buttonEl.style.display =\n",
              "        google.colab.kernel.accessAllowed ? 'block' : 'none';\n",
              "\n",
              "      async function convertToInteractive(key) {\n",
              "        const element = document.querySelector('#df-e43d2cb5-6dbd-4b8d-9b7c-9f8e4ba86e08');\n",
              "        const dataTable =\n",
              "          await google.colab.kernel.invokeFunction('convertToInteractive',\n",
              "                                                    [key], {});\n",
              "        if (!dataTable) return;\n",
              "\n",
              "        const docLinkHtml = 'Like what you see? Visit the ' +\n",
              "          '<a target=\"_blank\" href=https://colab.research.google.com/notebooks/data_table.ipynb>data table notebook</a>'\n",
              "          + ' to learn more about interactive tables.';\n",
              "        element.innerHTML = '';\n",
              "        dataTable['output_type'] = 'display_data';\n",
              "        await google.colab.output.renderOutput(dataTable, element);\n",
              "        const docLink = document.createElement('div');\n",
              "        docLink.innerHTML = docLinkHtml;\n",
              "        element.appendChild(docLink);\n",
              "      }\n",
              "    </script>\n",
              "  </div>\n",
              "\n",
              "\n",
              "<div id=\"df-a5c1a87a-10b1-4cc5-bde6-e498a8b38e3e\">\n",
              "  <button class=\"colab-df-quickchart\" onclick=\"quickchart('df-a5c1a87a-10b1-4cc5-bde6-e498a8b38e3e')\"\n",
              "            title=\"Suggest charts\"\n",
              "            style=\"display:none;\">\n",
              "\n",
              "<svg xmlns=\"http://www.w3.org/2000/svg\" height=\"24px\"viewBox=\"0 0 24 24\"\n",
              "     width=\"24px\">\n",
              "    <g>\n",
              "        <path d=\"M19 3H5c-1.1 0-2 .9-2 2v14c0 1.1.9 2 2 2h14c1.1 0 2-.9 2-2V5c0-1.1-.9-2-2-2zM9 17H7v-7h2v7zm4 0h-2V7h2v10zm4 0h-2v-4h2v4z\"/>\n",
              "    </g>\n",
              "</svg>\n",
              "  </button>\n",
              "\n",
              "<style>\n",
              "  .colab-df-quickchart {\n",
              "      --bg-color: #E8F0FE;\n",
              "      --fill-color: #1967D2;\n",
              "      --hover-bg-color: #E2EBFA;\n",
              "      --hover-fill-color: #174EA6;\n",
              "      --disabled-fill-color: #AAA;\n",
              "      --disabled-bg-color: #DDD;\n",
              "  }\n",
              "\n",
              "  [theme=dark] .colab-df-quickchart {\n",
              "      --bg-color: #3B4455;\n",
              "      --fill-color: #D2E3FC;\n",
              "      --hover-bg-color: #434B5C;\n",
              "      --hover-fill-color: #FFFFFF;\n",
              "      --disabled-bg-color: #3B4455;\n",
              "      --disabled-fill-color: #666;\n",
              "  }\n",
              "\n",
              "  .colab-df-quickchart {\n",
              "    background-color: var(--bg-color);\n",
              "    border: none;\n",
              "    border-radius: 50%;\n",
              "    cursor: pointer;\n",
              "    display: none;\n",
              "    fill: var(--fill-color);\n",
              "    height: 32px;\n",
              "    padding: 0;\n",
              "    width: 32px;\n",
              "  }\n",
              "\n",
              "  .colab-df-quickchart:hover {\n",
              "    background-color: var(--hover-bg-color);\n",
              "    box-shadow: 0 1px 2px rgba(60, 64, 67, 0.3), 0 1px 3px 1px rgba(60, 64, 67, 0.15);\n",
              "    fill: var(--button-hover-fill-color);\n",
              "  }\n",
              "\n",
              "  .colab-df-quickchart-complete:disabled,\n",
              "  .colab-df-quickchart-complete:disabled:hover {\n",
              "    background-color: var(--disabled-bg-color);\n",
              "    fill: var(--disabled-fill-color);\n",
              "    box-shadow: none;\n",
              "  }\n",
              "\n",
              "  .colab-df-spinner {\n",
              "    border: 2px solid var(--fill-color);\n",
              "    border-color: transparent;\n",
              "    border-bottom-color: var(--fill-color);\n",
              "    animation:\n",
              "      spin 1s steps(1) infinite;\n",
              "  }\n",
              "\n",
              "  @keyframes spin {\n",
              "    0% {\n",
              "      border-color: transparent;\n",
              "      border-bottom-color: var(--fill-color);\n",
              "      border-left-color: var(--fill-color);\n",
              "    }\n",
              "    20% {\n",
              "      border-color: transparent;\n",
              "      border-left-color: var(--fill-color);\n",
              "      border-top-color: var(--fill-color);\n",
              "    }\n",
              "    30% {\n",
              "      border-color: transparent;\n",
              "      border-left-color: var(--fill-color);\n",
              "      border-top-color: var(--fill-color);\n",
              "      border-right-color: var(--fill-color);\n",
              "    }\n",
              "    40% {\n",
              "      border-color: transparent;\n",
              "      border-right-color: var(--fill-color);\n",
              "      border-top-color: var(--fill-color);\n",
              "    }\n",
              "    60% {\n",
              "      border-color: transparent;\n",
              "      border-right-color: var(--fill-color);\n",
              "    }\n",
              "    80% {\n",
              "      border-color: transparent;\n",
              "      border-right-color: var(--fill-color);\n",
              "      border-bottom-color: var(--fill-color);\n",
              "    }\n",
              "    90% {\n",
              "      border-color: transparent;\n",
              "      border-bottom-color: var(--fill-color);\n",
              "    }\n",
              "  }\n",
              "</style>\n",
              "\n",
              "  <script>\n",
              "    async function quickchart(key) {\n",
              "      const quickchartButtonEl =\n",
              "        document.querySelector('#' + key + ' button');\n",
              "      quickchartButtonEl.disabled = true;  // To prevent multiple clicks.\n",
              "      quickchartButtonEl.classList.add('colab-df-spinner');\n",
              "      try {\n",
              "        const charts = await google.colab.kernel.invokeFunction(\n",
              "            'suggestCharts', [key], {});\n",
              "      } catch (error) {\n",
              "        console.error('Error during call to suggestCharts:', error);\n",
              "      }\n",
              "      quickchartButtonEl.classList.remove('colab-df-spinner');\n",
              "      quickchartButtonEl.classList.add('colab-df-quickchart-complete');\n",
              "    }\n",
              "    (() => {\n",
              "      let quickchartButtonEl =\n",
              "        document.querySelector('#df-a5c1a87a-10b1-4cc5-bde6-e498a8b38e3e button');\n",
              "      quickchartButtonEl.style.display =\n",
              "        google.colab.kernel.accessAllowed ? 'block' : 'none';\n",
              "    })();\n",
              "  </script>\n",
              "</div>\n",
              "    </div>\n",
              "  </div>\n"
            ]
          },
          "metadata": {},
          "execution_count": 312
        }
      ]
    },
    {
      "cell_type": "code",
      "source": [
        "# создадим функцию для подсчета абсолютных отклонений\n",
        "# значений коэффициентов от истинного значения\n",
        "def sum_abs(real_coefs, model_coefs):\n",
        "    values = []\n",
        "    for i in range(len(model_coefs)):\n",
        "        d = abs(\n",
        "        round(model_coefs[i], 5) - round(real_coefs[i], 5))\n",
        "        values.append(d)\n",
        "    return sum(values)"
      ],
      "metadata": {
        "id": "Y95QNaUtnAH5"
      },
      "execution_count": 313,
      "outputs": []
    },
    {
      "cell_type": "code",
      "source": [
        "# вычислим сумму абсолютных отклонений значений коэффициентов\n",
        "# модели LinearRegression от истинных значений коэффициентов\n",
        "lr_deviations = sum_abs(\n",
        "    df_merged['coefs_base'],\n",
        "    df_merged['coefs_lr'])\n",
        "\n",
        "# выведем суммарное значение абсолютных отклонений\n",
        "# для LinearRegression\n",
        "lr_deviations"
      ],
      "metadata": {
        "id": "EJ6VFkXwGhcP",
        "colab": {
          "base_uri": "https://localhost:8080/"
        },
        "outputId": "97a9dd56-1218-48b4-e7a5-64b5cc26980f"
      },
      "execution_count": 314,
      "outputs": [
        {
          "output_type": "execute_result",
          "data": {
            "text/plain": [
              "71.83943999999998"
            ]
          },
          "metadata": {},
          "execution_count": 314
        }
      ]
    },
    {
      "cell_type": "code",
      "source": [
        "# вычислим сумму абсолютных отклонений значений коэффициентов\n",
        "# модели Lasso от истинных значений коэффициентов\n",
        "lasso_deviations = sum_abs(\n",
        "    df_merged['coefs_base'],\n",
        "    df_merged['coefs_lasso'])\n",
        "\n",
        "# выведем суммарное значение абсолютных отклонений\n",
        "# для Lasso\n",
        "lasso_deviations"
      ],
      "metadata": {
        "id": "8ukh1KaOGhfZ",
        "colab": {
          "base_uri": "https://localhost:8080/"
        },
        "outputId": "8acf522e-fa47-4453-9bad-64af5d528e52"
      },
      "execution_count": 315,
      "outputs": [
        {
          "output_type": "execute_result",
          "data": {
            "text/plain": [
              "11.312040000000012"
            ]
          },
          "metadata": {},
          "execution_count": 315
        }
      ]
    },
    {
      "cell_type": "markdown",
      "source": [
        "Вывод: самые близкие к истинным значениям коэффициентов получены у модели Lasso."
      ],
      "metadata": {
        "id": "a3G1TRKsQbao"
      }
    },
    {
      "cell_type": "markdown",
      "source": [
        "# <font color='green'>**Вопрос 10**<font>\n",
        "\n",
        "---"
      ],
      "metadata": {
        "id": "T0IZEhdLQrDx"
      }
    },
    {
      "cell_type": "markdown",
      "source": [
        "**Мультиколлинеарность. Вернемся к первоначальным данным:\n",
        "X, y, coefs = make_regression(n_samples=100, n_features=20, noise=10, random_state=42, coef=True)**\n",
        "\n",
        "**Добавим к X столбец x['x20'] = x['x1'] (столбец, равный первому признаку, если нумерация столбцов с 0).**\n",
        "\n",
        "**Давайте построим Ridge(random_state=1), Lasso, LinearRegression на нормированных данных.**\n",
        "\n",
        "**Ответьте на вопросы 1-3.**\n",
        "\n",
        "**Пропуск важной переменной. Вернемся к первоначальным данным:\n",
        "X, y, coefs = make_regression(n_samples=100, n_features=20, noise=10, random_state=42, coef=True)\n",
        "Уберем из X важный x['x1'] (столбец, равный первому признаку, если нумерация признаков с 0).\n",
        "Давайте построим Ridge(random_state=1), Lasso, LinearRegression на нормированных данных.**\n",
        "\n",
        "**Ответьте на вопросы 4-6.**"
      ],
      "metadata": {
        "id": "YOsEnXHJQ_7m"
      }
    },
    {
      "cell_type": "markdown",
      "source": [
        "* Коэффициенты, кроме тех, которые при x['x20'] и x['x1'], изменились существенно (в среднем более, чем на 10%)\n",
        "* Lasso занулила коэффициенты для x['x20'] и x['x1']\n",
        "* Ridge и LinearRegression уменьшила коэффициенты для x['x20'] и x['x1'] примерно в 2 раза, по сравнению с регрессией без x['x20']\n",
        "* Коэффициенты изменились существенно (в среднем более, чем на 10%)\n",
        "* Lasso занулила все истинно нулевые коэффициенты\n",
        "* R2 по сравнению с полной регрессией (с x['x1']) упало более, чем на 25%"
      ],
      "metadata": {
        "id": "wl24c3f9RUT3"
      }
    },
    {
      "cell_type": "markdown",
      "source": [
        "## **10.1 Мультиколинеарность**\n",
        "\n",
        "---"
      ],
      "metadata": {
        "id": "LY6rD7SSR-NU"
      }
    },
    {
      "cell_type": "code",
      "source": [
        "# создадим датасет\n",
        "X, y, coefs = make_regression(\n",
        "    n_samples=100,\n",
        "    n_features=20,\n",
        "    noise=10,\n",
        "    random_state=42,\n",
        "    coef=True)"
      ],
      "metadata": {
        "id": "9XpKw8zeGhi3"
      },
      "execution_count": 316,
      "outputs": []
    },
    {
      "cell_type": "code",
      "source": [
        "# сохраним X и y в датафреймы\n",
        "X = pd.DataFrame(X)\n",
        "y = pd.DataFrame(y)\n",
        "\n",
        "# выведем размеры датафреймов\n",
        "X.shape, y.shape"
      ],
      "metadata": {
        "id": "nM1uV243efH2",
        "colab": {
          "base_uri": "https://localhost:8080/"
        },
        "outputId": "002608c1-bf5d-4b89-e989-476c3ec4aba3"
      },
      "execution_count": 317,
      "outputs": [
        {
          "output_type": "execute_result",
          "data": {
            "text/plain": [
              "((100, 20), (100, 1))"
            ]
          },
          "metadata": {},
          "execution_count": 317
        }
      ]
    },
    {
      "cell_type": "code",
      "source": [
        "# выведем первые пять строк датасета Х\n",
        "X.head()"
      ],
      "metadata": {
        "colab": {
          "base_uri": "https://localhost:8080/",
          "height": 226
        },
        "id": "RfsVFf9zTCEV",
        "outputId": "e388ac77-4d40-4b2e-e27c-8376cea765c9"
      },
      "execution_count": 318,
      "outputs": [
        {
          "output_type": "execute_result",
          "data": {
            "text/plain": [
              "         0         1         2         3         4         5         6   \\\n",
              "0 -0.922165  1.876796  0.756989  0.279969  0.725767  0.481009  1.355638   \n",
              "1 -0.083106 -1.457551 -1.406317 -0.160133 -0.796026  1.076007  0.760056   \n",
              "2  0.810808 -1.662492 -0.134309 -0.308034 -0.209222 -1.683438 -1.748532   \n",
              "3  0.536653 -0.756795 -1.046911  0.455888  0.268592  1.528468  0.718953   \n",
              "4  1.532739 -0.401220  0.519347  1.451144  0.183342  2.189803  0.401712   \n",
              "\n",
              "         7         8         9         10        11        12        13  \\\n",
              "0 -1.244655  0.413435  0.869606  0.654366 -1.125489  2.445752  0.129221   \n",
              "1 -0.752156  0.082440 -1.504720 -1.875172  0.671340  0.213197 -0.751969   \n",
              "2  1.126705  1.304340  0.793489 -1.105705  0.779661  1.310309  1.395684   \n",
              "3  1.501334  0.996048  1.185704  1.328194  2.165002 -0.643518  0.927840   \n",
              "4  0.012592  0.690144 -0.108760  0.024510  0.959271  2.153182 -0.767348   \n",
              "\n",
              "         14        15        16        17        18        19  \n",
              "0  0.223884  1.496044 -0.773789 -0.055585  0.109395 -1.778720  \n",
              "1  0.021312  1.340450 -0.309209  0.115026 -0.319054  0.319175  \n",
              "2 -0.805870 -0.410814  1.032546 -0.214921 -0.562168 -1.090966  \n",
              "3  0.507836 -0.250833 -1.421811  0.556230  0.057013 -0.322680  \n",
              "4 -0.808298 -0.773010  0.224092  0.497998  0.872321  0.097676  "
            ],
            "text/html": [
              "\n",
              "  <div id=\"df-2fc50b0b-783f-4311-9a25-ba6423e96a95\" class=\"colab-df-container\">\n",
              "    <div>\n",
              "<style scoped>\n",
              "    .dataframe tbody tr th:only-of-type {\n",
              "        vertical-align: middle;\n",
              "    }\n",
              "\n",
              "    .dataframe tbody tr th {\n",
              "        vertical-align: top;\n",
              "    }\n",
              "\n",
              "    .dataframe thead th {\n",
              "        text-align: right;\n",
              "    }\n",
              "</style>\n",
              "<table border=\"1\" class=\"dataframe\">\n",
              "  <thead>\n",
              "    <tr style=\"text-align: right;\">\n",
              "      <th></th>\n",
              "      <th>0</th>\n",
              "      <th>1</th>\n",
              "      <th>2</th>\n",
              "      <th>3</th>\n",
              "      <th>4</th>\n",
              "      <th>5</th>\n",
              "      <th>6</th>\n",
              "      <th>7</th>\n",
              "      <th>8</th>\n",
              "      <th>9</th>\n",
              "      <th>10</th>\n",
              "      <th>11</th>\n",
              "      <th>12</th>\n",
              "      <th>13</th>\n",
              "      <th>14</th>\n",
              "      <th>15</th>\n",
              "      <th>16</th>\n",
              "      <th>17</th>\n",
              "      <th>18</th>\n",
              "      <th>19</th>\n",
              "    </tr>\n",
              "  </thead>\n",
              "  <tbody>\n",
              "    <tr>\n",
              "      <th>0</th>\n",
              "      <td>-0.922165</td>\n",
              "      <td>1.876796</td>\n",
              "      <td>0.756989</td>\n",
              "      <td>0.279969</td>\n",
              "      <td>0.725767</td>\n",
              "      <td>0.481009</td>\n",
              "      <td>1.355638</td>\n",
              "      <td>-1.244655</td>\n",
              "      <td>0.413435</td>\n",
              "      <td>0.869606</td>\n",
              "      <td>0.654366</td>\n",
              "      <td>-1.125489</td>\n",
              "      <td>2.445752</td>\n",
              "      <td>0.129221</td>\n",
              "      <td>0.223884</td>\n",
              "      <td>1.496044</td>\n",
              "      <td>-0.773789</td>\n",
              "      <td>-0.055585</td>\n",
              "      <td>0.109395</td>\n",
              "      <td>-1.778720</td>\n",
              "    </tr>\n",
              "    <tr>\n",
              "      <th>1</th>\n",
              "      <td>-0.083106</td>\n",
              "      <td>-1.457551</td>\n",
              "      <td>-1.406317</td>\n",
              "      <td>-0.160133</td>\n",
              "      <td>-0.796026</td>\n",
              "      <td>1.076007</td>\n",
              "      <td>0.760056</td>\n",
              "      <td>-0.752156</td>\n",
              "      <td>0.082440</td>\n",
              "      <td>-1.504720</td>\n",
              "      <td>-1.875172</td>\n",
              "      <td>0.671340</td>\n",
              "      <td>0.213197</td>\n",
              "      <td>-0.751969</td>\n",
              "      <td>0.021312</td>\n",
              "      <td>1.340450</td>\n",
              "      <td>-0.309209</td>\n",
              "      <td>0.115026</td>\n",
              "      <td>-0.319054</td>\n",
              "      <td>0.319175</td>\n",
              "    </tr>\n",
              "    <tr>\n",
              "      <th>2</th>\n",
              "      <td>0.810808</td>\n",
              "      <td>-1.662492</td>\n",
              "      <td>-0.134309</td>\n",
              "      <td>-0.308034</td>\n",
              "      <td>-0.209222</td>\n",
              "      <td>-1.683438</td>\n",
              "      <td>-1.748532</td>\n",
              "      <td>1.126705</td>\n",
              "      <td>1.304340</td>\n",
              "      <td>0.793489</td>\n",
              "      <td>-1.105705</td>\n",
              "      <td>0.779661</td>\n",
              "      <td>1.310309</td>\n",
              "      <td>1.395684</td>\n",
              "      <td>-0.805870</td>\n",
              "      <td>-0.410814</td>\n",
              "      <td>1.032546</td>\n",
              "      <td>-0.214921</td>\n",
              "      <td>-0.562168</td>\n",
              "      <td>-1.090966</td>\n",
              "    </tr>\n",
              "    <tr>\n",
              "      <th>3</th>\n",
              "      <td>0.536653</td>\n",
              "      <td>-0.756795</td>\n",
              "      <td>-1.046911</td>\n",
              "      <td>0.455888</td>\n",
              "      <td>0.268592</td>\n",
              "      <td>1.528468</td>\n",
              "      <td>0.718953</td>\n",
              "      <td>1.501334</td>\n",
              "      <td>0.996048</td>\n",
              "      <td>1.185704</td>\n",
              "      <td>1.328194</td>\n",
              "      <td>2.165002</td>\n",
              "      <td>-0.643518</td>\n",
              "      <td>0.927840</td>\n",
              "      <td>0.507836</td>\n",
              "      <td>-0.250833</td>\n",
              "      <td>-1.421811</td>\n",
              "      <td>0.556230</td>\n",
              "      <td>0.057013</td>\n",
              "      <td>-0.322680</td>\n",
              "    </tr>\n",
              "    <tr>\n",
              "      <th>4</th>\n",
              "      <td>1.532739</td>\n",
              "      <td>-0.401220</td>\n",
              "      <td>0.519347</td>\n",
              "      <td>1.451144</td>\n",
              "      <td>0.183342</td>\n",
              "      <td>2.189803</td>\n",
              "      <td>0.401712</td>\n",
              "      <td>0.012592</td>\n",
              "      <td>0.690144</td>\n",
              "      <td>-0.108760</td>\n",
              "      <td>0.024510</td>\n",
              "      <td>0.959271</td>\n",
              "      <td>2.153182</td>\n",
              "      <td>-0.767348</td>\n",
              "      <td>-0.808298</td>\n",
              "      <td>-0.773010</td>\n",
              "      <td>0.224092</td>\n",
              "      <td>0.497998</td>\n",
              "      <td>0.872321</td>\n",
              "      <td>0.097676</td>\n",
              "    </tr>\n",
              "  </tbody>\n",
              "</table>\n",
              "</div>\n",
              "    <div class=\"colab-df-buttons\">\n",
              "\n",
              "  <div class=\"colab-df-container\">\n",
              "    <button class=\"colab-df-convert\" onclick=\"convertToInteractive('df-2fc50b0b-783f-4311-9a25-ba6423e96a95')\"\n",
              "            title=\"Convert this dataframe to an interactive table.\"\n",
              "            style=\"display:none;\">\n",
              "\n",
              "  <svg xmlns=\"http://www.w3.org/2000/svg\" height=\"24px\" viewBox=\"0 -960 960 960\">\n",
              "    <path d=\"M120-120v-720h720v720H120Zm60-500h600v-160H180v160Zm220 220h160v-160H400v160Zm0 220h160v-160H400v160ZM180-400h160v-160H180v160Zm440 0h160v-160H620v160ZM180-180h160v-160H180v160Zm440 0h160v-160H620v160Z\"/>\n",
              "  </svg>\n",
              "    </button>\n",
              "\n",
              "  <style>\n",
              "    .colab-df-container {\n",
              "      display:flex;\n",
              "      gap: 12px;\n",
              "    }\n",
              "\n",
              "    .colab-df-convert {\n",
              "      background-color: #E8F0FE;\n",
              "      border: none;\n",
              "      border-radius: 50%;\n",
              "      cursor: pointer;\n",
              "      display: none;\n",
              "      fill: #1967D2;\n",
              "      height: 32px;\n",
              "      padding: 0 0 0 0;\n",
              "      width: 32px;\n",
              "    }\n",
              "\n",
              "    .colab-df-convert:hover {\n",
              "      background-color: #E2EBFA;\n",
              "      box-shadow: 0px 1px 2px rgba(60, 64, 67, 0.3), 0px 1px 3px 1px rgba(60, 64, 67, 0.15);\n",
              "      fill: #174EA6;\n",
              "    }\n",
              "\n",
              "    .colab-df-buttons div {\n",
              "      margin-bottom: 4px;\n",
              "    }\n",
              "\n",
              "    [theme=dark] .colab-df-convert {\n",
              "      background-color: #3B4455;\n",
              "      fill: #D2E3FC;\n",
              "    }\n",
              "\n",
              "    [theme=dark] .colab-df-convert:hover {\n",
              "      background-color: #434B5C;\n",
              "      box-shadow: 0px 1px 3px 1px rgba(0, 0, 0, 0.15);\n",
              "      filter: drop-shadow(0px 1px 2px rgba(0, 0, 0, 0.3));\n",
              "      fill: #FFFFFF;\n",
              "    }\n",
              "  </style>\n",
              "\n",
              "    <script>\n",
              "      const buttonEl =\n",
              "        document.querySelector('#df-2fc50b0b-783f-4311-9a25-ba6423e96a95 button.colab-df-convert');\n",
              "      buttonEl.style.display =\n",
              "        google.colab.kernel.accessAllowed ? 'block' : 'none';\n",
              "\n",
              "      async function convertToInteractive(key) {\n",
              "        const element = document.querySelector('#df-2fc50b0b-783f-4311-9a25-ba6423e96a95');\n",
              "        const dataTable =\n",
              "          await google.colab.kernel.invokeFunction('convertToInteractive',\n",
              "                                                    [key], {});\n",
              "        if (!dataTable) return;\n",
              "\n",
              "        const docLinkHtml = 'Like what you see? Visit the ' +\n",
              "          '<a target=\"_blank\" href=https://colab.research.google.com/notebooks/data_table.ipynb>data table notebook</a>'\n",
              "          + ' to learn more about interactive tables.';\n",
              "        element.innerHTML = '';\n",
              "        dataTable['output_type'] = 'display_data';\n",
              "        await google.colab.output.renderOutput(dataTable, element);\n",
              "        const docLink = document.createElement('div');\n",
              "        docLink.innerHTML = docLinkHtml;\n",
              "        element.appendChild(docLink);\n",
              "      }\n",
              "    </script>\n",
              "  </div>\n",
              "\n",
              "\n",
              "<div id=\"df-40ab1690-8d59-424e-a2ab-2da90ffd31e7\">\n",
              "  <button class=\"colab-df-quickchart\" onclick=\"quickchart('df-40ab1690-8d59-424e-a2ab-2da90ffd31e7')\"\n",
              "            title=\"Suggest charts\"\n",
              "            style=\"display:none;\">\n",
              "\n",
              "<svg xmlns=\"http://www.w3.org/2000/svg\" height=\"24px\"viewBox=\"0 0 24 24\"\n",
              "     width=\"24px\">\n",
              "    <g>\n",
              "        <path d=\"M19 3H5c-1.1 0-2 .9-2 2v14c0 1.1.9 2 2 2h14c1.1 0 2-.9 2-2V5c0-1.1-.9-2-2-2zM9 17H7v-7h2v7zm4 0h-2V7h2v10zm4 0h-2v-4h2v4z\"/>\n",
              "    </g>\n",
              "</svg>\n",
              "  </button>\n",
              "\n",
              "<style>\n",
              "  .colab-df-quickchart {\n",
              "      --bg-color: #E8F0FE;\n",
              "      --fill-color: #1967D2;\n",
              "      --hover-bg-color: #E2EBFA;\n",
              "      --hover-fill-color: #174EA6;\n",
              "      --disabled-fill-color: #AAA;\n",
              "      --disabled-bg-color: #DDD;\n",
              "  }\n",
              "\n",
              "  [theme=dark] .colab-df-quickchart {\n",
              "      --bg-color: #3B4455;\n",
              "      --fill-color: #D2E3FC;\n",
              "      --hover-bg-color: #434B5C;\n",
              "      --hover-fill-color: #FFFFFF;\n",
              "      --disabled-bg-color: #3B4455;\n",
              "      --disabled-fill-color: #666;\n",
              "  }\n",
              "\n",
              "  .colab-df-quickchart {\n",
              "    background-color: var(--bg-color);\n",
              "    border: none;\n",
              "    border-radius: 50%;\n",
              "    cursor: pointer;\n",
              "    display: none;\n",
              "    fill: var(--fill-color);\n",
              "    height: 32px;\n",
              "    padding: 0;\n",
              "    width: 32px;\n",
              "  }\n",
              "\n",
              "  .colab-df-quickchart:hover {\n",
              "    background-color: var(--hover-bg-color);\n",
              "    box-shadow: 0 1px 2px rgba(60, 64, 67, 0.3), 0 1px 3px 1px rgba(60, 64, 67, 0.15);\n",
              "    fill: var(--button-hover-fill-color);\n",
              "  }\n",
              "\n",
              "  .colab-df-quickchart-complete:disabled,\n",
              "  .colab-df-quickchart-complete:disabled:hover {\n",
              "    background-color: var(--disabled-bg-color);\n",
              "    fill: var(--disabled-fill-color);\n",
              "    box-shadow: none;\n",
              "  }\n",
              "\n",
              "  .colab-df-spinner {\n",
              "    border: 2px solid var(--fill-color);\n",
              "    border-color: transparent;\n",
              "    border-bottom-color: var(--fill-color);\n",
              "    animation:\n",
              "      spin 1s steps(1) infinite;\n",
              "  }\n",
              "\n",
              "  @keyframes spin {\n",
              "    0% {\n",
              "      border-color: transparent;\n",
              "      border-bottom-color: var(--fill-color);\n",
              "      border-left-color: var(--fill-color);\n",
              "    }\n",
              "    20% {\n",
              "      border-color: transparent;\n",
              "      border-left-color: var(--fill-color);\n",
              "      border-top-color: var(--fill-color);\n",
              "    }\n",
              "    30% {\n",
              "      border-color: transparent;\n",
              "      border-left-color: var(--fill-color);\n",
              "      border-top-color: var(--fill-color);\n",
              "      border-right-color: var(--fill-color);\n",
              "    }\n",
              "    40% {\n",
              "      border-color: transparent;\n",
              "      border-right-color: var(--fill-color);\n",
              "      border-top-color: var(--fill-color);\n",
              "    }\n",
              "    60% {\n",
              "      border-color: transparent;\n",
              "      border-right-color: var(--fill-color);\n",
              "    }\n",
              "    80% {\n",
              "      border-color: transparent;\n",
              "      border-right-color: var(--fill-color);\n",
              "      border-bottom-color: var(--fill-color);\n",
              "    }\n",
              "    90% {\n",
              "      border-color: transparent;\n",
              "      border-bottom-color: var(--fill-color);\n",
              "    }\n",
              "  }\n",
              "</style>\n",
              "\n",
              "  <script>\n",
              "    async function quickchart(key) {\n",
              "      const quickchartButtonEl =\n",
              "        document.querySelector('#' + key + ' button');\n",
              "      quickchartButtonEl.disabled = true;  // To prevent multiple clicks.\n",
              "      quickchartButtonEl.classList.add('colab-df-spinner');\n",
              "      try {\n",
              "        const charts = await google.colab.kernel.invokeFunction(\n",
              "            'suggestCharts', [key], {});\n",
              "      } catch (error) {\n",
              "        console.error('Error during call to suggestCharts:', error);\n",
              "      }\n",
              "      quickchartButtonEl.classList.remove('colab-df-spinner');\n",
              "      quickchartButtonEl.classList.add('colab-df-quickchart-complete');\n",
              "    }\n",
              "    (() => {\n",
              "      let quickchartButtonEl =\n",
              "        document.querySelector('#df-40ab1690-8d59-424e-a2ab-2da90ffd31e7 button');\n",
              "      quickchartButtonEl.style.display =\n",
              "        google.colab.kernel.accessAllowed ? 'block' : 'none';\n",
              "    })();\n",
              "  </script>\n",
              "</div>\n",
              "    </div>\n",
              "  </div>\n"
            ]
          },
          "metadata": {},
          "execution_count": 318
        }
      ]
    },
    {
      "cell_type": "code",
      "source": [
        "# 20-й признак датасета Х заменим на 1-й признак\n",
        "# (т.о. два признака датасета Х будут полностью идентичны)\n",
        "X[19] = X[0]"
      ],
      "metadata": {
        "id": "cDHGZEA7efLL"
      },
      "execution_count": 319,
      "outputs": []
    },
    {
      "cell_type": "code",
      "source": [
        "# выведем первые пять строк датасета Х\n",
        "X.head()"
      ],
      "metadata": {
        "id": "adV9xmJwm8qT",
        "colab": {
          "base_uri": "https://localhost:8080/",
          "height": 226
        },
        "outputId": "0a45b956-fb52-4e42-ff69-be618e637f7c"
      },
      "execution_count": 320,
      "outputs": [
        {
          "output_type": "execute_result",
          "data": {
            "text/plain": [
              "         0         1         2         3         4         5         6   \\\n",
              "0 -0.922165  1.876796  0.756989  0.279969  0.725767  0.481009  1.355638   \n",
              "1 -0.083106 -1.457551 -1.406317 -0.160133 -0.796026  1.076007  0.760056   \n",
              "2  0.810808 -1.662492 -0.134309 -0.308034 -0.209222 -1.683438 -1.748532   \n",
              "3  0.536653 -0.756795 -1.046911  0.455888  0.268592  1.528468  0.718953   \n",
              "4  1.532739 -0.401220  0.519347  1.451144  0.183342  2.189803  0.401712   \n",
              "\n",
              "         7         8         9         10        11        12        13  \\\n",
              "0 -1.244655  0.413435  0.869606  0.654366 -1.125489  2.445752  0.129221   \n",
              "1 -0.752156  0.082440 -1.504720 -1.875172  0.671340  0.213197 -0.751969   \n",
              "2  1.126705  1.304340  0.793489 -1.105705  0.779661  1.310309  1.395684   \n",
              "3  1.501334  0.996048  1.185704  1.328194  2.165002 -0.643518  0.927840   \n",
              "4  0.012592  0.690144 -0.108760  0.024510  0.959271  2.153182 -0.767348   \n",
              "\n",
              "         14        15        16        17        18        19  \n",
              "0  0.223884  1.496044 -0.773789 -0.055585  0.109395 -0.922165  \n",
              "1  0.021312  1.340450 -0.309209  0.115026 -0.319054 -0.083106  \n",
              "2 -0.805870 -0.410814  1.032546 -0.214921 -0.562168  0.810808  \n",
              "3  0.507836 -0.250833 -1.421811  0.556230  0.057013  0.536653  \n",
              "4 -0.808298 -0.773010  0.224092  0.497998  0.872321  1.532739  "
            ],
            "text/html": [
              "\n",
              "  <div id=\"df-c9be9ac8-fa24-44b9-afbf-57a01e43bd52\" class=\"colab-df-container\">\n",
              "    <div>\n",
              "<style scoped>\n",
              "    .dataframe tbody tr th:only-of-type {\n",
              "        vertical-align: middle;\n",
              "    }\n",
              "\n",
              "    .dataframe tbody tr th {\n",
              "        vertical-align: top;\n",
              "    }\n",
              "\n",
              "    .dataframe thead th {\n",
              "        text-align: right;\n",
              "    }\n",
              "</style>\n",
              "<table border=\"1\" class=\"dataframe\">\n",
              "  <thead>\n",
              "    <tr style=\"text-align: right;\">\n",
              "      <th></th>\n",
              "      <th>0</th>\n",
              "      <th>1</th>\n",
              "      <th>2</th>\n",
              "      <th>3</th>\n",
              "      <th>4</th>\n",
              "      <th>5</th>\n",
              "      <th>6</th>\n",
              "      <th>7</th>\n",
              "      <th>8</th>\n",
              "      <th>9</th>\n",
              "      <th>10</th>\n",
              "      <th>11</th>\n",
              "      <th>12</th>\n",
              "      <th>13</th>\n",
              "      <th>14</th>\n",
              "      <th>15</th>\n",
              "      <th>16</th>\n",
              "      <th>17</th>\n",
              "      <th>18</th>\n",
              "      <th>19</th>\n",
              "    </tr>\n",
              "  </thead>\n",
              "  <tbody>\n",
              "    <tr>\n",
              "      <th>0</th>\n",
              "      <td>-0.922165</td>\n",
              "      <td>1.876796</td>\n",
              "      <td>0.756989</td>\n",
              "      <td>0.279969</td>\n",
              "      <td>0.725767</td>\n",
              "      <td>0.481009</td>\n",
              "      <td>1.355638</td>\n",
              "      <td>-1.244655</td>\n",
              "      <td>0.413435</td>\n",
              "      <td>0.869606</td>\n",
              "      <td>0.654366</td>\n",
              "      <td>-1.125489</td>\n",
              "      <td>2.445752</td>\n",
              "      <td>0.129221</td>\n",
              "      <td>0.223884</td>\n",
              "      <td>1.496044</td>\n",
              "      <td>-0.773789</td>\n",
              "      <td>-0.055585</td>\n",
              "      <td>0.109395</td>\n",
              "      <td>-0.922165</td>\n",
              "    </tr>\n",
              "    <tr>\n",
              "      <th>1</th>\n",
              "      <td>-0.083106</td>\n",
              "      <td>-1.457551</td>\n",
              "      <td>-1.406317</td>\n",
              "      <td>-0.160133</td>\n",
              "      <td>-0.796026</td>\n",
              "      <td>1.076007</td>\n",
              "      <td>0.760056</td>\n",
              "      <td>-0.752156</td>\n",
              "      <td>0.082440</td>\n",
              "      <td>-1.504720</td>\n",
              "      <td>-1.875172</td>\n",
              "      <td>0.671340</td>\n",
              "      <td>0.213197</td>\n",
              "      <td>-0.751969</td>\n",
              "      <td>0.021312</td>\n",
              "      <td>1.340450</td>\n",
              "      <td>-0.309209</td>\n",
              "      <td>0.115026</td>\n",
              "      <td>-0.319054</td>\n",
              "      <td>-0.083106</td>\n",
              "    </tr>\n",
              "    <tr>\n",
              "      <th>2</th>\n",
              "      <td>0.810808</td>\n",
              "      <td>-1.662492</td>\n",
              "      <td>-0.134309</td>\n",
              "      <td>-0.308034</td>\n",
              "      <td>-0.209222</td>\n",
              "      <td>-1.683438</td>\n",
              "      <td>-1.748532</td>\n",
              "      <td>1.126705</td>\n",
              "      <td>1.304340</td>\n",
              "      <td>0.793489</td>\n",
              "      <td>-1.105705</td>\n",
              "      <td>0.779661</td>\n",
              "      <td>1.310309</td>\n",
              "      <td>1.395684</td>\n",
              "      <td>-0.805870</td>\n",
              "      <td>-0.410814</td>\n",
              "      <td>1.032546</td>\n",
              "      <td>-0.214921</td>\n",
              "      <td>-0.562168</td>\n",
              "      <td>0.810808</td>\n",
              "    </tr>\n",
              "    <tr>\n",
              "      <th>3</th>\n",
              "      <td>0.536653</td>\n",
              "      <td>-0.756795</td>\n",
              "      <td>-1.046911</td>\n",
              "      <td>0.455888</td>\n",
              "      <td>0.268592</td>\n",
              "      <td>1.528468</td>\n",
              "      <td>0.718953</td>\n",
              "      <td>1.501334</td>\n",
              "      <td>0.996048</td>\n",
              "      <td>1.185704</td>\n",
              "      <td>1.328194</td>\n",
              "      <td>2.165002</td>\n",
              "      <td>-0.643518</td>\n",
              "      <td>0.927840</td>\n",
              "      <td>0.507836</td>\n",
              "      <td>-0.250833</td>\n",
              "      <td>-1.421811</td>\n",
              "      <td>0.556230</td>\n",
              "      <td>0.057013</td>\n",
              "      <td>0.536653</td>\n",
              "    </tr>\n",
              "    <tr>\n",
              "      <th>4</th>\n",
              "      <td>1.532739</td>\n",
              "      <td>-0.401220</td>\n",
              "      <td>0.519347</td>\n",
              "      <td>1.451144</td>\n",
              "      <td>0.183342</td>\n",
              "      <td>2.189803</td>\n",
              "      <td>0.401712</td>\n",
              "      <td>0.012592</td>\n",
              "      <td>0.690144</td>\n",
              "      <td>-0.108760</td>\n",
              "      <td>0.024510</td>\n",
              "      <td>0.959271</td>\n",
              "      <td>2.153182</td>\n",
              "      <td>-0.767348</td>\n",
              "      <td>-0.808298</td>\n",
              "      <td>-0.773010</td>\n",
              "      <td>0.224092</td>\n",
              "      <td>0.497998</td>\n",
              "      <td>0.872321</td>\n",
              "      <td>1.532739</td>\n",
              "    </tr>\n",
              "  </tbody>\n",
              "</table>\n",
              "</div>\n",
              "    <div class=\"colab-df-buttons\">\n",
              "\n",
              "  <div class=\"colab-df-container\">\n",
              "    <button class=\"colab-df-convert\" onclick=\"convertToInteractive('df-c9be9ac8-fa24-44b9-afbf-57a01e43bd52')\"\n",
              "            title=\"Convert this dataframe to an interactive table.\"\n",
              "            style=\"display:none;\">\n",
              "\n",
              "  <svg xmlns=\"http://www.w3.org/2000/svg\" height=\"24px\" viewBox=\"0 -960 960 960\">\n",
              "    <path d=\"M120-120v-720h720v720H120Zm60-500h600v-160H180v160Zm220 220h160v-160H400v160Zm0 220h160v-160H400v160ZM180-400h160v-160H180v160Zm440 0h160v-160H620v160ZM180-180h160v-160H180v160Zm440 0h160v-160H620v160Z\"/>\n",
              "  </svg>\n",
              "    </button>\n",
              "\n",
              "  <style>\n",
              "    .colab-df-container {\n",
              "      display:flex;\n",
              "      gap: 12px;\n",
              "    }\n",
              "\n",
              "    .colab-df-convert {\n",
              "      background-color: #E8F0FE;\n",
              "      border: none;\n",
              "      border-radius: 50%;\n",
              "      cursor: pointer;\n",
              "      display: none;\n",
              "      fill: #1967D2;\n",
              "      height: 32px;\n",
              "      padding: 0 0 0 0;\n",
              "      width: 32px;\n",
              "    }\n",
              "\n",
              "    .colab-df-convert:hover {\n",
              "      background-color: #E2EBFA;\n",
              "      box-shadow: 0px 1px 2px rgba(60, 64, 67, 0.3), 0px 1px 3px 1px rgba(60, 64, 67, 0.15);\n",
              "      fill: #174EA6;\n",
              "    }\n",
              "\n",
              "    .colab-df-buttons div {\n",
              "      margin-bottom: 4px;\n",
              "    }\n",
              "\n",
              "    [theme=dark] .colab-df-convert {\n",
              "      background-color: #3B4455;\n",
              "      fill: #D2E3FC;\n",
              "    }\n",
              "\n",
              "    [theme=dark] .colab-df-convert:hover {\n",
              "      background-color: #434B5C;\n",
              "      box-shadow: 0px 1px 3px 1px rgba(0, 0, 0, 0.15);\n",
              "      filter: drop-shadow(0px 1px 2px rgba(0, 0, 0, 0.3));\n",
              "      fill: #FFFFFF;\n",
              "    }\n",
              "  </style>\n",
              "\n",
              "    <script>\n",
              "      const buttonEl =\n",
              "        document.querySelector('#df-c9be9ac8-fa24-44b9-afbf-57a01e43bd52 button.colab-df-convert');\n",
              "      buttonEl.style.display =\n",
              "        google.colab.kernel.accessAllowed ? 'block' : 'none';\n",
              "\n",
              "      async function convertToInteractive(key) {\n",
              "        const element = document.querySelector('#df-c9be9ac8-fa24-44b9-afbf-57a01e43bd52');\n",
              "        const dataTable =\n",
              "          await google.colab.kernel.invokeFunction('convertToInteractive',\n",
              "                                                    [key], {});\n",
              "        if (!dataTable) return;\n",
              "\n",
              "        const docLinkHtml = 'Like what you see? Visit the ' +\n",
              "          '<a target=\"_blank\" href=https://colab.research.google.com/notebooks/data_table.ipynb>data table notebook</a>'\n",
              "          + ' to learn more about interactive tables.';\n",
              "        element.innerHTML = '';\n",
              "        dataTable['output_type'] = 'display_data';\n",
              "        await google.colab.output.renderOutput(dataTable, element);\n",
              "        const docLink = document.createElement('div');\n",
              "        docLink.innerHTML = docLinkHtml;\n",
              "        element.appendChild(docLink);\n",
              "      }\n",
              "    </script>\n",
              "  </div>\n",
              "\n",
              "\n",
              "<div id=\"df-97ca3bb9-52f2-4bf3-93c8-4543a335ad4b\">\n",
              "  <button class=\"colab-df-quickchart\" onclick=\"quickchart('df-97ca3bb9-52f2-4bf3-93c8-4543a335ad4b')\"\n",
              "            title=\"Suggest charts\"\n",
              "            style=\"display:none;\">\n",
              "\n",
              "<svg xmlns=\"http://www.w3.org/2000/svg\" height=\"24px\"viewBox=\"0 0 24 24\"\n",
              "     width=\"24px\">\n",
              "    <g>\n",
              "        <path d=\"M19 3H5c-1.1 0-2 .9-2 2v14c0 1.1.9 2 2 2h14c1.1 0 2-.9 2-2V5c0-1.1-.9-2-2-2zM9 17H7v-7h2v7zm4 0h-2V7h2v10zm4 0h-2v-4h2v4z\"/>\n",
              "    </g>\n",
              "</svg>\n",
              "  </button>\n",
              "\n",
              "<style>\n",
              "  .colab-df-quickchart {\n",
              "      --bg-color: #E8F0FE;\n",
              "      --fill-color: #1967D2;\n",
              "      --hover-bg-color: #E2EBFA;\n",
              "      --hover-fill-color: #174EA6;\n",
              "      --disabled-fill-color: #AAA;\n",
              "      --disabled-bg-color: #DDD;\n",
              "  }\n",
              "\n",
              "  [theme=dark] .colab-df-quickchart {\n",
              "      --bg-color: #3B4455;\n",
              "      --fill-color: #D2E3FC;\n",
              "      --hover-bg-color: #434B5C;\n",
              "      --hover-fill-color: #FFFFFF;\n",
              "      --disabled-bg-color: #3B4455;\n",
              "      --disabled-fill-color: #666;\n",
              "  }\n",
              "\n",
              "  .colab-df-quickchart {\n",
              "    background-color: var(--bg-color);\n",
              "    border: none;\n",
              "    border-radius: 50%;\n",
              "    cursor: pointer;\n",
              "    display: none;\n",
              "    fill: var(--fill-color);\n",
              "    height: 32px;\n",
              "    padding: 0;\n",
              "    width: 32px;\n",
              "  }\n",
              "\n",
              "  .colab-df-quickchart:hover {\n",
              "    background-color: var(--hover-bg-color);\n",
              "    box-shadow: 0 1px 2px rgba(60, 64, 67, 0.3), 0 1px 3px 1px rgba(60, 64, 67, 0.15);\n",
              "    fill: var(--button-hover-fill-color);\n",
              "  }\n",
              "\n",
              "  .colab-df-quickchart-complete:disabled,\n",
              "  .colab-df-quickchart-complete:disabled:hover {\n",
              "    background-color: var(--disabled-bg-color);\n",
              "    fill: var(--disabled-fill-color);\n",
              "    box-shadow: none;\n",
              "  }\n",
              "\n",
              "  .colab-df-spinner {\n",
              "    border: 2px solid var(--fill-color);\n",
              "    border-color: transparent;\n",
              "    border-bottom-color: var(--fill-color);\n",
              "    animation:\n",
              "      spin 1s steps(1) infinite;\n",
              "  }\n",
              "\n",
              "  @keyframes spin {\n",
              "    0% {\n",
              "      border-color: transparent;\n",
              "      border-bottom-color: var(--fill-color);\n",
              "      border-left-color: var(--fill-color);\n",
              "    }\n",
              "    20% {\n",
              "      border-color: transparent;\n",
              "      border-left-color: var(--fill-color);\n",
              "      border-top-color: var(--fill-color);\n",
              "    }\n",
              "    30% {\n",
              "      border-color: transparent;\n",
              "      border-left-color: var(--fill-color);\n",
              "      border-top-color: var(--fill-color);\n",
              "      border-right-color: var(--fill-color);\n",
              "    }\n",
              "    40% {\n",
              "      border-color: transparent;\n",
              "      border-right-color: var(--fill-color);\n",
              "      border-top-color: var(--fill-color);\n",
              "    }\n",
              "    60% {\n",
              "      border-color: transparent;\n",
              "      border-right-color: var(--fill-color);\n",
              "    }\n",
              "    80% {\n",
              "      border-color: transparent;\n",
              "      border-right-color: var(--fill-color);\n",
              "      border-bottom-color: var(--fill-color);\n",
              "    }\n",
              "    90% {\n",
              "      border-color: transparent;\n",
              "      border-bottom-color: var(--fill-color);\n",
              "    }\n",
              "  }\n",
              "</style>\n",
              "\n",
              "  <script>\n",
              "    async function quickchart(key) {\n",
              "      const quickchartButtonEl =\n",
              "        document.querySelector('#' + key + ' button');\n",
              "      quickchartButtonEl.disabled = true;  // To prevent multiple clicks.\n",
              "      quickchartButtonEl.classList.add('colab-df-spinner');\n",
              "      try {\n",
              "        const charts = await google.colab.kernel.invokeFunction(\n",
              "            'suggestCharts', [key], {});\n",
              "      } catch (error) {\n",
              "        console.error('Error during call to suggestCharts:', error);\n",
              "      }\n",
              "      quickchartButtonEl.classList.remove('colab-df-spinner');\n",
              "      quickchartButtonEl.classList.add('colab-df-quickchart-complete');\n",
              "    }\n",
              "    (() => {\n",
              "      let quickchartButtonEl =\n",
              "        document.querySelector('#df-97ca3bb9-52f2-4bf3-93c8-4543a335ad4b button');\n",
              "      quickchartButtonEl.style.display =\n",
              "        google.colab.kernel.accessAllowed ? 'block' : 'none';\n",
              "    })();\n",
              "  </script>\n",
              "</div>\n",
              "    </div>\n",
              "  </div>\n"
            ]
          },
          "metadata": {},
          "execution_count": 320
        }
      ]
    },
    {
      "cell_type": "code",
      "source": [
        "# объявим объект StandardScaler\n",
        "scaler = StandardScaler()"
      ],
      "metadata": {
        "id": "vkH3YzpSm8vc"
      },
      "execution_count": 321,
      "outputs": []
    },
    {
      "cell_type": "code",
      "source": [
        "# масштабируем обучающие признаки\n",
        "X = scaler.fit_transform(X)"
      ],
      "metadata": {
        "id": "k9nSIn7Am80j"
      },
      "execution_count": 322,
      "outputs": []
    },
    {
      "cell_type": "code",
      "source": [
        "# объявляем модели\n",
        "lr = LinearRegression()\n",
        "ridge = Ridge(random_state = 1)\n",
        "lasso = Lasso(random_state = 1)"
      ],
      "metadata": {
        "id": "8_E87TCtm85a"
      },
      "execution_count": 323,
      "outputs": []
    },
    {
      "cell_type": "code",
      "source": [
        "# обучаем модели\n",
        "lr.fit(X, y)\n",
        "ridge.fit(X, y)\n",
        "lasso.fit(X, y)"
      ],
      "metadata": {
        "id": "6JoLxMEKm8-V",
        "colab": {
          "base_uri": "https://localhost:8080/",
          "height": 74
        },
        "outputId": "787e0cbb-cb03-4cbc-9fc9-8a48bc19ae1c"
      },
      "execution_count": 324,
      "outputs": [
        {
          "output_type": "execute_result",
          "data": {
            "text/plain": [
              "Lasso(random_state=1)"
            ],
            "text/html": [
              "<style>#sk-container-id-32 {color: black;background-color: white;}#sk-container-id-32 pre{padding: 0;}#sk-container-id-32 div.sk-toggleable {background-color: white;}#sk-container-id-32 label.sk-toggleable__label {cursor: pointer;display: block;width: 100%;margin-bottom: 0;padding: 0.3em;box-sizing: border-box;text-align: center;}#sk-container-id-32 label.sk-toggleable__label-arrow:before {content: \"▸\";float: left;margin-right: 0.25em;color: #696969;}#sk-container-id-32 label.sk-toggleable__label-arrow:hover:before {color: black;}#sk-container-id-32 div.sk-estimator:hover label.sk-toggleable__label-arrow:before {color: black;}#sk-container-id-32 div.sk-toggleable__content {max-height: 0;max-width: 0;overflow: hidden;text-align: left;background-color: #f0f8ff;}#sk-container-id-32 div.sk-toggleable__content pre {margin: 0.2em;color: black;border-radius: 0.25em;background-color: #f0f8ff;}#sk-container-id-32 input.sk-toggleable__control:checked~div.sk-toggleable__content {max-height: 200px;max-width: 100%;overflow: auto;}#sk-container-id-32 input.sk-toggleable__control:checked~label.sk-toggleable__label-arrow:before {content: \"▾\";}#sk-container-id-32 div.sk-estimator input.sk-toggleable__control:checked~label.sk-toggleable__label {background-color: #d4ebff;}#sk-container-id-32 div.sk-label input.sk-toggleable__control:checked~label.sk-toggleable__label {background-color: #d4ebff;}#sk-container-id-32 input.sk-hidden--visually {border: 0;clip: rect(1px 1px 1px 1px);clip: rect(1px, 1px, 1px, 1px);height: 1px;margin: -1px;overflow: hidden;padding: 0;position: absolute;width: 1px;}#sk-container-id-32 div.sk-estimator {font-family: monospace;background-color: #f0f8ff;border: 1px dotted black;border-radius: 0.25em;box-sizing: border-box;margin-bottom: 0.5em;}#sk-container-id-32 div.sk-estimator:hover {background-color: #d4ebff;}#sk-container-id-32 div.sk-parallel-item::after {content: \"\";width: 100%;border-bottom: 1px solid gray;flex-grow: 1;}#sk-container-id-32 div.sk-label:hover label.sk-toggleable__label {background-color: #d4ebff;}#sk-container-id-32 div.sk-serial::before {content: \"\";position: absolute;border-left: 1px solid gray;box-sizing: border-box;top: 0;bottom: 0;left: 50%;z-index: 0;}#sk-container-id-32 div.sk-serial {display: flex;flex-direction: column;align-items: center;background-color: white;padding-right: 0.2em;padding-left: 0.2em;position: relative;}#sk-container-id-32 div.sk-item {position: relative;z-index: 1;}#sk-container-id-32 div.sk-parallel {display: flex;align-items: stretch;justify-content: center;background-color: white;position: relative;}#sk-container-id-32 div.sk-item::before, #sk-container-id-32 div.sk-parallel-item::before {content: \"\";position: absolute;border-left: 1px solid gray;box-sizing: border-box;top: 0;bottom: 0;left: 50%;z-index: -1;}#sk-container-id-32 div.sk-parallel-item {display: flex;flex-direction: column;z-index: 1;position: relative;background-color: white;}#sk-container-id-32 div.sk-parallel-item:first-child::after {align-self: flex-end;width: 50%;}#sk-container-id-32 div.sk-parallel-item:last-child::after {align-self: flex-start;width: 50%;}#sk-container-id-32 div.sk-parallel-item:only-child::after {width: 0;}#sk-container-id-32 div.sk-dashed-wrapped {border: 1px dashed gray;margin: 0 0.4em 0.5em 0.4em;box-sizing: border-box;padding-bottom: 0.4em;background-color: white;}#sk-container-id-32 div.sk-label label {font-family: monospace;font-weight: bold;display: inline-block;line-height: 1.2em;}#sk-container-id-32 div.sk-label-container {text-align: center;}#sk-container-id-32 div.sk-container {/* jupyter's `normalize.less` sets `[hidden] { display: none; }` but bootstrap.min.css set `[hidden] { display: none !important; }` so we also need the `!important` here to be able to override the default hidden behavior on the sphinx rendered scikit-learn.org. See: https://github.com/scikit-learn/scikit-learn/issues/21755 */display: inline-block !important;position: relative;}#sk-container-id-32 div.sk-text-repr-fallback {display: none;}</style><div id=\"sk-container-id-32\" class=\"sk-top-container\"><div class=\"sk-text-repr-fallback\"><pre>Lasso(random_state=1)</pre><b>In a Jupyter environment, please rerun this cell to show the HTML representation or trust the notebook. <br />On GitHub, the HTML representation is unable to render, please try loading this page with nbviewer.org.</b></div><div class=\"sk-container\" hidden><div class=\"sk-item\"><div class=\"sk-estimator sk-toggleable\"><input class=\"sk-toggleable__control sk-hidden--visually\" id=\"sk-estimator-id-32\" type=\"checkbox\" checked><label for=\"sk-estimator-id-32\" class=\"sk-toggleable__label sk-toggleable__label-arrow\">Lasso</label><div class=\"sk-toggleable__content\"><pre>Lasso(random_state=1)</pre></div></div></div></div></div>"
            ]
          },
          "metadata": {},
          "execution_count": 324
        }
      ]
    },
    {
      "cell_type": "code",
      "source": [
        "# сохраним значения коэффициентов в датафреймы\n",
        "coefs_base = pd.DataFrame(\n",
        "    data = coefs,\n",
        "    columns = ['coefs_base'])\n",
        "\n",
        "coefs_lr = pd.DataFrame(\n",
        "    data = lr.coef_.T,\n",
        "    columns = ['coefs_lr'])\n",
        "\n",
        "coefs_ridge = pd.DataFrame(\n",
        "    data = ridge.coef_.T,\n",
        "    columns = ['coefs_ridge'])\n",
        "\n",
        "coefs_lasso = pd.DataFrame(\n",
        "    data = lasso.coef_,\n",
        "    columns = ['coefs_lasso'])"
      ],
      "metadata": {
        "id": "aHGoEUGnWVDS"
      },
      "execution_count": 325,
      "outputs": []
    },
    {
      "cell_type": "markdown",
      "source": [
        "Объединим датафреймы с коэффициентами."
      ],
      "metadata": {
        "id": "DpfOmqhuWVDZ"
      }
    },
    {
      "cell_type": "code",
      "source": [
        "# создадим список датафреймов\n",
        "data_frames = [coefs_base, coefs_lr, coefs_ridge, coefs_lasso]"
      ],
      "metadata": {
        "id": "L9L7FnWCWVDa"
      },
      "execution_count": 326,
      "outputs": []
    },
    {
      "cell_type": "code",
      "source": [
        "# создаем объединенный датасет с коэффициентами\n",
        "df_merged = reduce(lambda  left, right:\n",
        "                    pd.merge(left, right,\n",
        "                    left_index = True, right_index = True,\n",
        "                    how='outer'), data_frames)"
      ],
      "metadata": {
        "id": "j59Qu_veWVDa"
      },
      "execution_count": 327,
      "outputs": []
    },
    {
      "cell_type": "code",
      "source": [
        "# выведем объединенный датасет\n",
        "df_merged"
      ],
      "metadata": {
        "colab": {
          "base_uri": "https://localhost:8080/",
          "height": 676
        },
        "outputId": "83d082e3-3b63-4d1f-abe0-fad5a84f2482",
        "id": "io0JBGp9WVDa"
      },
      "execution_count": 328,
      "outputs": [
        {
          "output_type": "execute_result",
          "data": {
            "text/plain": [
              "    coefs_base   coefs_lr  coefs_ridge  coefs_lasso\n",
              "0     6.600984   7.405601     7.326986     7.357146\n",
              "1    94.768803  91.341604    90.468603    90.734496\n",
              "2    40.710649  37.266763    36.797964    35.922291\n",
              "3     0.000000   2.116329     2.103239     1.361655\n",
              "4     0.000000  -2.225303    -2.216420    -1.733322\n",
              "5     0.000000   7.771133     7.616471     6.717148\n",
              "6    11.099810  18.955884    18.669291    17.450728\n",
              "7    95.511521  87.851599    86.729184    86.183332\n",
              "8    80.823521  73.837100    72.993425    72.778915\n",
              "9    34.882053  32.613521    32.731746    32.250693\n",
              "10    0.000000 -10.418998   -10.272436    -8.967553\n",
              "11    0.000000   2.365225     2.537918     1.466541\n",
              "12    0.000000   5.214215     5.263149     3.917757\n",
              "13    0.000000   1.926256     1.855419     0.209787\n",
              "14    0.000000  -1.441928    -1.487884    -0.000000\n",
              "15   29.956568  31.887900    31.424686    30.604792\n",
              "16    7.231648  13.651185    13.500987    12.422953\n",
              "17    0.000000   6.811143     6.269459     5.008927\n",
              "18    0.000000  -0.036059    -0.307720    -0.000000\n",
              "19   52.257660   7.405601     7.326986     5.233410"
            ],
            "text/html": [
              "\n",
              "  <div id=\"df-7c762fa7-a79e-4cbd-aa1d-1f0b386810cf\" class=\"colab-df-container\">\n",
              "    <div>\n",
              "<style scoped>\n",
              "    .dataframe tbody tr th:only-of-type {\n",
              "        vertical-align: middle;\n",
              "    }\n",
              "\n",
              "    .dataframe tbody tr th {\n",
              "        vertical-align: top;\n",
              "    }\n",
              "\n",
              "    .dataframe thead th {\n",
              "        text-align: right;\n",
              "    }\n",
              "</style>\n",
              "<table border=\"1\" class=\"dataframe\">\n",
              "  <thead>\n",
              "    <tr style=\"text-align: right;\">\n",
              "      <th></th>\n",
              "      <th>coefs_base</th>\n",
              "      <th>coefs_lr</th>\n",
              "      <th>coefs_ridge</th>\n",
              "      <th>coefs_lasso</th>\n",
              "    </tr>\n",
              "  </thead>\n",
              "  <tbody>\n",
              "    <tr>\n",
              "      <th>0</th>\n",
              "      <td>6.600984</td>\n",
              "      <td>7.405601</td>\n",
              "      <td>7.326986</td>\n",
              "      <td>7.357146</td>\n",
              "    </tr>\n",
              "    <tr>\n",
              "      <th>1</th>\n",
              "      <td>94.768803</td>\n",
              "      <td>91.341604</td>\n",
              "      <td>90.468603</td>\n",
              "      <td>90.734496</td>\n",
              "    </tr>\n",
              "    <tr>\n",
              "      <th>2</th>\n",
              "      <td>40.710649</td>\n",
              "      <td>37.266763</td>\n",
              "      <td>36.797964</td>\n",
              "      <td>35.922291</td>\n",
              "    </tr>\n",
              "    <tr>\n",
              "      <th>3</th>\n",
              "      <td>0.000000</td>\n",
              "      <td>2.116329</td>\n",
              "      <td>2.103239</td>\n",
              "      <td>1.361655</td>\n",
              "    </tr>\n",
              "    <tr>\n",
              "      <th>4</th>\n",
              "      <td>0.000000</td>\n",
              "      <td>-2.225303</td>\n",
              "      <td>-2.216420</td>\n",
              "      <td>-1.733322</td>\n",
              "    </tr>\n",
              "    <tr>\n",
              "      <th>5</th>\n",
              "      <td>0.000000</td>\n",
              "      <td>7.771133</td>\n",
              "      <td>7.616471</td>\n",
              "      <td>6.717148</td>\n",
              "    </tr>\n",
              "    <tr>\n",
              "      <th>6</th>\n",
              "      <td>11.099810</td>\n",
              "      <td>18.955884</td>\n",
              "      <td>18.669291</td>\n",
              "      <td>17.450728</td>\n",
              "    </tr>\n",
              "    <tr>\n",
              "      <th>7</th>\n",
              "      <td>95.511521</td>\n",
              "      <td>87.851599</td>\n",
              "      <td>86.729184</td>\n",
              "      <td>86.183332</td>\n",
              "    </tr>\n",
              "    <tr>\n",
              "      <th>8</th>\n",
              "      <td>80.823521</td>\n",
              "      <td>73.837100</td>\n",
              "      <td>72.993425</td>\n",
              "      <td>72.778915</td>\n",
              "    </tr>\n",
              "    <tr>\n",
              "      <th>9</th>\n",
              "      <td>34.882053</td>\n",
              "      <td>32.613521</td>\n",
              "      <td>32.731746</td>\n",
              "      <td>32.250693</td>\n",
              "    </tr>\n",
              "    <tr>\n",
              "      <th>10</th>\n",
              "      <td>0.000000</td>\n",
              "      <td>-10.418998</td>\n",
              "      <td>-10.272436</td>\n",
              "      <td>-8.967553</td>\n",
              "    </tr>\n",
              "    <tr>\n",
              "      <th>11</th>\n",
              "      <td>0.000000</td>\n",
              "      <td>2.365225</td>\n",
              "      <td>2.537918</td>\n",
              "      <td>1.466541</td>\n",
              "    </tr>\n",
              "    <tr>\n",
              "      <th>12</th>\n",
              "      <td>0.000000</td>\n",
              "      <td>5.214215</td>\n",
              "      <td>5.263149</td>\n",
              "      <td>3.917757</td>\n",
              "    </tr>\n",
              "    <tr>\n",
              "      <th>13</th>\n",
              "      <td>0.000000</td>\n",
              "      <td>1.926256</td>\n",
              "      <td>1.855419</td>\n",
              "      <td>0.209787</td>\n",
              "    </tr>\n",
              "    <tr>\n",
              "      <th>14</th>\n",
              "      <td>0.000000</td>\n",
              "      <td>-1.441928</td>\n",
              "      <td>-1.487884</td>\n",
              "      <td>-0.000000</td>\n",
              "    </tr>\n",
              "    <tr>\n",
              "      <th>15</th>\n",
              "      <td>29.956568</td>\n",
              "      <td>31.887900</td>\n",
              "      <td>31.424686</td>\n",
              "      <td>30.604792</td>\n",
              "    </tr>\n",
              "    <tr>\n",
              "      <th>16</th>\n",
              "      <td>7.231648</td>\n",
              "      <td>13.651185</td>\n",
              "      <td>13.500987</td>\n",
              "      <td>12.422953</td>\n",
              "    </tr>\n",
              "    <tr>\n",
              "      <th>17</th>\n",
              "      <td>0.000000</td>\n",
              "      <td>6.811143</td>\n",
              "      <td>6.269459</td>\n",
              "      <td>5.008927</td>\n",
              "    </tr>\n",
              "    <tr>\n",
              "      <th>18</th>\n",
              "      <td>0.000000</td>\n",
              "      <td>-0.036059</td>\n",
              "      <td>-0.307720</td>\n",
              "      <td>-0.000000</td>\n",
              "    </tr>\n",
              "    <tr>\n",
              "      <th>19</th>\n",
              "      <td>52.257660</td>\n",
              "      <td>7.405601</td>\n",
              "      <td>7.326986</td>\n",
              "      <td>5.233410</td>\n",
              "    </tr>\n",
              "  </tbody>\n",
              "</table>\n",
              "</div>\n",
              "    <div class=\"colab-df-buttons\">\n",
              "\n",
              "  <div class=\"colab-df-container\">\n",
              "    <button class=\"colab-df-convert\" onclick=\"convertToInteractive('df-7c762fa7-a79e-4cbd-aa1d-1f0b386810cf')\"\n",
              "            title=\"Convert this dataframe to an interactive table.\"\n",
              "            style=\"display:none;\">\n",
              "\n",
              "  <svg xmlns=\"http://www.w3.org/2000/svg\" height=\"24px\" viewBox=\"0 -960 960 960\">\n",
              "    <path d=\"M120-120v-720h720v720H120Zm60-500h600v-160H180v160Zm220 220h160v-160H400v160Zm0 220h160v-160H400v160ZM180-400h160v-160H180v160Zm440 0h160v-160H620v160ZM180-180h160v-160H180v160Zm440 0h160v-160H620v160Z\"/>\n",
              "  </svg>\n",
              "    </button>\n",
              "\n",
              "  <style>\n",
              "    .colab-df-container {\n",
              "      display:flex;\n",
              "      gap: 12px;\n",
              "    }\n",
              "\n",
              "    .colab-df-convert {\n",
              "      background-color: #E8F0FE;\n",
              "      border: none;\n",
              "      border-radius: 50%;\n",
              "      cursor: pointer;\n",
              "      display: none;\n",
              "      fill: #1967D2;\n",
              "      height: 32px;\n",
              "      padding: 0 0 0 0;\n",
              "      width: 32px;\n",
              "    }\n",
              "\n",
              "    .colab-df-convert:hover {\n",
              "      background-color: #E2EBFA;\n",
              "      box-shadow: 0px 1px 2px rgba(60, 64, 67, 0.3), 0px 1px 3px 1px rgba(60, 64, 67, 0.15);\n",
              "      fill: #174EA6;\n",
              "    }\n",
              "\n",
              "    .colab-df-buttons div {\n",
              "      margin-bottom: 4px;\n",
              "    }\n",
              "\n",
              "    [theme=dark] .colab-df-convert {\n",
              "      background-color: #3B4455;\n",
              "      fill: #D2E3FC;\n",
              "    }\n",
              "\n",
              "    [theme=dark] .colab-df-convert:hover {\n",
              "      background-color: #434B5C;\n",
              "      box-shadow: 0px 1px 3px 1px rgba(0, 0, 0, 0.15);\n",
              "      filter: drop-shadow(0px 1px 2px rgba(0, 0, 0, 0.3));\n",
              "      fill: #FFFFFF;\n",
              "    }\n",
              "  </style>\n",
              "\n",
              "    <script>\n",
              "      const buttonEl =\n",
              "        document.querySelector('#df-7c762fa7-a79e-4cbd-aa1d-1f0b386810cf button.colab-df-convert');\n",
              "      buttonEl.style.display =\n",
              "        google.colab.kernel.accessAllowed ? 'block' : 'none';\n",
              "\n",
              "      async function convertToInteractive(key) {\n",
              "        const element = document.querySelector('#df-7c762fa7-a79e-4cbd-aa1d-1f0b386810cf');\n",
              "        const dataTable =\n",
              "          await google.colab.kernel.invokeFunction('convertToInteractive',\n",
              "                                                    [key], {});\n",
              "        if (!dataTable) return;\n",
              "\n",
              "        const docLinkHtml = 'Like what you see? Visit the ' +\n",
              "          '<a target=\"_blank\" href=https://colab.research.google.com/notebooks/data_table.ipynb>data table notebook</a>'\n",
              "          + ' to learn more about interactive tables.';\n",
              "        element.innerHTML = '';\n",
              "        dataTable['output_type'] = 'display_data';\n",
              "        await google.colab.output.renderOutput(dataTable, element);\n",
              "        const docLink = document.createElement('div');\n",
              "        docLink.innerHTML = docLinkHtml;\n",
              "        element.appendChild(docLink);\n",
              "      }\n",
              "    </script>\n",
              "  </div>\n",
              "\n",
              "\n",
              "<div id=\"df-11891a79-2edc-4770-bcfc-74e970925dd1\">\n",
              "  <button class=\"colab-df-quickchart\" onclick=\"quickchart('df-11891a79-2edc-4770-bcfc-74e970925dd1')\"\n",
              "            title=\"Suggest charts\"\n",
              "            style=\"display:none;\">\n",
              "\n",
              "<svg xmlns=\"http://www.w3.org/2000/svg\" height=\"24px\"viewBox=\"0 0 24 24\"\n",
              "     width=\"24px\">\n",
              "    <g>\n",
              "        <path d=\"M19 3H5c-1.1 0-2 .9-2 2v14c0 1.1.9 2 2 2h14c1.1 0 2-.9 2-2V5c0-1.1-.9-2-2-2zM9 17H7v-7h2v7zm4 0h-2V7h2v10zm4 0h-2v-4h2v4z\"/>\n",
              "    </g>\n",
              "</svg>\n",
              "  </button>\n",
              "\n",
              "<style>\n",
              "  .colab-df-quickchart {\n",
              "      --bg-color: #E8F0FE;\n",
              "      --fill-color: #1967D2;\n",
              "      --hover-bg-color: #E2EBFA;\n",
              "      --hover-fill-color: #174EA6;\n",
              "      --disabled-fill-color: #AAA;\n",
              "      --disabled-bg-color: #DDD;\n",
              "  }\n",
              "\n",
              "  [theme=dark] .colab-df-quickchart {\n",
              "      --bg-color: #3B4455;\n",
              "      --fill-color: #D2E3FC;\n",
              "      --hover-bg-color: #434B5C;\n",
              "      --hover-fill-color: #FFFFFF;\n",
              "      --disabled-bg-color: #3B4455;\n",
              "      --disabled-fill-color: #666;\n",
              "  }\n",
              "\n",
              "  .colab-df-quickchart {\n",
              "    background-color: var(--bg-color);\n",
              "    border: none;\n",
              "    border-radius: 50%;\n",
              "    cursor: pointer;\n",
              "    display: none;\n",
              "    fill: var(--fill-color);\n",
              "    height: 32px;\n",
              "    padding: 0;\n",
              "    width: 32px;\n",
              "  }\n",
              "\n",
              "  .colab-df-quickchart:hover {\n",
              "    background-color: var(--hover-bg-color);\n",
              "    box-shadow: 0 1px 2px rgba(60, 64, 67, 0.3), 0 1px 3px 1px rgba(60, 64, 67, 0.15);\n",
              "    fill: var(--button-hover-fill-color);\n",
              "  }\n",
              "\n",
              "  .colab-df-quickchart-complete:disabled,\n",
              "  .colab-df-quickchart-complete:disabled:hover {\n",
              "    background-color: var(--disabled-bg-color);\n",
              "    fill: var(--disabled-fill-color);\n",
              "    box-shadow: none;\n",
              "  }\n",
              "\n",
              "  .colab-df-spinner {\n",
              "    border: 2px solid var(--fill-color);\n",
              "    border-color: transparent;\n",
              "    border-bottom-color: var(--fill-color);\n",
              "    animation:\n",
              "      spin 1s steps(1) infinite;\n",
              "  }\n",
              "\n",
              "  @keyframes spin {\n",
              "    0% {\n",
              "      border-color: transparent;\n",
              "      border-bottom-color: var(--fill-color);\n",
              "      border-left-color: var(--fill-color);\n",
              "    }\n",
              "    20% {\n",
              "      border-color: transparent;\n",
              "      border-left-color: var(--fill-color);\n",
              "      border-top-color: var(--fill-color);\n",
              "    }\n",
              "    30% {\n",
              "      border-color: transparent;\n",
              "      border-left-color: var(--fill-color);\n",
              "      border-top-color: var(--fill-color);\n",
              "      border-right-color: var(--fill-color);\n",
              "    }\n",
              "    40% {\n",
              "      border-color: transparent;\n",
              "      border-right-color: var(--fill-color);\n",
              "      border-top-color: var(--fill-color);\n",
              "    }\n",
              "    60% {\n",
              "      border-color: transparent;\n",
              "      border-right-color: var(--fill-color);\n",
              "    }\n",
              "    80% {\n",
              "      border-color: transparent;\n",
              "      border-right-color: var(--fill-color);\n",
              "      border-bottom-color: var(--fill-color);\n",
              "    }\n",
              "    90% {\n",
              "      border-color: transparent;\n",
              "      border-bottom-color: var(--fill-color);\n",
              "    }\n",
              "  }\n",
              "</style>\n",
              "\n",
              "  <script>\n",
              "    async function quickchart(key) {\n",
              "      const quickchartButtonEl =\n",
              "        document.querySelector('#' + key + ' button');\n",
              "      quickchartButtonEl.disabled = true;  // To prevent multiple clicks.\n",
              "      quickchartButtonEl.classList.add('colab-df-spinner');\n",
              "      try {\n",
              "        const charts = await google.colab.kernel.invokeFunction(\n",
              "            'suggestCharts', [key], {});\n",
              "      } catch (error) {\n",
              "        console.error('Error during call to suggestCharts:', error);\n",
              "      }\n",
              "      quickchartButtonEl.classList.remove('colab-df-spinner');\n",
              "      quickchartButtonEl.classList.add('colab-df-quickchart-complete');\n",
              "    }\n",
              "    (() => {\n",
              "      let quickchartButtonEl =\n",
              "        document.querySelector('#df-11891a79-2edc-4770-bcfc-74e970925dd1 button');\n",
              "      quickchartButtonEl.style.display =\n",
              "        google.colab.kernel.accessAllowed ? 'block' : 'none';\n",
              "    })();\n",
              "  </script>\n",
              "</div>\n",
              "    </div>\n",
              "  </div>\n"
            ]
          },
          "metadata": {},
          "execution_count": 328
        }
      ]
    },
    {
      "cell_type": "markdown",
      "source": [
        "## **10.2 Пропуск важной переменной**\n",
        "\n",
        "---"
      ],
      "metadata": {
        "id": "-FK0Jl01cWGE"
      }
    },
    {
      "cell_type": "markdown",
      "source": [
        "### **10.2.1 Обучение моделей на полном датасете**\n",
        "\n",
        "---"
      ],
      "metadata": {
        "id": "9lrDzUbGiBd-"
      }
    },
    {
      "cell_type": "code",
      "source": [
        "# создадим датасет\n",
        "X, y, coefs = make_regression(\n",
        "    n_samples=100,\n",
        "    n_features=20,\n",
        "    noise=10,\n",
        "    random_state=42,\n",
        "    coef=True)"
      ],
      "metadata": {
        "id": "vVqLf9EViRRE"
      },
      "execution_count": 329,
      "outputs": []
    },
    {
      "cell_type": "code",
      "source": [
        "# выделим обучающий и тестовый комплекты\n",
        "X_train, X_test, y_train, y_test = train_test_split(\n",
        "    X, y, test_size=0.33, random_state=42)"
      ],
      "metadata": {
        "id": "5ACJAMDJiRUV"
      },
      "execution_count": 330,
      "outputs": []
    },
    {
      "cell_type": "code",
      "source": [
        "# объявим объект StandardScaler\n",
        "scaler = StandardScaler()"
      ],
      "metadata": {
        "id": "WKWgxae7kyUq"
      },
      "execution_count": 331,
      "outputs": []
    },
    {
      "cell_type": "code",
      "source": [
        "# обучаем скалер на X_train и трансформируем Х_train\n",
        "X = scaler.fit_transform(X)"
      ],
      "metadata": {
        "id": "R3u1RvVckyUq"
      },
      "execution_count": 332,
      "outputs": []
    },
    {
      "cell_type": "code",
      "source": [
        "# трансформируем X_test\n",
        "X_test = scaler.transform(X_test)"
      ],
      "metadata": {
        "id": "FdQRqDv3kx54"
      },
      "execution_count": 333,
      "outputs": []
    },
    {
      "cell_type": "code",
      "source": [
        "# объявляем модели\n",
        "lr = LinearRegression()\n",
        "ridge = Ridge(random_state = 1)\n",
        "lasso = Lasso(random_state = 1)"
      ],
      "metadata": {
        "id": "lFT8FTEMiRX5"
      },
      "execution_count": 334,
      "outputs": []
    },
    {
      "cell_type": "code",
      "source": [
        "# обучаем модели\n",
        "lr.fit(X_train, y_train)\n",
        "ridge.fit(X_train, y_train)\n",
        "lasso.fit(X_train, y_train)"
      ],
      "metadata": {
        "colab": {
          "base_uri": "https://localhost:8080/",
          "height": 74
        },
        "id": "BsrwcrxniRdO",
        "outputId": "e9558b9a-3e10-48dc-b604-a1abd127f359"
      },
      "execution_count": 335,
      "outputs": [
        {
          "output_type": "execute_result",
          "data": {
            "text/plain": [
              "Lasso(random_state=1)"
            ],
            "text/html": [
              "<style>#sk-container-id-33 {color: black;background-color: white;}#sk-container-id-33 pre{padding: 0;}#sk-container-id-33 div.sk-toggleable {background-color: white;}#sk-container-id-33 label.sk-toggleable__label {cursor: pointer;display: block;width: 100%;margin-bottom: 0;padding: 0.3em;box-sizing: border-box;text-align: center;}#sk-container-id-33 label.sk-toggleable__label-arrow:before {content: \"▸\";float: left;margin-right: 0.25em;color: #696969;}#sk-container-id-33 label.sk-toggleable__label-arrow:hover:before {color: black;}#sk-container-id-33 div.sk-estimator:hover label.sk-toggleable__label-arrow:before {color: black;}#sk-container-id-33 div.sk-toggleable__content {max-height: 0;max-width: 0;overflow: hidden;text-align: left;background-color: #f0f8ff;}#sk-container-id-33 div.sk-toggleable__content pre {margin: 0.2em;color: black;border-radius: 0.25em;background-color: #f0f8ff;}#sk-container-id-33 input.sk-toggleable__control:checked~div.sk-toggleable__content {max-height: 200px;max-width: 100%;overflow: auto;}#sk-container-id-33 input.sk-toggleable__control:checked~label.sk-toggleable__label-arrow:before {content: \"▾\";}#sk-container-id-33 div.sk-estimator input.sk-toggleable__control:checked~label.sk-toggleable__label {background-color: #d4ebff;}#sk-container-id-33 div.sk-label input.sk-toggleable__control:checked~label.sk-toggleable__label {background-color: #d4ebff;}#sk-container-id-33 input.sk-hidden--visually {border: 0;clip: rect(1px 1px 1px 1px);clip: rect(1px, 1px, 1px, 1px);height: 1px;margin: -1px;overflow: hidden;padding: 0;position: absolute;width: 1px;}#sk-container-id-33 div.sk-estimator {font-family: monospace;background-color: #f0f8ff;border: 1px dotted black;border-radius: 0.25em;box-sizing: border-box;margin-bottom: 0.5em;}#sk-container-id-33 div.sk-estimator:hover {background-color: #d4ebff;}#sk-container-id-33 div.sk-parallel-item::after {content: \"\";width: 100%;border-bottom: 1px solid gray;flex-grow: 1;}#sk-container-id-33 div.sk-label:hover label.sk-toggleable__label {background-color: #d4ebff;}#sk-container-id-33 div.sk-serial::before {content: \"\";position: absolute;border-left: 1px solid gray;box-sizing: border-box;top: 0;bottom: 0;left: 50%;z-index: 0;}#sk-container-id-33 div.sk-serial {display: flex;flex-direction: column;align-items: center;background-color: white;padding-right: 0.2em;padding-left: 0.2em;position: relative;}#sk-container-id-33 div.sk-item {position: relative;z-index: 1;}#sk-container-id-33 div.sk-parallel {display: flex;align-items: stretch;justify-content: center;background-color: white;position: relative;}#sk-container-id-33 div.sk-item::before, #sk-container-id-33 div.sk-parallel-item::before {content: \"\";position: absolute;border-left: 1px solid gray;box-sizing: border-box;top: 0;bottom: 0;left: 50%;z-index: -1;}#sk-container-id-33 div.sk-parallel-item {display: flex;flex-direction: column;z-index: 1;position: relative;background-color: white;}#sk-container-id-33 div.sk-parallel-item:first-child::after {align-self: flex-end;width: 50%;}#sk-container-id-33 div.sk-parallel-item:last-child::after {align-self: flex-start;width: 50%;}#sk-container-id-33 div.sk-parallel-item:only-child::after {width: 0;}#sk-container-id-33 div.sk-dashed-wrapped {border: 1px dashed gray;margin: 0 0.4em 0.5em 0.4em;box-sizing: border-box;padding-bottom: 0.4em;background-color: white;}#sk-container-id-33 div.sk-label label {font-family: monospace;font-weight: bold;display: inline-block;line-height: 1.2em;}#sk-container-id-33 div.sk-label-container {text-align: center;}#sk-container-id-33 div.sk-container {/* jupyter's `normalize.less` sets `[hidden] { display: none; }` but bootstrap.min.css set `[hidden] { display: none !important; }` so we also need the `!important` here to be able to override the default hidden behavior on the sphinx rendered scikit-learn.org. See: https://github.com/scikit-learn/scikit-learn/issues/21755 */display: inline-block !important;position: relative;}#sk-container-id-33 div.sk-text-repr-fallback {display: none;}</style><div id=\"sk-container-id-33\" class=\"sk-top-container\"><div class=\"sk-text-repr-fallback\"><pre>Lasso(random_state=1)</pre><b>In a Jupyter environment, please rerun this cell to show the HTML representation or trust the notebook. <br />On GitHub, the HTML representation is unable to render, please try loading this page with nbviewer.org.</b></div><div class=\"sk-container\" hidden><div class=\"sk-item\"><div class=\"sk-estimator sk-toggleable\"><input class=\"sk-toggleable__control sk-hidden--visually\" id=\"sk-estimator-id-33\" type=\"checkbox\" checked><label for=\"sk-estimator-id-33\" class=\"sk-toggleable__label sk-toggleable__label-arrow\">Lasso</label><div class=\"sk-toggleable__content\"><pre>Lasso(random_state=1)</pre></div></div></div></div></div>"
            ]
          },
          "metadata": {},
          "execution_count": 335
        }
      ]
    },
    {
      "cell_type": "code",
      "source": [
        "# получаем предсказания моделей\n",
        "lr_predict = lr.predict(X_test)\n",
        "ridge_predict = ridge.predict(X_test)\n",
        "lasso_predict = lasso.predict(X_test)"
      ],
      "metadata": {
        "id": "qrzT4KrJiRf5"
      },
      "execution_count": 336,
      "outputs": []
    },
    {
      "cell_type": "code",
      "source": [
        "# вычислим значения метрики r2\n",
        "r2_lr_full = round(r2_score(y_test, lr_predict), 4)\n",
        "r2_ridge_full = round(r2_score(y_test, ridge_predict), 4)\n",
        "r2_lasso_full = round(r2_score(y_test, lasso_predict), 4)"
      ],
      "metadata": {
        "id": "lS7rkVK7iRif"
      },
      "execution_count": 337,
      "outputs": []
    },
    {
      "cell_type": "code",
      "source": [
        "print(f'R2 LinearRegression (full): {r2_lr_full}')\n",
        "print(f'R2 Ridge (full): {r2_ridge_full}')\n",
        "print(f'R2 Lasso (full): {r2_lasso_full}')"
      ],
      "metadata": {
        "colab": {
          "base_uri": "https://localhost:8080/"
        },
        "id": "vDIemWWZk1fj",
        "outputId": "c8a99daf-ee47-470e-ed71-c064871ae9a4"
      },
      "execution_count": 338,
      "outputs": [
        {
          "output_type": "stream",
          "name": "stdout",
          "text": [
            "R2 LinearRegression (full): 0.9749\n",
            "R2 Ridge (full): 0.979\n",
            "R2 Lasso (full): 0.9785\n"
          ]
        }
      ]
    },
    {
      "cell_type": "markdown",
      "source": [
        "### **10.2.2 Обучение моделей на датасете без важнейшего признака**\n",
        "\n",
        "---"
      ],
      "metadata": {
        "id": "zLFqGYf7kcbq"
      }
    },
    {
      "cell_type": "code",
      "source": [
        "# создадим датасет\n",
        "X, y, coefs = make_regression(\n",
        "    n_samples=100,\n",
        "    n_features=20,\n",
        "    noise=10,\n",
        "    random_state=42,\n",
        "    coef=True)"
      ],
      "metadata": {
        "id": "K5LSBRPMckgS"
      },
      "execution_count": 339,
      "outputs": []
    },
    {
      "cell_type": "code",
      "source": [
        "# сохраним X и y в датафреймы\n",
        "X = pd.DataFrame(X)\n",
        "y = pd.DataFrame(y)\n",
        "\n",
        "# выведем размеры датафреймов\n",
        "X.shape, y.shape"
      ],
      "metadata": {
        "colab": {
          "base_uri": "https://localhost:8080/"
        },
        "outputId": "bbfa05cd-d5c0-421f-c783-6d11bbc2d221",
        "id": "BZDnXVYQckga"
      },
      "execution_count": 340,
      "outputs": [
        {
          "output_type": "execute_result",
          "data": {
            "text/plain": [
              "((100, 20), (100, 1))"
            ]
          },
          "metadata": {},
          "execution_count": 340
        }
      ]
    },
    {
      "cell_type": "code",
      "source": [
        "# выведем размер датасета Х\n",
        "X.shape"
      ],
      "metadata": {
        "colab": {
          "base_uri": "https://localhost:8080/"
        },
        "outputId": "03ee645a-640a-4ee7-b02b-78d6dc3b04ed",
        "id": "1-mO2KI6ckgb"
      },
      "execution_count": 341,
      "outputs": [
        {
          "output_type": "execute_result",
          "data": {
            "text/plain": [
              "(100, 20)"
            ]
          },
          "metadata": {},
          "execution_count": 341
        }
      ]
    },
    {
      "cell_type": "code",
      "source": [
        "# удалим первый признак\n",
        "X.drop(columns = [0], inplace = True)"
      ],
      "metadata": {
        "id": "IadEiXoIckgb"
      },
      "execution_count": 342,
      "outputs": []
    },
    {
      "cell_type": "code",
      "source": [
        "# выведем размер датасета Х\n",
        "X.shape"
      ],
      "metadata": {
        "colab": {
          "base_uri": "https://localhost:8080/"
        },
        "outputId": "9703d175-a435-45b9-e2ab-2cca741ba650",
        "id": "PYi6jMHkckgb"
      },
      "execution_count": 343,
      "outputs": [
        {
          "output_type": "execute_result",
          "data": {
            "text/plain": [
              "(100, 19)"
            ]
          },
          "metadata": {},
          "execution_count": 343
        }
      ]
    },
    {
      "cell_type": "code",
      "source": [
        "# выделим обучающий и тестовый комплекты\n",
        "X_train, X_test, y_train, y_test = train_test_split(\n",
        "    X, y, test_size=0.33, random_state=42)"
      ],
      "metadata": {
        "id": "xmSWx2I3mRga"
      },
      "execution_count": 344,
      "outputs": []
    },
    {
      "cell_type": "code",
      "source": [
        "# объявим объект StandardScaler\n",
        "scaler = StandardScaler()"
      ],
      "metadata": {
        "id": "OYZc8ezcmRgi"
      },
      "execution_count": 345,
      "outputs": []
    },
    {
      "cell_type": "code",
      "source": [
        "# обучаем скалер на X_train и трансформируем Х_train\n",
        "X = scaler.fit_transform(X)"
      ],
      "metadata": {
        "id": "FDUHLb21mRgj"
      },
      "execution_count": 346,
      "outputs": []
    },
    {
      "cell_type": "code",
      "source": [
        "# трансформируем X_test\n",
        "X_test = scaler.transform(X_test)"
      ],
      "metadata": {
        "id": "Fci-a2BzmRgj"
      },
      "execution_count": 347,
      "outputs": []
    },
    {
      "cell_type": "code",
      "source": [
        "# объявляем модели\n",
        "lr = LinearRegression()\n",
        "ridge = Ridge(random_state = 1)\n",
        "lasso = Lasso(random_state = 1)"
      ],
      "metadata": {
        "id": "P0Pet-Mlckgc"
      },
      "execution_count": 348,
      "outputs": []
    },
    {
      "cell_type": "code",
      "source": [
        "# обучаем модели\n",
        "lr.fit(X_train, y_train)\n",
        "ridge.fit(X_train, y_train)\n",
        "lasso.fit(X_train, y_train)"
      ],
      "metadata": {
        "colab": {
          "base_uri": "https://localhost:8080/",
          "height": 74
        },
        "outputId": "7aeeb1b9-4735-425c-bf18-443020906419",
        "id": "Wnf2M8d4ckgc"
      },
      "execution_count": 349,
      "outputs": [
        {
          "output_type": "execute_result",
          "data": {
            "text/plain": [
              "Lasso(random_state=1)"
            ],
            "text/html": [
              "<style>#sk-container-id-34 {color: black;background-color: white;}#sk-container-id-34 pre{padding: 0;}#sk-container-id-34 div.sk-toggleable {background-color: white;}#sk-container-id-34 label.sk-toggleable__label {cursor: pointer;display: block;width: 100%;margin-bottom: 0;padding: 0.3em;box-sizing: border-box;text-align: center;}#sk-container-id-34 label.sk-toggleable__label-arrow:before {content: \"▸\";float: left;margin-right: 0.25em;color: #696969;}#sk-container-id-34 label.sk-toggleable__label-arrow:hover:before {color: black;}#sk-container-id-34 div.sk-estimator:hover label.sk-toggleable__label-arrow:before {color: black;}#sk-container-id-34 div.sk-toggleable__content {max-height: 0;max-width: 0;overflow: hidden;text-align: left;background-color: #f0f8ff;}#sk-container-id-34 div.sk-toggleable__content pre {margin: 0.2em;color: black;border-radius: 0.25em;background-color: #f0f8ff;}#sk-container-id-34 input.sk-toggleable__control:checked~div.sk-toggleable__content {max-height: 200px;max-width: 100%;overflow: auto;}#sk-container-id-34 input.sk-toggleable__control:checked~label.sk-toggleable__label-arrow:before {content: \"▾\";}#sk-container-id-34 div.sk-estimator input.sk-toggleable__control:checked~label.sk-toggleable__label {background-color: #d4ebff;}#sk-container-id-34 div.sk-label input.sk-toggleable__control:checked~label.sk-toggleable__label {background-color: #d4ebff;}#sk-container-id-34 input.sk-hidden--visually {border: 0;clip: rect(1px 1px 1px 1px);clip: rect(1px, 1px, 1px, 1px);height: 1px;margin: -1px;overflow: hidden;padding: 0;position: absolute;width: 1px;}#sk-container-id-34 div.sk-estimator {font-family: monospace;background-color: #f0f8ff;border: 1px dotted black;border-radius: 0.25em;box-sizing: border-box;margin-bottom: 0.5em;}#sk-container-id-34 div.sk-estimator:hover {background-color: #d4ebff;}#sk-container-id-34 div.sk-parallel-item::after {content: \"\";width: 100%;border-bottom: 1px solid gray;flex-grow: 1;}#sk-container-id-34 div.sk-label:hover label.sk-toggleable__label {background-color: #d4ebff;}#sk-container-id-34 div.sk-serial::before {content: \"\";position: absolute;border-left: 1px solid gray;box-sizing: border-box;top: 0;bottom: 0;left: 50%;z-index: 0;}#sk-container-id-34 div.sk-serial {display: flex;flex-direction: column;align-items: center;background-color: white;padding-right: 0.2em;padding-left: 0.2em;position: relative;}#sk-container-id-34 div.sk-item {position: relative;z-index: 1;}#sk-container-id-34 div.sk-parallel {display: flex;align-items: stretch;justify-content: center;background-color: white;position: relative;}#sk-container-id-34 div.sk-item::before, #sk-container-id-34 div.sk-parallel-item::before {content: \"\";position: absolute;border-left: 1px solid gray;box-sizing: border-box;top: 0;bottom: 0;left: 50%;z-index: -1;}#sk-container-id-34 div.sk-parallel-item {display: flex;flex-direction: column;z-index: 1;position: relative;background-color: white;}#sk-container-id-34 div.sk-parallel-item:first-child::after {align-self: flex-end;width: 50%;}#sk-container-id-34 div.sk-parallel-item:last-child::after {align-self: flex-start;width: 50%;}#sk-container-id-34 div.sk-parallel-item:only-child::after {width: 0;}#sk-container-id-34 div.sk-dashed-wrapped {border: 1px dashed gray;margin: 0 0.4em 0.5em 0.4em;box-sizing: border-box;padding-bottom: 0.4em;background-color: white;}#sk-container-id-34 div.sk-label label {font-family: monospace;font-weight: bold;display: inline-block;line-height: 1.2em;}#sk-container-id-34 div.sk-label-container {text-align: center;}#sk-container-id-34 div.sk-container {/* jupyter's `normalize.less` sets `[hidden] { display: none; }` but bootstrap.min.css set `[hidden] { display: none !important; }` so we also need the `!important` here to be able to override the default hidden behavior on the sphinx rendered scikit-learn.org. See: https://github.com/scikit-learn/scikit-learn/issues/21755 */display: inline-block !important;position: relative;}#sk-container-id-34 div.sk-text-repr-fallback {display: none;}</style><div id=\"sk-container-id-34\" class=\"sk-top-container\"><div class=\"sk-text-repr-fallback\"><pre>Lasso(random_state=1)</pre><b>In a Jupyter environment, please rerun this cell to show the HTML representation or trust the notebook. <br />On GitHub, the HTML representation is unable to render, please try loading this page with nbviewer.org.</b></div><div class=\"sk-container\" hidden><div class=\"sk-item\"><div class=\"sk-estimator sk-toggleable\"><input class=\"sk-toggleable__control sk-hidden--visually\" id=\"sk-estimator-id-34\" type=\"checkbox\" checked><label for=\"sk-estimator-id-34\" class=\"sk-toggleable__label sk-toggleable__label-arrow\">Lasso</label><div class=\"sk-toggleable__content\"><pre>Lasso(random_state=1)</pre></div></div></div></div></div>"
            ]
          },
          "metadata": {},
          "execution_count": 349
        }
      ]
    },
    {
      "cell_type": "code",
      "source": [
        "# получаем предсказания моделей\n",
        "lr_predict = lr.predict(X_test)\n",
        "ridge_predict = ridge.predict(X_test)\n",
        "lasso_predict = lasso.predict(X_test)"
      ],
      "metadata": {
        "id": "oQhHBxUam6TC"
      },
      "execution_count": 350,
      "outputs": []
    },
    {
      "cell_type": "code",
      "source": [
        "# вычислим значения метрики r2\n",
        "r2_lr_short = round(r2_score(y_test, lr_predict), 4)\n",
        "r2_ridge_short = round(r2_score(y_test, ridge_predict), 4)\n",
        "r2_lasso_short = round(r2_score(y_test, lasso_predict), 4)"
      ],
      "metadata": {
        "id": "iPz8Yd0ym6TE"
      },
      "execution_count": 351,
      "outputs": []
    },
    {
      "cell_type": "code",
      "source": [
        "print(f'R2 LinearRegression (short): {r2_lr_short}')\n",
        "print(f'R2 Ridge (short): {r2_ridge_short}')\n",
        "print(f'R2 Lasso (short): {r2_lasso_short}')"
      ],
      "metadata": {
        "colab": {
          "base_uri": "https://localhost:8080/"
        },
        "outputId": "b873f89f-95b3-415d-8499-58b15f1557ee",
        "id": "o02r6RNcm6TE"
      },
      "execution_count": 352,
      "outputs": [
        {
          "output_type": "stream",
          "name": "stdout",
          "text": [
            "R2 LinearRegression (short): 0.9746\n",
            "R2 Ridge (short): 0.9787\n",
            "R2 Lasso (short): 0.978\n"
          ]
        }
      ]
    },
    {
      "cell_type": "markdown",
      "source": [
        "Значение метрики R2 по сравнению с результатами моделей регрессии, обученных на полных данных (без удаления первого признака) практически не изменились."
      ],
      "metadata": {
        "id": "ROuovVMmnkzc"
      }
    },
    {
      "cell_type": "markdown",
      "source": [
        "Объединим датафреймы с коэффициентами."
      ],
      "metadata": {
        "id": "BsbcgOxLckgd"
      }
    },
    {
      "cell_type": "code",
      "source": [
        "# создадим список датафреймов\n",
        "data_frames = [coefs_base, coefs_lr, coefs_ridge, coefs_lasso]"
      ],
      "metadata": {
        "id": "-qbGFhNhckgd"
      },
      "execution_count": 353,
      "outputs": []
    },
    {
      "cell_type": "code",
      "source": [
        "# создаем объединенный датасет с коэффициентами\n",
        "df_merged = reduce(lambda  left, right:\n",
        "                    pd.merge(left, right,\n",
        "                    left_index = True, right_index = True,\n",
        "                    how='outer'), data_frames)"
      ],
      "metadata": {
        "id": "ey26Alvcckgd"
      },
      "execution_count": 354,
      "outputs": []
    },
    {
      "cell_type": "code",
      "source": [
        "# выведем объединенный датасет\n",
        "df_merged"
      ],
      "metadata": {
        "colab": {
          "base_uri": "https://localhost:8080/",
          "height": 676
        },
        "outputId": "1dee3ddd-f45b-4408-d6df-c3f873a695c8",
        "id": "7NmaFIINckgd"
      },
      "execution_count": 355,
      "outputs": [
        {
          "output_type": "execute_result",
          "data": {
            "text/plain": [
              "    coefs_base   coefs_lr  coefs_ridge  coefs_lasso\n",
              "0     6.600984   7.405601     7.326986     7.357146\n",
              "1    94.768803  91.341604    90.468603    90.734496\n",
              "2    40.710649  37.266763    36.797964    35.922291\n",
              "3     0.000000   2.116329     2.103239     1.361655\n",
              "4     0.000000  -2.225303    -2.216420    -1.733322\n",
              "5     0.000000   7.771133     7.616471     6.717148\n",
              "6    11.099810  18.955884    18.669291    17.450728\n",
              "7    95.511521  87.851599    86.729184    86.183332\n",
              "8    80.823521  73.837100    72.993425    72.778915\n",
              "9    34.882053  32.613521    32.731746    32.250693\n",
              "10    0.000000 -10.418998   -10.272436    -8.967553\n",
              "11    0.000000   2.365225     2.537918     1.466541\n",
              "12    0.000000   5.214215     5.263149     3.917757\n",
              "13    0.000000   1.926256     1.855419     0.209787\n",
              "14    0.000000  -1.441928    -1.487884    -0.000000\n",
              "15   29.956568  31.887900    31.424686    30.604792\n",
              "16    7.231648  13.651185    13.500987    12.422953\n",
              "17    0.000000   6.811143     6.269459     5.008927\n",
              "18    0.000000  -0.036059    -0.307720    -0.000000\n",
              "19   52.257660   7.405601     7.326986     5.233410"
            ],
            "text/html": [
              "\n",
              "  <div id=\"df-abaf18bb-13c9-4f7e-90bb-b670f671d06d\" class=\"colab-df-container\">\n",
              "    <div>\n",
              "<style scoped>\n",
              "    .dataframe tbody tr th:only-of-type {\n",
              "        vertical-align: middle;\n",
              "    }\n",
              "\n",
              "    .dataframe tbody tr th {\n",
              "        vertical-align: top;\n",
              "    }\n",
              "\n",
              "    .dataframe thead th {\n",
              "        text-align: right;\n",
              "    }\n",
              "</style>\n",
              "<table border=\"1\" class=\"dataframe\">\n",
              "  <thead>\n",
              "    <tr style=\"text-align: right;\">\n",
              "      <th></th>\n",
              "      <th>coefs_base</th>\n",
              "      <th>coefs_lr</th>\n",
              "      <th>coefs_ridge</th>\n",
              "      <th>coefs_lasso</th>\n",
              "    </tr>\n",
              "  </thead>\n",
              "  <tbody>\n",
              "    <tr>\n",
              "      <th>0</th>\n",
              "      <td>6.600984</td>\n",
              "      <td>7.405601</td>\n",
              "      <td>7.326986</td>\n",
              "      <td>7.357146</td>\n",
              "    </tr>\n",
              "    <tr>\n",
              "      <th>1</th>\n",
              "      <td>94.768803</td>\n",
              "      <td>91.341604</td>\n",
              "      <td>90.468603</td>\n",
              "      <td>90.734496</td>\n",
              "    </tr>\n",
              "    <tr>\n",
              "      <th>2</th>\n",
              "      <td>40.710649</td>\n",
              "      <td>37.266763</td>\n",
              "      <td>36.797964</td>\n",
              "      <td>35.922291</td>\n",
              "    </tr>\n",
              "    <tr>\n",
              "      <th>3</th>\n",
              "      <td>0.000000</td>\n",
              "      <td>2.116329</td>\n",
              "      <td>2.103239</td>\n",
              "      <td>1.361655</td>\n",
              "    </tr>\n",
              "    <tr>\n",
              "      <th>4</th>\n",
              "      <td>0.000000</td>\n",
              "      <td>-2.225303</td>\n",
              "      <td>-2.216420</td>\n",
              "      <td>-1.733322</td>\n",
              "    </tr>\n",
              "    <tr>\n",
              "      <th>5</th>\n",
              "      <td>0.000000</td>\n",
              "      <td>7.771133</td>\n",
              "      <td>7.616471</td>\n",
              "      <td>6.717148</td>\n",
              "    </tr>\n",
              "    <tr>\n",
              "      <th>6</th>\n",
              "      <td>11.099810</td>\n",
              "      <td>18.955884</td>\n",
              "      <td>18.669291</td>\n",
              "      <td>17.450728</td>\n",
              "    </tr>\n",
              "    <tr>\n",
              "      <th>7</th>\n",
              "      <td>95.511521</td>\n",
              "      <td>87.851599</td>\n",
              "      <td>86.729184</td>\n",
              "      <td>86.183332</td>\n",
              "    </tr>\n",
              "    <tr>\n",
              "      <th>8</th>\n",
              "      <td>80.823521</td>\n",
              "      <td>73.837100</td>\n",
              "      <td>72.993425</td>\n",
              "      <td>72.778915</td>\n",
              "    </tr>\n",
              "    <tr>\n",
              "      <th>9</th>\n",
              "      <td>34.882053</td>\n",
              "      <td>32.613521</td>\n",
              "      <td>32.731746</td>\n",
              "      <td>32.250693</td>\n",
              "    </tr>\n",
              "    <tr>\n",
              "      <th>10</th>\n",
              "      <td>0.000000</td>\n",
              "      <td>-10.418998</td>\n",
              "      <td>-10.272436</td>\n",
              "      <td>-8.967553</td>\n",
              "    </tr>\n",
              "    <tr>\n",
              "      <th>11</th>\n",
              "      <td>0.000000</td>\n",
              "      <td>2.365225</td>\n",
              "      <td>2.537918</td>\n",
              "      <td>1.466541</td>\n",
              "    </tr>\n",
              "    <tr>\n",
              "      <th>12</th>\n",
              "      <td>0.000000</td>\n",
              "      <td>5.214215</td>\n",
              "      <td>5.263149</td>\n",
              "      <td>3.917757</td>\n",
              "    </tr>\n",
              "    <tr>\n",
              "      <th>13</th>\n",
              "      <td>0.000000</td>\n",
              "      <td>1.926256</td>\n",
              "      <td>1.855419</td>\n",
              "      <td>0.209787</td>\n",
              "    </tr>\n",
              "    <tr>\n",
              "      <th>14</th>\n",
              "      <td>0.000000</td>\n",
              "      <td>-1.441928</td>\n",
              "      <td>-1.487884</td>\n",
              "      <td>-0.000000</td>\n",
              "    </tr>\n",
              "    <tr>\n",
              "      <th>15</th>\n",
              "      <td>29.956568</td>\n",
              "      <td>31.887900</td>\n",
              "      <td>31.424686</td>\n",
              "      <td>30.604792</td>\n",
              "    </tr>\n",
              "    <tr>\n",
              "      <th>16</th>\n",
              "      <td>7.231648</td>\n",
              "      <td>13.651185</td>\n",
              "      <td>13.500987</td>\n",
              "      <td>12.422953</td>\n",
              "    </tr>\n",
              "    <tr>\n",
              "      <th>17</th>\n",
              "      <td>0.000000</td>\n",
              "      <td>6.811143</td>\n",
              "      <td>6.269459</td>\n",
              "      <td>5.008927</td>\n",
              "    </tr>\n",
              "    <tr>\n",
              "      <th>18</th>\n",
              "      <td>0.000000</td>\n",
              "      <td>-0.036059</td>\n",
              "      <td>-0.307720</td>\n",
              "      <td>-0.000000</td>\n",
              "    </tr>\n",
              "    <tr>\n",
              "      <th>19</th>\n",
              "      <td>52.257660</td>\n",
              "      <td>7.405601</td>\n",
              "      <td>7.326986</td>\n",
              "      <td>5.233410</td>\n",
              "    </tr>\n",
              "  </tbody>\n",
              "</table>\n",
              "</div>\n",
              "    <div class=\"colab-df-buttons\">\n",
              "\n",
              "  <div class=\"colab-df-container\">\n",
              "    <button class=\"colab-df-convert\" onclick=\"convertToInteractive('df-abaf18bb-13c9-4f7e-90bb-b670f671d06d')\"\n",
              "            title=\"Convert this dataframe to an interactive table.\"\n",
              "            style=\"display:none;\">\n",
              "\n",
              "  <svg xmlns=\"http://www.w3.org/2000/svg\" height=\"24px\" viewBox=\"0 -960 960 960\">\n",
              "    <path d=\"M120-120v-720h720v720H120Zm60-500h600v-160H180v160Zm220 220h160v-160H400v160Zm0 220h160v-160H400v160ZM180-400h160v-160H180v160Zm440 0h160v-160H620v160ZM180-180h160v-160H180v160Zm440 0h160v-160H620v160Z\"/>\n",
              "  </svg>\n",
              "    </button>\n",
              "\n",
              "  <style>\n",
              "    .colab-df-container {\n",
              "      display:flex;\n",
              "      gap: 12px;\n",
              "    }\n",
              "\n",
              "    .colab-df-convert {\n",
              "      background-color: #E8F0FE;\n",
              "      border: none;\n",
              "      border-radius: 50%;\n",
              "      cursor: pointer;\n",
              "      display: none;\n",
              "      fill: #1967D2;\n",
              "      height: 32px;\n",
              "      padding: 0 0 0 0;\n",
              "      width: 32px;\n",
              "    }\n",
              "\n",
              "    .colab-df-convert:hover {\n",
              "      background-color: #E2EBFA;\n",
              "      box-shadow: 0px 1px 2px rgba(60, 64, 67, 0.3), 0px 1px 3px 1px rgba(60, 64, 67, 0.15);\n",
              "      fill: #174EA6;\n",
              "    }\n",
              "\n",
              "    .colab-df-buttons div {\n",
              "      margin-bottom: 4px;\n",
              "    }\n",
              "\n",
              "    [theme=dark] .colab-df-convert {\n",
              "      background-color: #3B4455;\n",
              "      fill: #D2E3FC;\n",
              "    }\n",
              "\n",
              "    [theme=dark] .colab-df-convert:hover {\n",
              "      background-color: #434B5C;\n",
              "      box-shadow: 0px 1px 3px 1px rgba(0, 0, 0, 0.15);\n",
              "      filter: drop-shadow(0px 1px 2px rgba(0, 0, 0, 0.3));\n",
              "      fill: #FFFFFF;\n",
              "    }\n",
              "  </style>\n",
              "\n",
              "    <script>\n",
              "      const buttonEl =\n",
              "        document.querySelector('#df-abaf18bb-13c9-4f7e-90bb-b670f671d06d button.colab-df-convert');\n",
              "      buttonEl.style.display =\n",
              "        google.colab.kernel.accessAllowed ? 'block' : 'none';\n",
              "\n",
              "      async function convertToInteractive(key) {\n",
              "        const element = document.querySelector('#df-abaf18bb-13c9-4f7e-90bb-b670f671d06d');\n",
              "        const dataTable =\n",
              "          await google.colab.kernel.invokeFunction('convertToInteractive',\n",
              "                                                    [key], {});\n",
              "        if (!dataTable) return;\n",
              "\n",
              "        const docLinkHtml = 'Like what you see? Visit the ' +\n",
              "          '<a target=\"_blank\" href=https://colab.research.google.com/notebooks/data_table.ipynb>data table notebook</a>'\n",
              "          + ' to learn more about interactive tables.';\n",
              "        element.innerHTML = '';\n",
              "        dataTable['output_type'] = 'display_data';\n",
              "        await google.colab.output.renderOutput(dataTable, element);\n",
              "        const docLink = document.createElement('div');\n",
              "        docLink.innerHTML = docLinkHtml;\n",
              "        element.appendChild(docLink);\n",
              "      }\n",
              "    </script>\n",
              "  </div>\n",
              "\n",
              "\n",
              "<div id=\"df-6b5c135a-154f-430e-b3bb-20d0b6deac5f\">\n",
              "  <button class=\"colab-df-quickchart\" onclick=\"quickchart('df-6b5c135a-154f-430e-b3bb-20d0b6deac5f')\"\n",
              "            title=\"Suggest charts\"\n",
              "            style=\"display:none;\">\n",
              "\n",
              "<svg xmlns=\"http://www.w3.org/2000/svg\" height=\"24px\"viewBox=\"0 0 24 24\"\n",
              "     width=\"24px\">\n",
              "    <g>\n",
              "        <path d=\"M19 3H5c-1.1 0-2 .9-2 2v14c0 1.1.9 2 2 2h14c1.1 0 2-.9 2-2V5c0-1.1-.9-2-2-2zM9 17H7v-7h2v7zm4 0h-2V7h2v10zm4 0h-2v-4h2v4z\"/>\n",
              "    </g>\n",
              "</svg>\n",
              "  </button>\n",
              "\n",
              "<style>\n",
              "  .colab-df-quickchart {\n",
              "      --bg-color: #E8F0FE;\n",
              "      --fill-color: #1967D2;\n",
              "      --hover-bg-color: #E2EBFA;\n",
              "      --hover-fill-color: #174EA6;\n",
              "      --disabled-fill-color: #AAA;\n",
              "      --disabled-bg-color: #DDD;\n",
              "  }\n",
              "\n",
              "  [theme=dark] .colab-df-quickchart {\n",
              "      --bg-color: #3B4455;\n",
              "      --fill-color: #D2E3FC;\n",
              "      --hover-bg-color: #434B5C;\n",
              "      --hover-fill-color: #FFFFFF;\n",
              "      --disabled-bg-color: #3B4455;\n",
              "      --disabled-fill-color: #666;\n",
              "  }\n",
              "\n",
              "  .colab-df-quickchart {\n",
              "    background-color: var(--bg-color);\n",
              "    border: none;\n",
              "    border-radius: 50%;\n",
              "    cursor: pointer;\n",
              "    display: none;\n",
              "    fill: var(--fill-color);\n",
              "    height: 32px;\n",
              "    padding: 0;\n",
              "    width: 32px;\n",
              "  }\n",
              "\n",
              "  .colab-df-quickchart:hover {\n",
              "    background-color: var(--hover-bg-color);\n",
              "    box-shadow: 0 1px 2px rgba(60, 64, 67, 0.3), 0 1px 3px 1px rgba(60, 64, 67, 0.15);\n",
              "    fill: var(--button-hover-fill-color);\n",
              "  }\n",
              "\n",
              "  .colab-df-quickchart-complete:disabled,\n",
              "  .colab-df-quickchart-complete:disabled:hover {\n",
              "    background-color: var(--disabled-bg-color);\n",
              "    fill: var(--disabled-fill-color);\n",
              "    box-shadow: none;\n",
              "  }\n",
              "\n",
              "  .colab-df-spinner {\n",
              "    border: 2px solid var(--fill-color);\n",
              "    border-color: transparent;\n",
              "    border-bottom-color: var(--fill-color);\n",
              "    animation:\n",
              "      spin 1s steps(1) infinite;\n",
              "  }\n",
              "\n",
              "  @keyframes spin {\n",
              "    0% {\n",
              "      border-color: transparent;\n",
              "      border-bottom-color: var(--fill-color);\n",
              "      border-left-color: var(--fill-color);\n",
              "    }\n",
              "    20% {\n",
              "      border-color: transparent;\n",
              "      border-left-color: var(--fill-color);\n",
              "      border-top-color: var(--fill-color);\n",
              "    }\n",
              "    30% {\n",
              "      border-color: transparent;\n",
              "      border-left-color: var(--fill-color);\n",
              "      border-top-color: var(--fill-color);\n",
              "      border-right-color: var(--fill-color);\n",
              "    }\n",
              "    40% {\n",
              "      border-color: transparent;\n",
              "      border-right-color: var(--fill-color);\n",
              "      border-top-color: var(--fill-color);\n",
              "    }\n",
              "    60% {\n",
              "      border-color: transparent;\n",
              "      border-right-color: var(--fill-color);\n",
              "    }\n",
              "    80% {\n",
              "      border-color: transparent;\n",
              "      border-right-color: var(--fill-color);\n",
              "      border-bottom-color: var(--fill-color);\n",
              "    }\n",
              "    90% {\n",
              "      border-color: transparent;\n",
              "      border-bottom-color: var(--fill-color);\n",
              "    }\n",
              "  }\n",
              "</style>\n",
              "\n",
              "  <script>\n",
              "    async function quickchart(key) {\n",
              "      const quickchartButtonEl =\n",
              "        document.querySelector('#' + key + ' button');\n",
              "      quickchartButtonEl.disabled = true;  // To prevent multiple clicks.\n",
              "      quickchartButtonEl.classList.add('colab-df-spinner');\n",
              "      try {\n",
              "        const charts = await google.colab.kernel.invokeFunction(\n",
              "            'suggestCharts', [key], {});\n",
              "      } catch (error) {\n",
              "        console.error('Error during call to suggestCharts:', error);\n",
              "      }\n",
              "      quickchartButtonEl.classList.remove('colab-df-spinner');\n",
              "      quickchartButtonEl.classList.add('colab-df-quickchart-complete');\n",
              "    }\n",
              "    (() => {\n",
              "      let quickchartButtonEl =\n",
              "        document.querySelector('#df-6b5c135a-154f-430e-b3bb-20d0b6deac5f button');\n",
              "      quickchartButtonEl.style.display =\n",
              "        google.colab.kernel.accessAllowed ? 'block' : 'none';\n",
              "    })();\n",
              "  </script>\n",
              "</div>\n",
              "    </div>\n",
              "  </div>\n"
            ]
          },
          "metadata": {},
          "execution_count": 355
        }
      ]
    },
    {
      "cell_type": "markdown",
      "source": [
        "Модель Lasso не занулила все истинно нулевые коэффициенты.\n",
        "\n",
        "Значения коэффициентов изменились существенно (в среднем более чем на 10%)."
      ],
      "metadata": {
        "id": "EAwNFNK2oJf2"
      }
    },
    {
      "cell_type": "code",
      "source": [],
      "metadata": {
        "id": "4Bb6E3EfkocP"
      },
      "execution_count": 355,
      "outputs": []
    }
  ]
}